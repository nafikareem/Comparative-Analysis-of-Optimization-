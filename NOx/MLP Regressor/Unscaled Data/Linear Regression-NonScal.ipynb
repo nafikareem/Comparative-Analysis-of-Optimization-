{
 "cells": [
  {
   "cell_type": "code",
   "execution_count": 1,
   "id": "081eee25",
   "metadata": {},
   "outputs": [],
   "source": [
    "import numpy as np\n",
    "import pandas as pd\n",
    "import seaborn as sns\n",
    "import matplotlib.pyplot as plt\n",
    "from sklearn import model_selection, svm, datasets\n",
    "from sklearn.linear_model import LinearRegression\n",
    "from sklearn.model_selection import train_test_split, GridSearchCV, cross_val_score, RandomizedSearchCV\n",
    "from sklearn.metrics import mean_squared_error, mean_absolute_percentage_error\n",
    "from sklearn.preprocessing import StandardScaler\n",
    "from sklearn.metrics import make_scorer\n",
    "import matplotlib.pyplot as plt\n",
    "import matplotlib.figure as figure\n",
    "import time"
   ]
  },
  {
   "cell_type": "code",
   "execution_count": 2,
   "id": "537d5319",
   "metadata": {},
   "outputs": [],
   "source": [
    "Data = pd.read_excel('Data diolah darin.xlsx')"
   ]
  },
  {
   "cell_type": "code",
   "execution_count": 3,
   "id": "c43d795e",
   "metadata": {
    "scrolled": false
   },
   "outputs": [
    {
     "data": {
      "text/html": [
       "<div>\n",
       "<style scoped>\n",
       "    .dataframe tbody tr th:only-of-type {\n",
       "        vertical-align: middle;\n",
       "    }\n",
       "\n",
       "    .dataframe tbody tr th {\n",
       "        vertical-align: top;\n",
       "    }\n",
       "\n",
       "    .dataframe thead th {\n",
       "        text-align: right;\n",
       "    }\n",
       "</style>\n",
       "<table border=\"1\" class=\"dataframe\">\n",
       "  <thead>\n",
       "    <tr style=\"text-align: right;\">\n",
       "      <th></th>\n",
       "      <th>Backhoe</th>\n",
       "      <th>HP(watt)</th>\n",
       "      <th>Norm_MAP</th>\n",
       "      <th>RPM</th>\n",
       "      <th>Age</th>\n",
       "      <th>Load_Factor</th>\n",
       "      <th>Engine_Tier</th>\n",
       "      <th>TEMP[C]</th>\n",
       "      <th>Fuel[g/s]</th>\n",
       "      <th>NOx[g/s]</th>\n",
       "      <th>...</th>\n",
       "      <th>NOx[g/hr]</th>\n",
       "      <th>HC[g/hr]</th>\n",
       "      <th>CO[g/hr]</th>\n",
       "      <th>CO2[g/hr]</th>\n",
       "      <th>PM[mg/hr]</th>\n",
       "      <th>Nox (g/kl)</th>\n",
       "      <th>HC (g/kl)</th>\n",
       "      <th>CO (g/kl)</th>\n",
       "      <th>CO2 (g/kl)</th>\n",
       "      <th>PM (g/kl)</th>\n",
       "    </tr>\n",
       "  </thead>\n",
       "  <tbody>\n",
       "    <tr>\n",
       "      <th>0</th>\n",
       "      <td>1</td>\n",
       "      <td>65621.6</td>\n",
       "      <td>0.000000</td>\n",
       "      <td>833.0</td>\n",
       "      <td>12</td>\n",
       "      <td>0.21</td>\n",
       "      <td>2</td>\n",
       "      <td>22.0</td>\n",
       "      <td>0.430000</td>\n",
       "      <td>0.024090</td>\n",
       "      <td>...</td>\n",
       "      <td>86.724000</td>\n",
       "      <td>25.848000</td>\n",
       "      <td>13.176000</td>\n",
       "      <td>4780.656000</td>\n",
       "      <td>14.4</td>\n",
       "      <td>3730.117500</td>\n",
       "      <td>1111.757728</td>\n",
       "      <td>566.717728</td>\n",
       "      <td>2.056225e+05</td>\n",
       "      <td>0.619362</td>\n",
       "    </tr>\n",
       "    <tr>\n",
       "      <th>1</th>\n",
       "      <td>1</td>\n",
       "      <td>65621.6</td>\n",
       "      <td>0.012346</td>\n",
       "      <td>800.0</td>\n",
       "      <td>12</td>\n",
       "      <td>0.21</td>\n",
       "      <td>2</td>\n",
       "      <td>22.0</td>\n",
       "      <td>0.620000</td>\n",
       "      <td>0.030320</td>\n",
       "      <td>...</td>\n",
       "      <td>109.152000</td>\n",
       "      <td>25.668000</td>\n",
       "      <td>16.164000</td>\n",
       "      <td>7008.264000</td>\n",
       "      <td>21.6</td>\n",
       "      <td>4694.776362</td>\n",
       "      <td>1104.015681</td>\n",
       "      <td>695.235681</td>\n",
       "      <td>3.014350e+05</td>\n",
       "      <td>0.929047</td>\n",
       "    </tr>\n",
       "    <tr>\n",
       "      <th>2</th>\n",
       "      <td>1</td>\n",
       "      <td>65621.6</td>\n",
       "      <td>0.012346</td>\n",
       "      <td>826.0</td>\n",
       "      <td>12</td>\n",
       "      <td>0.21</td>\n",
       "      <td>2</td>\n",
       "      <td>22.0</td>\n",
       "      <td>0.510000</td>\n",
       "      <td>0.030730</td>\n",
       "      <td>...</td>\n",
       "      <td>110.628000</td>\n",
       "      <td>10.980000</td>\n",
       "      <td>10.584000</td>\n",
       "      <td>5722.920000</td>\n",
       "      <td>21.6</td>\n",
       "      <td>4758.261138</td>\n",
       "      <td>472.264772</td>\n",
       "      <td>455.232272</td>\n",
       "      <td>2.461506e+05</td>\n",
       "      <td>0.929047</td>\n",
       "    </tr>\n",
       "    <tr>\n",
       "      <th>3</th>\n",
       "      <td>1</td>\n",
       "      <td>65621.6</td>\n",
       "      <td>0.012346</td>\n",
       "      <td>831.0</td>\n",
       "      <td>12</td>\n",
       "      <td>0.21</td>\n",
       "      <td>2</td>\n",
       "      <td>22.0</td>\n",
       "      <td>0.390522</td>\n",
       "      <td>0.023693</td>\n",
       "      <td>...</td>\n",
       "      <td>85.293664</td>\n",
       "      <td>20.747853</td>\n",
       "      <td>4.825082</td>\n",
       "      <td>4382.553038</td>\n",
       "      <td>21.6</td>\n",
       "      <td>3668.596780</td>\n",
       "      <td>892.393432</td>\n",
       "      <td>207.533355</td>\n",
       "      <td>1.884996e+05</td>\n",
       "      <td>0.929047</td>\n",
       "    </tr>\n",
       "    <tr>\n",
       "      <th>4</th>\n",
       "      <td>1</td>\n",
       "      <td>65621.6</td>\n",
       "      <td>0.012346</td>\n",
       "      <td>834.0</td>\n",
       "      <td>12</td>\n",
       "      <td>0.21</td>\n",
       "      <td>2</td>\n",
       "      <td>22.0</td>\n",
       "      <td>0.413024</td>\n",
       "      <td>0.026107</td>\n",
       "      <td>...</td>\n",
       "      <td>93.985262</td>\n",
       "      <td>6.979907</td>\n",
       "      <td>9.880556</td>\n",
       "      <td>4673.503069</td>\n",
       "      <td>21.6</td>\n",
       "      <td>4042.434273</td>\n",
       "      <td>300.215326</td>\n",
       "      <td>424.976193</td>\n",
       "      <td>2.010137e+05</td>\n",
       "      <td>0.929047</td>\n",
       "    </tr>\n",
       "    <tr>\n",
       "      <th>...</th>\n",
       "      <td>...</td>\n",
       "      <td>...</td>\n",
       "      <td>...</td>\n",
       "      <td>...</td>\n",
       "      <td>...</td>\n",
       "      <td>...</td>\n",
       "      <td>...</td>\n",
       "      <td>...</td>\n",
       "      <td>...</td>\n",
       "      <td>...</td>\n",
       "      <td>...</td>\n",
       "      <td>...</td>\n",
       "      <td>...</td>\n",
       "      <td>...</td>\n",
       "      <td>...</td>\n",
       "      <td>...</td>\n",
       "      <td>...</td>\n",
       "      <td>...</td>\n",
       "      <td>...</td>\n",
       "      <td>...</td>\n",
       "      <td>...</td>\n",
       "    </tr>\n",
       "    <tr>\n",
       "      <th>37523</th>\n",
       "      <td>8</td>\n",
       "      <td>72332.9</td>\n",
       "      <td>0.975904</td>\n",
       "      <td>1676.0</td>\n",
       "      <td>36</td>\n",
       "      <td>0.21</td>\n",
       "      <td>2</td>\n",
       "      <td>41.0</td>\n",
       "      <td>1.590000</td>\n",
       "      <td>0.058830</td>\n",
       "      <td>...</td>\n",
       "      <td>211.788000</td>\n",
       "      <td>19.908000</td>\n",
       "      <td>28.152000</td>\n",
       "      <td>17957.592000</td>\n",
       "      <td>1800.0</td>\n",
       "      <td>445343.100000</td>\n",
       "      <td>41862.100000</td>\n",
       "      <td>59197.400000</td>\n",
       "      <td>3.776083e+07</td>\n",
       "      <td>3785.000000</td>\n",
       "    </tr>\n",
       "    <tr>\n",
       "      <th>37524</th>\n",
       "      <td>8</td>\n",
       "      <td>72332.9</td>\n",
       "      <td>0.975904</td>\n",
       "      <td>1683.0</td>\n",
       "      <td>36</td>\n",
       "      <td>0.21</td>\n",
       "      <td>2</td>\n",
       "      <td>42.0</td>\n",
       "      <td>1.320000</td>\n",
       "      <td>0.059500</td>\n",
       "      <td>...</td>\n",
       "      <td>214.200000</td>\n",
       "      <td>19.800000</td>\n",
       "      <td>30.780000</td>\n",
       "      <td>14905.044000</td>\n",
       "      <td>1656.0</td>\n",
       "      <td>542545.340909</td>\n",
       "      <td>50151.250000</td>\n",
       "      <td>77962.397727</td>\n",
       "      <td>3.775286e+07</td>\n",
       "      <td>4194.468182</td>\n",
       "    </tr>\n",
       "    <tr>\n",
       "      <th>37525</th>\n",
       "      <td>8</td>\n",
       "      <td>72332.9</td>\n",
       "      <td>0.975904</td>\n",
       "      <td>1846.0</td>\n",
       "      <td>36</td>\n",
       "      <td>0.21</td>\n",
       "      <td>2</td>\n",
       "      <td>42.0</td>\n",
       "      <td>1.530000</td>\n",
       "      <td>0.059640</td>\n",
       "      <td>...</td>\n",
       "      <td>214.704000</td>\n",
       "      <td>21.744000</td>\n",
       "      <td>33.840000</td>\n",
       "      <td>17349.048000</td>\n",
       "      <td>1872.0</td>\n",
       "      <td>469179.694118</td>\n",
       "      <td>47515.850980</td>\n",
       "      <td>73948.509804</td>\n",
       "      <td>3.791183e+07</td>\n",
       "      <td>4090.768627</td>\n",
       "    </tr>\n",
       "    <tr>\n",
       "      <th>37526</th>\n",
       "      <td>8</td>\n",
       "      <td>72332.9</td>\n",
       "      <td>0.987952</td>\n",
       "      <td>1876.0</td>\n",
       "      <td>36</td>\n",
       "      <td>0.21</td>\n",
       "      <td>2</td>\n",
       "      <td>42.0</td>\n",
       "      <td>1.760000</td>\n",
       "      <td>0.056200</td>\n",
       "      <td>...</td>\n",
       "      <td>202.320000</td>\n",
       "      <td>22.356000</td>\n",
       "      <td>34.740000</td>\n",
       "      <td>19948.572000</td>\n",
       "      <td>1980.0</td>\n",
       "      <td>384340.943182</td>\n",
       "      <td>42468.990341</td>\n",
       "      <td>65994.485795</td>\n",
       "      <td>3.789568e+07</td>\n",
       "      <td>3761.343750</td>\n",
       "    </tr>\n",
       "    <tr>\n",
       "      <th>37527</th>\n",
       "      <td>8</td>\n",
       "      <td>72332.9</td>\n",
       "      <td>1.000000</td>\n",
       "      <td>1762.0</td>\n",
       "      <td>36</td>\n",
       "      <td>0.21</td>\n",
       "      <td>2</td>\n",
       "      <td>42.0</td>\n",
       "      <td>1.750000</td>\n",
       "      <td>0.053210</td>\n",
       "      <td>...</td>\n",
       "      <td>191.556000</td>\n",
       "      <td>21.168000</td>\n",
       "      <td>29.880000</td>\n",
       "      <td>19825.308000</td>\n",
       "      <td>1692.0</td>\n",
       "      <td>365972.298857</td>\n",
       "      <td>40441.968000</td>\n",
       "      <td>57086.451429</td>\n",
       "      <td>3.787672e+07</td>\n",
       "      <td>3232.606286</td>\n",
       "    </tr>\n",
       "  </tbody>\n",
       "</table>\n",
       "<p>37528 rows × 30 columns</p>\n",
       "</div>"
      ],
      "text/plain": [
       "       Backhoe  HP(watt)  Norm_MAP     RPM  Age  Load_Factor  Engine_Tier  \\\n",
       "0            1   65621.6  0.000000   833.0   12         0.21            2   \n",
       "1            1   65621.6  0.012346   800.0   12         0.21            2   \n",
       "2            1   65621.6  0.012346   826.0   12         0.21            2   \n",
       "3            1   65621.6  0.012346   831.0   12         0.21            2   \n",
       "4            1   65621.6  0.012346   834.0   12         0.21            2   \n",
       "...        ...       ...       ...     ...  ...          ...          ...   \n",
       "37523        8   72332.9  0.975904  1676.0   36         0.21            2   \n",
       "37524        8   72332.9  0.975904  1683.0   36         0.21            2   \n",
       "37525        8   72332.9  0.975904  1846.0   36         0.21            2   \n",
       "37526        8   72332.9  0.987952  1876.0   36         0.21            2   \n",
       "37527        8   72332.9  1.000000  1762.0   36         0.21            2   \n",
       "\n",
       "       TEMP[C]  Fuel[g/s]  NOx[g/s]  ...   NOx[g/hr]   HC[g/hr]   CO[g/hr]  \\\n",
       "0         22.0   0.430000  0.024090  ...   86.724000  25.848000  13.176000   \n",
       "1         22.0   0.620000  0.030320  ...  109.152000  25.668000  16.164000   \n",
       "2         22.0   0.510000  0.030730  ...  110.628000  10.980000  10.584000   \n",
       "3         22.0   0.390522  0.023693  ...   85.293664  20.747853   4.825082   \n",
       "4         22.0   0.413024  0.026107  ...   93.985262   6.979907   9.880556   \n",
       "...        ...        ...       ...  ...         ...        ...        ...   \n",
       "37523     41.0   1.590000  0.058830  ...  211.788000  19.908000  28.152000   \n",
       "37524     42.0   1.320000  0.059500  ...  214.200000  19.800000  30.780000   \n",
       "37525     42.0   1.530000  0.059640  ...  214.704000  21.744000  33.840000   \n",
       "37526     42.0   1.760000  0.056200  ...  202.320000  22.356000  34.740000   \n",
       "37527     42.0   1.750000  0.053210  ...  191.556000  21.168000  29.880000   \n",
       "\n",
       "          CO2[g/hr]  PM[mg/hr]     Nox (g/kl)     HC (g/kl)     CO (g/kl)  \\\n",
       "0       4780.656000       14.4    3730.117500   1111.757728    566.717728   \n",
       "1       7008.264000       21.6    4694.776362   1104.015681    695.235681   \n",
       "2       5722.920000       21.6    4758.261138    472.264772    455.232272   \n",
       "3       4382.553038       21.6    3668.596780    892.393432    207.533355   \n",
       "4       4673.503069       21.6    4042.434273    300.215326    424.976193   \n",
       "...             ...        ...            ...           ...           ...   \n",
       "37523  17957.592000     1800.0  445343.100000  41862.100000  59197.400000   \n",
       "37524  14905.044000     1656.0  542545.340909  50151.250000  77962.397727   \n",
       "37525  17349.048000     1872.0  469179.694118  47515.850980  73948.509804   \n",
       "37526  19948.572000     1980.0  384340.943182  42468.990341  65994.485795   \n",
       "37527  19825.308000     1692.0  365972.298857  40441.968000  57086.451429   \n",
       "\n",
       "         CO2 (g/kl)    PM (g/kl)  \n",
       "0      2.056225e+05     0.619362  \n",
       "1      3.014350e+05     0.929047  \n",
       "2      2.461506e+05     0.929047  \n",
       "3      1.884996e+05     0.929047  \n",
       "4      2.010137e+05     0.929047  \n",
       "...             ...          ...  \n",
       "37523  3.776083e+07  3785.000000  \n",
       "37524  3.775286e+07  4194.468182  \n",
       "37525  3.791183e+07  4090.768627  \n",
       "37526  3.789568e+07  3761.343750  \n",
       "37527  3.787672e+07  3232.606286  \n",
       "\n",
       "[37528 rows x 30 columns]"
      ]
     },
     "execution_count": 3,
     "metadata": {},
     "output_type": "execute_result"
    }
   ],
   "source": [
    "Data1 = Data.copy()\n",
    "Data1"
   ]
  },
  {
   "cell_type": "code",
   "execution_count": 4,
   "id": "d8b7e2df",
   "metadata": {
    "scrolled": false
   },
   "outputs": [
    {
     "data": {
      "text/plain": [
       "Backhoe        0\n",
       "HP(watt)       0\n",
       "Norm_MAP       0\n",
       "RPM            1\n",
       "Age            0\n",
       "Load_Factor    0\n",
       "Engine_Tier    0\n",
       "TEMP[C]        1\n",
       "Fuel[g/s]      0\n",
       "NOx[g/s]       0\n",
       "HC[g/s]        0\n",
       "CO[g/s]        0\n",
       "CO2[g/s]       0\n",
       "PM[mg/s]       0\n",
       "Nox (g/l)      0\n",
       "HC (g/l)       0\n",
       "CO (g/l)       0\n",
       "CO2 (g/l)      0\n",
       "PM (g/l)       0\n",
       "Fuel[g/hr]     0\n",
       "NOx[g/hr]      0\n",
       "HC[g/hr]       0\n",
       "CO[g/hr]       0\n",
       "CO2[g/hr]      0\n",
       "PM[mg/hr]      0\n",
       "Nox (g/kl)     0\n",
       "HC (g/kl)      0\n",
       "CO (g/kl)      0\n",
       "CO2 (g/kl)     0\n",
       "PM (g/kl)      0\n",
       "dtype: int64"
      ]
     },
     "execution_count": 4,
     "metadata": {},
     "output_type": "execute_result"
    }
   ],
   "source": [
    "Data1.isna().sum()"
   ]
  },
  {
   "cell_type": "code",
   "execution_count": 5,
   "id": "45e9e933",
   "metadata": {},
   "outputs": [],
   "source": [
    "Data1.dropna(inplace=True)"
   ]
  },
  {
   "cell_type": "code",
   "execution_count": 6,
   "id": "eb604f56",
   "metadata": {},
   "outputs": [],
   "source": [
    "X = Data1[['Backhoe', 'HP(watt)', 'Norm_MAP', 'RPM', 'Age', 'Load_Factor', 'Engine_Tier']]\n",
    "y = Data1['NOx[g/s]']"
   ]
  },
  {
   "cell_type": "code",
   "execution_count": 7,
   "id": "9b20fdc6",
   "metadata": {},
   "outputs": [],
   "source": [
    "from sklearn.model_selection import train_test_split\n",
    "X_train, X_test, y_train, y_test = train_test_split(X, y, test_size=0.25, random_state=42)"
   ]
  },
  {
   "cell_type": "code",
   "execution_count": 8,
   "id": "79d5ea31",
   "metadata": {},
   "outputs": [
    {
     "name": "stdout",
     "output_type": "stream",
     "text": [
      "Lama eksekusi:  0.02767849999999683 detik\n"
     ]
    }
   ],
   "source": [
    "import timeit\n",
    "start = timeit.default_timer() # catat waktu mulai\n",
    "\n",
    "LR = LinearRegression(fit_intercept=True, copy_X=True, n_jobs=None, positive=False)\n",
    "LR.fit(X_train, y_train.values.ravel())\n",
    "\n",
    "y_pred = LR.predict(X_train)\n",
    "\n",
    "stop = timeit.default_timer() # catat waktu selesai\n",
    "lama_eksekusi = stop - start # lama eksekusi dalam satuan detik\n",
    "print(\"Lama eksekusi: \",lama_eksekusi,\"detik\")"
   ]
  },
  {
   "cell_type": "code",
   "execution_count": 9,
   "id": "a5dabace",
   "metadata": {},
   "outputs": [
    {
     "name": "stdout",
     "output_type": "stream",
     "text": [
      "Mean Absolute Error: 0.009119958704386604\n",
      "Mean Squared Error: 0.00014744371800840526\n",
      "Root Mean Squared Error: 0.012142640487488924\n"
     ]
    }
   ],
   "source": [
    "from  sklearn import metrics\n",
    "\n",
    "print('Mean Absolute Error:', metrics.mean_absolute_error(y_train, y_pred))  \n",
    "print('Mean Squared Error:', metrics.mean_squared_error(y_train, y_pred))  \n",
    "print('Root Mean Squared Error:', np.sqrt(metrics.mean_squared_error(y_train, y_pred)))"
   ]
  },
  {
   "cell_type": "code",
   "execution_count": 10,
   "id": "c6f7f95d",
   "metadata": {},
   "outputs": [
    {
     "name": "stdout",
     "output_type": "stream",
     "text": [
      "Lama eksekusi:  0.015348899999999333 detik\n"
     ]
    }
   ],
   "source": [
    "import timeit\n",
    "start = timeit.default_timer() # catat waktu mulai\n",
    "\n",
    "LR = LinearRegression(fit_intercept=False, copy_X=True, n_jobs=None, positive=False)\n",
    "LR.fit(X_train, y_train.values.ravel())\n",
    "\n",
    "y_pred = LR.predict(X_train)\n",
    "\n",
    "stop = timeit.default_timer() # catat waktu selesai\n",
    "lama_eksekusi = stop - start # lama eksekusi dalam satuan detik\n",
    "print(\"Lama eksekusi: \",lama_eksekusi,\"detik\")"
   ]
  },
  {
   "cell_type": "code",
   "execution_count": 11,
   "id": "b28015dc",
   "metadata": {},
   "outputs": [
    {
     "name": "stdout",
     "output_type": "stream",
     "text": [
      "Mean Absolute Error: 0.009119958704386654\n",
      "Mean Squared Error: 0.00014744371800840529\n",
      "Root Mean Squared Error: 0.012142640487488926\n"
     ]
    }
   ],
   "source": [
    "from  sklearn import metrics\n",
    "\n",
    "print('Mean Absolute Error:', metrics.mean_absolute_error(y_train, y_pred))  \n",
    "print('Mean Squared Error:', metrics.mean_squared_error(y_train, y_pred))  \n",
    "print('Root Mean Squared Error:', np.sqrt(metrics.mean_squared_error(y_train, y_pred)))"
   ]
  },
  {
   "cell_type": "code",
   "execution_count": 12,
   "id": "419283ed",
   "metadata": {},
   "outputs": [
    {
     "data": {
      "text/plain": [
       "0.0"
      ]
     },
     "execution_count": 12,
     "metadata": {},
     "output_type": "execute_result"
    }
   ],
   "source": [
    "LR.intercept_"
   ]
  },
  {
   "cell_type": "code",
   "execution_count": 13,
   "id": "dbbdffff",
   "metadata": {},
   "outputs": [
    {
     "data": {
      "text/plain": [
       "0.0012929034971979668"
      ]
     },
     "execution_count": 13,
     "metadata": {},
     "output_type": "execute_result"
    }
   ],
   "source": [
    "LR.coef_[6]"
   ]
  },
  {
   "cell_type": "code",
   "execution_count": 14,
   "id": "7f093ed3",
   "metadata": {},
   "outputs": [
    {
     "data": {
      "text/plain": [
       "array([-8.26631705e-04,  1.62663541e-07,  2.95486149e-02,  2.67856871e-05,\n",
       "        6.65157273e-05, -1.16999655e-01,  1.29290350e-03])"
      ]
     },
     "execution_count": 14,
     "metadata": {},
     "output_type": "execute_result"
    }
   ],
   "source": [
    "LR.coef_"
   ]
  },
  {
   "cell_type": "code",
   "execution_count": 15,
   "id": "e9cde4db",
   "metadata": {},
   "outputs": [
    {
     "data": {
      "text/plain": [
       "7"
      ]
     },
     "execution_count": 15,
     "metadata": {},
     "output_type": "execute_result"
    }
   ],
   "source": [
    "LR.rank_"
   ]
  },
  {
   "cell_type": "code",
   "execution_count": 16,
   "id": "87cdacb3",
   "metadata": {},
   "outputs": [
    {
     "data": {
      "text/plain": [
       "7"
      ]
     },
     "execution_count": 16,
     "metadata": {},
     "output_type": "execute_result"
    }
   ],
   "source": [
    "LR.n_features_in_"
   ]
  },
  {
   "cell_type": "code",
   "execution_count": 17,
   "id": "3e4677c5",
   "metadata": {
    "scrolled": true
   },
   "outputs": [
    {
     "name": "stdout",
     "output_type": "stream",
     "text": [
      "R2 Score is : 60.6 %\n",
      "Adjusted R Squared: % 60.57 R Squared: % 60.58\n"
     ]
    }
   ],
   "source": [
    "from sklearn.metrics import r2_score\n",
    "print(\"R2 Score is :\",round(r2_score(y_train,y_pred),3)*100,\"%\")\n",
    "r_squared = r2_score(y_train,y_pred)\n",
    "adjusted_r_squared = 1 - (1-r_squared)*(len(y)-1)/(len(y)-X.shape[1]-1)\n",
    "print('Adjusted R Squared: %',round(adjusted_r_squared*100,2), 'R Squared: %',round(r_squared*100,2))"
   ]
  },
  {
   "cell_type": "code",
   "execution_count": null,
   "id": "6346aa43",
   "metadata": {},
   "outputs": [],
   "source": []
  }
 ],
 "metadata": {
  "kernelspec": {
   "display_name": "Python 3 (ipykernel)",
   "language": "python",
   "name": "python3"
  },
  "language_info": {
   "codemirror_mode": {
    "name": "ipython",
    "version": 3
   },
   "file_extension": ".py",
   "mimetype": "text/x-python",
   "name": "python",
   "nbconvert_exporter": "python",
   "pygments_lexer": "ipython3",
   "version": "3.9.12"
  }
 },
 "nbformat": 4,
 "nbformat_minor": 5
}
