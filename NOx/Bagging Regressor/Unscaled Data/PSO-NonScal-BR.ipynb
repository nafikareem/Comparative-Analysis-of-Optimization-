{
 "cells": [
  {
   "cell_type": "code",
   "execution_count": 1,
   "id": "081eee25",
   "metadata": {},
   "outputs": [],
   "source": [
    "import numpy as np\n",
    "import pandas as pd\n",
    "from sklearn import model_selection, metrics\n",
    "from sklearn.ensemble import BaggingRegressor\n",
    "from sklearn.linear_model import LinearRegression\n",
    "from sklearn.model_selection import train_test_split\n",
    "from sklearn.metrics import mean_squared_error, mean_absolute_percentage_error\n",
    "from sklearn.preprocessing import StandardScaler\n",
    "from sklearn.metrics import make_scorer\n",
    "import timeit"
   ]
  },
  {
   "cell_type": "code",
   "execution_count": 2,
   "id": "537d5319",
   "metadata": {},
   "outputs": [],
   "source": [
    "Data = pd.read_excel('Data diolah darin.xlsx')"
   ]
  },
  {
   "cell_type": "code",
   "execution_count": 3,
   "id": "c43d795e",
   "metadata": {
    "scrolled": true
   },
   "outputs": [],
   "source": [
    "Data1 = Data.copy()\n",
    "Data1.dropna(inplace=True)\n",
    "\n",
    "X = Data1[['Backhoe', 'HP(watt)', 'Norm_MAP', 'RPM', 'Age', 'Load_Factor', 'Engine_Tier']]\n",
    "y = Data1['NOx[g/s]']\n",
    "\n",
    "X_train, X_test, y_train, y_test = train_test_split(X, y, test_size=0.25, random_state=42)"
   ]
  },
  {
   "cell_type": "code",
   "execution_count": 4,
   "id": "79d5ea31",
   "metadata": {},
   "outputs": [
    {
     "name": "stdout",
     "output_type": "stream",
     "text": [
      "Mean Absolute Error: 0.009114884841302752\n",
      "Mean Squared Error: 0.00014744588317612211\n",
      "Root Mean Squared Error: 0.012142729642717164\n"
     ]
    }
   ],
   "source": [
    "br = BaggingRegressor(estimator=LinearRegression(), \n",
    "                      n_estimators=10,\n",
    "                      max_samples=1.0, \n",
    "                      max_features=1.0, \n",
    "                      bootstrap=True, \n",
    "                      bootstrap_features=False, \n",
    "                      oob_score=False)\n",
    "br.fit(X_train, y_train.values.ravel())\n",
    "y_pred = br.predict(X_train)\n",
    "\n",
    "print('Mean Absolute Error:', metrics.mean_absolute_error(y_train, y_pred))  \n",
    "print('Mean Squared Error:', metrics.mean_squared_error(y_train, y_pred))  \n",
    "print('Root Mean Squared Error:', np.sqrt(metrics.mean_squared_error(y_train, y_pred)))"
   ]
  },
  {
   "cell_type": "markdown",
   "id": "c9971f35-aaa5-4f19-9bbe-573b98ee1aad",
   "metadata": {},
   "source": [
    "## Particle Swarm Algorithm"
   ]
  },
  {
   "cell_type": "code",
   "execution_count": 5,
   "id": "11f5a8e7-0c1c-46bc-b719-1b9a83f37105",
   "metadata": {},
   "outputs": [
    {
     "name": "stderr",
     "output_type": "stream",
     "text": [
      "C:\\Users\\TI\\anaconda3\\Lib\\site-packages\\sklearn\\ensemble\\_bagging.py:1253: UserWarning: Some inputs do not have OOB scores. This probably means too few estimators were used to compute any reliable oob estimates.\n",
      "  warn(\n"
     ]
    },
    {
     "name": "stdout",
     "output_type": "stream",
     "text": [
      "Iteration =  0  f(x) =  0.012158086197620087\n",
      "Iteration =  1  f(x) =  0.012142640487488922\n",
      "Iteration =  2  f(x) =  0.012142640487488922\n"
     ]
    },
    {
     "name": "stderr",
     "output_type": "stream",
     "text": [
      "C:\\Users\\TI\\anaconda3\\Lib\\site-packages\\sklearn\\ensemble\\_bagging.py:1253: UserWarning: Some inputs do not have OOB scores. This probably means too few estimators were used to compute any reliable oob estimates.\n",
      "  warn(\n"
     ]
    },
    {
     "name": "stdout",
     "output_type": "stream",
     "text": [
      "Iteration =  3  f(x) =  0.012142640487488922\n"
     ]
    },
    {
     "name": "stderr",
     "output_type": "stream",
     "text": [
      "C:\\Users\\TI\\anaconda3\\Lib\\site-packages\\sklearn\\ensemble\\_bagging.py:1253: UserWarning: Some inputs do not have OOB scores. This probably means too few estimators were used to compute any reliable oob estimates.\n",
      "  warn(\n",
      "C:\\Users\\TI\\anaconda3\\Lib\\site-packages\\sklearn\\ensemble\\_bagging.py:1253: UserWarning: Some inputs do not have OOB scores. This probably means too few estimators were used to compute any reliable oob estimates.\n",
      "  warn(\n",
      "C:\\Users\\TI\\anaconda3\\Lib\\site-packages\\sklearn\\ensemble\\_bagging.py:1253: UserWarning: Some inputs do not have OOB scores. This probably means too few estimators were used to compute any reliable oob estimates.\n",
      "  warn(\n",
      "C:\\Users\\TI\\anaconda3\\Lib\\site-packages\\sklearn\\ensemble\\_bagging.py:1253: UserWarning: Some inputs do not have OOB scores. This probably means too few estimators were used to compute any reliable oob estimates.\n",
      "  warn(\n",
      "C:\\Users\\TI\\anaconda3\\Lib\\site-packages\\sklearn\\ensemble\\_bagging.py:1253: UserWarning: Some inputs do not have OOB scores. This probably means too few estimators were used to compute any reliable oob estimates.\n",
      "  warn(\n",
      "C:\\Users\\TI\\anaconda3\\Lib\\site-packages\\sklearn\\ensemble\\_bagging.py:1253: UserWarning: Some inputs do not have OOB scores. This probably means too few estimators were used to compute any reliable oob estimates.\n",
      "  warn(\n",
      "C:\\Users\\TI\\anaconda3\\Lib\\site-packages\\sklearn\\ensemble\\_bagging.py:1253: UserWarning: Some inputs do not have OOB scores. This probably means too few estimators were used to compute any reliable oob estimates.\n",
      "  warn(\n"
     ]
    },
    {
     "name": "stdout",
     "output_type": "stream",
     "text": [
      "Iteration =  4  f(x) =  0.012142640487488922\n"
     ]
    },
    {
     "name": "stderr",
     "output_type": "stream",
     "text": [
      "C:\\Users\\TI\\anaconda3\\Lib\\site-packages\\sklearn\\ensemble\\_bagging.py:1253: UserWarning: Some inputs do not have OOB scores. This probably means too few estimators were used to compute any reliable oob estimates.\n",
      "  warn(\n",
      "C:\\Users\\TI\\anaconda3\\Lib\\site-packages\\sklearn\\ensemble\\_bagging.py:1253: UserWarning: Some inputs do not have OOB scores. This probably means too few estimators were used to compute any reliable oob estimates.\n",
      "  warn(\n"
     ]
    },
    {
     "name": "stdout",
     "output_type": "stream",
     "text": [
      "Iteration =  5  f(x) =  0.012142640487488922\n",
      "Iteration =  6  f(x) =  0.012142640487488922\n",
      "Iteration =  7  f(x) =  0.012142640487488922\n"
     ]
    },
    {
     "name": "stderr",
     "output_type": "stream",
     "text": [
      "C:\\Users\\TI\\anaconda3\\Lib\\site-packages\\sklearn\\ensemble\\_bagging.py:1253: UserWarning: Some inputs do not have OOB scores. This probably means too few estimators were used to compute any reliable oob estimates.\n",
      "  warn(\n",
      "C:\\Users\\TI\\anaconda3\\Lib\\site-packages\\sklearn\\ensemble\\_bagging.py:1253: UserWarning: Some inputs do not have OOB scores. This probably means too few estimators were used to compute any reliable oob estimates.\n",
      "  warn(\n"
     ]
    },
    {
     "name": "stdout",
     "output_type": "stream",
     "text": [
      "Iteration =  8  f(x) =  0.012142640487488922\n"
     ]
    },
    {
     "name": "stderr",
     "output_type": "stream",
     "text": [
      "C:\\Users\\TI\\anaconda3\\Lib\\site-packages\\sklearn\\ensemble\\_bagging.py:1253: UserWarning: Some inputs do not have OOB scores. This probably means too few estimators were used to compute any reliable oob estimates.\n",
      "  warn(\n"
     ]
    },
    {
     "name": "stdout",
     "output_type": "stream",
     "text": [
      "Iteration =  9  f(x) =  0.012142640487488922\n"
     ]
    },
    {
     "name": "stderr",
     "output_type": "stream",
     "text": [
      "C:\\Users\\TI\\anaconda3\\Lib\\site-packages\\sklearn\\ensemble\\_bagging.py:1253: UserWarning: Some inputs do not have OOB scores. This probably means too few estimators were used to compute any reliable oob estimates.\n",
      "  warn(\n"
     ]
    },
    {
     "name": "stdout",
     "output_type": "stream",
     "text": [
      "Iteration =  10  f(x) =  0.012142640487488922\n"
     ]
    },
    {
     "name": "stderr",
     "output_type": "stream",
     "text": [
      "C:\\Users\\TI\\anaconda3\\Lib\\site-packages\\sklearn\\ensemble\\_bagging.py:1253: UserWarning: Some inputs do not have OOB scores. This probably means too few estimators were used to compute any reliable oob estimates.\n",
      "  warn(\n"
     ]
    },
    {
     "name": "stdout",
     "output_type": "stream",
     "text": [
      "Iteration =  11  f(x) =  0.012142640487488922\n",
      "Iteration =  12  f(x) =  0.012142640487488922\n"
     ]
    },
    {
     "name": "stderr",
     "output_type": "stream",
     "text": [
      "C:\\Users\\TI\\anaconda3\\Lib\\site-packages\\sklearn\\ensemble\\_bagging.py:1253: UserWarning: Some inputs do not have OOB scores. This probably means too few estimators were used to compute any reliable oob estimates.\n",
      "  warn(\n"
     ]
    },
    {
     "name": "stdout",
     "output_type": "stream",
     "text": [
      "Iteration =  13  f(x) =  0.012142640487488922\n"
     ]
    },
    {
     "name": "stderr",
     "output_type": "stream",
     "text": [
      "C:\\Users\\TI\\anaconda3\\Lib\\site-packages\\sklearn\\ensemble\\_bagging.py:1253: UserWarning: Some inputs do not have OOB scores. This probably means too few estimators were used to compute any reliable oob estimates.\n",
      "  warn(\n",
      "C:\\Users\\TI\\anaconda3\\Lib\\site-packages\\sklearn\\ensemble\\_bagging.py:1253: UserWarning: Some inputs do not have OOB scores. This probably means too few estimators were used to compute any reliable oob estimates.\n",
      "  warn(\n",
      "C:\\Users\\TI\\anaconda3\\Lib\\site-packages\\sklearn\\ensemble\\_bagging.py:1253: UserWarning: Some inputs do not have OOB scores. This probably means too few estimators were used to compute any reliable oob estimates.\n",
      "  warn(\n"
     ]
    },
    {
     "name": "stdout",
     "output_type": "stream",
     "text": [
      "Iteration =  14  f(x) =  0.012142640487488922\n",
      "Iteration =  15  f(x) =  0.012142640487488922\n"
     ]
    },
    {
     "name": "stderr",
     "output_type": "stream",
     "text": [
      "C:\\Users\\TI\\anaconda3\\Lib\\site-packages\\sklearn\\ensemble\\_bagging.py:1253: UserWarning: Some inputs do not have OOB scores. This probably means too few estimators were used to compute any reliable oob estimates.\n",
      "  warn(\n"
     ]
    },
    {
     "name": "stdout",
     "output_type": "stream",
     "text": [
      "Iteration =  16  f(x) =  0.012142640487488922\n",
      "Iteration =  17  f(x) =  0.012142640487488922\n"
     ]
    },
    {
     "name": "stderr",
     "output_type": "stream",
     "text": [
      "C:\\Users\\TI\\anaconda3\\Lib\\site-packages\\sklearn\\ensemble\\_bagging.py:1253: UserWarning: Some inputs do not have OOB scores. This probably means too few estimators were used to compute any reliable oob estimates.\n",
      "  warn(\n"
     ]
    },
    {
     "name": "stdout",
     "output_type": "stream",
     "text": [
      "Iteration =  18  f(x) =  0.012142640487488922\n"
     ]
    },
    {
     "name": "stderr",
     "output_type": "stream",
     "text": [
      "C:\\Users\\TI\\anaconda3\\Lib\\site-packages\\sklearn\\ensemble\\_bagging.py:1253: UserWarning: Some inputs do not have OOB scores. This probably means too few estimators were used to compute any reliable oob estimates.\n",
      "  warn(\n",
      "C:\\Users\\TI\\anaconda3\\Lib\\site-packages\\sklearn\\ensemble\\_bagging.py:1253: UserWarning: Some inputs do not have OOB scores. This probably means too few estimators were used to compute any reliable oob estimates.\n",
      "  warn(\n",
      "C:\\Users\\TI\\anaconda3\\Lib\\site-packages\\sklearn\\ensemble\\_bagging.py:1253: UserWarning: Some inputs do not have OOB scores. This probably means too few estimators were used to compute any reliable oob estimates.\n",
      "  warn(\n"
     ]
    },
    {
     "name": "stdout",
     "output_type": "stream",
     "text": [
      "Iteration =  19  f(x) =  0.012142640487488922\n",
      "Iteration =  20  f(x) =  0.012142640487488922\n",
      "Iteration =  21  f(x) =  0.012142640487488922\n",
      "Iteration =  22  f(x) =  0.012142640487488922\n"
     ]
    },
    {
     "name": "stderr",
     "output_type": "stream",
     "text": [
      "C:\\Users\\TI\\anaconda3\\Lib\\site-packages\\sklearn\\ensemble\\_bagging.py:1253: UserWarning: Some inputs do not have OOB scores. This probably means too few estimators were used to compute any reliable oob estimates.\n",
      "  warn(\n"
     ]
    },
    {
     "name": "stdout",
     "output_type": "stream",
     "text": [
      "Iteration =  23  f(x) =  0.012142640487488922\n"
     ]
    },
    {
     "name": "stderr",
     "output_type": "stream",
     "text": [
      "C:\\Users\\TI\\anaconda3\\Lib\\site-packages\\sklearn\\ensemble\\_bagging.py:1253: UserWarning: Some inputs do not have OOB scores. This probably means too few estimators were used to compute any reliable oob estimates.\n",
      "  warn(\n",
      "C:\\Users\\TI\\anaconda3\\Lib\\site-packages\\sklearn\\ensemble\\_bagging.py:1253: UserWarning: Some inputs do not have OOB scores. This probably means too few estimators were used to compute any reliable oob estimates.\n",
      "  warn(\n"
     ]
    },
    {
     "name": "stdout",
     "output_type": "stream",
     "text": [
      "Iteration =  24  f(x) =  0.012142640487488922\n",
      "Iteration =  25  f(x) =  0.012142640487488922\n",
      "Iteration =  26  f(x) =  0.012142640487488922\n"
     ]
    },
    {
     "name": "stderr",
     "output_type": "stream",
     "text": [
      "C:\\Users\\TI\\anaconda3\\Lib\\site-packages\\sklearn\\ensemble\\_bagging.py:1253: UserWarning: Some inputs do not have OOB scores. This probably means too few estimators were used to compute any reliable oob estimates.\n",
      "  warn(\n"
     ]
    },
    {
     "name": "stdout",
     "output_type": "stream",
     "text": [
      "Iteration =  27  f(x) =  0.012142640487488922\n"
     ]
    },
    {
     "name": "stderr",
     "output_type": "stream",
     "text": [
      "C:\\Users\\TI\\anaconda3\\Lib\\site-packages\\sklearn\\ensemble\\_bagging.py:1253: UserWarning: Some inputs do not have OOB scores. This probably means too few estimators were used to compute any reliable oob estimates.\n",
      "  warn(\n",
      "C:\\Users\\TI\\anaconda3\\Lib\\site-packages\\sklearn\\ensemble\\_bagging.py:1253: UserWarning: Some inputs do not have OOB scores. This probably means too few estimators were used to compute any reliable oob estimates.\n",
      "  warn(\n",
      "C:\\Users\\TI\\anaconda3\\Lib\\site-packages\\sklearn\\ensemble\\_bagging.py:1253: UserWarning: Some inputs do not have OOB scores. This probably means too few estimators were used to compute any reliable oob estimates.\n",
      "  warn(\n",
      "C:\\Users\\TI\\anaconda3\\Lib\\site-packages\\sklearn\\ensemble\\_bagging.py:1253: UserWarning: Some inputs do not have OOB scores. This probably means too few estimators were used to compute any reliable oob estimates.\n",
      "  warn(\n"
     ]
    },
    {
     "name": "stdout",
     "output_type": "stream",
     "text": [
      "Iteration =  28  f(x) =  0.012142640487488922\n"
     ]
    },
    {
     "name": "stderr",
     "output_type": "stream",
     "text": [
      "C:\\Users\\TI\\anaconda3\\Lib\\site-packages\\sklearn\\ensemble\\_bagging.py:1253: UserWarning: Some inputs do not have OOB scores. This probably means too few estimators were used to compute any reliable oob estimates.\n",
      "  warn(\n"
     ]
    },
    {
     "name": "stdout",
     "output_type": "stream",
     "text": [
      "Iteration =  29  f(x) =  0.012142640487488922\n"
     ]
    },
    {
     "name": "stderr",
     "output_type": "stream",
     "text": [
      "C:\\Users\\TI\\anaconda3\\Lib\\site-packages\\sklearn\\ensemble\\_bagging.py:1253: UserWarning: Some inputs do not have OOB scores. This probably means too few estimators were used to compute any reliable oob estimates.\n",
      "  warn(\n"
     ]
    },
    {
     "name": "stdout",
     "output_type": "stream",
     "text": [
      "Iteration =  30  f(x) =  0.012142640487488922\n"
     ]
    },
    {
     "name": "stderr",
     "output_type": "stream",
     "text": [
      "C:\\Users\\TI\\anaconda3\\Lib\\site-packages\\sklearn\\ensemble\\_bagging.py:1253: UserWarning: Some inputs do not have OOB scores. This probably means too few estimators were used to compute any reliable oob estimates.\n",
      "  warn(\n",
      "C:\\Users\\TI\\anaconda3\\Lib\\site-packages\\sklearn\\ensemble\\_bagging.py:1253: UserWarning: Some inputs do not have OOB scores. This probably means too few estimators were used to compute any reliable oob estimates.\n",
      "  warn(\n"
     ]
    },
    {
     "name": "stdout",
     "output_type": "stream",
     "text": [
      "Iteration =  31  f(x) =  0.012142640487488922\n"
     ]
    },
    {
     "name": "stderr",
     "output_type": "stream",
     "text": [
      "C:\\Users\\TI\\anaconda3\\Lib\\site-packages\\sklearn\\ensemble\\_bagging.py:1253: UserWarning: Some inputs do not have OOB scores. This probably means too few estimators were used to compute any reliable oob estimates.\n",
      "  warn(\n",
      "C:\\Users\\TI\\anaconda3\\Lib\\site-packages\\sklearn\\ensemble\\_bagging.py:1253: UserWarning: Some inputs do not have OOB scores. This probably means too few estimators were used to compute any reliable oob estimates.\n",
      "  warn(\n"
     ]
    },
    {
     "name": "stdout",
     "output_type": "stream",
     "text": [
      "Iteration =  32  f(x) =  0.012142640487488922\n"
     ]
    },
    {
     "name": "stderr",
     "output_type": "stream",
     "text": [
      "C:\\Users\\TI\\anaconda3\\Lib\\site-packages\\sklearn\\ensemble\\_bagging.py:1253: UserWarning: Some inputs do not have OOB scores. This probably means too few estimators were used to compute any reliable oob estimates.\n",
      "  warn(\n",
      "C:\\Users\\TI\\anaconda3\\Lib\\site-packages\\sklearn\\ensemble\\_bagging.py:1253: UserWarning: Some inputs do not have OOB scores. This probably means too few estimators were used to compute any reliable oob estimates.\n",
      "  warn(\n"
     ]
    },
    {
     "name": "stdout",
     "output_type": "stream",
     "text": [
      "Iteration =  33  f(x) =  0.012142640487488922\n",
      "Iteration =  34  f(x) =  0.012142640487488922\n"
     ]
    },
    {
     "name": "stderr",
     "output_type": "stream",
     "text": [
      "C:\\Users\\TI\\anaconda3\\Lib\\site-packages\\sklearn\\ensemble\\_bagging.py:1253: UserWarning: Some inputs do not have OOB scores. This probably means too few estimators were used to compute any reliable oob estimates.\n",
      "  warn(\n"
     ]
    },
    {
     "name": "stdout",
     "output_type": "stream",
     "text": [
      "Iteration =  35  f(x) =  0.012142640487488922\n"
     ]
    },
    {
     "name": "stderr",
     "output_type": "stream",
     "text": [
      "C:\\Users\\TI\\anaconda3\\Lib\\site-packages\\sklearn\\ensemble\\_bagging.py:1253: UserWarning: Some inputs do not have OOB scores. This probably means too few estimators were used to compute any reliable oob estimates.\n",
      "  warn(\n"
     ]
    },
    {
     "name": "stdout",
     "output_type": "stream",
     "text": [
      "Iteration =  36  f(x) =  0.012142640487488922\n"
     ]
    },
    {
     "name": "stderr",
     "output_type": "stream",
     "text": [
      "C:\\Users\\TI\\anaconda3\\Lib\\site-packages\\sklearn\\ensemble\\_bagging.py:1253: UserWarning: Some inputs do not have OOB scores. This probably means too few estimators were used to compute any reliable oob estimates.\n",
      "  warn(\n",
      "C:\\Users\\TI\\anaconda3\\Lib\\site-packages\\sklearn\\ensemble\\_bagging.py:1253: UserWarning: Some inputs do not have OOB scores. This probably means too few estimators were used to compute any reliable oob estimates.\n",
      "  warn(\n"
     ]
    },
    {
     "name": "stdout",
     "output_type": "stream",
     "text": [
      "Iteration =  37  f(x) =  0.012142640487488922\n"
     ]
    },
    {
     "name": "stderr",
     "output_type": "stream",
     "text": [
      "C:\\Users\\TI\\anaconda3\\Lib\\site-packages\\sklearn\\ensemble\\_bagging.py:1253: UserWarning: Some inputs do not have OOB scores. This probably means too few estimators were used to compute any reliable oob estimates.\n",
      "  warn(\n"
     ]
    },
    {
     "name": "stdout",
     "output_type": "stream",
     "text": [
      "Iteration =  38  f(x) =  0.012142640487488922\n"
     ]
    },
    {
     "name": "stderr",
     "output_type": "stream",
     "text": [
      "C:\\Users\\TI\\anaconda3\\Lib\\site-packages\\sklearn\\ensemble\\_bagging.py:1253: UserWarning: Some inputs do not have OOB scores. This probably means too few estimators were used to compute any reliable oob estimates.\n",
      "  warn(\n"
     ]
    },
    {
     "name": "stdout",
     "output_type": "stream",
     "text": [
      "Iteration =  39  f(x) =  0.012142640487488922\n"
     ]
    },
    {
     "name": "stderr",
     "output_type": "stream",
     "text": [
      "C:\\Users\\TI\\anaconda3\\Lib\\site-packages\\sklearn\\ensemble\\_bagging.py:1253: UserWarning: Some inputs do not have OOB scores. This probably means too few estimators were used to compute any reliable oob estimates.\n",
      "  warn(\n"
     ]
    },
    {
     "name": "stdout",
     "output_type": "stream",
     "text": [
      "Iteration =  40  f(x) =  0.012142640487488922\n"
     ]
    },
    {
     "name": "stderr",
     "output_type": "stream",
     "text": [
      "C:\\Users\\TI\\anaconda3\\Lib\\site-packages\\sklearn\\ensemble\\_bagging.py:1253: UserWarning: Some inputs do not have OOB scores. This probably means too few estimators were used to compute any reliable oob estimates.\n",
      "  warn(\n",
      "C:\\Users\\TI\\anaconda3\\Lib\\site-packages\\sklearn\\ensemble\\_bagging.py:1253: UserWarning: Some inputs do not have OOB scores. This probably means too few estimators were used to compute any reliable oob estimates.\n",
      "  warn(\n"
     ]
    },
    {
     "name": "stdout",
     "output_type": "stream",
     "text": [
      "Iteration =  41  f(x) =  0.012142640487488922\n"
     ]
    },
    {
     "name": "stderr",
     "output_type": "stream",
     "text": [
      "C:\\Users\\TI\\anaconda3\\Lib\\site-packages\\sklearn\\ensemble\\_bagging.py:1253: UserWarning: Some inputs do not have OOB scores. This probably means too few estimators were used to compute any reliable oob estimates.\n",
      "  warn(\n"
     ]
    },
    {
     "name": "stdout",
     "output_type": "stream",
     "text": [
      "Iteration =  42  f(x) =  0.012142640487488922\n"
     ]
    },
    {
     "name": "stderr",
     "output_type": "stream",
     "text": [
      "C:\\Users\\TI\\anaconda3\\Lib\\site-packages\\sklearn\\ensemble\\_bagging.py:1253: UserWarning: Some inputs do not have OOB scores. This probably means too few estimators were used to compute any reliable oob estimates.\n",
      "  warn(\n"
     ]
    },
    {
     "name": "stdout",
     "output_type": "stream",
     "text": [
      "Iteration =  43  f(x) =  0.012142640487488922\n"
     ]
    },
    {
     "name": "stderr",
     "output_type": "stream",
     "text": [
      "C:\\Users\\TI\\anaconda3\\Lib\\site-packages\\sklearn\\ensemble\\_bagging.py:1253: UserWarning: Some inputs do not have OOB scores. This probably means too few estimators were used to compute any reliable oob estimates.\n",
      "  warn(\n",
      "C:\\Users\\TI\\anaconda3\\Lib\\site-packages\\sklearn\\ensemble\\_bagging.py:1253: UserWarning: Some inputs do not have OOB scores. This probably means too few estimators were used to compute any reliable oob estimates.\n",
      "  warn(\n",
      "C:\\Users\\TI\\anaconda3\\Lib\\site-packages\\sklearn\\ensemble\\_bagging.py:1253: UserWarning: Some inputs do not have OOB scores. This probably means too few estimators were used to compute any reliable oob estimates.\n",
      "  warn(\n"
     ]
    },
    {
     "name": "stdout",
     "output_type": "stream",
     "text": [
      "Iteration =  44  f(x) =  0.012142640487488922\n",
      "Iteration =  45  f(x) =  0.012142640487488922\n",
      "Iteration =  46  f(x) =  0.012142640487488922\n"
     ]
    },
    {
     "name": "stderr",
     "output_type": "stream",
     "text": [
      "C:\\Users\\TI\\anaconda3\\Lib\\site-packages\\sklearn\\ensemble\\_bagging.py:1253: UserWarning: Some inputs do not have OOB scores. This probably means too few estimators were used to compute any reliable oob estimates.\n",
      "  warn(\n",
      "C:\\Users\\TI\\anaconda3\\Lib\\site-packages\\sklearn\\ensemble\\_bagging.py:1253: UserWarning: Some inputs do not have OOB scores. This probably means too few estimators were used to compute any reliable oob estimates.\n",
      "  warn(\n",
      "C:\\Users\\TI\\anaconda3\\Lib\\site-packages\\sklearn\\ensemble\\_bagging.py:1253: UserWarning: Some inputs do not have OOB scores. This probably means too few estimators were used to compute any reliable oob estimates.\n",
      "  warn(\n"
     ]
    },
    {
     "name": "stdout",
     "output_type": "stream",
     "text": [
      "Iteration =  47  f(x) =  0.012142640487488922\n"
     ]
    },
    {
     "name": "stderr",
     "output_type": "stream",
     "text": [
      "C:\\Users\\TI\\anaconda3\\Lib\\site-packages\\sklearn\\ensemble\\_bagging.py:1253: UserWarning: Some inputs do not have OOB scores. This probably means too few estimators were used to compute any reliable oob estimates.\n",
      "  warn(\n"
     ]
    },
    {
     "name": "stdout",
     "output_type": "stream",
     "text": [
      "Iteration =  48  f(x) =  0.012142640487488922\n",
      "Iteration =  49  f(x) =  0.012142640487488922\n",
      "Iteration =  50  f(x) =  0.012142640487488922\n"
     ]
    },
    {
     "name": "stderr",
     "output_type": "stream",
     "text": [
      "C:\\Users\\TI\\anaconda3\\Lib\\site-packages\\sklearn\\ensemble\\_bagging.py:1253: UserWarning: Some inputs do not have OOB scores. This probably means too few estimators were used to compute any reliable oob estimates.\n",
      "  warn(\n"
     ]
    },
    {
     "name": "stdout",
     "output_type": "stream",
     "text": [
      "Iteration =  51  f(x) =  0.012142640487488922\n"
     ]
    },
    {
     "name": "stderr",
     "output_type": "stream",
     "text": [
      "C:\\Users\\TI\\anaconda3\\Lib\\site-packages\\sklearn\\ensemble\\_bagging.py:1253: UserWarning: Some inputs do not have OOB scores. This probably means too few estimators were used to compute any reliable oob estimates.\n",
      "  warn(\n",
      "C:\\Users\\TI\\anaconda3\\Lib\\site-packages\\sklearn\\ensemble\\_bagging.py:1253: UserWarning: Some inputs do not have OOB scores. This probably means too few estimators were used to compute any reliable oob estimates.\n",
      "  warn(\n",
      "C:\\Users\\TI\\anaconda3\\Lib\\site-packages\\sklearn\\ensemble\\_bagging.py:1253: UserWarning: Some inputs do not have OOB scores. This probably means too few estimators were used to compute any reliable oob estimates.\n",
      "  warn(\n",
      "C:\\Users\\TI\\anaconda3\\Lib\\site-packages\\sklearn\\ensemble\\_bagging.py:1253: UserWarning: Some inputs do not have OOB scores. This probably means too few estimators were used to compute any reliable oob estimates.\n",
      "  warn(\n"
     ]
    },
    {
     "name": "stdout",
     "output_type": "stream",
     "text": [
      "Iteration =  52  f(x) =  0.012142640487488922\n",
      "Iteration =  53  f(x) =  0.012142640487488922\n"
     ]
    },
    {
     "name": "stderr",
     "output_type": "stream",
     "text": [
      "C:\\Users\\TI\\anaconda3\\Lib\\site-packages\\sklearn\\ensemble\\_bagging.py:1253: UserWarning: Some inputs do not have OOB scores. This probably means too few estimators were used to compute any reliable oob estimates.\n",
      "  warn(\n"
     ]
    },
    {
     "name": "stdout",
     "output_type": "stream",
     "text": [
      "Iteration =  54  f(x) =  0.012142640487488922\n"
     ]
    },
    {
     "name": "stderr",
     "output_type": "stream",
     "text": [
      "C:\\Users\\TI\\anaconda3\\Lib\\site-packages\\sklearn\\ensemble\\_bagging.py:1253: UserWarning: Some inputs do not have OOB scores. This probably means too few estimators were used to compute any reliable oob estimates.\n",
      "  warn(\n"
     ]
    },
    {
     "name": "stdout",
     "output_type": "stream",
     "text": [
      "Iteration =  55  f(x) =  0.012142640487488922\n"
     ]
    },
    {
     "name": "stderr",
     "output_type": "stream",
     "text": [
      "C:\\Users\\TI\\anaconda3\\Lib\\site-packages\\sklearn\\ensemble\\_bagging.py:1253: UserWarning: Some inputs do not have OOB scores. This probably means too few estimators were used to compute any reliable oob estimates.\n",
      "  warn(\n",
      "C:\\Users\\TI\\anaconda3\\Lib\\site-packages\\sklearn\\ensemble\\_bagging.py:1253: UserWarning: Some inputs do not have OOB scores. This probably means too few estimators were used to compute any reliable oob estimates.\n",
      "  warn(\n",
      "C:\\Users\\TI\\anaconda3\\Lib\\site-packages\\sklearn\\ensemble\\_bagging.py:1253: UserWarning: Some inputs do not have OOB scores. This probably means too few estimators were used to compute any reliable oob estimates.\n",
      "  warn(\n"
     ]
    },
    {
     "name": "stdout",
     "output_type": "stream",
     "text": [
      "Iteration =  56  f(x) =  0.012142640487488922\n"
     ]
    },
    {
     "name": "stderr",
     "output_type": "stream",
     "text": [
      "C:\\Users\\TI\\anaconda3\\Lib\\site-packages\\sklearn\\ensemble\\_bagging.py:1253: UserWarning: Some inputs do not have OOB scores. This probably means too few estimators were used to compute any reliable oob estimates.\n",
      "  warn(\n",
      "C:\\Users\\TI\\anaconda3\\Lib\\site-packages\\sklearn\\ensemble\\_bagging.py:1253: UserWarning: Some inputs do not have OOB scores. This probably means too few estimators were used to compute any reliable oob estimates.\n",
      "  warn(\n"
     ]
    },
    {
     "name": "stdout",
     "output_type": "stream",
     "text": [
      "Iteration =  57  f(x) =  0.012142640487488922\n"
     ]
    },
    {
     "name": "stderr",
     "output_type": "stream",
     "text": [
      "C:\\Users\\TI\\anaconda3\\Lib\\site-packages\\sklearn\\ensemble\\_bagging.py:1253: UserWarning: Some inputs do not have OOB scores. This probably means too few estimators were used to compute any reliable oob estimates.\n",
      "  warn(\n",
      "C:\\Users\\TI\\anaconda3\\Lib\\site-packages\\sklearn\\ensemble\\_bagging.py:1253: UserWarning: Some inputs do not have OOB scores. This probably means too few estimators were used to compute any reliable oob estimates.\n",
      "  warn(\n"
     ]
    },
    {
     "name": "stdout",
     "output_type": "stream",
     "text": [
      "Iteration =  58  f(x) =  0.012142640487488922\n",
      "Iteration =  59  f(x) =  0.012142640487488922\n"
     ]
    },
    {
     "name": "stderr",
     "output_type": "stream",
     "text": [
      "C:\\Users\\TI\\anaconda3\\Lib\\site-packages\\sklearn\\ensemble\\_bagging.py:1253: UserWarning: Some inputs do not have OOB scores. This probably means too few estimators were used to compute any reliable oob estimates.\n",
      "  warn(\n",
      "C:\\Users\\TI\\anaconda3\\Lib\\site-packages\\sklearn\\ensemble\\_bagging.py:1253: UserWarning: Some inputs do not have OOB scores. This probably means too few estimators were used to compute any reliable oob estimates.\n",
      "  warn(\n"
     ]
    },
    {
     "name": "stdout",
     "output_type": "stream",
     "text": [
      "Iteration =  60  f(x) =  0.012142640487488922\n",
      "Iteration =  61  f(x) =  0.012142640487488922\n"
     ]
    },
    {
     "name": "stderr",
     "output_type": "stream",
     "text": [
      "C:\\Users\\TI\\anaconda3\\Lib\\site-packages\\sklearn\\ensemble\\_bagging.py:1253: UserWarning: Some inputs do not have OOB scores. This probably means too few estimators were used to compute any reliable oob estimates.\n",
      "  warn(\n",
      "C:\\Users\\TI\\anaconda3\\Lib\\site-packages\\sklearn\\ensemble\\_bagging.py:1253: UserWarning: Some inputs do not have OOB scores. This probably means too few estimators were used to compute any reliable oob estimates.\n",
      "  warn(\n"
     ]
    },
    {
     "name": "stdout",
     "output_type": "stream",
     "text": [
      "Iteration =  62  f(x) =  0.012142640487488922\n"
     ]
    },
    {
     "name": "stderr",
     "output_type": "stream",
     "text": [
      "C:\\Users\\TI\\anaconda3\\Lib\\site-packages\\sklearn\\ensemble\\_bagging.py:1253: UserWarning: Some inputs do not have OOB scores. This probably means too few estimators were used to compute any reliable oob estimates.\n",
      "  warn(\n"
     ]
    },
    {
     "name": "stdout",
     "output_type": "stream",
     "text": [
      "Iteration =  63  f(x) =  0.012142640487488922\n"
     ]
    },
    {
     "name": "stderr",
     "output_type": "stream",
     "text": [
      "C:\\Users\\TI\\anaconda3\\Lib\\site-packages\\sklearn\\ensemble\\_bagging.py:1253: UserWarning: Some inputs do not have OOB scores. This probably means too few estimators were used to compute any reliable oob estimates.\n",
      "  warn(\n"
     ]
    },
    {
     "name": "stdout",
     "output_type": "stream",
     "text": [
      "Iteration =  64  f(x) =  0.012142640487488922\n"
     ]
    },
    {
     "name": "stderr",
     "output_type": "stream",
     "text": [
      "C:\\Users\\TI\\anaconda3\\Lib\\site-packages\\sklearn\\ensemble\\_bagging.py:1253: UserWarning: Some inputs do not have OOB scores. This probably means too few estimators were used to compute any reliable oob estimates.\n",
      "  warn(\n"
     ]
    },
    {
     "name": "stdout",
     "output_type": "stream",
     "text": [
      "Iteration =  65  f(x) =  0.012142640487488922\n"
     ]
    },
    {
     "name": "stderr",
     "output_type": "stream",
     "text": [
      "C:\\Users\\TI\\anaconda3\\Lib\\site-packages\\sklearn\\ensemble\\_bagging.py:1253: UserWarning: Some inputs do not have OOB scores. This probably means too few estimators were used to compute any reliable oob estimates.\n",
      "  warn(\n",
      "C:\\Users\\TI\\anaconda3\\Lib\\site-packages\\sklearn\\ensemble\\_bagging.py:1253: UserWarning: Some inputs do not have OOB scores. This probably means too few estimators were used to compute any reliable oob estimates.\n",
      "  warn(\n"
     ]
    },
    {
     "name": "stdout",
     "output_type": "stream",
     "text": [
      "Iteration =  66  f(x) =  0.012142640487488922\n",
      "Iteration =  67  f(x) =  0.012142640487488922\n"
     ]
    },
    {
     "name": "stderr",
     "output_type": "stream",
     "text": [
      "C:\\Users\\TI\\anaconda3\\Lib\\site-packages\\sklearn\\ensemble\\_bagging.py:1253: UserWarning: Some inputs do not have OOB scores. This probably means too few estimators were used to compute any reliable oob estimates.\n",
      "  warn(\n",
      "C:\\Users\\TI\\anaconda3\\Lib\\site-packages\\sklearn\\ensemble\\_bagging.py:1253: UserWarning: Some inputs do not have OOB scores. This probably means too few estimators were used to compute any reliable oob estimates.\n",
      "  warn(\n"
     ]
    },
    {
     "name": "stdout",
     "output_type": "stream",
     "text": [
      "Iteration =  68  f(x) =  0.012142640487488922\n"
     ]
    },
    {
     "name": "stderr",
     "output_type": "stream",
     "text": [
      "C:\\Users\\TI\\anaconda3\\Lib\\site-packages\\sklearn\\ensemble\\_bagging.py:1253: UserWarning: Some inputs do not have OOB scores. This probably means too few estimators were used to compute any reliable oob estimates.\n",
      "  warn(\n"
     ]
    },
    {
     "name": "stdout",
     "output_type": "stream",
     "text": [
      "Iteration =  69  f(x) =  0.012142640487488922\n"
     ]
    },
    {
     "name": "stderr",
     "output_type": "stream",
     "text": [
      "C:\\Users\\TI\\anaconda3\\Lib\\site-packages\\sklearn\\ensemble\\_bagging.py:1253: UserWarning: Some inputs do not have OOB scores. This probably means too few estimators were used to compute any reliable oob estimates.\n",
      "  warn(\n"
     ]
    },
    {
     "name": "stdout",
     "output_type": "stream",
     "text": [
      "Iteration =  70  f(x) =  0.012142640487488922\n"
     ]
    },
    {
     "name": "stderr",
     "output_type": "stream",
     "text": [
      "C:\\Users\\TI\\anaconda3\\Lib\\site-packages\\sklearn\\ensemble\\_bagging.py:1253: UserWarning: Some inputs do not have OOB scores. This probably means too few estimators were used to compute any reliable oob estimates.\n",
      "  warn(\n"
     ]
    },
    {
     "name": "stdout",
     "output_type": "stream",
     "text": [
      "Iteration =  71  f(x) =  0.012142640487488922\n"
     ]
    },
    {
     "name": "stderr",
     "output_type": "stream",
     "text": [
      "C:\\Users\\TI\\anaconda3\\Lib\\site-packages\\sklearn\\ensemble\\_bagging.py:1253: UserWarning: Some inputs do not have OOB scores. This probably means too few estimators were used to compute any reliable oob estimates.\n",
      "  warn(\n",
      "C:\\Users\\TI\\anaconda3\\Lib\\site-packages\\sklearn\\ensemble\\_bagging.py:1253: UserWarning: Some inputs do not have OOB scores. This probably means too few estimators were used to compute any reliable oob estimates.\n",
      "  warn(\n"
     ]
    },
    {
     "name": "stdout",
     "output_type": "stream",
     "text": [
      "Iteration =  72  f(x) =  0.012142640487488922\n"
     ]
    },
    {
     "name": "stderr",
     "output_type": "stream",
     "text": [
      "C:\\Users\\TI\\anaconda3\\Lib\\site-packages\\sklearn\\ensemble\\_bagging.py:1253: UserWarning: Some inputs do not have OOB scores. This probably means too few estimators were used to compute any reliable oob estimates.\n",
      "  warn(\n",
      "C:\\Users\\TI\\anaconda3\\Lib\\site-packages\\sklearn\\ensemble\\_bagging.py:1253: UserWarning: Some inputs do not have OOB scores. This probably means too few estimators were used to compute any reliable oob estimates.\n",
      "  warn(\n",
      "C:\\Users\\TI\\anaconda3\\Lib\\site-packages\\sklearn\\ensemble\\_bagging.py:1253: UserWarning: Some inputs do not have OOB scores. This probably means too few estimators were used to compute any reliable oob estimates.\n",
      "  warn(\n"
     ]
    },
    {
     "name": "stdout",
     "output_type": "stream",
     "text": [
      "Iteration =  73  f(x) =  0.012142640487488922\n"
     ]
    },
    {
     "name": "stderr",
     "output_type": "stream",
     "text": [
      "C:\\Users\\TI\\anaconda3\\Lib\\site-packages\\sklearn\\ensemble\\_bagging.py:1253: UserWarning: Some inputs do not have OOB scores. This probably means too few estimators were used to compute any reliable oob estimates.\n",
      "  warn(\n"
     ]
    },
    {
     "name": "stdout",
     "output_type": "stream",
     "text": [
      "Iteration =  74  f(x) =  0.012142640487488922\n"
     ]
    },
    {
     "name": "stderr",
     "output_type": "stream",
     "text": [
      "C:\\Users\\TI\\anaconda3\\Lib\\site-packages\\sklearn\\ensemble\\_bagging.py:1253: UserWarning: Some inputs do not have OOB scores. This probably means too few estimators were used to compute any reliable oob estimates.\n",
      "  warn(\n",
      "C:\\Users\\TI\\anaconda3\\Lib\\site-packages\\sklearn\\ensemble\\_bagging.py:1253: UserWarning: Some inputs do not have OOB scores. This probably means too few estimators were used to compute any reliable oob estimates.\n",
      "  warn(\n",
      "C:\\Users\\TI\\anaconda3\\Lib\\site-packages\\sklearn\\ensemble\\_bagging.py:1253: UserWarning: Some inputs do not have OOB scores. This probably means too few estimators were used to compute any reliable oob estimates.\n",
      "  warn(\n",
      "C:\\Users\\TI\\anaconda3\\Lib\\site-packages\\sklearn\\ensemble\\_bagging.py:1253: UserWarning: Some inputs do not have OOB scores. This probably means too few estimators were used to compute any reliable oob estimates.\n",
      "  warn(\n",
      "C:\\Users\\TI\\anaconda3\\Lib\\site-packages\\sklearn\\ensemble\\_bagging.py:1253: UserWarning: Some inputs do not have OOB scores. This probably means too few estimators were used to compute any reliable oob estimates.\n",
      "  warn(\n"
     ]
    },
    {
     "name": "stdout",
     "output_type": "stream",
     "text": [
      "Iteration =  75  f(x) =  0.012142640487488922\n"
     ]
    },
    {
     "name": "stderr",
     "output_type": "stream",
     "text": [
      "C:\\Users\\TI\\anaconda3\\Lib\\site-packages\\sklearn\\ensemble\\_bagging.py:1253: UserWarning: Some inputs do not have OOB scores. This probably means too few estimators were used to compute any reliable oob estimates.\n",
      "  warn(\n",
      "C:\\Users\\TI\\anaconda3\\Lib\\site-packages\\sklearn\\ensemble\\_bagging.py:1253: UserWarning: Some inputs do not have OOB scores. This probably means too few estimators were used to compute any reliable oob estimates.\n",
      "  warn(\n",
      "C:\\Users\\TI\\anaconda3\\Lib\\site-packages\\sklearn\\ensemble\\_bagging.py:1253: UserWarning: Some inputs do not have OOB scores. This probably means too few estimators were used to compute any reliable oob estimates.\n",
      "  warn(\n"
     ]
    },
    {
     "name": "stdout",
     "output_type": "stream",
     "text": [
      "Iteration =  76  f(x) =  0.012142640487488922\n",
      "Iteration =  77  f(x) =  0.012142640487488922\n"
     ]
    },
    {
     "name": "stderr",
     "output_type": "stream",
     "text": [
      "C:\\Users\\TI\\anaconda3\\Lib\\site-packages\\sklearn\\ensemble\\_bagging.py:1253: UserWarning: Some inputs do not have OOB scores. This probably means too few estimators were used to compute any reliable oob estimates.\n",
      "  warn(\n"
     ]
    },
    {
     "name": "stdout",
     "output_type": "stream",
     "text": [
      "Iteration =  78  f(x) =  0.012142640487488922\n"
     ]
    },
    {
     "name": "stderr",
     "output_type": "stream",
     "text": [
      "C:\\Users\\TI\\anaconda3\\Lib\\site-packages\\sklearn\\ensemble\\_bagging.py:1253: UserWarning: Some inputs do not have OOB scores. This probably means too few estimators were used to compute any reliable oob estimates.\n",
      "  warn(\n"
     ]
    },
    {
     "name": "stdout",
     "output_type": "stream",
     "text": [
      "Iteration =  79  f(x) =  0.012142640487488922\n"
     ]
    },
    {
     "name": "stderr",
     "output_type": "stream",
     "text": [
      "C:\\Users\\TI\\anaconda3\\Lib\\site-packages\\sklearn\\ensemble\\_bagging.py:1253: UserWarning: Some inputs do not have OOB scores. This probably means too few estimators were used to compute any reliable oob estimates.\n",
      "  warn(\n"
     ]
    },
    {
     "name": "stdout",
     "output_type": "stream",
     "text": [
      "Iteration =  80  f(x) =  0.012142640487488922\n",
      "Iteration =  81  f(x) =  0.012142640487488922\n"
     ]
    },
    {
     "name": "stderr",
     "output_type": "stream",
     "text": [
      "C:\\Users\\TI\\anaconda3\\Lib\\site-packages\\sklearn\\ensemble\\_bagging.py:1253: UserWarning: Some inputs do not have OOB scores. This probably means too few estimators were used to compute any reliable oob estimates.\n",
      "  warn(\n",
      "C:\\Users\\TI\\anaconda3\\Lib\\site-packages\\sklearn\\ensemble\\_bagging.py:1253: UserWarning: Some inputs do not have OOB scores. This probably means too few estimators were used to compute any reliable oob estimates.\n",
      "  warn(\n",
      "C:\\Users\\TI\\anaconda3\\Lib\\site-packages\\sklearn\\ensemble\\_bagging.py:1253: UserWarning: Some inputs do not have OOB scores. This probably means too few estimators were used to compute any reliable oob estimates.\n",
      "  warn(\n"
     ]
    },
    {
     "name": "stdout",
     "output_type": "stream",
     "text": [
      "Iteration =  82  f(x) =  0.012142640487488922\n"
     ]
    },
    {
     "name": "stderr",
     "output_type": "stream",
     "text": [
      "C:\\Users\\TI\\anaconda3\\Lib\\site-packages\\sklearn\\ensemble\\_bagging.py:1253: UserWarning: Some inputs do not have OOB scores. This probably means too few estimators were used to compute any reliable oob estimates.\n",
      "  warn(\n",
      "C:\\Users\\TI\\anaconda3\\Lib\\site-packages\\sklearn\\ensemble\\_bagging.py:1253: UserWarning: Some inputs do not have OOB scores. This probably means too few estimators were used to compute any reliable oob estimates.\n",
      "  warn(\n",
      "C:\\Users\\TI\\anaconda3\\Lib\\site-packages\\sklearn\\ensemble\\_bagging.py:1253: UserWarning: Some inputs do not have OOB scores. This probably means too few estimators were used to compute any reliable oob estimates.\n",
      "  warn(\n"
     ]
    },
    {
     "name": "stdout",
     "output_type": "stream",
     "text": [
      "Iteration =  83  f(x) =  0.012142640487488922\n"
     ]
    },
    {
     "name": "stderr",
     "output_type": "stream",
     "text": [
      "C:\\Users\\TI\\anaconda3\\Lib\\site-packages\\sklearn\\ensemble\\_bagging.py:1253: UserWarning: Some inputs do not have OOB scores. This probably means too few estimators were used to compute any reliable oob estimates.\n",
      "  warn(\n",
      "C:\\Users\\TI\\anaconda3\\Lib\\site-packages\\sklearn\\ensemble\\_bagging.py:1253: UserWarning: Some inputs do not have OOB scores. This probably means too few estimators were used to compute any reliable oob estimates.\n",
      "  warn(\n"
     ]
    },
    {
     "name": "stdout",
     "output_type": "stream",
     "text": [
      "Iteration =  84  f(x) =  0.012142640487488922\n",
      "Iteration =  85  f(x) =  0.012142640487488922\n"
     ]
    },
    {
     "name": "stderr",
     "output_type": "stream",
     "text": [
      "C:\\Users\\TI\\anaconda3\\Lib\\site-packages\\sklearn\\ensemble\\_bagging.py:1253: UserWarning: Some inputs do not have OOB scores. This probably means too few estimators were used to compute any reliable oob estimates.\n",
      "  warn(\n"
     ]
    },
    {
     "name": "stdout",
     "output_type": "stream",
     "text": [
      "Iteration =  86  f(x) =  0.012142640487488922\n",
      "Iteration =  87  f(x) =  0.012142640487488922\n"
     ]
    },
    {
     "name": "stderr",
     "output_type": "stream",
     "text": [
      "C:\\Users\\TI\\anaconda3\\Lib\\site-packages\\sklearn\\ensemble\\_bagging.py:1253: UserWarning: Some inputs do not have OOB scores. This probably means too few estimators were used to compute any reliable oob estimates.\n",
      "  warn(\n",
      "C:\\Users\\TI\\anaconda3\\Lib\\site-packages\\sklearn\\ensemble\\_bagging.py:1253: UserWarning: Some inputs do not have OOB scores. This probably means too few estimators were used to compute any reliable oob estimates.\n",
      "  warn(\n",
      "C:\\Users\\TI\\anaconda3\\Lib\\site-packages\\sklearn\\ensemble\\_bagging.py:1253: UserWarning: Some inputs do not have OOB scores. This probably means too few estimators were used to compute any reliable oob estimates.\n",
      "  warn(\n",
      "C:\\Users\\TI\\anaconda3\\Lib\\site-packages\\sklearn\\ensemble\\_bagging.py:1253: UserWarning: Some inputs do not have OOB scores. This probably means too few estimators were used to compute any reliable oob estimates.\n",
      "  warn(\n",
      "C:\\Users\\TI\\anaconda3\\Lib\\site-packages\\sklearn\\ensemble\\_bagging.py:1253: UserWarning: Some inputs do not have OOB scores. This probably means too few estimators were used to compute any reliable oob estimates.\n",
      "  warn(\n"
     ]
    },
    {
     "name": "stdout",
     "output_type": "stream",
     "text": [
      "Iteration =  88  f(x) =  0.012142640487488922\n"
     ]
    },
    {
     "name": "stderr",
     "output_type": "stream",
     "text": [
      "C:\\Users\\TI\\anaconda3\\Lib\\site-packages\\sklearn\\ensemble\\_bagging.py:1253: UserWarning: Some inputs do not have OOB scores. This probably means too few estimators were used to compute any reliable oob estimates.\n",
      "  warn(\n",
      "C:\\Users\\TI\\anaconda3\\Lib\\site-packages\\sklearn\\ensemble\\_bagging.py:1253: UserWarning: Some inputs do not have OOB scores. This probably means too few estimators were used to compute any reliable oob estimates.\n",
      "  warn(\n"
     ]
    },
    {
     "name": "stdout",
     "output_type": "stream",
     "text": [
      "Iteration =  89  f(x) =  0.012142640487488922\n"
     ]
    },
    {
     "name": "stderr",
     "output_type": "stream",
     "text": [
      "C:\\Users\\TI\\anaconda3\\Lib\\site-packages\\sklearn\\ensemble\\_bagging.py:1253: UserWarning: Some inputs do not have OOB scores. This probably means too few estimators were used to compute any reliable oob estimates.\n",
      "  warn(\n"
     ]
    },
    {
     "name": "stdout",
     "output_type": "stream",
     "text": [
      "Iteration =  90  f(x) =  0.012142640487488922\n"
     ]
    },
    {
     "name": "stderr",
     "output_type": "stream",
     "text": [
      "C:\\Users\\TI\\anaconda3\\Lib\\site-packages\\sklearn\\ensemble\\_bagging.py:1253: UserWarning: Some inputs do not have OOB scores. This probably means too few estimators were used to compute any reliable oob estimates.\n",
      "  warn(\n"
     ]
    },
    {
     "name": "stdout",
     "output_type": "stream",
     "text": [
      "Iteration =  91  f(x) =  0.012142640487488922\n"
     ]
    },
    {
     "name": "stderr",
     "output_type": "stream",
     "text": [
      "C:\\Users\\TI\\anaconda3\\Lib\\site-packages\\sklearn\\ensemble\\_bagging.py:1253: UserWarning: Some inputs do not have OOB scores. This probably means too few estimators were used to compute any reliable oob estimates.\n",
      "  warn(\n",
      "C:\\Users\\TI\\anaconda3\\Lib\\site-packages\\sklearn\\ensemble\\_bagging.py:1253: UserWarning: Some inputs do not have OOB scores. This probably means too few estimators were used to compute any reliable oob estimates.\n",
      "  warn(\n"
     ]
    },
    {
     "name": "stdout",
     "output_type": "stream",
     "text": [
      "Iteration =  92  f(x) =  0.012142640487488922\n"
     ]
    },
    {
     "name": "stderr",
     "output_type": "stream",
     "text": [
      "C:\\Users\\TI\\anaconda3\\Lib\\site-packages\\sklearn\\ensemble\\_bagging.py:1253: UserWarning: Some inputs do not have OOB scores. This probably means too few estimators were used to compute any reliable oob estimates.\n",
      "  warn(\n"
     ]
    },
    {
     "name": "stdout",
     "output_type": "stream",
     "text": [
      "Iteration =  93  f(x) =  0.012142640487488922\n",
      "Iteration =  94  f(x) =  0.012142640487488922\n"
     ]
    },
    {
     "name": "stderr",
     "output_type": "stream",
     "text": [
      "C:\\Users\\TI\\anaconda3\\Lib\\site-packages\\sklearn\\ensemble\\_bagging.py:1253: UserWarning: Some inputs do not have OOB scores. This probably means too few estimators were used to compute any reliable oob estimates.\n",
      "  warn(\n",
      "C:\\Users\\TI\\anaconda3\\Lib\\site-packages\\sklearn\\ensemble\\_bagging.py:1253: UserWarning: Some inputs do not have OOB scores. This probably means too few estimators were used to compute any reliable oob estimates.\n",
      "  warn(\n"
     ]
    },
    {
     "name": "stdout",
     "output_type": "stream",
     "text": [
      "Iteration =  95  f(x) =  0.012142640487488922\n"
     ]
    },
    {
     "name": "stderr",
     "output_type": "stream",
     "text": [
      "C:\\Users\\TI\\anaconda3\\Lib\\site-packages\\sklearn\\ensemble\\_bagging.py:1253: UserWarning: Some inputs do not have OOB scores. This probably means too few estimators were used to compute any reliable oob estimates.\n",
      "  warn(\n",
      "C:\\Users\\TI\\anaconda3\\Lib\\site-packages\\sklearn\\ensemble\\_bagging.py:1253: UserWarning: Some inputs do not have OOB scores. This probably means too few estimators were used to compute any reliable oob estimates.\n",
      "  warn(\n"
     ]
    },
    {
     "name": "stdout",
     "output_type": "stream",
     "text": [
      "Iteration =  96  f(x) =  0.012142640487488922\n"
     ]
    },
    {
     "name": "stderr",
     "output_type": "stream",
     "text": [
      "C:\\Users\\TI\\anaconda3\\Lib\\site-packages\\sklearn\\ensemble\\_bagging.py:1253: UserWarning: Some inputs do not have OOB scores. This probably means too few estimators were used to compute any reliable oob estimates.\n",
      "  warn(\n"
     ]
    },
    {
     "name": "stdout",
     "output_type": "stream",
     "text": [
      "Iteration =  97  f(x) =  0.012142640487488922\n"
     ]
    },
    {
     "name": "stderr",
     "output_type": "stream",
     "text": [
      "C:\\Users\\TI\\anaconda3\\Lib\\site-packages\\sklearn\\ensemble\\_bagging.py:1253: UserWarning: Some inputs do not have OOB scores. This probably means too few estimators were used to compute any reliable oob estimates.\n",
      "  warn(\n",
      "C:\\Users\\TI\\anaconda3\\Lib\\site-packages\\sklearn\\ensemble\\_bagging.py:1253: UserWarning: Some inputs do not have OOB scores. This probably means too few estimators were used to compute any reliable oob estimates.\n",
      "  warn(\n"
     ]
    },
    {
     "name": "stdout",
     "output_type": "stream",
     "text": [
      "Iteration =  98  f(x) =  0.012142640487488922\n"
     ]
    },
    {
     "name": "stderr",
     "output_type": "stream",
     "text": [
      "C:\\Users\\TI\\anaconda3\\Lib\\site-packages\\sklearn\\ensemble\\_bagging.py:1253: UserWarning: Some inputs do not have OOB scores. This probably means too few estimators were used to compute any reliable oob estimates.\n",
      "  warn(\n"
     ]
    },
    {
     "name": "stdout",
     "output_type": "stream",
     "text": [
      "Iteration =  99  f(x) =  0.012142640487488922\n"
     ]
    },
    {
     "name": "stderr",
     "output_type": "stream",
     "text": [
      "C:\\Users\\TI\\anaconda3\\Lib\\site-packages\\sklearn\\ensemble\\_bagging.py:1253: UserWarning: Some inputs do not have OOB scores. This probably means too few estimators were used to compute any reliable oob estimates.\n",
      "  warn(\n"
     ]
    },
    {
     "name": "stdout",
     "output_type": "stream",
     "text": [
      "Iteration =  100  f(x) =  0.012142640487488922\n",
      "Iteration =  101  f(x) =  0.012142640487488922\n"
     ]
    },
    {
     "name": "stderr",
     "output_type": "stream",
     "text": [
      "C:\\Users\\TI\\anaconda3\\Lib\\site-packages\\sklearn\\ensemble\\_bagging.py:1253: UserWarning: Some inputs do not have OOB scores. This probably means too few estimators were used to compute any reliable oob estimates.\n",
      "  warn(\n"
     ]
    },
    {
     "name": "stdout",
     "output_type": "stream",
     "text": [
      "Iteration =  102  f(x) =  0.012142640487488922\n"
     ]
    },
    {
     "name": "stderr",
     "output_type": "stream",
     "text": [
      "C:\\Users\\TI\\anaconda3\\Lib\\site-packages\\sklearn\\ensemble\\_bagging.py:1253: UserWarning: Some inputs do not have OOB scores. This probably means too few estimators were used to compute any reliable oob estimates.\n",
      "  warn(\n",
      "C:\\Users\\TI\\anaconda3\\Lib\\site-packages\\sklearn\\ensemble\\_bagging.py:1253: UserWarning: Some inputs do not have OOB scores. This probably means too few estimators were used to compute any reliable oob estimates.\n",
      "  warn(\n"
     ]
    },
    {
     "name": "stdout",
     "output_type": "stream",
     "text": [
      "Iteration =  103  f(x) =  0.012142640487488922\n",
      "Iteration =  104  f(x) =  0.012142640487488922\n",
      "Iteration =  105  f(x) =  0.012142640487488922\n"
     ]
    },
    {
     "name": "stderr",
     "output_type": "stream",
     "text": [
      "C:\\Users\\TI\\anaconda3\\Lib\\site-packages\\sklearn\\ensemble\\_bagging.py:1253: UserWarning: Some inputs do not have OOB scores. This probably means too few estimators were used to compute any reliable oob estimates.\n",
      "  warn(\n",
      "C:\\Users\\TI\\anaconda3\\Lib\\site-packages\\sklearn\\ensemble\\_bagging.py:1253: UserWarning: Some inputs do not have OOB scores. This probably means too few estimators were used to compute any reliable oob estimates.\n",
      "  warn(\n",
      "C:\\Users\\TI\\anaconda3\\Lib\\site-packages\\sklearn\\ensemble\\_bagging.py:1253: UserWarning: Some inputs do not have OOB scores. This probably means too few estimators were used to compute any reliable oob estimates.\n",
      "  warn(\n"
     ]
    },
    {
     "name": "stdout",
     "output_type": "stream",
     "text": [
      "Iteration =  106  f(x) =  0.012142640487488922\n"
     ]
    },
    {
     "name": "stderr",
     "output_type": "stream",
     "text": [
      "C:\\Users\\TI\\anaconda3\\Lib\\site-packages\\sklearn\\ensemble\\_bagging.py:1253: UserWarning: Some inputs do not have OOB scores. This probably means too few estimators were used to compute any reliable oob estimates.\n",
      "  warn(\n"
     ]
    },
    {
     "name": "stdout",
     "output_type": "stream",
     "text": [
      "Iteration =  107  f(x) =  0.012142640487488922\n",
      "Iteration =  108  f(x) =  0.012142640487488922\n"
     ]
    },
    {
     "name": "stderr",
     "output_type": "stream",
     "text": [
      "C:\\Users\\TI\\anaconda3\\Lib\\site-packages\\sklearn\\ensemble\\_bagging.py:1253: UserWarning: Some inputs do not have OOB scores. This probably means too few estimators were used to compute any reliable oob estimates.\n",
      "  warn(\n"
     ]
    },
    {
     "name": "stdout",
     "output_type": "stream",
     "text": [
      "Iteration =  109  f(x) =  0.012142640487488922\n"
     ]
    },
    {
     "name": "stderr",
     "output_type": "stream",
     "text": [
      "C:\\Users\\TI\\anaconda3\\Lib\\site-packages\\sklearn\\ensemble\\_bagging.py:1253: UserWarning: Some inputs do not have OOB scores. This probably means too few estimators were used to compute any reliable oob estimates.\n",
      "  warn(\n"
     ]
    },
    {
     "name": "stdout",
     "output_type": "stream",
     "text": [
      "Iteration =  110  f(x) =  0.012142640487488922\n"
     ]
    },
    {
     "name": "stderr",
     "output_type": "stream",
     "text": [
      "C:\\Users\\TI\\anaconda3\\Lib\\site-packages\\sklearn\\ensemble\\_bagging.py:1253: UserWarning: Some inputs do not have OOB scores. This probably means too few estimators were used to compute any reliable oob estimates.\n",
      "  warn(\n"
     ]
    },
    {
     "name": "stdout",
     "output_type": "stream",
     "text": [
      "Iteration =  111  f(x) =  0.012142640487488922\n"
     ]
    },
    {
     "name": "stderr",
     "output_type": "stream",
     "text": [
      "C:\\Users\\TI\\anaconda3\\Lib\\site-packages\\sklearn\\ensemble\\_bagging.py:1253: UserWarning: Some inputs do not have OOB scores. This probably means too few estimators were used to compute any reliable oob estimates.\n",
      "  warn(\n"
     ]
    },
    {
     "name": "stdout",
     "output_type": "stream",
     "text": [
      "Iteration =  112  f(x) =  0.012142640487488922\n",
      "Iteration =  113  f(x) =  0.012142640487488922\n"
     ]
    },
    {
     "name": "stderr",
     "output_type": "stream",
     "text": [
      "C:\\Users\\TI\\anaconda3\\Lib\\site-packages\\sklearn\\ensemble\\_bagging.py:1253: UserWarning: Some inputs do not have OOB scores. This probably means too few estimators were used to compute any reliable oob estimates.\n",
      "  warn(\n"
     ]
    },
    {
     "name": "stdout",
     "output_type": "stream",
     "text": [
      "Iteration =  114  f(x) =  0.012142640487488922\n"
     ]
    },
    {
     "name": "stderr",
     "output_type": "stream",
     "text": [
      "C:\\Users\\TI\\anaconda3\\Lib\\site-packages\\sklearn\\ensemble\\_bagging.py:1253: UserWarning: Some inputs do not have OOB scores. This probably means too few estimators were used to compute any reliable oob estimates.\n",
      "  warn(\n"
     ]
    },
    {
     "name": "stdout",
     "output_type": "stream",
     "text": [
      "Iteration =  115  f(x) =  0.012142640487488922\n"
     ]
    },
    {
     "name": "stderr",
     "output_type": "stream",
     "text": [
      "C:\\Users\\TI\\anaconda3\\Lib\\site-packages\\sklearn\\ensemble\\_bagging.py:1253: UserWarning: Some inputs do not have OOB scores. This probably means too few estimators were used to compute any reliable oob estimates.\n",
      "  warn(\n",
      "C:\\Users\\TI\\anaconda3\\Lib\\site-packages\\sklearn\\ensemble\\_bagging.py:1253: UserWarning: Some inputs do not have OOB scores. This probably means too few estimators were used to compute any reliable oob estimates.\n",
      "  warn(\n"
     ]
    },
    {
     "name": "stdout",
     "output_type": "stream",
     "text": [
      "Iteration =  116  f(x) =  0.012142640487488922\n"
     ]
    },
    {
     "name": "stderr",
     "output_type": "stream",
     "text": [
      "C:\\Users\\TI\\anaconda3\\Lib\\site-packages\\sklearn\\ensemble\\_bagging.py:1253: UserWarning: Some inputs do not have OOB scores. This probably means too few estimators were used to compute any reliable oob estimates.\n",
      "  warn(\n"
     ]
    },
    {
     "name": "stdout",
     "output_type": "stream",
     "text": [
      "Iteration =  117  f(x) =  0.012142640487488922\n"
     ]
    },
    {
     "name": "stderr",
     "output_type": "stream",
     "text": [
      "C:\\Users\\TI\\anaconda3\\Lib\\site-packages\\sklearn\\ensemble\\_bagging.py:1253: UserWarning: Some inputs do not have OOB scores. This probably means too few estimators were used to compute any reliable oob estimates.\n",
      "  warn(\n"
     ]
    },
    {
     "name": "stdout",
     "output_type": "stream",
     "text": [
      "Iteration =  118  f(x) =  0.012142640487488922\n",
      "Iteration =  119  f(x) =  0.012142640487488922\n"
     ]
    },
    {
     "name": "stderr",
     "output_type": "stream",
     "text": [
      "C:\\Users\\TI\\anaconda3\\Lib\\site-packages\\sklearn\\ensemble\\_bagging.py:1253: UserWarning: Some inputs do not have OOB scores. This probably means too few estimators were used to compute any reliable oob estimates.\n",
      "  warn(\n"
     ]
    },
    {
     "name": "stdout",
     "output_type": "stream",
     "text": [
      "Iteration =  120  f(x) =  0.012142640487488922\n"
     ]
    },
    {
     "name": "stderr",
     "output_type": "stream",
     "text": [
      "C:\\Users\\TI\\anaconda3\\Lib\\site-packages\\sklearn\\ensemble\\_bagging.py:1253: UserWarning: Some inputs do not have OOB scores. This probably means too few estimators were used to compute any reliable oob estimates.\n",
      "  warn(\n",
      "C:\\Users\\TI\\anaconda3\\Lib\\site-packages\\sklearn\\ensemble\\_bagging.py:1253: UserWarning: Some inputs do not have OOB scores. This probably means too few estimators were used to compute any reliable oob estimates.\n",
      "  warn(\n"
     ]
    },
    {
     "name": "stdout",
     "output_type": "stream",
     "text": [
      "Iteration =  121  f(x) =  0.012142640487488922\n",
      "Iteration =  122  f(x) =  0.012142640487488922\n",
      "Iteration =  123  f(x) =  0.012142640487488922\n",
      "Iteration =  124  f(x) =  0.012142640487488922\n"
     ]
    },
    {
     "name": "stderr",
     "output_type": "stream",
     "text": [
      "C:\\Users\\TI\\anaconda3\\Lib\\site-packages\\sklearn\\ensemble\\_bagging.py:1253: UserWarning: Some inputs do not have OOB scores. This probably means too few estimators were used to compute any reliable oob estimates.\n",
      "  warn(\n"
     ]
    },
    {
     "name": "stdout",
     "output_type": "stream",
     "text": [
      "Iteration =  125  f(x) =  0.012142640487488922\n"
     ]
    },
    {
     "name": "stderr",
     "output_type": "stream",
     "text": [
      "C:\\Users\\TI\\anaconda3\\Lib\\site-packages\\sklearn\\ensemble\\_bagging.py:1253: UserWarning: Some inputs do not have OOB scores. This probably means too few estimators were used to compute any reliable oob estimates.\n",
      "  warn(\n",
      "C:\\Users\\TI\\anaconda3\\Lib\\site-packages\\sklearn\\ensemble\\_bagging.py:1253: UserWarning: Some inputs do not have OOB scores. This probably means too few estimators were used to compute any reliable oob estimates.\n",
      "  warn(\n"
     ]
    },
    {
     "name": "stdout",
     "output_type": "stream",
     "text": [
      "Iteration =  126  f(x) =  0.012142640487488922\n",
      "Iteration =  127  f(x) =  0.012142640487488922\n"
     ]
    },
    {
     "name": "stderr",
     "output_type": "stream",
     "text": [
      "C:\\Users\\TI\\anaconda3\\Lib\\site-packages\\sklearn\\ensemble\\_bagging.py:1253: UserWarning: Some inputs do not have OOB scores. This probably means too few estimators were used to compute any reliable oob estimates.\n",
      "  warn(\n",
      "C:\\Users\\TI\\anaconda3\\Lib\\site-packages\\sklearn\\ensemble\\_bagging.py:1253: UserWarning: Some inputs do not have OOB scores. This probably means too few estimators were used to compute any reliable oob estimates.\n",
      "  warn(\n"
     ]
    },
    {
     "name": "stdout",
     "output_type": "stream",
     "text": [
      "Iteration =  128  f(x) =  0.012142640487488922\n"
     ]
    },
    {
     "name": "stderr",
     "output_type": "stream",
     "text": [
      "C:\\Users\\TI\\anaconda3\\Lib\\site-packages\\sklearn\\ensemble\\_bagging.py:1253: UserWarning: Some inputs do not have OOB scores. This probably means too few estimators were used to compute any reliable oob estimates.\n",
      "  warn(\n"
     ]
    },
    {
     "name": "stdout",
     "output_type": "stream",
     "text": [
      "Iteration =  129  f(x) =  0.012142640487488922\n"
     ]
    },
    {
     "name": "stderr",
     "output_type": "stream",
     "text": [
      "C:\\Users\\TI\\anaconda3\\Lib\\site-packages\\sklearn\\ensemble\\_bagging.py:1253: UserWarning: Some inputs do not have OOB scores. This probably means too few estimators were used to compute any reliable oob estimates.\n",
      "  warn(\n",
      "C:\\Users\\TI\\anaconda3\\Lib\\site-packages\\sklearn\\ensemble\\_bagging.py:1253: UserWarning: Some inputs do not have OOB scores. This probably means too few estimators were used to compute any reliable oob estimates.\n",
      "  warn(\n"
     ]
    },
    {
     "name": "stdout",
     "output_type": "stream",
     "text": [
      "Iteration =  130  f(x) =  0.012142640487488922\n"
     ]
    },
    {
     "name": "stderr",
     "output_type": "stream",
     "text": [
      "C:\\Users\\TI\\anaconda3\\Lib\\site-packages\\sklearn\\ensemble\\_bagging.py:1253: UserWarning: Some inputs do not have OOB scores. This probably means too few estimators were used to compute any reliable oob estimates.\n",
      "  warn(\n"
     ]
    },
    {
     "name": "stdout",
     "output_type": "stream",
     "text": [
      "Iteration =  131  f(x) =  0.012142640487488922\n",
      "Iteration =  132  f(x) =  0.012142640487488922\n"
     ]
    },
    {
     "name": "stderr",
     "output_type": "stream",
     "text": [
      "C:\\Users\\TI\\anaconda3\\Lib\\site-packages\\sklearn\\ensemble\\_bagging.py:1253: UserWarning: Some inputs do not have OOB scores. This probably means too few estimators were used to compute any reliable oob estimates.\n",
      "  warn(\n"
     ]
    },
    {
     "name": "stdout",
     "output_type": "stream",
     "text": [
      "Iteration =  133  f(x) =  0.012142640487488922\n"
     ]
    },
    {
     "name": "stderr",
     "output_type": "stream",
     "text": [
      "C:\\Users\\TI\\anaconda3\\Lib\\site-packages\\sklearn\\ensemble\\_bagging.py:1253: UserWarning: Some inputs do not have OOB scores. This probably means too few estimators were used to compute any reliable oob estimates.\n",
      "  warn(\n",
      "C:\\Users\\TI\\anaconda3\\Lib\\site-packages\\sklearn\\ensemble\\_bagging.py:1253: UserWarning: Some inputs do not have OOB scores. This probably means too few estimators were used to compute any reliable oob estimates.\n",
      "  warn(\n"
     ]
    },
    {
     "name": "stdout",
     "output_type": "stream",
     "text": [
      "Iteration =  134  f(x) =  0.012142640487488922\n"
     ]
    },
    {
     "name": "stderr",
     "output_type": "stream",
     "text": [
      "C:\\Users\\TI\\anaconda3\\Lib\\site-packages\\sklearn\\ensemble\\_bagging.py:1253: UserWarning: Some inputs do not have OOB scores. This probably means too few estimators were used to compute any reliable oob estimates.\n",
      "  warn(\n"
     ]
    },
    {
     "name": "stdout",
     "output_type": "stream",
     "text": [
      "Iteration =  135  f(x) =  0.012142640487488922\n",
      "Iteration =  136  f(x) =  0.012142640487488922\n",
      "Iteration =  137  f(x) =  0.012142640487488922\n"
     ]
    },
    {
     "name": "stderr",
     "output_type": "stream",
     "text": [
      "C:\\Users\\TI\\anaconda3\\Lib\\site-packages\\sklearn\\ensemble\\_bagging.py:1253: UserWarning: Some inputs do not have OOB scores. This probably means too few estimators were used to compute any reliable oob estimates.\n",
      "  warn(\n",
      "C:\\Users\\TI\\anaconda3\\Lib\\site-packages\\sklearn\\ensemble\\_bagging.py:1253: UserWarning: Some inputs do not have OOB scores. This probably means too few estimators were used to compute any reliable oob estimates.\n",
      "  warn(\n"
     ]
    },
    {
     "name": "stdout",
     "output_type": "stream",
     "text": [
      "Iteration =  138  f(x) =  0.012142640487488922\n"
     ]
    },
    {
     "name": "stderr",
     "output_type": "stream",
     "text": [
      "C:\\Users\\TI\\anaconda3\\Lib\\site-packages\\sklearn\\ensemble\\_bagging.py:1253: UserWarning: Some inputs do not have OOB scores. This probably means too few estimators were used to compute any reliable oob estimates.\n",
      "  warn(\n",
      "C:\\Users\\TI\\anaconda3\\Lib\\site-packages\\sklearn\\ensemble\\_bagging.py:1253: UserWarning: Some inputs do not have OOB scores. This probably means too few estimators were used to compute any reliable oob estimates.\n",
      "  warn(\n"
     ]
    },
    {
     "name": "stdout",
     "output_type": "stream",
     "text": [
      "Iteration =  139  f(x) =  0.012142640487488922\n"
     ]
    },
    {
     "name": "stderr",
     "output_type": "stream",
     "text": [
      "C:\\Users\\TI\\anaconda3\\Lib\\site-packages\\sklearn\\ensemble\\_bagging.py:1253: UserWarning: Some inputs do not have OOB scores. This probably means too few estimators were used to compute any reliable oob estimates.\n",
      "  warn(\n"
     ]
    },
    {
     "name": "stdout",
     "output_type": "stream",
     "text": [
      "Iteration =  140  f(x) =  0.012142640487488922\n",
      "Iteration =  141  f(x) =  0.012142640487488922\n"
     ]
    },
    {
     "name": "stderr",
     "output_type": "stream",
     "text": [
      "C:\\Users\\TI\\anaconda3\\Lib\\site-packages\\sklearn\\ensemble\\_bagging.py:1253: UserWarning: Some inputs do not have OOB scores. This probably means too few estimators were used to compute any reliable oob estimates.\n",
      "  warn(\n",
      "C:\\Users\\TI\\anaconda3\\Lib\\site-packages\\sklearn\\ensemble\\_bagging.py:1253: UserWarning: Some inputs do not have OOB scores. This probably means too few estimators were used to compute any reliable oob estimates.\n",
      "  warn(\n"
     ]
    },
    {
     "name": "stdout",
     "output_type": "stream",
     "text": [
      "Iteration =  142  f(x) =  0.012142640487488922\n"
     ]
    },
    {
     "name": "stderr",
     "output_type": "stream",
     "text": [
      "C:\\Users\\TI\\anaconda3\\Lib\\site-packages\\sklearn\\ensemble\\_bagging.py:1253: UserWarning: Some inputs do not have OOB scores. This probably means too few estimators were used to compute any reliable oob estimates.\n",
      "  warn(\n"
     ]
    },
    {
     "name": "stdout",
     "output_type": "stream",
     "text": [
      "Iteration =  143  f(x) =  0.012142640487488922\n"
     ]
    },
    {
     "name": "stderr",
     "output_type": "stream",
     "text": [
      "C:\\Users\\TI\\anaconda3\\Lib\\site-packages\\sklearn\\ensemble\\_bagging.py:1253: UserWarning: Some inputs do not have OOB scores. This probably means too few estimators were used to compute any reliable oob estimates.\n",
      "  warn(\n"
     ]
    },
    {
     "name": "stdout",
     "output_type": "stream",
     "text": [
      "Iteration =  144  f(x) =  0.012142640487488922\n",
      "Iteration =  145  f(x) =  0.012142640487488922\n"
     ]
    },
    {
     "name": "stderr",
     "output_type": "stream",
     "text": [
      "C:\\Users\\TI\\anaconda3\\Lib\\site-packages\\sklearn\\ensemble\\_bagging.py:1253: UserWarning: Some inputs do not have OOB scores. This probably means too few estimators were used to compute any reliable oob estimates.\n",
      "  warn(\n"
     ]
    },
    {
     "name": "stdout",
     "output_type": "stream",
     "text": [
      "Iteration =  146  f(x) =  0.012142640487488922\n"
     ]
    },
    {
     "name": "stderr",
     "output_type": "stream",
     "text": [
      "C:\\Users\\TI\\anaconda3\\Lib\\site-packages\\sklearn\\ensemble\\_bagging.py:1253: UserWarning: Some inputs do not have OOB scores. This probably means too few estimators were used to compute any reliable oob estimates.\n",
      "  warn(\n",
      "C:\\Users\\TI\\anaconda3\\Lib\\site-packages\\sklearn\\ensemble\\_bagging.py:1253: UserWarning: Some inputs do not have OOB scores. This probably means too few estimators were used to compute any reliable oob estimates.\n",
      "  warn(\n"
     ]
    },
    {
     "name": "stdout",
     "output_type": "stream",
     "text": [
      "Iteration =  147  f(x) =  0.012142640487488922\n",
      "Iteration =  148  f(x) =  0.012142640487488922\n",
      "Iteration =  149  f(x) =  0.012142640487488922\n"
     ]
    },
    {
     "name": "stderr",
     "output_type": "stream",
     "text": [
      "C:\\Users\\TI\\anaconda3\\Lib\\site-packages\\sklearn\\ensemble\\_bagging.py:1253: UserWarning: Some inputs do not have OOB scores. This probably means too few estimators were used to compute any reliable oob estimates.\n",
      "  warn(\n"
     ]
    },
    {
     "name": "stdout",
     "output_type": "stream",
     "text": [
      "Iteration =  150  f(x) =  0.012142640487488922\n",
      "Iteration =  151  f(x) =  0.012142640487488922\n",
      "Iteration =  152  f(x) =  0.012142640487488922\n",
      "Iteration =  153  f(x) =  0.012142640487488922\n"
     ]
    },
    {
     "name": "stderr",
     "output_type": "stream",
     "text": [
      "C:\\Users\\TI\\anaconda3\\Lib\\site-packages\\sklearn\\ensemble\\_bagging.py:1253: UserWarning: Some inputs do not have OOB scores. This probably means too few estimators were used to compute any reliable oob estimates.\n",
      "  warn(\n",
      "C:\\Users\\TI\\anaconda3\\Lib\\site-packages\\sklearn\\ensemble\\_bagging.py:1253: UserWarning: Some inputs do not have OOB scores. This probably means too few estimators were used to compute any reliable oob estimates.\n",
      "  warn(\n"
     ]
    },
    {
     "name": "stdout",
     "output_type": "stream",
     "text": [
      "Iteration =  154  f(x) =  0.012142640487488922\n",
      "Iteration =  155  f(x) =  0.012142640487488922\n"
     ]
    },
    {
     "name": "stderr",
     "output_type": "stream",
     "text": [
      "C:\\Users\\TI\\anaconda3\\Lib\\site-packages\\sklearn\\ensemble\\_bagging.py:1253: UserWarning: Some inputs do not have OOB scores. This probably means too few estimators were used to compute any reliable oob estimates.\n",
      "  warn(\n",
      "C:\\Users\\TI\\anaconda3\\Lib\\site-packages\\sklearn\\ensemble\\_bagging.py:1253: UserWarning: Some inputs do not have OOB scores. This probably means too few estimators were used to compute any reliable oob estimates.\n",
      "  warn(\n",
      "C:\\Users\\TI\\anaconda3\\Lib\\site-packages\\sklearn\\ensemble\\_bagging.py:1253: UserWarning: Some inputs do not have OOB scores. This probably means too few estimators were used to compute any reliable oob estimates.\n",
      "  warn(\n"
     ]
    },
    {
     "name": "stdout",
     "output_type": "stream",
     "text": [
      "Iteration =  156  f(x) =  0.012142640487488922\n"
     ]
    },
    {
     "name": "stderr",
     "output_type": "stream",
     "text": [
      "C:\\Users\\TI\\anaconda3\\Lib\\site-packages\\sklearn\\ensemble\\_bagging.py:1253: UserWarning: Some inputs do not have OOB scores. This probably means too few estimators were used to compute any reliable oob estimates.\n",
      "  warn(\n"
     ]
    },
    {
     "name": "stdout",
     "output_type": "stream",
     "text": [
      "Iteration =  157  f(x) =  0.012142640487488922\n"
     ]
    },
    {
     "name": "stderr",
     "output_type": "stream",
     "text": [
      "C:\\Users\\TI\\anaconda3\\Lib\\site-packages\\sklearn\\ensemble\\_bagging.py:1253: UserWarning: Some inputs do not have OOB scores. This probably means too few estimators were used to compute any reliable oob estimates.\n",
      "  warn(\n"
     ]
    },
    {
     "name": "stdout",
     "output_type": "stream",
     "text": [
      "Iteration =  158  f(x) =  0.012142640487488922\n"
     ]
    },
    {
     "name": "stderr",
     "output_type": "stream",
     "text": [
      "C:\\Users\\TI\\anaconda3\\Lib\\site-packages\\sklearn\\ensemble\\_bagging.py:1253: UserWarning: Some inputs do not have OOB scores. This probably means too few estimators were used to compute any reliable oob estimates.\n",
      "  warn(\n"
     ]
    },
    {
     "name": "stdout",
     "output_type": "stream",
     "text": [
      "Iteration =  159  f(x) =  0.012142640487488922\n",
      "Iteration =  160  f(x) =  0.012142640487488922\n"
     ]
    },
    {
     "name": "stderr",
     "output_type": "stream",
     "text": [
      "C:\\Users\\TI\\anaconda3\\Lib\\site-packages\\sklearn\\ensemble\\_bagging.py:1253: UserWarning: Some inputs do not have OOB scores. This probably means too few estimators were used to compute any reliable oob estimates.\n",
      "  warn(\n"
     ]
    },
    {
     "name": "stdout",
     "output_type": "stream",
     "text": [
      "Iteration =  161  f(x) =  0.012142640487488922\n",
      "Iteration =  162  f(x) =  0.012142640487488922\n",
      "Iteration =  163  f(x) =  0.012142640487488922\n"
     ]
    },
    {
     "name": "stderr",
     "output_type": "stream",
     "text": [
      "C:\\Users\\TI\\anaconda3\\Lib\\site-packages\\sklearn\\ensemble\\_bagging.py:1253: UserWarning: Some inputs do not have OOB scores. This probably means too few estimators were used to compute any reliable oob estimates.\n",
      "  warn(\n"
     ]
    },
    {
     "name": "stdout",
     "output_type": "stream",
     "text": [
      "Iteration =  164  f(x) =  0.012142640487488922\n"
     ]
    },
    {
     "name": "stderr",
     "output_type": "stream",
     "text": [
      "C:\\Users\\TI\\anaconda3\\Lib\\site-packages\\sklearn\\ensemble\\_bagging.py:1253: UserWarning: Some inputs do not have OOB scores. This probably means too few estimators were used to compute any reliable oob estimates.\n",
      "  warn(\n"
     ]
    },
    {
     "name": "stdout",
     "output_type": "stream",
     "text": [
      "Iteration =  165  f(x) =  0.012142640487488922\n"
     ]
    },
    {
     "name": "stderr",
     "output_type": "stream",
     "text": [
      "C:\\Users\\TI\\anaconda3\\Lib\\site-packages\\sklearn\\ensemble\\_bagging.py:1253: UserWarning: Some inputs do not have OOB scores. This probably means too few estimators were used to compute any reliable oob estimates.\n",
      "  warn(\n"
     ]
    },
    {
     "name": "stdout",
     "output_type": "stream",
     "text": [
      "Iteration =  166  f(x) =  0.012142640487488922\n"
     ]
    },
    {
     "name": "stderr",
     "output_type": "stream",
     "text": [
      "C:\\Users\\TI\\anaconda3\\Lib\\site-packages\\sklearn\\ensemble\\_bagging.py:1253: UserWarning: Some inputs do not have OOB scores. This probably means too few estimators were used to compute any reliable oob estimates.\n",
      "  warn(\n"
     ]
    },
    {
     "name": "stdout",
     "output_type": "stream",
     "text": [
      "Iteration =  167  f(x) =  0.012142640487488922\n"
     ]
    },
    {
     "name": "stderr",
     "output_type": "stream",
     "text": [
      "C:\\Users\\TI\\anaconda3\\Lib\\site-packages\\sklearn\\ensemble\\_bagging.py:1253: UserWarning: Some inputs do not have OOB scores. This probably means too few estimators were used to compute any reliable oob estimates.\n",
      "  warn(\n"
     ]
    },
    {
     "name": "stdout",
     "output_type": "stream",
     "text": [
      "Iteration =  168  f(x) =  0.012142640487488922\n"
     ]
    },
    {
     "name": "stderr",
     "output_type": "stream",
     "text": [
      "C:\\Users\\TI\\anaconda3\\Lib\\site-packages\\sklearn\\ensemble\\_bagging.py:1253: UserWarning: Some inputs do not have OOB scores. This probably means too few estimators were used to compute any reliable oob estimates.\n",
      "  warn(\n",
      "C:\\Users\\TI\\anaconda3\\Lib\\site-packages\\sklearn\\ensemble\\_bagging.py:1253: UserWarning: Some inputs do not have OOB scores. This probably means too few estimators were used to compute any reliable oob estimates.\n",
      "  warn(\n",
      "C:\\Users\\TI\\anaconda3\\Lib\\site-packages\\sklearn\\ensemble\\_bagging.py:1253: UserWarning: Some inputs do not have OOB scores. This probably means too few estimators were used to compute any reliable oob estimates.\n",
      "  warn(\n",
      "C:\\Users\\TI\\anaconda3\\Lib\\site-packages\\sklearn\\ensemble\\_bagging.py:1253: UserWarning: Some inputs do not have OOB scores. This probably means too few estimators were used to compute any reliable oob estimates.\n",
      "  warn(\n",
      "C:\\Users\\TI\\anaconda3\\Lib\\site-packages\\sklearn\\ensemble\\_bagging.py:1253: UserWarning: Some inputs do not have OOB scores. This probably means too few estimators were used to compute any reliable oob estimates.\n",
      "  warn(\n"
     ]
    },
    {
     "name": "stdout",
     "output_type": "stream",
     "text": [
      "Iteration =  169  f(x) =  0.012142640487488922\n"
     ]
    },
    {
     "name": "stderr",
     "output_type": "stream",
     "text": [
      "C:\\Users\\TI\\anaconda3\\Lib\\site-packages\\sklearn\\ensemble\\_bagging.py:1253: UserWarning: Some inputs do not have OOB scores. This probably means too few estimators were used to compute any reliable oob estimates.\n",
      "  warn(\n",
      "C:\\Users\\TI\\anaconda3\\Lib\\site-packages\\sklearn\\ensemble\\_bagging.py:1253: UserWarning: Some inputs do not have OOB scores. This probably means too few estimators were used to compute any reliable oob estimates.\n",
      "  warn(\n",
      "C:\\Users\\TI\\anaconda3\\Lib\\site-packages\\sklearn\\ensemble\\_bagging.py:1253: UserWarning: Some inputs do not have OOB scores. This probably means too few estimators were used to compute any reliable oob estimates.\n",
      "  warn(\n"
     ]
    },
    {
     "name": "stdout",
     "output_type": "stream",
     "text": [
      "Iteration =  170  f(x) =  0.012142640487488922\n"
     ]
    },
    {
     "name": "stderr",
     "output_type": "stream",
     "text": [
      "C:\\Users\\TI\\anaconda3\\Lib\\site-packages\\sklearn\\ensemble\\_bagging.py:1253: UserWarning: Some inputs do not have OOB scores. This probably means too few estimators were used to compute any reliable oob estimates.\n",
      "  warn(\n",
      "C:\\Users\\TI\\anaconda3\\Lib\\site-packages\\sklearn\\ensemble\\_bagging.py:1253: UserWarning: Some inputs do not have OOB scores. This probably means too few estimators were used to compute any reliable oob estimates.\n",
      "  warn(\n",
      "C:\\Users\\TI\\anaconda3\\Lib\\site-packages\\sklearn\\ensemble\\_bagging.py:1253: UserWarning: Some inputs do not have OOB scores. This probably means too few estimators were used to compute any reliable oob estimates.\n",
      "  warn(\n"
     ]
    },
    {
     "name": "stdout",
     "output_type": "stream",
     "text": [
      "Iteration =  171  f(x) =  0.012142640487488922\n"
     ]
    },
    {
     "name": "stderr",
     "output_type": "stream",
     "text": [
      "C:\\Users\\TI\\anaconda3\\Lib\\site-packages\\sklearn\\ensemble\\_bagging.py:1253: UserWarning: Some inputs do not have OOB scores. This probably means too few estimators were used to compute any reliable oob estimates.\n",
      "  warn(\n"
     ]
    },
    {
     "name": "stdout",
     "output_type": "stream",
     "text": [
      "Iteration =  172  f(x) =  0.012142640487488922\n"
     ]
    },
    {
     "name": "stderr",
     "output_type": "stream",
     "text": [
      "C:\\Users\\TI\\anaconda3\\Lib\\site-packages\\sklearn\\ensemble\\_bagging.py:1253: UserWarning: Some inputs do not have OOB scores. This probably means too few estimators were used to compute any reliable oob estimates.\n",
      "  warn(\n",
      "C:\\Users\\TI\\anaconda3\\Lib\\site-packages\\sklearn\\ensemble\\_bagging.py:1253: UserWarning: Some inputs do not have OOB scores. This probably means too few estimators were used to compute any reliable oob estimates.\n",
      "  warn(\n"
     ]
    },
    {
     "name": "stdout",
     "output_type": "stream",
     "text": [
      "Iteration =  173  f(x) =  0.012142640487488922\n"
     ]
    },
    {
     "name": "stderr",
     "output_type": "stream",
     "text": [
      "C:\\Users\\TI\\anaconda3\\Lib\\site-packages\\sklearn\\ensemble\\_bagging.py:1253: UserWarning: Some inputs do not have OOB scores. This probably means too few estimators were used to compute any reliable oob estimates.\n",
      "  warn(\n"
     ]
    },
    {
     "name": "stdout",
     "output_type": "stream",
     "text": [
      "Iteration =  174  f(x) =  0.012142640487488922\n"
     ]
    },
    {
     "name": "stderr",
     "output_type": "stream",
     "text": [
      "C:\\Users\\TI\\anaconda3\\Lib\\site-packages\\sklearn\\ensemble\\_bagging.py:1253: UserWarning: Some inputs do not have OOB scores. This probably means too few estimators were used to compute any reliable oob estimates.\n",
      "  warn(\n",
      "C:\\Users\\TI\\anaconda3\\Lib\\site-packages\\sklearn\\ensemble\\_bagging.py:1253: UserWarning: Some inputs do not have OOB scores. This probably means too few estimators were used to compute any reliable oob estimates.\n",
      "  warn(\n"
     ]
    },
    {
     "name": "stdout",
     "output_type": "stream",
     "text": [
      "Iteration =  175  f(x) =  0.012142640487488922\n"
     ]
    },
    {
     "name": "stderr",
     "output_type": "stream",
     "text": [
      "C:\\Users\\TI\\anaconda3\\Lib\\site-packages\\sklearn\\ensemble\\_bagging.py:1253: UserWarning: Some inputs do not have OOB scores. This probably means too few estimators were used to compute any reliable oob estimates.\n",
      "  warn(\n",
      "C:\\Users\\TI\\anaconda3\\Lib\\site-packages\\sklearn\\ensemble\\_bagging.py:1253: UserWarning: Some inputs do not have OOB scores. This probably means too few estimators were used to compute any reliable oob estimates.\n",
      "  warn(\n"
     ]
    },
    {
     "name": "stdout",
     "output_type": "stream",
     "text": [
      "Iteration =  176  f(x) =  0.012142640487488922\n"
     ]
    },
    {
     "name": "stderr",
     "output_type": "stream",
     "text": [
      "C:\\Users\\TI\\anaconda3\\Lib\\site-packages\\sklearn\\ensemble\\_bagging.py:1253: UserWarning: Some inputs do not have OOB scores. This probably means too few estimators were used to compute any reliable oob estimates.\n",
      "  warn(\n"
     ]
    },
    {
     "name": "stdout",
     "output_type": "stream",
     "text": [
      "Iteration =  177  f(x) =  0.012142640487488922\n"
     ]
    },
    {
     "name": "stderr",
     "output_type": "stream",
     "text": [
      "C:\\Users\\TI\\anaconda3\\Lib\\site-packages\\sklearn\\ensemble\\_bagging.py:1253: UserWarning: Some inputs do not have OOB scores. This probably means too few estimators were used to compute any reliable oob estimates.\n",
      "  warn(\n"
     ]
    },
    {
     "name": "stdout",
     "output_type": "stream",
     "text": [
      "Iteration =  178  f(x) =  0.012142640487488922\n"
     ]
    },
    {
     "name": "stderr",
     "output_type": "stream",
     "text": [
      "C:\\Users\\TI\\anaconda3\\Lib\\site-packages\\sklearn\\ensemble\\_bagging.py:1253: UserWarning: Some inputs do not have OOB scores. This probably means too few estimators were used to compute any reliable oob estimates.\n",
      "  warn(\n",
      "C:\\Users\\TI\\anaconda3\\Lib\\site-packages\\sklearn\\ensemble\\_bagging.py:1253: UserWarning: Some inputs do not have OOB scores. This probably means too few estimators were used to compute any reliable oob estimates.\n",
      "  warn(\n"
     ]
    },
    {
     "name": "stdout",
     "output_type": "stream",
     "text": [
      "Iteration =  179  f(x) =  0.012142640487488922\n"
     ]
    },
    {
     "name": "stderr",
     "output_type": "stream",
     "text": [
      "C:\\Users\\TI\\anaconda3\\Lib\\site-packages\\sklearn\\ensemble\\_bagging.py:1253: UserWarning: Some inputs do not have OOB scores. This probably means too few estimators were used to compute any reliable oob estimates.\n",
      "  warn(\n"
     ]
    },
    {
     "name": "stdout",
     "output_type": "stream",
     "text": [
      "Iteration =  180  f(x) =  0.012142640487488922\n"
     ]
    },
    {
     "name": "stderr",
     "output_type": "stream",
     "text": [
      "C:\\Users\\TI\\anaconda3\\Lib\\site-packages\\sklearn\\ensemble\\_bagging.py:1253: UserWarning: Some inputs do not have OOB scores. This probably means too few estimators were used to compute any reliable oob estimates.\n",
      "  warn(\n"
     ]
    },
    {
     "name": "stdout",
     "output_type": "stream",
     "text": [
      "Iteration =  181  f(x) =  0.012142640487488922\n"
     ]
    },
    {
     "name": "stderr",
     "output_type": "stream",
     "text": [
      "C:\\Users\\TI\\anaconda3\\Lib\\site-packages\\sklearn\\ensemble\\_bagging.py:1253: UserWarning: Some inputs do not have OOB scores. This probably means too few estimators were used to compute any reliable oob estimates.\n",
      "  warn(\n",
      "C:\\Users\\TI\\anaconda3\\Lib\\site-packages\\sklearn\\ensemble\\_bagging.py:1253: UserWarning: Some inputs do not have OOB scores. This probably means too few estimators were used to compute any reliable oob estimates.\n",
      "  warn(\n"
     ]
    },
    {
     "name": "stdout",
     "output_type": "stream",
     "text": [
      "Iteration =  182  f(x) =  0.012142640487488922\n"
     ]
    },
    {
     "name": "stderr",
     "output_type": "stream",
     "text": [
      "C:\\Users\\TI\\anaconda3\\Lib\\site-packages\\sklearn\\ensemble\\_bagging.py:1253: UserWarning: Some inputs do not have OOB scores. This probably means too few estimators were used to compute any reliable oob estimates.\n",
      "  warn(\n",
      "C:\\Users\\TI\\anaconda3\\Lib\\site-packages\\sklearn\\ensemble\\_bagging.py:1253: UserWarning: Some inputs do not have OOB scores. This probably means too few estimators were used to compute any reliable oob estimates.\n",
      "  warn(\n"
     ]
    },
    {
     "name": "stdout",
     "output_type": "stream",
     "text": [
      "Iteration =  183  f(x) =  0.012142640487488922\n"
     ]
    },
    {
     "name": "stderr",
     "output_type": "stream",
     "text": [
      "C:\\Users\\TI\\anaconda3\\Lib\\site-packages\\sklearn\\ensemble\\_bagging.py:1253: UserWarning: Some inputs do not have OOB scores. This probably means too few estimators were used to compute any reliable oob estimates.\n",
      "  warn(\n"
     ]
    },
    {
     "name": "stdout",
     "output_type": "stream",
     "text": [
      "Iteration =  184  f(x) =  0.012142640487488922\n"
     ]
    },
    {
     "name": "stderr",
     "output_type": "stream",
     "text": [
      "C:\\Users\\TI\\anaconda3\\Lib\\site-packages\\sklearn\\ensemble\\_bagging.py:1253: UserWarning: Some inputs do not have OOB scores. This probably means too few estimators were used to compute any reliable oob estimates.\n",
      "  warn(\n",
      "C:\\Users\\TI\\anaconda3\\Lib\\site-packages\\sklearn\\ensemble\\_bagging.py:1253: UserWarning: Some inputs do not have OOB scores. This probably means too few estimators were used to compute any reliable oob estimates.\n",
      "  warn(\n"
     ]
    },
    {
     "name": "stdout",
     "output_type": "stream",
     "text": [
      "Iteration =  185  f(x) =  0.012142640487488922\n",
      "Iteration =  186  f(x) =  0.012142640487488922\n",
      "Iteration =  187  f(x) =  0.012142640487488922\n"
     ]
    },
    {
     "name": "stderr",
     "output_type": "stream",
     "text": [
      "C:\\Users\\TI\\anaconda3\\Lib\\site-packages\\sklearn\\ensemble\\_bagging.py:1253: UserWarning: Some inputs do not have OOB scores. This probably means too few estimators were used to compute any reliable oob estimates.\n",
      "  warn(\n"
     ]
    },
    {
     "name": "stdout",
     "output_type": "stream",
     "text": [
      "Iteration =  188  f(x) =  0.012142640487488922\n"
     ]
    },
    {
     "name": "stderr",
     "output_type": "stream",
     "text": [
      "C:\\Users\\TI\\anaconda3\\Lib\\site-packages\\sklearn\\ensemble\\_bagging.py:1253: UserWarning: Some inputs do not have OOB scores. This probably means too few estimators were used to compute any reliable oob estimates.\n",
      "  warn(\n"
     ]
    },
    {
     "name": "stdout",
     "output_type": "stream",
     "text": [
      "Iteration =  189  f(x) =  0.012142640487488922\n",
      "Iteration =  190  f(x) =  0.012142640487488922\n"
     ]
    },
    {
     "name": "stderr",
     "output_type": "stream",
     "text": [
      "C:\\Users\\TI\\anaconda3\\Lib\\site-packages\\sklearn\\ensemble\\_bagging.py:1253: UserWarning: Some inputs do not have OOB scores. This probably means too few estimators were used to compute any reliable oob estimates.\n",
      "  warn(\n",
      "C:\\Users\\TI\\anaconda3\\Lib\\site-packages\\sklearn\\ensemble\\_bagging.py:1253: UserWarning: Some inputs do not have OOB scores. This probably means too few estimators were used to compute any reliable oob estimates.\n",
      "  warn(\n"
     ]
    },
    {
     "name": "stdout",
     "output_type": "stream",
     "text": [
      "Iteration =  191  f(x) =  0.012142640487488922\n",
      "Iteration =  192  f(x) =  0.012142640487488922\n"
     ]
    },
    {
     "name": "stderr",
     "output_type": "stream",
     "text": [
      "C:\\Users\\TI\\anaconda3\\Lib\\site-packages\\sklearn\\ensemble\\_bagging.py:1253: UserWarning: Some inputs do not have OOB scores. This probably means too few estimators were used to compute any reliable oob estimates.\n",
      "  warn(\n",
      "C:\\Users\\TI\\anaconda3\\Lib\\site-packages\\sklearn\\ensemble\\_bagging.py:1253: UserWarning: Some inputs do not have OOB scores. This probably means too few estimators were used to compute any reliable oob estimates.\n",
      "  warn(\n"
     ]
    },
    {
     "name": "stdout",
     "output_type": "stream",
     "text": [
      "Iteration =  193  f(x) =  0.012142640487488922\n"
     ]
    },
    {
     "name": "stderr",
     "output_type": "stream",
     "text": [
      "C:\\Users\\TI\\anaconda3\\Lib\\site-packages\\sklearn\\ensemble\\_bagging.py:1253: UserWarning: Some inputs do not have OOB scores. This probably means too few estimators were used to compute any reliable oob estimates.\n",
      "  warn(\n"
     ]
    },
    {
     "name": "stdout",
     "output_type": "stream",
     "text": [
      "Iteration =  194  f(x) =  0.012142640487488922\n"
     ]
    },
    {
     "name": "stderr",
     "output_type": "stream",
     "text": [
      "C:\\Users\\TI\\anaconda3\\Lib\\site-packages\\sklearn\\ensemble\\_bagging.py:1253: UserWarning: Some inputs do not have OOB scores. This probably means too few estimators were used to compute any reliable oob estimates.\n",
      "  warn(\n"
     ]
    },
    {
     "name": "stdout",
     "output_type": "stream",
     "text": [
      "Iteration =  195  f(x) =  0.012142640487488922\n"
     ]
    },
    {
     "name": "stderr",
     "output_type": "stream",
     "text": [
      "C:\\Users\\TI\\anaconda3\\Lib\\site-packages\\sklearn\\ensemble\\_bagging.py:1253: UserWarning: Some inputs do not have OOB scores. This probably means too few estimators were used to compute any reliable oob estimates.\n",
      "  warn(\n"
     ]
    },
    {
     "name": "stdout",
     "output_type": "stream",
     "text": [
      "Iteration =  196  f(x) =  0.012142640487488922\n"
     ]
    },
    {
     "name": "stderr",
     "output_type": "stream",
     "text": [
      "C:\\Users\\TI\\anaconda3\\Lib\\site-packages\\sklearn\\ensemble\\_bagging.py:1253: UserWarning: Some inputs do not have OOB scores. This probably means too few estimators were used to compute any reliable oob estimates.\n",
      "  warn(\n"
     ]
    },
    {
     "name": "stdout",
     "output_type": "stream",
     "text": [
      "Iteration =  197  f(x) =  0.012142640487488922\n",
      "Iteration =  198  f(x) =  0.012142640487488922\n"
     ]
    },
    {
     "name": "stderr",
     "output_type": "stream",
     "text": [
      "C:\\Users\\TI\\anaconda3\\Lib\\site-packages\\sklearn\\ensemble\\_bagging.py:1253: UserWarning: Some inputs do not have OOB scores. This probably means too few estimators were used to compute any reliable oob estimates.\n",
      "  warn(\n"
     ]
    },
    {
     "name": "stdout",
     "output_type": "stream",
     "text": [
      "Iteration =  199  f(x) =  0.012142640487488922\n",
      "Iteration =  200  f(x) =  0.012142640487488922\n"
     ]
    },
    {
     "name": "stderr",
     "output_type": "stream",
     "text": [
      "C:\\Users\\TI\\anaconda3\\Lib\\site-packages\\sklearn\\ensemble\\_bagging.py:1253: UserWarning: Some inputs do not have OOB scores. This probably means too few estimators were used to compute any reliable oob estimates.\n",
      "  warn(\n",
      "C:\\Users\\TI\\anaconda3\\Lib\\site-packages\\sklearn\\ensemble\\_bagging.py:1253: UserWarning: Some inputs do not have OOB scores. This probably means too few estimators were used to compute any reliable oob estimates.\n",
      "  warn(\n"
     ]
    },
    {
     "name": "stdout",
     "output_type": "stream",
     "text": [
      "Iteration =  201  f(x) =  0.012142640487488922\n"
     ]
    },
    {
     "name": "stderr",
     "output_type": "stream",
     "text": [
      "C:\\Users\\TI\\anaconda3\\Lib\\site-packages\\sklearn\\ensemble\\_bagging.py:1253: UserWarning: Some inputs do not have OOB scores. This probably means too few estimators were used to compute any reliable oob estimates.\n",
      "  warn(\n"
     ]
    },
    {
     "name": "stdout",
     "output_type": "stream",
     "text": [
      "Iteration =  202  f(x) =  0.012142640487488922\n",
      "Iteration =  203  f(x) =  0.012142640487488922\n"
     ]
    },
    {
     "name": "stderr",
     "output_type": "stream",
     "text": [
      "C:\\Users\\TI\\anaconda3\\Lib\\site-packages\\sklearn\\ensemble\\_bagging.py:1253: UserWarning: Some inputs do not have OOB scores. This probably means too few estimators were used to compute any reliable oob estimates.\n",
      "  warn(\n"
     ]
    },
    {
     "name": "stdout",
     "output_type": "stream",
     "text": [
      "Iteration =  204  f(x) =  0.012142640487488922\n",
      "Iteration =  205  f(x) =  0.012142640487488922\n"
     ]
    },
    {
     "name": "stderr",
     "output_type": "stream",
     "text": [
      "C:\\Users\\TI\\anaconda3\\Lib\\site-packages\\sklearn\\ensemble\\_bagging.py:1253: UserWarning: Some inputs do not have OOB scores. This probably means too few estimators were used to compute any reliable oob estimates.\n",
      "  warn(\n"
     ]
    },
    {
     "name": "stdout",
     "output_type": "stream",
     "text": [
      "Iteration =  206  f(x) =  0.012142640487488922\n"
     ]
    },
    {
     "name": "stderr",
     "output_type": "stream",
     "text": [
      "C:\\Users\\TI\\anaconda3\\Lib\\site-packages\\sklearn\\ensemble\\_bagging.py:1253: UserWarning: Some inputs do not have OOB scores. This probably means too few estimators were used to compute any reliable oob estimates.\n",
      "  warn(\n",
      "C:\\Users\\TI\\anaconda3\\Lib\\site-packages\\sklearn\\ensemble\\_bagging.py:1253: UserWarning: Some inputs do not have OOB scores. This probably means too few estimators were used to compute any reliable oob estimates.\n",
      "  warn(\n"
     ]
    },
    {
     "name": "stdout",
     "output_type": "stream",
     "text": [
      "Iteration =  207  f(x) =  0.012142640487488922\n"
     ]
    },
    {
     "name": "stderr",
     "output_type": "stream",
     "text": [
      "C:\\Users\\TI\\anaconda3\\Lib\\site-packages\\sklearn\\ensemble\\_bagging.py:1253: UserWarning: Some inputs do not have OOB scores. This probably means too few estimators were used to compute any reliable oob estimates.\n",
      "  warn(\n",
      "C:\\Users\\TI\\anaconda3\\Lib\\site-packages\\sklearn\\ensemble\\_bagging.py:1253: UserWarning: Some inputs do not have OOB scores. This probably means too few estimators were used to compute any reliable oob estimates.\n",
      "  warn(\n"
     ]
    },
    {
     "name": "stdout",
     "output_type": "stream",
     "text": [
      "Iteration =  208  f(x) =  0.012142640487488922\n"
     ]
    },
    {
     "name": "stderr",
     "output_type": "stream",
     "text": [
      "C:\\Users\\TI\\anaconda3\\Lib\\site-packages\\sklearn\\ensemble\\_bagging.py:1253: UserWarning: Some inputs do not have OOB scores. This probably means too few estimators were used to compute any reliable oob estimates.\n",
      "  warn(\n"
     ]
    },
    {
     "name": "stdout",
     "output_type": "stream",
     "text": [
      "Iteration =  209  f(x) =  0.012142640487488922\n"
     ]
    },
    {
     "name": "stderr",
     "output_type": "stream",
     "text": [
      "C:\\Users\\TI\\anaconda3\\Lib\\site-packages\\sklearn\\ensemble\\_bagging.py:1253: UserWarning: Some inputs do not have OOB scores. This probably means too few estimators were used to compute any reliable oob estimates.\n",
      "  warn(\n"
     ]
    },
    {
     "name": "stdout",
     "output_type": "stream",
     "text": [
      "Iteration =  210  f(x) =  0.012142640487488922\n"
     ]
    },
    {
     "name": "stderr",
     "output_type": "stream",
     "text": [
      "C:\\Users\\TI\\anaconda3\\Lib\\site-packages\\sklearn\\ensemble\\_bagging.py:1253: UserWarning: Some inputs do not have OOB scores. This probably means too few estimators were used to compute any reliable oob estimates.\n",
      "  warn(\n",
      "C:\\Users\\TI\\anaconda3\\Lib\\site-packages\\sklearn\\ensemble\\_bagging.py:1253: UserWarning: Some inputs do not have OOB scores. This probably means too few estimators were used to compute any reliable oob estimates.\n",
      "  warn(\n"
     ]
    },
    {
     "name": "stdout",
     "output_type": "stream",
     "text": [
      "Iteration =  211  f(x) =  0.012142640487488922\n",
      "Iteration =  212  f(x) =  0.012142640487488922\n"
     ]
    },
    {
     "name": "stderr",
     "output_type": "stream",
     "text": [
      "C:\\Users\\TI\\anaconda3\\Lib\\site-packages\\sklearn\\ensemble\\_bagging.py:1253: UserWarning: Some inputs do not have OOB scores. This probably means too few estimators were used to compute any reliable oob estimates.\n",
      "  warn(\n"
     ]
    },
    {
     "name": "stdout",
     "output_type": "stream",
     "text": [
      "Iteration =  213  f(x) =  0.012142640487488922\n"
     ]
    },
    {
     "name": "stderr",
     "output_type": "stream",
     "text": [
      "C:\\Users\\TI\\anaconda3\\Lib\\site-packages\\sklearn\\ensemble\\_bagging.py:1253: UserWarning: Some inputs do not have OOB scores. This probably means too few estimators were used to compute any reliable oob estimates.\n",
      "  warn(\n"
     ]
    },
    {
     "name": "stdout",
     "output_type": "stream",
     "text": [
      "Iteration =  214  f(x) =  0.012142640487488922\n",
      "Iteration =  215  f(x) =  0.012142640487488922\n",
      "Iteration =  216  f(x) =  0.012142640487488922\n"
     ]
    },
    {
     "name": "stderr",
     "output_type": "stream",
     "text": [
      "C:\\Users\\TI\\anaconda3\\Lib\\site-packages\\sklearn\\ensemble\\_bagging.py:1253: UserWarning: Some inputs do not have OOB scores. This probably means too few estimators were used to compute any reliable oob estimates.\n",
      "  warn(\n",
      "C:\\Users\\TI\\anaconda3\\Lib\\site-packages\\sklearn\\ensemble\\_bagging.py:1253: UserWarning: Some inputs do not have OOB scores. This probably means too few estimators were used to compute any reliable oob estimates.\n",
      "  warn(\n"
     ]
    },
    {
     "name": "stdout",
     "output_type": "stream",
     "text": [
      "Iteration =  217  f(x) =  0.012142640487488922\n",
      "Iteration =  218  f(x) =  0.012142640487488922\n"
     ]
    },
    {
     "name": "stderr",
     "output_type": "stream",
     "text": [
      "C:\\Users\\TI\\anaconda3\\Lib\\site-packages\\sklearn\\ensemble\\_bagging.py:1253: UserWarning: Some inputs do not have OOB scores. This probably means too few estimators were used to compute any reliable oob estimates.\n",
      "  warn(\n"
     ]
    },
    {
     "name": "stdout",
     "output_type": "stream",
     "text": [
      "Iteration =  219  f(x) =  0.012142640487488922\n",
      "Iteration =  220  f(x) =  0.012142640487488922\n"
     ]
    },
    {
     "name": "stderr",
     "output_type": "stream",
     "text": [
      "C:\\Users\\TI\\anaconda3\\Lib\\site-packages\\sklearn\\ensemble\\_bagging.py:1253: UserWarning: Some inputs do not have OOB scores. This probably means too few estimators were used to compute any reliable oob estimates.\n",
      "  warn(\n"
     ]
    },
    {
     "name": "stdout",
     "output_type": "stream",
     "text": [
      "Iteration =  221  f(x) =  0.012142640487488922\n"
     ]
    },
    {
     "name": "stderr",
     "output_type": "stream",
     "text": [
      "C:\\Users\\TI\\anaconda3\\Lib\\site-packages\\sklearn\\ensemble\\_bagging.py:1253: UserWarning: Some inputs do not have OOB scores. This probably means too few estimators were used to compute any reliable oob estimates.\n",
      "  warn(\n"
     ]
    },
    {
     "name": "stdout",
     "output_type": "stream",
     "text": [
      "Iteration =  222  f(x) =  0.012142640487488922\n",
      "Iteration =  223  f(x) =  0.012142640487488922\n",
      "Iteration =  224  f(x) =  0.012142640487488922\n"
     ]
    },
    {
     "name": "stderr",
     "output_type": "stream",
     "text": [
      "C:\\Users\\TI\\anaconda3\\Lib\\site-packages\\sklearn\\ensemble\\_bagging.py:1253: UserWarning: Some inputs do not have OOB scores. This probably means too few estimators were used to compute any reliable oob estimates.\n",
      "  warn(\n",
      "C:\\Users\\TI\\anaconda3\\Lib\\site-packages\\sklearn\\ensemble\\_bagging.py:1253: UserWarning: Some inputs do not have OOB scores. This probably means too few estimators were used to compute any reliable oob estimates.\n",
      "  warn(\n"
     ]
    },
    {
     "name": "stdout",
     "output_type": "stream",
     "text": [
      "Iteration =  225  f(x) =  0.012142640487488922\n"
     ]
    },
    {
     "name": "stderr",
     "output_type": "stream",
     "text": [
      "C:\\Users\\TI\\anaconda3\\Lib\\site-packages\\sklearn\\ensemble\\_bagging.py:1253: UserWarning: Some inputs do not have OOB scores. This probably means too few estimators were used to compute any reliable oob estimates.\n",
      "  warn(\n",
      "C:\\Users\\TI\\anaconda3\\Lib\\site-packages\\sklearn\\ensemble\\_bagging.py:1253: UserWarning: Some inputs do not have OOB scores. This probably means too few estimators were used to compute any reliable oob estimates.\n",
      "  warn(\n"
     ]
    },
    {
     "name": "stdout",
     "output_type": "stream",
     "text": [
      "Iteration =  226  f(x) =  0.012142640487488922\n"
     ]
    },
    {
     "name": "stderr",
     "output_type": "stream",
     "text": [
      "C:\\Users\\TI\\anaconda3\\Lib\\site-packages\\sklearn\\ensemble\\_bagging.py:1253: UserWarning: Some inputs do not have OOB scores. This probably means too few estimators were used to compute any reliable oob estimates.\n",
      "  warn(\n",
      "C:\\Users\\TI\\anaconda3\\Lib\\site-packages\\sklearn\\ensemble\\_bagging.py:1253: UserWarning: Some inputs do not have OOB scores. This probably means too few estimators were used to compute any reliable oob estimates.\n",
      "  warn(\n"
     ]
    },
    {
     "name": "stdout",
     "output_type": "stream",
     "text": [
      "Iteration =  227  f(x) =  0.012142640487488922\n"
     ]
    },
    {
     "name": "stderr",
     "output_type": "stream",
     "text": [
      "C:\\Users\\TI\\anaconda3\\Lib\\site-packages\\sklearn\\ensemble\\_bagging.py:1253: UserWarning: Some inputs do not have OOB scores. This probably means too few estimators were used to compute any reliable oob estimates.\n",
      "  warn(\n"
     ]
    },
    {
     "name": "stdout",
     "output_type": "stream",
     "text": [
      "Iteration =  228  f(x) =  0.012142640487488922\n",
      "Iteration =  229  f(x) =  0.012142640487488922\n",
      "Iteration =  230  f(x) =  0.012142640487488922\n",
      "Iteration =  231  f(x) =  0.012142640487488922\n"
     ]
    },
    {
     "name": "stderr",
     "output_type": "stream",
     "text": [
      "C:\\Users\\TI\\anaconda3\\Lib\\site-packages\\sklearn\\ensemble\\_bagging.py:1253: UserWarning: Some inputs do not have OOB scores. This probably means too few estimators were used to compute any reliable oob estimates.\n",
      "  warn(\n"
     ]
    },
    {
     "name": "stdout",
     "output_type": "stream",
     "text": [
      "Iteration =  232  f(x) =  0.012142640487488922\n"
     ]
    },
    {
     "name": "stderr",
     "output_type": "stream",
     "text": [
      "C:\\Users\\TI\\anaconda3\\Lib\\site-packages\\sklearn\\ensemble\\_bagging.py:1253: UserWarning: Some inputs do not have OOB scores. This probably means too few estimators were used to compute any reliable oob estimates.\n",
      "  warn(\n"
     ]
    },
    {
     "name": "stdout",
     "output_type": "stream",
     "text": [
      "Iteration =  233  f(x) =  0.012142640487488922\n"
     ]
    },
    {
     "name": "stderr",
     "output_type": "stream",
     "text": [
      "C:\\Users\\TI\\anaconda3\\Lib\\site-packages\\sklearn\\ensemble\\_bagging.py:1253: UserWarning: Some inputs do not have OOB scores. This probably means too few estimators were used to compute any reliable oob estimates.\n",
      "  warn(\n"
     ]
    },
    {
     "name": "stdout",
     "output_type": "stream",
     "text": [
      "Iteration =  234  f(x) =  0.012142640487488922\n"
     ]
    },
    {
     "name": "stderr",
     "output_type": "stream",
     "text": [
      "C:\\Users\\TI\\anaconda3\\Lib\\site-packages\\sklearn\\ensemble\\_bagging.py:1253: UserWarning: Some inputs do not have OOB scores. This probably means too few estimators were used to compute any reliable oob estimates.\n",
      "  warn(\n",
      "C:\\Users\\TI\\anaconda3\\Lib\\site-packages\\sklearn\\ensemble\\_bagging.py:1253: UserWarning: Some inputs do not have OOB scores. This probably means too few estimators were used to compute any reliable oob estimates.\n",
      "  warn(\n"
     ]
    },
    {
     "name": "stdout",
     "output_type": "stream",
     "text": [
      "Iteration =  235  f(x) =  0.012142640487488922\n"
     ]
    },
    {
     "name": "stderr",
     "output_type": "stream",
     "text": [
      "C:\\Users\\TI\\anaconda3\\Lib\\site-packages\\sklearn\\ensemble\\_bagging.py:1253: UserWarning: Some inputs do not have OOB scores. This probably means too few estimators were used to compute any reliable oob estimates.\n",
      "  warn(\n",
      "C:\\Users\\TI\\anaconda3\\Lib\\site-packages\\sklearn\\ensemble\\_bagging.py:1253: UserWarning: Some inputs do not have OOB scores. This probably means too few estimators were used to compute any reliable oob estimates.\n",
      "  warn(\n"
     ]
    },
    {
     "name": "stdout",
     "output_type": "stream",
     "text": [
      "Iteration =  236  f(x) =  0.012142640487488922\n"
     ]
    },
    {
     "name": "stderr",
     "output_type": "stream",
     "text": [
      "C:\\Users\\TI\\anaconda3\\Lib\\site-packages\\sklearn\\ensemble\\_bagging.py:1253: UserWarning: Some inputs do not have OOB scores. This probably means too few estimators were used to compute any reliable oob estimates.\n",
      "  warn(\n",
      "C:\\Users\\TI\\anaconda3\\Lib\\site-packages\\sklearn\\ensemble\\_bagging.py:1253: UserWarning: Some inputs do not have OOB scores. This probably means too few estimators were used to compute any reliable oob estimates.\n",
      "  warn(\n"
     ]
    },
    {
     "name": "stdout",
     "output_type": "stream",
     "text": [
      "Iteration =  237  f(x) =  0.012142640487488922\n"
     ]
    },
    {
     "name": "stderr",
     "output_type": "stream",
     "text": [
      "C:\\Users\\TI\\anaconda3\\Lib\\site-packages\\sklearn\\ensemble\\_bagging.py:1253: UserWarning: Some inputs do not have OOB scores. This probably means too few estimators were used to compute any reliable oob estimates.\n",
      "  warn(\n"
     ]
    },
    {
     "name": "stdout",
     "output_type": "stream",
     "text": [
      "Iteration =  238  f(x) =  0.012142640487488922\n",
      "Iteration =  239  f(x) =  0.012142640487488922\n"
     ]
    },
    {
     "name": "stderr",
     "output_type": "stream",
     "text": [
      "C:\\Users\\TI\\anaconda3\\Lib\\site-packages\\sklearn\\ensemble\\_bagging.py:1253: UserWarning: Some inputs do not have OOB scores. This probably means too few estimators were used to compute any reliable oob estimates.\n",
      "  warn(\n"
     ]
    },
    {
     "name": "stdout",
     "output_type": "stream",
     "text": [
      "Iteration =  240  f(x) =  0.012142640487488922\n",
      "Iteration =  241  f(x) =  0.012142640487488922\n"
     ]
    },
    {
     "name": "stderr",
     "output_type": "stream",
     "text": [
      "C:\\Users\\TI\\anaconda3\\Lib\\site-packages\\sklearn\\ensemble\\_bagging.py:1253: UserWarning: Some inputs do not have OOB scores. This probably means too few estimators were used to compute any reliable oob estimates.\n",
      "  warn(\n"
     ]
    },
    {
     "name": "stdout",
     "output_type": "stream",
     "text": [
      "Iteration =  242  f(x) =  0.012142640487488922\n",
      "Iteration =  243  f(x) =  0.012142640487488922\n",
      "Iteration =  244  f(x) =  0.012142640487488922\n",
      "Iteration =  245  f(x) =  0.012142640487488922\n"
     ]
    },
    {
     "name": "stderr",
     "output_type": "stream",
     "text": [
      "C:\\Users\\TI\\anaconda3\\Lib\\site-packages\\sklearn\\ensemble\\_bagging.py:1253: UserWarning: Some inputs do not have OOB scores. This probably means too few estimators were used to compute any reliable oob estimates.\n",
      "  warn(\n",
      "C:\\Users\\TI\\anaconda3\\Lib\\site-packages\\sklearn\\ensemble\\_bagging.py:1253: UserWarning: Some inputs do not have OOB scores. This probably means too few estimators were used to compute any reliable oob estimates.\n",
      "  warn(\n"
     ]
    },
    {
     "name": "stdout",
     "output_type": "stream",
     "text": [
      "Iteration =  246  f(x) =  0.012142640487488922\n"
     ]
    },
    {
     "name": "stderr",
     "output_type": "stream",
     "text": [
      "C:\\Users\\TI\\anaconda3\\Lib\\site-packages\\sklearn\\ensemble\\_bagging.py:1253: UserWarning: Some inputs do not have OOB scores. This probably means too few estimators were used to compute any reliable oob estimates.\n",
      "  warn(\n",
      "C:\\Users\\TI\\anaconda3\\Lib\\site-packages\\sklearn\\ensemble\\_bagging.py:1253: UserWarning: Some inputs do not have OOB scores. This probably means too few estimators were used to compute any reliable oob estimates.\n",
      "  warn(\n"
     ]
    },
    {
     "name": "stdout",
     "output_type": "stream",
     "text": [
      "Iteration =  247  f(x) =  0.012142640487488922\n",
      "Iteration =  248  f(x) =  0.012142640487488922\n"
     ]
    },
    {
     "name": "stderr",
     "output_type": "stream",
     "text": [
      "C:\\Users\\TI\\anaconda3\\Lib\\site-packages\\sklearn\\ensemble\\_bagging.py:1253: UserWarning: Some inputs do not have OOB scores. This probably means too few estimators were used to compute any reliable oob estimates.\n",
      "  warn(\n"
     ]
    },
    {
     "name": "stdout",
     "output_type": "stream",
     "text": [
      "Iteration =  249  f(x) =  0.012142640487488922\n"
     ]
    },
    {
     "name": "stderr",
     "output_type": "stream",
     "text": [
      "C:\\Users\\TI\\anaconda3\\Lib\\site-packages\\sklearn\\ensemble\\_bagging.py:1253: UserWarning: Some inputs do not have OOB scores. This probably means too few estimators were used to compute any reliable oob estimates.\n",
      "  warn(\n"
     ]
    },
    {
     "name": "stdout",
     "output_type": "stream",
     "text": [
      "Iteration =  250  f(x) =  0.012142640487488922\n"
     ]
    },
    {
     "name": "stderr",
     "output_type": "stream",
     "text": [
      "C:\\Users\\TI\\anaconda3\\Lib\\site-packages\\sklearn\\ensemble\\_bagging.py:1253: UserWarning: Some inputs do not have OOB scores. This probably means too few estimators were used to compute any reliable oob estimates.\n",
      "  warn(\n"
     ]
    },
    {
     "name": "stdout",
     "output_type": "stream",
     "text": [
      "Iteration =  251  f(x) =  0.012142640487488922\n",
      "Iteration =  252  f(x) =  0.012142640487488922\n"
     ]
    },
    {
     "name": "stderr",
     "output_type": "stream",
     "text": [
      "C:\\Users\\TI\\anaconda3\\Lib\\site-packages\\sklearn\\ensemble\\_bagging.py:1253: UserWarning: Some inputs do not have OOB scores. This probably means too few estimators were used to compute any reliable oob estimates.\n",
      "  warn(\n"
     ]
    },
    {
     "name": "stdout",
     "output_type": "stream",
     "text": [
      "Iteration =  253  f(x) =  0.012142640487488922\n",
      "Iteration =  254  f(x) =  0.012142640487488922\n"
     ]
    },
    {
     "name": "stderr",
     "output_type": "stream",
     "text": [
      "C:\\Users\\TI\\anaconda3\\Lib\\site-packages\\sklearn\\ensemble\\_bagging.py:1253: UserWarning: Some inputs do not have OOB scores. This probably means too few estimators were used to compute any reliable oob estimates.\n",
      "  warn(\n"
     ]
    },
    {
     "name": "stdout",
     "output_type": "stream",
     "text": [
      "Iteration =  255  f(x) =  0.012142640487488922\n",
      "Iteration =  256  f(x) =  0.012142640487488922\n"
     ]
    },
    {
     "name": "stderr",
     "output_type": "stream",
     "text": [
      "C:\\Users\\TI\\anaconda3\\Lib\\site-packages\\sklearn\\ensemble\\_bagging.py:1253: UserWarning: Some inputs do not have OOB scores. This probably means too few estimators were used to compute any reliable oob estimates.\n",
      "  warn(\n"
     ]
    },
    {
     "name": "stdout",
     "output_type": "stream",
     "text": [
      "Iteration =  257  f(x) =  0.012142640487488922\n"
     ]
    },
    {
     "name": "stderr",
     "output_type": "stream",
     "text": [
      "C:\\Users\\TI\\anaconda3\\Lib\\site-packages\\sklearn\\ensemble\\_bagging.py:1253: UserWarning: Some inputs do not have OOB scores. This probably means too few estimators were used to compute any reliable oob estimates.\n",
      "  warn(\n"
     ]
    },
    {
     "name": "stdout",
     "output_type": "stream",
     "text": [
      "Iteration =  258  f(x) =  0.012142640487488922\n"
     ]
    },
    {
     "name": "stderr",
     "output_type": "stream",
     "text": [
      "C:\\Users\\TI\\anaconda3\\Lib\\site-packages\\sklearn\\ensemble\\_bagging.py:1253: UserWarning: Some inputs do not have OOB scores. This probably means too few estimators were used to compute any reliable oob estimates.\n",
      "  warn(\n",
      "C:\\Users\\TI\\anaconda3\\Lib\\site-packages\\sklearn\\ensemble\\_bagging.py:1253: UserWarning: Some inputs do not have OOB scores. This probably means too few estimators were used to compute any reliable oob estimates.\n",
      "  warn(\n"
     ]
    },
    {
     "name": "stdout",
     "output_type": "stream",
     "text": [
      "Iteration =  259  f(x) =  0.012142640487488922\n"
     ]
    },
    {
     "name": "stderr",
     "output_type": "stream",
     "text": [
      "C:\\Users\\TI\\anaconda3\\Lib\\site-packages\\sklearn\\ensemble\\_bagging.py:1253: UserWarning: Some inputs do not have OOB scores. This probably means too few estimators were used to compute any reliable oob estimates.\n",
      "  warn(\n"
     ]
    },
    {
     "name": "stdout",
     "output_type": "stream",
     "text": [
      "Iteration =  260  f(x) =  0.012142640487488922\n"
     ]
    },
    {
     "name": "stderr",
     "output_type": "stream",
     "text": [
      "C:\\Users\\TI\\anaconda3\\Lib\\site-packages\\sklearn\\ensemble\\_bagging.py:1253: UserWarning: Some inputs do not have OOB scores. This probably means too few estimators were used to compute any reliable oob estimates.\n",
      "  warn(\n"
     ]
    },
    {
     "name": "stdout",
     "output_type": "stream",
     "text": [
      "Iteration =  261  f(x) =  0.012142640487488922\n"
     ]
    },
    {
     "name": "stderr",
     "output_type": "stream",
     "text": [
      "C:\\Users\\TI\\anaconda3\\Lib\\site-packages\\sklearn\\ensemble\\_bagging.py:1253: UserWarning: Some inputs do not have OOB scores. This probably means too few estimators were used to compute any reliable oob estimates.\n",
      "  warn(\n",
      "C:\\Users\\TI\\anaconda3\\Lib\\site-packages\\sklearn\\ensemble\\_bagging.py:1253: UserWarning: Some inputs do not have OOB scores. This probably means too few estimators were used to compute any reliable oob estimates.\n",
      "  warn(\n"
     ]
    },
    {
     "name": "stdout",
     "output_type": "stream",
     "text": [
      "Iteration =  262  f(x) =  0.012142640487488922\n"
     ]
    },
    {
     "name": "stderr",
     "output_type": "stream",
     "text": [
      "C:\\Users\\TI\\anaconda3\\Lib\\site-packages\\sklearn\\ensemble\\_bagging.py:1253: UserWarning: Some inputs do not have OOB scores. This probably means too few estimators were used to compute any reliable oob estimates.\n",
      "  warn(\n"
     ]
    },
    {
     "name": "stdout",
     "output_type": "stream",
     "text": [
      "Iteration =  263  f(x) =  0.012142640487488922\n"
     ]
    },
    {
     "name": "stderr",
     "output_type": "stream",
     "text": [
      "C:\\Users\\TI\\anaconda3\\Lib\\site-packages\\sklearn\\ensemble\\_bagging.py:1253: UserWarning: Some inputs do not have OOB scores. This probably means too few estimators were used to compute any reliable oob estimates.\n",
      "  warn(\n",
      "C:\\Users\\TI\\anaconda3\\Lib\\site-packages\\sklearn\\ensemble\\_bagging.py:1253: UserWarning: Some inputs do not have OOB scores. This probably means too few estimators were used to compute any reliable oob estimates.\n",
      "  warn(\n",
      "C:\\Users\\TI\\anaconda3\\Lib\\site-packages\\sklearn\\ensemble\\_bagging.py:1253: UserWarning: Some inputs do not have OOB scores. This probably means too few estimators were used to compute any reliable oob estimates.\n",
      "  warn(\n"
     ]
    },
    {
     "name": "stdout",
     "output_type": "stream",
     "text": [
      "Iteration =  264  f(x) =  0.012142640487488922\n"
     ]
    },
    {
     "name": "stderr",
     "output_type": "stream",
     "text": [
      "C:\\Users\\TI\\anaconda3\\Lib\\site-packages\\sklearn\\ensemble\\_bagging.py:1253: UserWarning: Some inputs do not have OOB scores. This probably means too few estimators were used to compute any reliable oob estimates.\n",
      "  warn(\n",
      "C:\\Users\\TI\\anaconda3\\Lib\\site-packages\\sklearn\\ensemble\\_bagging.py:1253: UserWarning: Some inputs do not have OOB scores. This probably means too few estimators were used to compute any reliable oob estimates.\n",
      "  warn(\n",
      "C:\\Users\\TI\\anaconda3\\Lib\\site-packages\\sklearn\\ensemble\\_bagging.py:1253: UserWarning: Some inputs do not have OOB scores. This probably means too few estimators were used to compute any reliable oob estimates.\n",
      "  warn(\n",
      "C:\\Users\\TI\\anaconda3\\Lib\\site-packages\\sklearn\\ensemble\\_bagging.py:1253: UserWarning: Some inputs do not have OOB scores. This probably means too few estimators were used to compute any reliable oob estimates.\n",
      "  warn(\n",
      "C:\\Users\\TI\\anaconda3\\Lib\\site-packages\\sklearn\\ensemble\\_bagging.py:1253: UserWarning: Some inputs do not have OOB scores. This probably means too few estimators were used to compute any reliable oob estimates.\n",
      "  warn(\n"
     ]
    },
    {
     "name": "stdout",
     "output_type": "stream",
     "text": [
      "Iteration =  265  f(x) =  0.012142640487488922\n",
      "Iteration =  266  f(x) =  0.012142640487488922\n"
     ]
    },
    {
     "name": "stderr",
     "output_type": "stream",
     "text": [
      "C:\\Users\\TI\\anaconda3\\Lib\\site-packages\\sklearn\\ensemble\\_bagging.py:1253: UserWarning: Some inputs do not have OOB scores. This probably means too few estimators were used to compute any reliable oob estimates.\n",
      "  warn(\n",
      "C:\\Users\\TI\\anaconda3\\Lib\\site-packages\\sklearn\\ensemble\\_bagging.py:1253: UserWarning: Some inputs do not have OOB scores. This probably means too few estimators were used to compute any reliable oob estimates.\n",
      "  warn(\n"
     ]
    },
    {
     "name": "stdout",
     "output_type": "stream",
     "text": [
      "Iteration =  267  f(x) =  0.012142640487488922\n"
     ]
    },
    {
     "name": "stderr",
     "output_type": "stream",
     "text": [
      "C:\\Users\\TI\\anaconda3\\Lib\\site-packages\\sklearn\\ensemble\\_bagging.py:1253: UserWarning: Some inputs do not have OOB scores. This probably means too few estimators were used to compute any reliable oob estimates.\n",
      "  warn(\n"
     ]
    },
    {
     "name": "stdout",
     "output_type": "stream",
     "text": [
      "Iteration =  268  f(x) =  0.012142640487488922\n"
     ]
    },
    {
     "name": "stderr",
     "output_type": "stream",
     "text": [
      "C:\\Users\\TI\\anaconda3\\Lib\\site-packages\\sklearn\\ensemble\\_bagging.py:1253: UserWarning: Some inputs do not have OOB scores. This probably means too few estimators were used to compute any reliable oob estimates.\n",
      "  warn(\n",
      "C:\\Users\\TI\\anaconda3\\Lib\\site-packages\\sklearn\\ensemble\\_bagging.py:1253: UserWarning: Some inputs do not have OOB scores. This probably means too few estimators were used to compute any reliable oob estimates.\n",
      "  warn(\n",
      "C:\\Users\\TI\\anaconda3\\Lib\\site-packages\\sklearn\\ensemble\\_bagging.py:1253: UserWarning: Some inputs do not have OOB scores. This probably means too few estimators were used to compute any reliable oob estimates.\n",
      "  warn(\n"
     ]
    },
    {
     "name": "stdout",
     "output_type": "stream",
     "text": [
      "Iteration =  269  f(x) =  0.012142640487488922\n"
     ]
    },
    {
     "name": "stderr",
     "output_type": "stream",
     "text": [
      "C:\\Users\\TI\\anaconda3\\Lib\\site-packages\\sklearn\\ensemble\\_bagging.py:1253: UserWarning: Some inputs do not have OOB scores. This probably means too few estimators were used to compute any reliable oob estimates.\n",
      "  warn(\n",
      "C:\\Users\\TI\\anaconda3\\Lib\\site-packages\\sklearn\\ensemble\\_bagging.py:1253: UserWarning: Some inputs do not have OOB scores. This probably means too few estimators were used to compute any reliable oob estimates.\n",
      "  warn(\n"
     ]
    },
    {
     "name": "stdout",
     "output_type": "stream",
     "text": [
      "Iteration =  270  f(x) =  0.012142640487488922\n"
     ]
    },
    {
     "name": "stderr",
     "output_type": "stream",
     "text": [
      "C:\\Users\\TI\\anaconda3\\Lib\\site-packages\\sklearn\\ensemble\\_bagging.py:1253: UserWarning: Some inputs do not have OOB scores. This probably means too few estimators were used to compute any reliable oob estimates.\n",
      "  warn(\n",
      "C:\\Users\\TI\\anaconda3\\Lib\\site-packages\\sklearn\\ensemble\\_bagging.py:1253: UserWarning: Some inputs do not have OOB scores. This probably means too few estimators were used to compute any reliable oob estimates.\n",
      "  warn(\n"
     ]
    },
    {
     "name": "stdout",
     "output_type": "stream",
     "text": [
      "Iteration =  271  f(x) =  0.012142640487488922\n",
      "Iteration =  272  f(x) =  0.012142640487488922\n"
     ]
    },
    {
     "name": "stderr",
     "output_type": "stream",
     "text": [
      "C:\\Users\\TI\\anaconda3\\Lib\\site-packages\\sklearn\\ensemble\\_bagging.py:1253: UserWarning: Some inputs do not have OOB scores. This probably means too few estimators were used to compute any reliable oob estimates.\n",
      "  warn(\n",
      "C:\\Users\\TI\\anaconda3\\Lib\\site-packages\\sklearn\\ensemble\\_bagging.py:1253: UserWarning: Some inputs do not have OOB scores. This probably means too few estimators were used to compute any reliable oob estimates.\n",
      "  warn(\n",
      "C:\\Users\\TI\\anaconda3\\Lib\\site-packages\\sklearn\\ensemble\\_bagging.py:1253: UserWarning: Some inputs do not have OOB scores. This probably means too few estimators were used to compute any reliable oob estimates.\n",
      "  warn(\n"
     ]
    },
    {
     "name": "stdout",
     "output_type": "stream",
     "text": [
      "Iteration =  273  f(x) =  0.012142640487488922\n",
      "Iteration =  274  f(x) =  0.012142640487488922\n"
     ]
    },
    {
     "name": "stderr",
     "output_type": "stream",
     "text": [
      "C:\\Users\\TI\\anaconda3\\Lib\\site-packages\\sklearn\\ensemble\\_bagging.py:1253: UserWarning: Some inputs do not have OOB scores. This probably means too few estimators were used to compute any reliable oob estimates.\n",
      "  warn(\n"
     ]
    },
    {
     "name": "stdout",
     "output_type": "stream",
     "text": [
      "Iteration =  275  f(x) =  0.012142640487488922\n",
      "Iteration =  276  f(x) =  0.012142640487488922\n"
     ]
    },
    {
     "name": "stderr",
     "output_type": "stream",
     "text": [
      "C:\\Users\\TI\\anaconda3\\Lib\\site-packages\\sklearn\\ensemble\\_bagging.py:1253: UserWarning: Some inputs do not have OOB scores. This probably means too few estimators were used to compute any reliable oob estimates.\n",
      "  warn(\n"
     ]
    },
    {
     "name": "stdout",
     "output_type": "stream",
     "text": [
      "Iteration =  277  f(x) =  0.012142640487488922\n"
     ]
    },
    {
     "name": "stderr",
     "output_type": "stream",
     "text": [
      "C:\\Users\\TI\\anaconda3\\Lib\\site-packages\\sklearn\\ensemble\\_bagging.py:1253: UserWarning: Some inputs do not have OOB scores. This probably means too few estimators were used to compute any reliable oob estimates.\n",
      "  warn(\n"
     ]
    },
    {
     "name": "stdout",
     "output_type": "stream",
     "text": [
      "Iteration =  278  f(x) =  0.012142640487488922\n"
     ]
    },
    {
     "name": "stderr",
     "output_type": "stream",
     "text": [
      "C:\\Users\\TI\\anaconda3\\Lib\\site-packages\\sklearn\\ensemble\\_bagging.py:1253: UserWarning: Some inputs do not have OOB scores. This probably means too few estimators were used to compute any reliable oob estimates.\n",
      "  warn(\n",
      "C:\\Users\\TI\\anaconda3\\Lib\\site-packages\\sklearn\\ensemble\\_bagging.py:1253: UserWarning: Some inputs do not have OOB scores. This probably means too few estimators were used to compute any reliable oob estimates.\n",
      "  warn(\n"
     ]
    },
    {
     "name": "stdout",
     "output_type": "stream",
     "text": [
      "Iteration =  279  f(x) =  0.012142640487488922\n",
      "Iteration =  280  f(x) =  0.012142640487488922\n"
     ]
    },
    {
     "name": "stderr",
     "output_type": "stream",
     "text": [
      "C:\\Users\\TI\\anaconda3\\Lib\\site-packages\\sklearn\\ensemble\\_bagging.py:1253: UserWarning: Some inputs do not have OOB scores. This probably means too few estimators were used to compute any reliable oob estimates.\n",
      "  warn(\n",
      "C:\\Users\\TI\\anaconda3\\Lib\\site-packages\\sklearn\\ensemble\\_bagging.py:1253: UserWarning: Some inputs do not have OOB scores. This probably means too few estimators were used to compute any reliable oob estimates.\n",
      "  warn(\n"
     ]
    },
    {
     "name": "stdout",
     "output_type": "stream",
     "text": [
      "Iteration =  281  f(x) =  0.012142640487488922\n"
     ]
    },
    {
     "name": "stderr",
     "output_type": "stream",
     "text": [
      "C:\\Users\\TI\\anaconda3\\Lib\\site-packages\\sklearn\\ensemble\\_bagging.py:1253: UserWarning: Some inputs do not have OOB scores. This probably means too few estimators were used to compute any reliable oob estimates.\n",
      "  warn(\n"
     ]
    },
    {
     "name": "stdout",
     "output_type": "stream",
     "text": [
      "Iteration =  282  f(x) =  0.012142640487488922\n"
     ]
    },
    {
     "name": "stderr",
     "output_type": "stream",
     "text": [
      "C:\\Users\\TI\\anaconda3\\Lib\\site-packages\\sklearn\\ensemble\\_bagging.py:1253: UserWarning: Some inputs do not have OOB scores. This probably means too few estimators were used to compute any reliable oob estimates.\n",
      "  warn(\n",
      "C:\\Users\\TI\\anaconda3\\Lib\\site-packages\\sklearn\\ensemble\\_bagging.py:1253: UserWarning: Some inputs do not have OOB scores. This probably means too few estimators were used to compute any reliable oob estimates.\n",
      "  warn(\n"
     ]
    },
    {
     "name": "stdout",
     "output_type": "stream",
     "text": [
      "Iteration =  283  f(x) =  0.012142640487488922\n",
      "Iteration =  284  f(x) =  0.012142640487488922\n",
      "Iteration =  285  f(x) =  0.012142640487488922\n"
     ]
    },
    {
     "name": "stderr",
     "output_type": "stream",
     "text": [
      "C:\\Users\\TI\\anaconda3\\Lib\\site-packages\\sklearn\\ensemble\\_bagging.py:1253: UserWarning: Some inputs do not have OOB scores. This probably means too few estimators were used to compute any reliable oob estimates.\n",
      "  warn(\n",
      "C:\\Users\\TI\\anaconda3\\Lib\\site-packages\\sklearn\\ensemble\\_bagging.py:1253: UserWarning: Some inputs do not have OOB scores. This probably means too few estimators were used to compute any reliable oob estimates.\n",
      "  warn(\n",
      "C:\\Users\\TI\\anaconda3\\Lib\\site-packages\\sklearn\\ensemble\\_bagging.py:1253: UserWarning: Some inputs do not have OOB scores. This probably means too few estimators were used to compute any reliable oob estimates.\n",
      "  warn(\n",
      "C:\\Users\\TI\\anaconda3\\Lib\\site-packages\\sklearn\\ensemble\\_bagging.py:1253: UserWarning: Some inputs do not have OOB scores. This probably means too few estimators were used to compute any reliable oob estimates.\n",
      "  warn(\n"
     ]
    },
    {
     "name": "stdout",
     "output_type": "stream",
     "text": [
      "Iteration =  286  f(x) =  0.012142640487488922\n"
     ]
    },
    {
     "name": "stderr",
     "output_type": "stream",
     "text": [
      "C:\\Users\\TI\\anaconda3\\Lib\\site-packages\\sklearn\\ensemble\\_bagging.py:1253: UserWarning: Some inputs do not have OOB scores. This probably means too few estimators were used to compute any reliable oob estimates.\n",
      "  warn(\n",
      "C:\\Users\\TI\\anaconda3\\Lib\\site-packages\\sklearn\\ensemble\\_bagging.py:1253: UserWarning: Some inputs do not have OOB scores. This probably means too few estimators were used to compute any reliable oob estimates.\n",
      "  warn(\n"
     ]
    },
    {
     "name": "stdout",
     "output_type": "stream",
     "text": [
      "Iteration =  287  f(x) =  0.012142640487488922\n",
      "Iteration =  288  f(x) =  0.012142640487488922\n",
      "Iteration =  289  f(x) =  0.012142640487488922\n"
     ]
    },
    {
     "name": "stderr",
     "output_type": "stream",
     "text": [
      "C:\\Users\\TI\\anaconda3\\Lib\\site-packages\\sklearn\\ensemble\\_bagging.py:1253: UserWarning: Some inputs do not have OOB scores. This probably means too few estimators were used to compute any reliable oob estimates.\n",
      "  warn(\n",
      "C:\\Users\\TI\\anaconda3\\Lib\\site-packages\\sklearn\\ensemble\\_bagging.py:1253: UserWarning: Some inputs do not have OOB scores. This probably means too few estimators were used to compute any reliable oob estimates.\n",
      "  warn(\n",
      "C:\\Users\\TI\\anaconda3\\Lib\\site-packages\\sklearn\\ensemble\\_bagging.py:1253: UserWarning: Some inputs do not have OOB scores. This probably means too few estimators were used to compute any reliable oob estimates.\n",
      "  warn(\n"
     ]
    },
    {
     "name": "stdout",
     "output_type": "stream",
     "text": [
      "Iteration =  290  f(x) =  0.012142640487488922\n",
      "Iteration =  291  f(x) =  0.012142640487488922\n"
     ]
    },
    {
     "name": "stderr",
     "output_type": "stream",
     "text": [
      "C:\\Users\\TI\\anaconda3\\Lib\\site-packages\\sklearn\\ensemble\\_bagging.py:1253: UserWarning: Some inputs do not have OOB scores. This probably means too few estimators were used to compute any reliable oob estimates.\n",
      "  warn(\n"
     ]
    },
    {
     "name": "stdout",
     "output_type": "stream",
     "text": [
      "Iteration =  292  f(x) =  0.012142640487488922\n"
     ]
    },
    {
     "name": "stderr",
     "output_type": "stream",
     "text": [
      "C:\\Users\\TI\\anaconda3\\Lib\\site-packages\\sklearn\\ensemble\\_bagging.py:1253: UserWarning: Some inputs do not have OOB scores. This probably means too few estimators were used to compute any reliable oob estimates.\n",
      "  warn(\n"
     ]
    },
    {
     "name": "stdout",
     "output_type": "stream",
     "text": [
      "Iteration =  293  f(x) =  0.012142640487488922\n"
     ]
    },
    {
     "name": "stderr",
     "output_type": "stream",
     "text": [
      "C:\\Users\\TI\\anaconda3\\Lib\\site-packages\\sklearn\\ensemble\\_bagging.py:1253: UserWarning: Some inputs do not have OOB scores. This probably means too few estimators were used to compute any reliable oob estimates.\n",
      "  warn(\n"
     ]
    },
    {
     "name": "stdout",
     "output_type": "stream",
     "text": [
      "Iteration =  294  f(x) =  0.012142640487488922\n"
     ]
    },
    {
     "name": "stderr",
     "output_type": "stream",
     "text": [
      "C:\\Users\\TI\\anaconda3\\Lib\\site-packages\\sklearn\\ensemble\\_bagging.py:1253: UserWarning: Some inputs do not have OOB scores. This probably means too few estimators were used to compute any reliable oob estimates.\n",
      "  warn(\n"
     ]
    },
    {
     "name": "stdout",
     "output_type": "stream",
     "text": [
      "Iteration =  295  f(x) =  0.012142640487488922\n",
      "Iteration =  296  f(x) =  0.012142640487488922\n",
      "Iteration =  297  f(x) =  0.012142640487488922\n"
     ]
    },
    {
     "name": "stderr",
     "output_type": "stream",
     "text": [
      "C:\\Users\\TI\\anaconda3\\Lib\\site-packages\\sklearn\\ensemble\\_bagging.py:1253: UserWarning: Some inputs do not have OOB scores. This probably means too few estimators were used to compute any reliable oob estimates.\n",
      "  warn(\n"
     ]
    },
    {
     "name": "stdout",
     "output_type": "stream",
     "text": [
      "Iteration =  298  f(x) =  0.012142640487488922\n"
     ]
    },
    {
     "name": "stderr",
     "output_type": "stream",
     "text": [
      "C:\\Users\\TI\\anaconda3\\Lib\\site-packages\\sklearn\\ensemble\\_bagging.py:1253: UserWarning: Some inputs do not have OOB scores. This probably means too few estimators were used to compute any reliable oob estimates.\n",
      "  warn(\n",
      "C:\\Users\\TI\\anaconda3\\Lib\\site-packages\\sklearn\\ensemble\\_bagging.py:1253: UserWarning: Some inputs do not have OOB scores. This probably means too few estimators were used to compute any reliable oob estimates.\n",
      "  warn(\n"
     ]
    },
    {
     "name": "stdout",
     "output_type": "stream",
     "text": [
      "Iteration =  299  f(x) =  0.012142640487488922\n"
     ]
    },
    {
     "name": "stderr",
     "output_type": "stream",
     "text": [
      "C:\\Users\\TI\\anaconda3\\Lib\\site-packages\\sklearn\\ensemble\\_bagging.py:1253: UserWarning: Some inputs do not have OOB scores. This probably means too few estimators were used to compute any reliable oob estimates.\n",
      "  warn(\n",
      "C:\\Users\\TI\\anaconda3\\Lib\\site-packages\\sklearn\\ensemble\\_bagging.py:1253: UserWarning: Some inputs do not have OOB scores. This probably means too few estimators were used to compute any reliable oob estimates.\n",
      "  warn(\n"
     ]
    },
    {
     "name": "stdout",
     "output_type": "stream",
     "text": [
      "Iteration =  300  f(x) =  0.012142640487488922\n",
      "Iteration =  301  f(x) =  0.012142640487488922\n"
     ]
    },
    {
     "name": "stderr",
     "output_type": "stream",
     "text": [
      "C:\\Users\\TI\\anaconda3\\Lib\\site-packages\\sklearn\\ensemble\\_bagging.py:1253: UserWarning: Some inputs do not have OOB scores. This probably means too few estimators were used to compute any reliable oob estimates.\n",
      "  warn(\n"
     ]
    },
    {
     "name": "stdout",
     "output_type": "stream",
     "text": [
      "Iteration =  302  f(x) =  0.012142640487488922\n"
     ]
    },
    {
     "name": "stderr",
     "output_type": "stream",
     "text": [
      "C:\\Users\\TI\\anaconda3\\Lib\\site-packages\\sklearn\\ensemble\\_bagging.py:1253: UserWarning: Some inputs do not have OOB scores. This probably means too few estimators were used to compute any reliable oob estimates.\n",
      "  warn(\n"
     ]
    },
    {
     "name": "stdout",
     "output_type": "stream",
     "text": [
      "Iteration =  303  f(x) =  0.012142640487488922\n",
      "Iteration =  304  f(x) =  0.012142640487488922\n"
     ]
    },
    {
     "name": "stderr",
     "output_type": "stream",
     "text": [
      "C:\\Users\\TI\\anaconda3\\Lib\\site-packages\\sklearn\\ensemble\\_bagging.py:1253: UserWarning: Some inputs do not have OOB scores. This probably means too few estimators were used to compute any reliable oob estimates.\n",
      "  warn(\n"
     ]
    },
    {
     "name": "stdout",
     "output_type": "stream",
     "text": [
      "Iteration =  305  f(x) =  0.012142640487488922\n"
     ]
    },
    {
     "name": "stderr",
     "output_type": "stream",
     "text": [
      "C:\\Users\\TI\\anaconda3\\Lib\\site-packages\\sklearn\\ensemble\\_bagging.py:1253: UserWarning: Some inputs do not have OOB scores. This probably means too few estimators were used to compute any reliable oob estimates.\n",
      "  warn(\n"
     ]
    },
    {
     "name": "stdout",
     "output_type": "stream",
     "text": [
      "Iteration =  306  f(x) =  0.012142640487488922\n"
     ]
    },
    {
     "name": "stderr",
     "output_type": "stream",
     "text": [
      "C:\\Users\\TI\\anaconda3\\Lib\\site-packages\\sklearn\\ensemble\\_bagging.py:1253: UserWarning: Some inputs do not have OOB scores. This probably means too few estimators were used to compute any reliable oob estimates.\n",
      "  warn(\n"
     ]
    },
    {
     "name": "stdout",
     "output_type": "stream",
     "text": [
      "Iteration =  307  f(x) =  0.012142640487488922\n"
     ]
    },
    {
     "name": "stderr",
     "output_type": "stream",
     "text": [
      "C:\\Users\\TI\\anaconda3\\Lib\\site-packages\\sklearn\\ensemble\\_bagging.py:1253: UserWarning: Some inputs do not have OOB scores. This probably means too few estimators were used to compute any reliable oob estimates.\n",
      "  warn(\n"
     ]
    },
    {
     "name": "stdout",
     "output_type": "stream",
     "text": [
      "Iteration =  308  f(x) =  0.012142640487488922\n"
     ]
    },
    {
     "name": "stderr",
     "output_type": "stream",
     "text": [
      "C:\\Users\\TI\\anaconda3\\Lib\\site-packages\\sklearn\\ensemble\\_bagging.py:1253: UserWarning: Some inputs do not have OOB scores. This probably means too few estimators were used to compute any reliable oob estimates.\n",
      "  warn(\n",
      "C:\\Users\\TI\\anaconda3\\Lib\\site-packages\\sklearn\\ensemble\\_bagging.py:1253: UserWarning: Some inputs do not have OOB scores. This probably means too few estimators were used to compute any reliable oob estimates.\n",
      "  warn(\n"
     ]
    },
    {
     "name": "stdout",
     "output_type": "stream",
     "text": [
      "Iteration =  309  f(x) =  0.012142640487488922\n",
      "Iteration =  310  f(x) =  0.012142640487488922\n",
      "Iteration =  311  f(x) =  0.012142640487488922\n"
     ]
    },
    {
     "name": "stderr",
     "output_type": "stream",
     "text": [
      "C:\\Users\\TI\\anaconda3\\Lib\\site-packages\\sklearn\\ensemble\\_bagging.py:1253: UserWarning: Some inputs do not have OOB scores. This probably means too few estimators were used to compute any reliable oob estimates.\n",
      "  warn(\n"
     ]
    },
    {
     "name": "stdout",
     "output_type": "stream",
     "text": [
      "Iteration =  312  f(x) =  0.012142640487488922\n",
      "Iteration =  313  f(x) =  0.012142640487488922\n",
      "Iteration =  314  f(x) =  0.012142640487488922\n",
      "Iteration =  315  f(x) =  0.012142640487488922\n",
      "Iteration =  316  f(x) =  0.012142640487488922\n",
      "Iteration =  317  f(x) =  0.012142640487488922\n"
     ]
    },
    {
     "name": "stderr",
     "output_type": "stream",
     "text": [
      "C:\\Users\\TI\\anaconda3\\Lib\\site-packages\\sklearn\\ensemble\\_bagging.py:1253: UserWarning: Some inputs do not have OOB scores. This probably means too few estimators were used to compute any reliable oob estimates.\n",
      "  warn(\n",
      "C:\\Users\\TI\\anaconda3\\Lib\\site-packages\\sklearn\\ensemble\\_bagging.py:1253: UserWarning: Some inputs do not have OOB scores. This probably means too few estimators were used to compute any reliable oob estimates.\n",
      "  warn(\n"
     ]
    },
    {
     "name": "stdout",
     "output_type": "stream",
     "text": [
      "Iteration =  318  f(x) =  0.012142640487488922\n"
     ]
    },
    {
     "name": "stderr",
     "output_type": "stream",
     "text": [
      "C:\\Users\\TI\\anaconda3\\Lib\\site-packages\\sklearn\\ensemble\\_bagging.py:1253: UserWarning: Some inputs do not have OOB scores. This probably means too few estimators were used to compute any reliable oob estimates.\n",
      "  warn(\n"
     ]
    },
    {
     "name": "stdout",
     "output_type": "stream",
     "text": [
      "Iteration =  319  f(x) =  0.012142640487488922\n",
      "Iteration =  320  f(x) =  0.012142640487488922\n"
     ]
    },
    {
     "name": "stderr",
     "output_type": "stream",
     "text": [
      "C:\\Users\\TI\\anaconda3\\Lib\\site-packages\\sklearn\\ensemble\\_bagging.py:1253: UserWarning: Some inputs do not have OOB scores. This probably means too few estimators were used to compute any reliable oob estimates.\n",
      "  warn(\n"
     ]
    },
    {
     "name": "stdout",
     "output_type": "stream",
     "text": [
      "Iteration =  321  f(x) =  0.012142640487488922\n"
     ]
    },
    {
     "name": "stderr",
     "output_type": "stream",
     "text": [
      "C:\\Users\\TI\\anaconda3\\Lib\\site-packages\\sklearn\\ensemble\\_bagging.py:1253: UserWarning: Some inputs do not have OOB scores. This probably means too few estimators were used to compute any reliable oob estimates.\n",
      "  warn(\n",
      "C:\\Users\\TI\\anaconda3\\Lib\\site-packages\\sklearn\\ensemble\\_bagging.py:1253: UserWarning: Some inputs do not have OOB scores. This probably means too few estimators were used to compute any reliable oob estimates.\n",
      "  warn(\n"
     ]
    },
    {
     "name": "stdout",
     "output_type": "stream",
     "text": [
      "Iteration =  322  f(x) =  0.012142640487488922\n"
     ]
    },
    {
     "name": "stderr",
     "output_type": "stream",
     "text": [
      "C:\\Users\\TI\\anaconda3\\Lib\\site-packages\\sklearn\\ensemble\\_bagging.py:1253: UserWarning: Some inputs do not have OOB scores. This probably means too few estimators were used to compute any reliable oob estimates.\n",
      "  warn(\n",
      "C:\\Users\\TI\\anaconda3\\Lib\\site-packages\\sklearn\\ensemble\\_bagging.py:1253: UserWarning: Some inputs do not have OOB scores. This probably means too few estimators were used to compute any reliable oob estimates.\n",
      "  warn(\n"
     ]
    },
    {
     "name": "stdout",
     "output_type": "stream",
     "text": [
      "Iteration =  323  f(x) =  0.012142640487488922\n"
     ]
    },
    {
     "name": "stderr",
     "output_type": "stream",
     "text": [
      "C:\\Users\\TI\\anaconda3\\Lib\\site-packages\\sklearn\\ensemble\\_bagging.py:1253: UserWarning: Some inputs do not have OOB scores. This probably means too few estimators were used to compute any reliable oob estimates.\n",
      "  warn(\n",
      "C:\\Users\\TI\\anaconda3\\Lib\\site-packages\\sklearn\\ensemble\\_bagging.py:1253: UserWarning: Some inputs do not have OOB scores. This probably means too few estimators were used to compute any reliable oob estimates.\n",
      "  warn(\n"
     ]
    },
    {
     "name": "stdout",
     "output_type": "stream",
     "text": [
      "Iteration =  324  f(x) =  0.012142640487488922\n"
     ]
    },
    {
     "name": "stderr",
     "output_type": "stream",
     "text": [
      "C:\\Users\\TI\\anaconda3\\Lib\\site-packages\\sklearn\\ensemble\\_bagging.py:1253: UserWarning: Some inputs do not have OOB scores. This probably means too few estimators were used to compute any reliable oob estimates.\n",
      "  warn(\n"
     ]
    },
    {
     "name": "stdout",
     "output_type": "stream",
     "text": [
      "Iteration =  325  f(x) =  0.012142640487488922\n",
      "Iteration =  326  f(x) =  0.012142640487488922\n",
      "Iteration =  327  f(x) =  0.012142640487488922\n"
     ]
    },
    {
     "name": "stderr",
     "output_type": "stream",
     "text": [
      "C:\\Users\\TI\\anaconda3\\Lib\\site-packages\\sklearn\\ensemble\\_bagging.py:1253: UserWarning: Some inputs do not have OOB scores. This probably means too few estimators were used to compute any reliable oob estimates.\n",
      "  warn(\n"
     ]
    },
    {
     "name": "stdout",
     "output_type": "stream",
     "text": [
      "Iteration =  328  f(x) =  0.012142640487488922\n"
     ]
    },
    {
     "name": "stderr",
     "output_type": "stream",
     "text": [
      "C:\\Users\\TI\\anaconda3\\Lib\\site-packages\\sklearn\\ensemble\\_bagging.py:1253: UserWarning: Some inputs do not have OOB scores. This probably means too few estimators were used to compute any reliable oob estimates.\n",
      "  warn(\n"
     ]
    },
    {
     "name": "stdout",
     "output_type": "stream",
     "text": [
      "Iteration =  329  f(x) =  0.012142640487488922\n"
     ]
    },
    {
     "name": "stderr",
     "output_type": "stream",
     "text": [
      "C:\\Users\\TI\\anaconda3\\Lib\\site-packages\\sklearn\\ensemble\\_bagging.py:1253: UserWarning: Some inputs do not have OOB scores. This probably means too few estimators were used to compute any reliable oob estimates.\n",
      "  warn(\n"
     ]
    },
    {
     "name": "stdout",
     "output_type": "stream",
     "text": [
      "Iteration =  330  f(x) =  0.012142640487488922\n"
     ]
    },
    {
     "name": "stderr",
     "output_type": "stream",
     "text": [
      "C:\\Users\\TI\\anaconda3\\Lib\\site-packages\\sklearn\\ensemble\\_bagging.py:1253: UserWarning: Some inputs do not have OOB scores. This probably means too few estimators were used to compute any reliable oob estimates.\n",
      "  warn(\n"
     ]
    },
    {
     "name": "stdout",
     "output_type": "stream",
     "text": [
      "Iteration =  331  f(x) =  0.012142640487488922\n",
      "Iteration =  332  f(x) =  0.012142640487488922\n",
      "Iteration =  333  f(x) =  0.012142640487488922\n"
     ]
    },
    {
     "name": "stderr",
     "output_type": "stream",
     "text": [
      "C:\\Users\\TI\\anaconda3\\Lib\\site-packages\\sklearn\\ensemble\\_bagging.py:1253: UserWarning: Some inputs do not have OOB scores. This probably means too few estimators were used to compute any reliable oob estimates.\n",
      "  warn(\n"
     ]
    },
    {
     "name": "stdout",
     "output_type": "stream",
     "text": [
      "Iteration =  334  f(x) =  0.012142640487488922\n",
      "Iteration =  335  f(x) =  0.012142640487488922\n"
     ]
    },
    {
     "name": "stderr",
     "output_type": "stream",
     "text": [
      "C:\\Users\\TI\\anaconda3\\Lib\\site-packages\\sklearn\\ensemble\\_bagging.py:1253: UserWarning: Some inputs do not have OOB scores. This probably means too few estimators were used to compute any reliable oob estimates.\n",
      "  warn(\n"
     ]
    },
    {
     "name": "stdout",
     "output_type": "stream",
     "text": [
      "Iteration =  336  f(x) =  0.012142640487488922\n",
      "Iteration =  337  f(x) =  0.012142640487488922\n"
     ]
    },
    {
     "name": "stderr",
     "output_type": "stream",
     "text": [
      "C:\\Users\\TI\\anaconda3\\Lib\\site-packages\\sklearn\\ensemble\\_bagging.py:1253: UserWarning: Some inputs do not have OOB scores. This probably means too few estimators were used to compute any reliable oob estimates.\n",
      "  warn(\n"
     ]
    },
    {
     "name": "stdout",
     "output_type": "stream",
     "text": [
      "Iteration =  338  f(x) =  0.012142640487488922\n"
     ]
    },
    {
     "name": "stderr",
     "output_type": "stream",
     "text": [
      "C:\\Users\\TI\\anaconda3\\Lib\\site-packages\\sklearn\\ensemble\\_bagging.py:1253: UserWarning: Some inputs do not have OOB scores. This probably means too few estimators were used to compute any reliable oob estimates.\n",
      "  warn(\n"
     ]
    },
    {
     "name": "stdout",
     "output_type": "stream",
     "text": [
      "Iteration =  339  f(x) =  0.012142640487488922\n"
     ]
    },
    {
     "name": "stderr",
     "output_type": "stream",
     "text": [
      "C:\\Users\\TI\\anaconda3\\Lib\\site-packages\\sklearn\\ensemble\\_bagging.py:1253: UserWarning: Some inputs do not have OOB scores. This probably means too few estimators were used to compute any reliable oob estimates.\n",
      "  warn(\n"
     ]
    },
    {
     "name": "stdout",
     "output_type": "stream",
     "text": [
      "Iteration =  340  f(x) =  0.012142640487488922\n"
     ]
    },
    {
     "name": "stderr",
     "output_type": "stream",
     "text": [
      "C:\\Users\\TI\\anaconda3\\Lib\\site-packages\\sklearn\\ensemble\\_bagging.py:1253: UserWarning: Some inputs do not have OOB scores. This probably means too few estimators were used to compute any reliable oob estimates.\n",
      "  warn(\n"
     ]
    },
    {
     "name": "stdout",
     "output_type": "stream",
     "text": [
      "Iteration =  341  f(x) =  0.012142640487488922\n"
     ]
    },
    {
     "name": "stderr",
     "output_type": "stream",
     "text": [
      "C:\\Users\\TI\\anaconda3\\Lib\\site-packages\\sklearn\\ensemble\\_bagging.py:1253: UserWarning: Some inputs do not have OOB scores. This probably means too few estimators were used to compute any reliable oob estimates.\n",
      "  warn(\n"
     ]
    },
    {
     "name": "stdout",
     "output_type": "stream",
     "text": [
      "Iteration =  342  f(x) =  0.012142640487488922\n",
      "Iteration =  343  f(x) =  0.012142640487488922\n",
      "Iteration =  344  f(x) =  0.012142640487488922\n",
      "Iteration =  345  f(x) =  0.012142640487488922\n"
     ]
    },
    {
     "name": "stderr",
     "output_type": "stream",
     "text": [
      "C:\\Users\\TI\\anaconda3\\Lib\\site-packages\\sklearn\\ensemble\\_bagging.py:1253: UserWarning: Some inputs do not have OOB scores. This probably means too few estimators were used to compute any reliable oob estimates.\n",
      "  warn(\n",
      "C:\\Users\\TI\\anaconda3\\Lib\\site-packages\\sklearn\\ensemble\\_bagging.py:1253: UserWarning: Some inputs do not have OOB scores. This probably means too few estimators were used to compute any reliable oob estimates.\n",
      "  warn(\n"
     ]
    },
    {
     "name": "stdout",
     "output_type": "stream",
     "text": [
      "Iteration =  346  f(x) =  0.012142640487488922\n"
     ]
    },
    {
     "name": "stderr",
     "output_type": "stream",
     "text": [
      "C:\\Users\\TI\\anaconda3\\Lib\\site-packages\\sklearn\\ensemble\\_bagging.py:1253: UserWarning: Some inputs do not have OOB scores. This probably means too few estimators were used to compute any reliable oob estimates.\n",
      "  warn(\n"
     ]
    },
    {
     "name": "stdout",
     "output_type": "stream",
     "text": [
      "Iteration =  347  f(x) =  0.012142640487488922\n",
      "Iteration =  348  f(x) =  0.012142640487488922\n"
     ]
    },
    {
     "name": "stderr",
     "output_type": "stream",
     "text": [
      "C:\\Users\\TI\\anaconda3\\Lib\\site-packages\\sklearn\\ensemble\\_bagging.py:1253: UserWarning: Some inputs do not have OOB scores. This probably means too few estimators were used to compute any reliable oob estimates.\n",
      "  warn(\n",
      "C:\\Users\\TI\\anaconda3\\Lib\\site-packages\\sklearn\\ensemble\\_bagging.py:1253: UserWarning: Some inputs do not have OOB scores. This probably means too few estimators were used to compute any reliable oob estimates.\n",
      "  warn(\n",
      "C:\\Users\\TI\\anaconda3\\Lib\\site-packages\\sklearn\\ensemble\\_bagging.py:1253: UserWarning: Some inputs do not have OOB scores. This probably means too few estimators were used to compute any reliable oob estimates.\n",
      "  warn(\n",
      "C:\\Users\\TI\\anaconda3\\Lib\\site-packages\\sklearn\\ensemble\\_bagging.py:1253: UserWarning: Some inputs do not have OOB scores. This probably means too few estimators were used to compute any reliable oob estimates.\n",
      "  warn(\n"
     ]
    },
    {
     "name": "stdout",
     "output_type": "stream",
     "text": [
      "Iteration =  349  f(x) =  0.012142640487488922\n"
     ]
    },
    {
     "name": "stderr",
     "output_type": "stream",
     "text": [
      "C:\\Users\\TI\\anaconda3\\Lib\\site-packages\\sklearn\\ensemble\\_bagging.py:1253: UserWarning: Some inputs do not have OOB scores. This probably means too few estimators were used to compute any reliable oob estimates.\n",
      "  warn(\n"
     ]
    },
    {
     "name": "stdout",
     "output_type": "stream",
     "text": [
      "Iteration =  350  f(x) =  0.012142640487488922\n"
     ]
    },
    {
     "name": "stderr",
     "output_type": "stream",
     "text": [
      "C:\\Users\\TI\\anaconda3\\Lib\\site-packages\\sklearn\\ensemble\\_bagging.py:1253: UserWarning: Some inputs do not have OOB scores. This probably means too few estimators were used to compute any reliable oob estimates.\n",
      "  warn(\n",
      "C:\\Users\\TI\\anaconda3\\Lib\\site-packages\\sklearn\\ensemble\\_bagging.py:1253: UserWarning: Some inputs do not have OOB scores. This probably means too few estimators were used to compute any reliable oob estimates.\n",
      "  warn(\n",
      "C:\\Users\\TI\\anaconda3\\Lib\\site-packages\\sklearn\\ensemble\\_bagging.py:1253: UserWarning: Some inputs do not have OOB scores. This probably means too few estimators were used to compute any reliable oob estimates.\n",
      "  warn(\n",
      "C:\\Users\\TI\\anaconda3\\Lib\\site-packages\\sklearn\\ensemble\\_bagging.py:1253: UserWarning: Some inputs do not have OOB scores. This probably means too few estimators were used to compute any reliable oob estimates.\n",
      "  warn(\n"
     ]
    },
    {
     "name": "stdout",
     "output_type": "stream",
     "text": [
      "Iteration =  351  f(x) =  0.012142640487488922\n"
     ]
    },
    {
     "name": "stderr",
     "output_type": "stream",
     "text": [
      "C:\\Users\\TI\\anaconda3\\Lib\\site-packages\\sklearn\\ensemble\\_bagging.py:1253: UserWarning: Some inputs do not have OOB scores. This probably means too few estimators were used to compute any reliable oob estimates.\n",
      "  warn(\n"
     ]
    },
    {
     "name": "stdout",
     "output_type": "stream",
     "text": [
      "Iteration =  352  f(x) =  0.012142640487488922\n"
     ]
    },
    {
     "name": "stderr",
     "output_type": "stream",
     "text": [
      "C:\\Users\\TI\\anaconda3\\Lib\\site-packages\\sklearn\\ensemble\\_bagging.py:1253: UserWarning: Some inputs do not have OOB scores. This probably means too few estimators were used to compute any reliable oob estimates.\n",
      "  warn(\n"
     ]
    },
    {
     "name": "stdout",
     "output_type": "stream",
     "text": [
      "Iteration =  353  f(x) =  0.012142640487488922\n"
     ]
    },
    {
     "name": "stderr",
     "output_type": "stream",
     "text": [
      "C:\\Users\\TI\\anaconda3\\Lib\\site-packages\\sklearn\\ensemble\\_bagging.py:1253: UserWarning: Some inputs do not have OOB scores. This probably means too few estimators were used to compute any reliable oob estimates.\n",
      "  warn(\n"
     ]
    },
    {
     "name": "stdout",
     "output_type": "stream",
     "text": [
      "Iteration =  354  f(x) =  0.012142640487488922\n",
      "Iteration =  355  f(x) =  0.012142640487488922\n",
      "Iteration =  356  f(x) =  0.012142640487488922\n"
     ]
    },
    {
     "name": "stderr",
     "output_type": "stream",
     "text": [
      "C:\\Users\\TI\\anaconda3\\Lib\\site-packages\\sklearn\\ensemble\\_bagging.py:1253: UserWarning: Some inputs do not have OOB scores. This probably means too few estimators were used to compute any reliable oob estimates.\n",
      "  warn(\n",
      "C:\\Users\\TI\\anaconda3\\Lib\\site-packages\\sklearn\\ensemble\\_bagging.py:1253: UserWarning: Some inputs do not have OOB scores. This probably means too few estimators were used to compute any reliable oob estimates.\n",
      "  warn(\n"
     ]
    },
    {
     "name": "stdout",
     "output_type": "stream",
     "text": [
      "Iteration =  357  f(x) =  0.012142640487488922\n"
     ]
    },
    {
     "name": "stderr",
     "output_type": "stream",
     "text": [
      "C:\\Users\\TI\\anaconda3\\Lib\\site-packages\\sklearn\\ensemble\\_bagging.py:1253: UserWarning: Some inputs do not have OOB scores. This probably means too few estimators were used to compute any reliable oob estimates.\n",
      "  warn(\n"
     ]
    },
    {
     "name": "stdout",
     "output_type": "stream",
     "text": [
      "Iteration =  358  f(x) =  0.012142640487488922\n",
      "Iteration =  359  f(x) =  0.012142640487488922\n",
      "Iteration =  360  f(x) =  0.012142640487488922\n"
     ]
    },
    {
     "name": "stderr",
     "output_type": "stream",
     "text": [
      "C:\\Users\\TI\\anaconda3\\Lib\\site-packages\\sklearn\\ensemble\\_bagging.py:1253: UserWarning: Some inputs do not have OOB scores. This probably means too few estimators were used to compute any reliable oob estimates.\n",
      "  warn(\n",
      "C:\\Users\\TI\\anaconda3\\Lib\\site-packages\\sklearn\\ensemble\\_bagging.py:1253: UserWarning: Some inputs do not have OOB scores. This probably means too few estimators were used to compute any reliable oob estimates.\n",
      "  warn(\n"
     ]
    },
    {
     "name": "stdout",
     "output_type": "stream",
     "text": [
      "Iteration =  361  f(x) =  0.012142640487488922\n"
     ]
    },
    {
     "name": "stderr",
     "output_type": "stream",
     "text": [
      "C:\\Users\\TI\\anaconda3\\Lib\\site-packages\\sklearn\\ensemble\\_bagging.py:1253: UserWarning: Some inputs do not have OOB scores. This probably means too few estimators were used to compute any reliable oob estimates.\n",
      "  warn(\n"
     ]
    },
    {
     "name": "stdout",
     "output_type": "stream",
     "text": [
      "Iteration =  362  f(x) =  0.012142640487488922\n",
      "Iteration =  363  f(x) =  0.012142640487488922\n"
     ]
    },
    {
     "name": "stderr",
     "output_type": "stream",
     "text": [
      "C:\\Users\\TI\\anaconda3\\Lib\\site-packages\\sklearn\\ensemble\\_bagging.py:1253: UserWarning: Some inputs do not have OOB scores. This probably means too few estimators were used to compute any reliable oob estimates.\n",
      "  warn(\n",
      "C:\\Users\\TI\\anaconda3\\Lib\\site-packages\\sklearn\\ensemble\\_bagging.py:1253: UserWarning: Some inputs do not have OOB scores. This probably means too few estimators were used to compute any reliable oob estimates.\n",
      "  warn(\n"
     ]
    },
    {
     "name": "stdout",
     "output_type": "stream",
     "text": [
      "Iteration =  364  f(x) =  0.012142640487488922\n"
     ]
    },
    {
     "name": "stderr",
     "output_type": "stream",
     "text": [
      "C:\\Users\\TI\\anaconda3\\Lib\\site-packages\\sklearn\\ensemble\\_bagging.py:1253: UserWarning: Some inputs do not have OOB scores. This probably means too few estimators were used to compute any reliable oob estimates.\n",
      "  warn(\n"
     ]
    },
    {
     "name": "stdout",
     "output_type": "stream",
     "text": [
      "Iteration =  365  f(x) =  0.012142640487488922\n"
     ]
    },
    {
     "name": "stderr",
     "output_type": "stream",
     "text": [
      "C:\\Users\\TI\\anaconda3\\Lib\\site-packages\\sklearn\\ensemble\\_bagging.py:1253: UserWarning: Some inputs do not have OOB scores. This probably means too few estimators were used to compute any reliable oob estimates.\n",
      "  warn(\n",
      "C:\\Users\\TI\\anaconda3\\Lib\\site-packages\\sklearn\\ensemble\\_bagging.py:1253: UserWarning: Some inputs do not have OOB scores. This probably means too few estimators were used to compute any reliable oob estimates.\n",
      "  warn(\n"
     ]
    },
    {
     "name": "stdout",
     "output_type": "stream",
     "text": [
      "Iteration =  366  f(x) =  0.012142640487488922\n"
     ]
    },
    {
     "name": "stderr",
     "output_type": "stream",
     "text": [
      "C:\\Users\\TI\\anaconda3\\Lib\\site-packages\\sklearn\\ensemble\\_bagging.py:1253: UserWarning: Some inputs do not have OOB scores. This probably means too few estimators were used to compute any reliable oob estimates.\n",
      "  warn(\n"
     ]
    },
    {
     "name": "stdout",
     "output_type": "stream",
     "text": [
      "Iteration =  367  f(x) =  0.012142640487488922\n"
     ]
    },
    {
     "name": "stderr",
     "output_type": "stream",
     "text": [
      "C:\\Users\\TI\\anaconda3\\Lib\\site-packages\\sklearn\\ensemble\\_bagging.py:1253: UserWarning: Some inputs do not have OOB scores. This probably means too few estimators were used to compute any reliable oob estimates.\n",
      "  warn(\n"
     ]
    },
    {
     "name": "stdout",
     "output_type": "stream",
     "text": [
      "Iteration =  368  f(x) =  0.012142640487488922\n"
     ]
    },
    {
     "name": "stderr",
     "output_type": "stream",
     "text": [
      "C:\\Users\\TI\\anaconda3\\Lib\\site-packages\\sklearn\\ensemble\\_bagging.py:1253: UserWarning: Some inputs do not have OOB scores. This probably means too few estimators were used to compute any reliable oob estimates.\n",
      "  warn(\n"
     ]
    },
    {
     "name": "stdout",
     "output_type": "stream",
     "text": [
      "Iteration =  369  f(x) =  0.012142640487488922\n"
     ]
    },
    {
     "name": "stderr",
     "output_type": "stream",
     "text": [
      "C:\\Users\\TI\\anaconda3\\Lib\\site-packages\\sklearn\\ensemble\\_bagging.py:1253: UserWarning: Some inputs do not have OOB scores. This probably means too few estimators were used to compute any reliable oob estimates.\n",
      "  warn(\n",
      "C:\\Users\\TI\\anaconda3\\Lib\\site-packages\\sklearn\\ensemble\\_bagging.py:1253: UserWarning: Some inputs do not have OOB scores. This probably means too few estimators were used to compute any reliable oob estimates.\n",
      "  warn(\n"
     ]
    },
    {
     "name": "stdout",
     "output_type": "stream",
     "text": [
      "Iteration =  370  f(x) =  0.012142640487488922\n",
      "Iteration =  371  f(x) =  0.012142640487488922\n"
     ]
    },
    {
     "name": "stderr",
     "output_type": "stream",
     "text": [
      "C:\\Users\\TI\\anaconda3\\Lib\\site-packages\\sklearn\\ensemble\\_bagging.py:1253: UserWarning: Some inputs do not have OOB scores. This probably means too few estimators were used to compute any reliable oob estimates.\n",
      "  warn(\n"
     ]
    },
    {
     "name": "stdout",
     "output_type": "stream",
     "text": [
      "Iteration =  372  f(x) =  0.012142640487488922\n"
     ]
    },
    {
     "name": "stderr",
     "output_type": "stream",
     "text": [
      "C:\\Users\\TI\\anaconda3\\Lib\\site-packages\\sklearn\\ensemble\\_bagging.py:1253: UserWarning: Some inputs do not have OOB scores. This probably means too few estimators were used to compute any reliable oob estimates.\n",
      "  warn(\n",
      "C:\\Users\\TI\\anaconda3\\Lib\\site-packages\\sklearn\\ensemble\\_bagging.py:1253: UserWarning: Some inputs do not have OOB scores. This probably means too few estimators were used to compute any reliable oob estimates.\n",
      "  warn(\n"
     ]
    },
    {
     "name": "stdout",
     "output_type": "stream",
     "text": [
      "Iteration =  373  f(x) =  0.012142640487488922\n"
     ]
    },
    {
     "name": "stderr",
     "output_type": "stream",
     "text": [
      "C:\\Users\\TI\\anaconda3\\Lib\\site-packages\\sklearn\\ensemble\\_bagging.py:1253: UserWarning: Some inputs do not have OOB scores. This probably means too few estimators were used to compute any reliable oob estimates.\n",
      "  warn(\n",
      "C:\\Users\\TI\\anaconda3\\Lib\\site-packages\\sklearn\\ensemble\\_bagging.py:1253: UserWarning: Some inputs do not have OOB scores. This probably means too few estimators were used to compute any reliable oob estimates.\n",
      "  warn(\n",
      "C:\\Users\\TI\\anaconda3\\Lib\\site-packages\\sklearn\\ensemble\\_bagging.py:1253: UserWarning: Some inputs do not have OOB scores. This probably means too few estimators were used to compute any reliable oob estimates.\n",
      "  warn(\n"
     ]
    },
    {
     "name": "stdout",
     "output_type": "stream",
     "text": [
      "Iteration =  374  f(x) =  0.012142640487488922\n"
     ]
    },
    {
     "name": "stderr",
     "output_type": "stream",
     "text": [
      "C:\\Users\\TI\\anaconda3\\Lib\\site-packages\\sklearn\\ensemble\\_bagging.py:1253: UserWarning: Some inputs do not have OOB scores. This probably means too few estimators were used to compute any reliable oob estimates.\n",
      "  warn(\n"
     ]
    },
    {
     "name": "stdout",
     "output_type": "stream",
     "text": [
      "Iteration =  375  f(x) =  0.012142640487488922\n",
      "Iteration =  376  f(x) =  0.012142640487488922\n"
     ]
    },
    {
     "name": "stderr",
     "output_type": "stream",
     "text": [
      "C:\\Users\\TI\\anaconda3\\Lib\\site-packages\\sklearn\\ensemble\\_bagging.py:1253: UserWarning: Some inputs do not have OOB scores. This probably means too few estimators were used to compute any reliable oob estimates.\n",
      "  warn(\n",
      "C:\\Users\\TI\\anaconda3\\Lib\\site-packages\\sklearn\\ensemble\\_bagging.py:1253: UserWarning: Some inputs do not have OOB scores. This probably means too few estimators were used to compute any reliable oob estimates.\n",
      "  warn(\n"
     ]
    },
    {
     "name": "stdout",
     "output_type": "stream",
     "text": [
      "Iteration =  377  f(x) =  0.012142640487488922\n"
     ]
    },
    {
     "name": "stderr",
     "output_type": "stream",
     "text": [
      "C:\\Users\\TI\\anaconda3\\Lib\\site-packages\\sklearn\\ensemble\\_bagging.py:1253: UserWarning: Some inputs do not have OOB scores. This probably means too few estimators were used to compute any reliable oob estimates.\n",
      "  warn(\n"
     ]
    },
    {
     "name": "stdout",
     "output_type": "stream",
     "text": [
      "Iteration =  378  f(x) =  0.012142640487488922\n"
     ]
    },
    {
     "name": "stderr",
     "output_type": "stream",
     "text": [
      "C:\\Users\\TI\\anaconda3\\Lib\\site-packages\\sklearn\\ensemble\\_bagging.py:1253: UserWarning: Some inputs do not have OOB scores. This probably means too few estimators were used to compute any reliable oob estimates.\n",
      "  warn(\n"
     ]
    },
    {
     "name": "stdout",
     "output_type": "stream",
     "text": [
      "Iteration =  379  f(x) =  0.012142640487488922\n"
     ]
    },
    {
     "name": "stderr",
     "output_type": "stream",
     "text": [
      "C:\\Users\\TI\\anaconda3\\Lib\\site-packages\\sklearn\\ensemble\\_bagging.py:1253: UserWarning: Some inputs do not have OOB scores. This probably means too few estimators were used to compute any reliable oob estimates.\n",
      "  warn(\n"
     ]
    },
    {
     "name": "stdout",
     "output_type": "stream",
     "text": [
      "Iteration =  380  f(x) =  0.012142640487488922\n"
     ]
    },
    {
     "name": "stderr",
     "output_type": "stream",
     "text": [
      "C:\\Users\\TI\\anaconda3\\Lib\\site-packages\\sklearn\\ensemble\\_bagging.py:1253: UserWarning: Some inputs do not have OOB scores. This probably means too few estimators were used to compute any reliable oob estimates.\n",
      "  warn(\n"
     ]
    },
    {
     "name": "stdout",
     "output_type": "stream",
     "text": [
      "Iteration =  381  f(x) =  0.012142640487488922\n"
     ]
    },
    {
     "name": "stderr",
     "output_type": "stream",
     "text": [
      "C:\\Users\\TI\\anaconda3\\Lib\\site-packages\\sklearn\\ensemble\\_bagging.py:1253: UserWarning: Some inputs do not have OOB scores. This probably means too few estimators were used to compute any reliable oob estimates.\n",
      "  warn(\n",
      "C:\\Users\\TI\\anaconda3\\Lib\\site-packages\\sklearn\\ensemble\\_bagging.py:1253: UserWarning: Some inputs do not have OOB scores. This probably means too few estimators were used to compute any reliable oob estimates.\n",
      "  warn(\n"
     ]
    },
    {
     "name": "stdout",
     "output_type": "stream",
     "text": [
      "Iteration =  382  f(x) =  0.012142640487488922\n"
     ]
    },
    {
     "name": "stderr",
     "output_type": "stream",
     "text": [
      "C:\\Users\\TI\\anaconda3\\Lib\\site-packages\\sklearn\\ensemble\\_bagging.py:1253: UserWarning: Some inputs do not have OOB scores. This probably means too few estimators were used to compute any reliable oob estimates.\n",
      "  warn(\n"
     ]
    },
    {
     "name": "stdout",
     "output_type": "stream",
     "text": [
      "Iteration =  383  f(x) =  0.012142640487488922\n",
      "Iteration =  384  f(x) =  0.012142640487488922\n"
     ]
    },
    {
     "name": "stderr",
     "output_type": "stream",
     "text": [
      "C:\\Users\\TI\\anaconda3\\Lib\\site-packages\\sklearn\\ensemble\\_bagging.py:1253: UserWarning: Some inputs do not have OOB scores. This probably means too few estimators were used to compute any reliable oob estimates.\n",
      "  warn(\n"
     ]
    },
    {
     "name": "stdout",
     "output_type": "stream",
     "text": [
      "Iteration =  385  f(x) =  0.012142640487488922\n"
     ]
    },
    {
     "name": "stderr",
     "output_type": "stream",
     "text": [
      "C:\\Users\\TI\\anaconda3\\Lib\\site-packages\\sklearn\\ensemble\\_bagging.py:1253: UserWarning: Some inputs do not have OOB scores. This probably means too few estimators were used to compute any reliable oob estimates.\n",
      "  warn(\n",
      "C:\\Users\\TI\\anaconda3\\Lib\\site-packages\\sklearn\\ensemble\\_bagging.py:1253: UserWarning: Some inputs do not have OOB scores. This probably means too few estimators were used to compute any reliable oob estimates.\n",
      "  warn(\n"
     ]
    },
    {
     "name": "stdout",
     "output_type": "stream",
     "text": [
      "Iteration =  386  f(x) =  0.012142640487488922\n"
     ]
    },
    {
     "name": "stderr",
     "output_type": "stream",
     "text": [
      "C:\\Users\\TI\\anaconda3\\Lib\\site-packages\\sklearn\\ensemble\\_bagging.py:1253: UserWarning: Some inputs do not have OOB scores. This probably means too few estimators were used to compute any reliable oob estimates.\n",
      "  warn(\n"
     ]
    },
    {
     "name": "stdout",
     "output_type": "stream",
     "text": [
      "Iteration =  387  f(x) =  0.012142640487488922\n"
     ]
    },
    {
     "name": "stderr",
     "output_type": "stream",
     "text": [
      "C:\\Users\\TI\\anaconda3\\Lib\\site-packages\\sklearn\\ensemble\\_bagging.py:1253: UserWarning: Some inputs do not have OOB scores. This probably means too few estimators were used to compute any reliable oob estimates.\n",
      "  warn(\n"
     ]
    },
    {
     "name": "stdout",
     "output_type": "stream",
     "text": [
      "Iteration =  388  f(x) =  0.012142640487488922\n",
      "Iteration =  389  f(x) =  0.012142640487488922\n"
     ]
    },
    {
     "name": "stderr",
     "output_type": "stream",
     "text": [
      "C:\\Users\\TI\\anaconda3\\Lib\\site-packages\\sklearn\\ensemble\\_bagging.py:1253: UserWarning: Some inputs do not have OOB scores. This probably means too few estimators were used to compute any reliable oob estimates.\n",
      "  warn(\n"
     ]
    },
    {
     "name": "stdout",
     "output_type": "stream",
     "text": [
      "Iteration =  390  f(x) =  0.012142640487488922\n",
      "Iteration =  391  f(x) =  0.012142640487488922\n",
      "Iteration =  392  f(x) =  0.012142640487488922\n"
     ]
    },
    {
     "name": "stderr",
     "output_type": "stream",
     "text": [
      "C:\\Users\\TI\\anaconda3\\Lib\\site-packages\\sklearn\\ensemble\\_bagging.py:1253: UserWarning: Some inputs do not have OOB scores. This probably means too few estimators were used to compute any reliable oob estimates.\n",
      "  warn(\n"
     ]
    },
    {
     "name": "stdout",
     "output_type": "stream",
     "text": [
      "Iteration =  393  f(x) =  0.012142640487488922\n"
     ]
    },
    {
     "name": "stderr",
     "output_type": "stream",
     "text": [
      "C:\\Users\\TI\\anaconda3\\Lib\\site-packages\\sklearn\\ensemble\\_bagging.py:1253: UserWarning: Some inputs do not have OOB scores. This probably means too few estimators were used to compute any reliable oob estimates.\n",
      "  warn(\n",
      "C:\\Users\\TI\\anaconda3\\Lib\\site-packages\\sklearn\\ensemble\\_bagging.py:1253: UserWarning: Some inputs do not have OOB scores. This probably means too few estimators were used to compute any reliable oob estimates.\n",
      "  warn(\n"
     ]
    },
    {
     "name": "stdout",
     "output_type": "stream",
     "text": [
      "Iteration =  394  f(x) =  0.012142640487488922\n"
     ]
    },
    {
     "name": "stderr",
     "output_type": "stream",
     "text": [
      "C:\\Users\\TI\\anaconda3\\Lib\\site-packages\\sklearn\\ensemble\\_bagging.py:1253: UserWarning: Some inputs do not have OOB scores. This probably means too few estimators were used to compute any reliable oob estimates.\n",
      "  warn(\n",
      "C:\\Users\\TI\\anaconda3\\Lib\\site-packages\\sklearn\\ensemble\\_bagging.py:1253: UserWarning: Some inputs do not have OOB scores. This probably means too few estimators were used to compute any reliable oob estimates.\n",
      "  warn(\n"
     ]
    },
    {
     "name": "stdout",
     "output_type": "stream",
     "text": [
      "Iteration =  395  f(x) =  0.012142640487488922\n"
     ]
    },
    {
     "name": "stderr",
     "output_type": "stream",
     "text": [
      "C:\\Users\\TI\\anaconda3\\Lib\\site-packages\\sklearn\\ensemble\\_bagging.py:1253: UserWarning: Some inputs do not have OOB scores. This probably means too few estimators were used to compute any reliable oob estimates.\n",
      "  warn(\n"
     ]
    },
    {
     "name": "stdout",
     "output_type": "stream",
     "text": [
      "Iteration =  396  f(x) =  0.012142640487488922\n"
     ]
    },
    {
     "name": "stderr",
     "output_type": "stream",
     "text": [
      "C:\\Users\\TI\\anaconda3\\Lib\\site-packages\\sklearn\\ensemble\\_bagging.py:1253: UserWarning: Some inputs do not have OOB scores. This probably means too few estimators were used to compute any reliable oob estimates.\n",
      "  warn(\n"
     ]
    },
    {
     "name": "stdout",
     "output_type": "stream",
     "text": [
      "Iteration =  397  f(x) =  0.012142640487488922\n"
     ]
    },
    {
     "name": "stderr",
     "output_type": "stream",
     "text": [
      "C:\\Users\\TI\\anaconda3\\Lib\\site-packages\\sklearn\\ensemble\\_bagging.py:1253: UserWarning: Some inputs do not have OOB scores. This probably means too few estimators were used to compute any reliable oob estimates.\n",
      "  warn(\n",
      "C:\\Users\\TI\\anaconda3\\Lib\\site-packages\\sklearn\\ensemble\\_bagging.py:1253: UserWarning: Some inputs do not have OOB scores. This probably means too few estimators were used to compute any reliable oob estimates.\n",
      "  warn(\n",
      "C:\\Users\\TI\\anaconda3\\Lib\\site-packages\\sklearn\\ensemble\\_bagging.py:1253: UserWarning: Some inputs do not have OOB scores. This probably means too few estimators were used to compute any reliable oob estimates.\n",
      "  warn(\n"
     ]
    },
    {
     "name": "stdout",
     "output_type": "stream",
     "text": [
      "Iteration =  398  f(x) =  0.012142640487488922\n"
     ]
    },
    {
     "name": "stderr",
     "output_type": "stream",
     "text": [
      "C:\\Users\\TI\\anaconda3\\Lib\\site-packages\\sklearn\\ensemble\\_bagging.py:1253: UserWarning: Some inputs do not have OOB scores. This probably means too few estimators were used to compute any reliable oob estimates.\n",
      "  warn(\n",
      "C:\\Users\\TI\\anaconda3\\Lib\\site-packages\\sklearn\\ensemble\\_bagging.py:1253: UserWarning: Some inputs do not have OOB scores. This probably means too few estimators were used to compute any reliable oob estimates.\n",
      "  warn(\n",
      "C:\\Users\\TI\\anaconda3\\Lib\\site-packages\\sklearn\\ensemble\\_bagging.py:1253: UserWarning: Some inputs do not have OOB scores. This probably means too few estimators were used to compute any reliable oob estimates.\n",
      "  warn(\n"
     ]
    },
    {
     "name": "stdout",
     "output_type": "stream",
     "text": [
      "Iteration =  399  f(x) =  0.012142640487488922\n"
     ]
    },
    {
     "name": "stderr",
     "output_type": "stream",
     "text": [
      "C:\\Users\\TI\\anaconda3\\Lib\\site-packages\\sklearn\\ensemble\\_bagging.py:1253: UserWarning: Some inputs do not have OOB scores. This probably means too few estimators were used to compute any reliable oob estimates.\n",
      "  warn(\n",
      "C:\\Users\\TI\\anaconda3\\Lib\\site-packages\\sklearn\\ensemble\\_bagging.py:1253: UserWarning: Some inputs do not have OOB scores. This probably means too few estimators were used to compute any reliable oob estimates.\n",
      "  warn(\n"
     ]
    },
    {
     "name": "stdout",
     "output_type": "stream",
     "text": [
      "Iteration =  400  f(x) =  0.012142640487488922\n"
     ]
    },
    {
     "name": "stderr",
     "output_type": "stream",
     "text": [
      "C:\\Users\\TI\\anaconda3\\Lib\\site-packages\\sklearn\\ensemble\\_bagging.py:1253: UserWarning: Some inputs do not have OOB scores. This probably means too few estimators were used to compute any reliable oob estimates.\n",
      "  warn(\n"
     ]
    },
    {
     "name": "stdout",
     "output_type": "stream",
     "text": [
      "Iteration =  401  f(x) =  0.012142640487488922\n"
     ]
    },
    {
     "name": "stderr",
     "output_type": "stream",
     "text": [
      "C:\\Users\\TI\\anaconda3\\Lib\\site-packages\\sklearn\\ensemble\\_bagging.py:1253: UserWarning: Some inputs do not have OOB scores. This probably means too few estimators were used to compute any reliable oob estimates.\n",
      "  warn(\n",
      "C:\\Users\\TI\\anaconda3\\Lib\\site-packages\\sklearn\\ensemble\\_bagging.py:1253: UserWarning: Some inputs do not have OOB scores. This probably means too few estimators were used to compute any reliable oob estimates.\n",
      "  warn(\n"
     ]
    },
    {
     "name": "stdout",
     "output_type": "stream",
     "text": [
      "Iteration =  402  f(x) =  0.012142640487488922\n"
     ]
    },
    {
     "name": "stderr",
     "output_type": "stream",
     "text": [
      "C:\\Users\\TI\\anaconda3\\Lib\\site-packages\\sklearn\\ensemble\\_bagging.py:1253: UserWarning: Some inputs do not have OOB scores. This probably means too few estimators were used to compute any reliable oob estimates.\n",
      "  warn(\n",
      "C:\\Users\\TI\\anaconda3\\Lib\\site-packages\\sklearn\\ensemble\\_bagging.py:1253: UserWarning: Some inputs do not have OOB scores. This probably means too few estimators were used to compute any reliable oob estimates.\n",
      "  warn(\n",
      "C:\\Users\\TI\\anaconda3\\Lib\\site-packages\\sklearn\\ensemble\\_bagging.py:1253: UserWarning: Some inputs do not have OOB scores. This probably means too few estimators were used to compute any reliable oob estimates.\n",
      "  warn(\n"
     ]
    },
    {
     "name": "stdout",
     "output_type": "stream",
     "text": [
      "Iteration =  403  f(x) =  0.012142640487488922\n",
      "Iteration =  404  f(x) =  0.012142640487488922\n"
     ]
    },
    {
     "name": "stderr",
     "output_type": "stream",
     "text": [
      "C:\\Users\\TI\\anaconda3\\Lib\\site-packages\\sklearn\\ensemble\\_bagging.py:1253: UserWarning: Some inputs do not have OOB scores. This probably means too few estimators were used to compute any reliable oob estimates.\n",
      "  warn(\n"
     ]
    },
    {
     "name": "stdout",
     "output_type": "stream",
     "text": [
      "Iteration =  405  f(x) =  0.012142640487488922\n"
     ]
    },
    {
     "name": "stderr",
     "output_type": "stream",
     "text": [
      "C:\\Users\\TI\\anaconda3\\Lib\\site-packages\\sklearn\\ensemble\\_bagging.py:1253: UserWarning: Some inputs do not have OOB scores. This probably means too few estimators were used to compute any reliable oob estimates.\n",
      "  warn(\n",
      "C:\\Users\\TI\\anaconda3\\Lib\\site-packages\\sklearn\\ensemble\\_bagging.py:1253: UserWarning: Some inputs do not have OOB scores. This probably means too few estimators were used to compute any reliable oob estimates.\n",
      "  warn(\n"
     ]
    },
    {
     "name": "stdout",
     "output_type": "stream",
     "text": [
      "Iteration =  406  f(x) =  0.012142640487488922\n"
     ]
    },
    {
     "name": "stderr",
     "output_type": "stream",
     "text": [
      "C:\\Users\\TI\\anaconda3\\Lib\\site-packages\\sklearn\\ensemble\\_bagging.py:1253: UserWarning: Some inputs do not have OOB scores. This probably means too few estimators were used to compute any reliable oob estimates.\n",
      "  warn(\n",
      "C:\\Users\\TI\\anaconda3\\Lib\\site-packages\\sklearn\\ensemble\\_bagging.py:1253: UserWarning: Some inputs do not have OOB scores. This probably means too few estimators were used to compute any reliable oob estimates.\n",
      "  warn(\n"
     ]
    },
    {
     "name": "stdout",
     "output_type": "stream",
     "text": [
      "Iteration =  407  f(x) =  0.012142640487488922\n"
     ]
    },
    {
     "name": "stderr",
     "output_type": "stream",
     "text": [
      "C:\\Users\\TI\\anaconda3\\Lib\\site-packages\\sklearn\\ensemble\\_bagging.py:1253: UserWarning: Some inputs do not have OOB scores. This probably means too few estimators were used to compute any reliable oob estimates.\n",
      "  warn(\n"
     ]
    },
    {
     "name": "stdout",
     "output_type": "stream",
     "text": [
      "Iteration =  408  f(x) =  0.012142640487488922\n",
      "Iteration =  409  f(x) =  0.012142640487488922\n"
     ]
    },
    {
     "name": "stderr",
     "output_type": "stream",
     "text": [
      "C:\\Users\\TI\\anaconda3\\Lib\\site-packages\\sklearn\\ensemble\\_bagging.py:1253: UserWarning: Some inputs do not have OOB scores. This probably means too few estimators were used to compute any reliable oob estimates.\n",
      "  warn(\n",
      "C:\\Users\\TI\\anaconda3\\Lib\\site-packages\\sklearn\\ensemble\\_bagging.py:1253: UserWarning: Some inputs do not have OOB scores. This probably means too few estimators were used to compute any reliable oob estimates.\n",
      "  warn(\n"
     ]
    },
    {
     "name": "stdout",
     "output_type": "stream",
     "text": [
      "Iteration =  410  f(x) =  0.012142640487488922\n"
     ]
    },
    {
     "name": "stderr",
     "output_type": "stream",
     "text": [
      "C:\\Users\\TI\\anaconda3\\Lib\\site-packages\\sklearn\\ensemble\\_bagging.py:1253: UserWarning: Some inputs do not have OOB scores. This probably means too few estimators were used to compute any reliable oob estimates.\n",
      "  warn(\n"
     ]
    },
    {
     "name": "stdout",
     "output_type": "stream",
     "text": [
      "Iteration =  411  f(x) =  0.012142640487488922\n",
      "Iteration =  412  f(x) =  0.012142640487488922\n"
     ]
    },
    {
     "name": "stderr",
     "output_type": "stream",
     "text": [
      "C:\\Users\\TI\\anaconda3\\Lib\\site-packages\\sklearn\\ensemble\\_bagging.py:1253: UserWarning: Some inputs do not have OOB scores. This probably means too few estimators were used to compute any reliable oob estimates.\n",
      "  warn(\n"
     ]
    },
    {
     "name": "stdout",
     "output_type": "stream",
     "text": [
      "Iteration =  413  f(x) =  0.012142640487488922\n"
     ]
    },
    {
     "name": "stderr",
     "output_type": "stream",
     "text": [
      "C:\\Users\\TI\\anaconda3\\Lib\\site-packages\\sklearn\\ensemble\\_bagging.py:1253: UserWarning: Some inputs do not have OOB scores. This probably means too few estimators were used to compute any reliable oob estimates.\n",
      "  warn(\n"
     ]
    },
    {
     "name": "stdout",
     "output_type": "stream",
     "text": [
      "Iteration =  414  f(x) =  0.012142640487488922\n"
     ]
    },
    {
     "name": "stderr",
     "output_type": "stream",
     "text": [
      "C:\\Users\\TI\\anaconda3\\Lib\\site-packages\\sklearn\\ensemble\\_bagging.py:1253: UserWarning: Some inputs do not have OOB scores. This probably means too few estimators were used to compute any reliable oob estimates.\n",
      "  warn(\n"
     ]
    },
    {
     "name": "stdout",
     "output_type": "stream",
     "text": [
      "Iteration =  415  f(x) =  0.012142640487488922\n"
     ]
    },
    {
     "name": "stderr",
     "output_type": "stream",
     "text": [
      "C:\\Users\\TI\\anaconda3\\Lib\\site-packages\\sklearn\\ensemble\\_bagging.py:1253: UserWarning: Some inputs do not have OOB scores. This probably means too few estimators were used to compute any reliable oob estimates.\n",
      "  warn(\n"
     ]
    },
    {
     "name": "stdout",
     "output_type": "stream",
     "text": [
      "Iteration =  416  f(x) =  0.012142640487488922\n"
     ]
    },
    {
     "name": "stderr",
     "output_type": "stream",
     "text": [
      "C:\\Users\\TI\\anaconda3\\Lib\\site-packages\\sklearn\\ensemble\\_bagging.py:1253: UserWarning: Some inputs do not have OOB scores. This probably means too few estimators were used to compute any reliable oob estimates.\n",
      "  warn(\n",
      "C:\\Users\\TI\\anaconda3\\Lib\\site-packages\\sklearn\\ensemble\\_bagging.py:1253: UserWarning: Some inputs do not have OOB scores. This probably means too few estimators were used to compute any reliable oob estimates.\n",
      "  warn(\n"
     ]
    },
    {
     "name": "stdout",
     "output_type": "stream",
     "text": [
      "Iteration =  417  f(x) =  0.012142640487488922\n"
     ]
    },
    {
     "name": "stderr",
     "output_type": "stream",
     "text": [
      "C:\\Users\\TI\\anaconda3\\Lib\\site-packages\\sklearn\\ensemble\\_bagging.py:1253: UserWarning: Some inputs do not have OOB scores. This probably means too few estimators were used to compute any reliable oob estimates.\n",
      "  warn(\n",
      "C:\\Users\\TI\\anaconda3\\Lib\\site-packages\\sklearn\\ensemble\\_bagging.py:1253: UserWarning: Some inputs do not have OOB scores. This probably means too few estimators were used to compute any reliable oob estimates.\n",
      "  warn(\n"
     ]
    },
    {
     "name": "stdout",
     "output_type": "stream",
     "text": [
      "Iteration =  418  f(x) =  0.012142640487488922\n"
     ]
    },
    {
     "name": "stderr",
     "output_type": "stream",
     "text": [
      "C:\\Users\\TI\\anaconda3\\Lib\\site-packages\\sklearn\\ensemble\\_bagging.py:1253: UserWarning: Some inputs do not have OOB scores. This probably means too few estimators were used to compute any reliable oob estimates.\n",
      "  warn(\n"
     ]
    },
    {
     "name": "stdout",
     "output_type": "stream",
     "text": [
      "Iteration =  419  f(x) =  0.012142640487488922\n"
     ]
    },
    {
     "name": "stderr",
     "output_type": "stream",
     "text": [
      "C:\\Users\\TI\\anaconda3\\Lib\\site-packages\\sklearn\\ensemble\\_bagging.py:1253: UserWarning: Some inputs do not have OOB scores. This probably means too few estimators were used to compute any reliable oob estimates.\n",
      "  warn(\n"
     ]
    },
    {
     "name": "stdout",
     "output_type": "stream",
     "text": [
      "Iteration =  420  f(x) =  0.012142640487488922\n"
     ]
    },
    {
     "name": "stderr",
     "output_type": "stream",
     "text": [
      "C:\\Users\\TI\\anaconda3\\Lib\\site-packages\\sklearn\\ensemble\\_bagging.py:1253: UserWarning: Some inputs do not have OOB scores. This probably means too few estimators were used to compute any reliable oob estimates.\n",
      "  warn(\n",
      "C:\\Users\\TI\\anaconda3\\Lib\\site-packages\\sklearn\\ensemble\\_bagging.py:1253: UserWarning: Some inputs do not have OOB scores. This probably means too few estimators were used to compute any reliable oob estimates.\n",
      "  warn(\n"
     ]
    },
    {
     "name": "stdout",
     "output_type": "stream",
     "text": [
      "Iteration =  421  f(x) =  0.012142640487488922\n"
     ]
    },
    {
     "name": "stderr",
     "output_type": "stream",
     "text": [
      "C:\\Users\\TI\\anaconda3\\Lib\\site-packages\\sklearn\\ensemble\\_bagging.py:1253: UserWarning: Some inputs do not have OOB scores. This probably means too few estimators were used to compute any reliable oob estimates.\n",
      "  warn(\n"
     ]
    },
    {
     "name": "stdout",
     "output_type": "stream",
     "text": [
      "Iteration =  422  f(x) =  0.012142640487488922\n"
     ]
    },
    {
     "name": "stderr",
     "output_type": "stream",
     "text": [
      "C:\\Users\\TI\\anaconda3\\Lib\\site-packages\\sklearn\\ensemble\\_bagging.py:1253: UserWarning: Some inputs do not have OOB scores. This probably means too few estimators were used to compute any reliable oob estimates.\n",
      "  warn(\n"
     ]
    },
    {
     "name": "stdout",
     "output_type": "stream",
     "text": [
      "Iteration =  423  f(x) =  0.012142640487488922\n"
     ]
    },
    {
     "name": "stderr",
     "output_type": "stream",
     "text": [
      "C:\\Users\\TI\\anaconda3\\Lib\\site-packages\\sklearn\\ensemble\\_bagging.py:1253: UserWarning: Some inputs do not have OOB scores. This probably means too few estimators were used to compute any reliable oob estimates.\n",
      "  warn(\n",
      "C:\\Users\\TI\\anaconda3\\Lib\\site-packages\\sklearn\\ensemble\\_bagging.py:1253: UserWarning: Some inputs do not have OOB scores. This probably means too few estimators were used to compute any reliable oob estimates.\n",
      "  warn(\n",
      "C:\\Users\\TI\\anaconda3\\Lib\\site-packages\\sklearn\\ensemble\\_bagging.py:1253: UserWarning: Some inputs do not have OOB scores. This probably means too few estimators were used to compute any reliable oob estimates.\n",
      "  warn(\n"
     ]
    },
    {
     "name": "stdout",
     "output_type": "stream",
     "text": [
      "Iteration =  424  f(x) =  0.012142640487488922\n"
     ]
    },
    {
     "name": "stderr",
     "output_type": "stream",
     "text": [
      "C:\\Users\\TI\\anaconda3\\Lib\\site-packages\\sklearn\\ensemble\\_bagging.py:1253: UserWarning: Some inputs do not have OOB scores. This probably means too few estimators were used to compute any reliable oob estimates.\n",
      "  warn(\n",
      "C:\\Users\\TI\\anaconda3\\Lib\\site-packages\\sklearn\\ensemble\\_bagging.py:1253: UserWarning: Some inputs do not have OOB scores. This probably means too few estimators were used to compute any reliable oob estimates.\n",
      "  warn(\n"
     ]
    },
    {
     "name": "stdout",
     "output_type": "stream",
     "text": [
      "Iteration =  425  f(x) =  0.012142640487488922\n"
     ]
    },
    {
     "name": "stderr",
     "output_type": "stream",
     "text": [
      "C:\\Users\\TI\\anaconda3\\Lib\\site-packages\\sklearn\\ensemble\\_bagging.py:1253: UserWarning: Some inputs do not have OOB scores. This probably means too few estimators were used to compute any reliable oob estimates.\n",
      "  warn(\n",
      "C:\\Users\\TI\\anaconda3\\Lib\\site-packages\\sklearn\\ensemble\\_bagging.py:1253: UserWarning: Some inputs do not have OOB scores. This probably means too few estimators were used to compute any reliable oob estimates.\n",
      "  warn(\n"
     ]
    },
    {
     "name": "stdout",
     "output_type": "stream",
     "text": [
      "Iteration =  426  f(x) =  0.012142640487488922\n",
      "Iteration =  427  f(x) =  0.012142640487488922\n"
     ]
    },
    {
     "name": "stderr",
     "output_type": "stream",
     "text": [
      "C:\\Users\\TI\\anaconda3\\Lib\\site-packages\\sklearn\\ensemble\\_bagging.py:1253: UserWarning: Some inputs do not have OOB scores. This probably means too few estimators were used to compute any reliable oob estimates.\n",
      "  warn(\n"
     ]
    },
    {
     "name": "stdout",
     "output_type": "stream",
     "text": [
      "Iteration =  428  f(x) =  0.012142640487488922\n"
     ]
    },
    {
     "name": "stderr",
     "output_type": "stream",
     "text": [
      "C:\\Users\\TI\\anaconda3\\Lib\\site-packages\\sklearn\\ensemble\\_bagging.py:1253: UserWarning: Some inputs do not have OOB scores. This probably means too few estimators were used to compute any reliable oob estimates.\n",
      "  warn(\n",
      "C:\\Users\\TI\\anaconda3\\Lib\\site-packages\\sklearn\\ensemble\\_bagging.py:1253: UserWarning: Some inputs do not have OOB scores. This probably means too few estimators were used to compute any reliable oob estimates.\n",
      "  warn(\n"
     ]
    },
    {
     "name": "stdout",
     "output_type": "stream",
     "text": [
      "Iteration =  429  f(x) =  0.012142640487488922\n",
      "Iteration =  430  f(x) =  0.012142640487488922\n"
     ]
    },
    {
     "name": "stderr",
     "output_type": "stream",
     "text": [
      "C:\\Users\\TI\\anaconda3\\Lib\\site-packages\\sklearn\\ensemble\\_bagging.py:1253: UserWarning: Some inputs do not have OOB scores. This probably means too few estimators were used to compute any reliable oob estimates.\n",
      "  warn(\n"
     ]
    },
    {
     "name": "stdout",
     "output_type": "stream",
     "text": [
      "Iteration =  431  f(x) =  0.012142640487488922\n"
     ]
    },
    {
     "name": "stderr",
     "output_type": "stream",
     "text": [
      "C:\\Users\\TI\\anaconda3\\Lib\\site-packages\\sklearn\\ensemble\\_bagging.py:1253: UserWarning: Some inputs do not have OOB scores. This probably means too few estimators were used to compute any reliable oob estimates.\n",
      "  warn(\n",
      "C:\\Users\\TI\\anaconda3\\Lib\\site-packages\\sklearn\\ensemble\\_bagging.py:1253: UserWarning: Some inputs do not have OOB scores. This probably means too few estimators were used to compute any reliable oob estimates.\n",
      "  warn(\n",
      "C:\\Users\\TI\\anaconda3\\Lib\\site-packages\\sklearn\\ensemble\\_bagging.py:1253: UserWarning: Some inputs do not have OOB scores. This probably means too few estimators were used to compute any reliable oob estimates.\n",
      "  warn(\n"
     ]
    },
    {
     "name": "stdout",
     "output_type": "stream",
     "text": [
      "Iteration =  432  f(x) =  0.012142640487488922\n"
     ]
    },
    {
     "name": "stderr",
     "output_type": "stream",
     "text": [
      "C:\\Users\\TI\\anaconda3\\Lib\\site-packages\\sklearn\\ensemble\\_bagging.py:1253: UserWarning: Some inputs do not have OOB scores. This probably means too few estimators were used to compute any reliable oob estimates.\n",
      "  warn(\n",
      "C:\\Users\\TI\\anaconda3\\Lib\\site-packages\\sklearn\\ensemble\\_bagging.py:1253: UserWarning: Some inputs do not have OOB scores. This probably means too few estimators were used to compute any reliable oob estimates.\n",
      "  warn(\n"
     ]
    },
    {
     "name": "stdout",
     "output_type": "stream",
     "text": [
      "Iteration =  433  f(x) =  0.012142640487488922\n",
      "Iteration =  434  f(x) =  0.012142640487488922\n"
     ]
    },
    {
     "name": "stderr",
     "output_type": "stream",
     "text": [
      "C:\\Users\\TI\\anaconda3\\Lib\\site-packages\\sklearn\\ensemble\\_bagging.py:1253: UserWarning: Some inputs do not have OOB scores. This probably means too few estimators were used to compute any reliable oob estimates.\n",
      "  warn(\n",
      "C:\\Users\\TI\\anaconda3\\Lib\\site-packages\\sklearn\\ensemble\\_bagging.py:1253: UserWarning: Some inputs do not have OOB scores. This probably means too few estimators were used to compute any reliable oob estimates.\n",
      "  warn(\n",
      "C:\\Users\\TI\\anaconda3\\Lib\\site-packages\\sklearn\\ensemble\\_bagging.py:1253: UserWarning: Some inputs do not have OOB scores. This probably means too few estimators were used to compute any reliable oob estimates.\n",
      "  warn(\n",
      "C:\\Users\\TI\\anaconda3\\Lib\\site-packages\\sklearn\\ensemble\\_bagging.py:1253: UserWarning: Some inputs do not have OOB scores. This probably means too few estimators were used to compute any reliable oob estimates.\n",
      "  warn(\n"
     ]
    },
    {
     "name": "stdout",
     "output_type": "stream",
     "text": [
      "Iteration =  435  f(x) =  0.012142640487488922\n"
     ]
    },
    {
     "name": "stderr",
     "output_type": "stream",
     "text": [
      "C:\\Users\\TI\\anaconda3\\Lib\\site-packages\\sklearn\\ensemble\\_bagging.py:1253: UserWarning: Some inputs do not have OOB scores. This probably means too few estimators were used to compute any reliable oob estimates.\n",
      "  warn(\n"
     ]
    },
    {
     "name": "stdout",
     "output_type": "stream",
     "text": [
      "Iteration =  436  f(x) =  0.012142640487488922\n"
     ]
    },
    {
     "name": "stderr",
     "output_type": "stream",
     "text": [
      "C:\\Users\\TI\\anaconda3\\Lib\\site-packages\\sklearn\\ensemble\\_bagging.py:1253: UserWarning: Some inputs do not have OOB scores. This probably means too few estimators were used to compute any reliable oob estimates.\n",
      "  warn(\n"
     ]
    },
    {
     "name": "stdout",
     "output_type": "stream",
     "text": [
      "Iteration =  437  f(x) =  0.012142640487488922\n",
      "Iteration =  438  f(x) =  0.012142640487488922\n"
     ]
    },
    {
     "name": "stderr",
     "output_type": "stream",
     "text": [
      "C:\\Users\\TI\\anaconda3\\Lib\\site-packages\\sklearn\\ensemble\\_bagging.py:1253: UserWarning: Some inputs do not have OOB scores. This probably means too few estimators were used to compute any reliable oob estimates.\n",
      "  warn(\n",
      "C:\\Users\\TI\\anaconda3\\Lib\\site-packages\\sklearn\\ensemble\\_bagging.py:1253: UserWarning: Some inputs do not have OOB scores. This probably means too few estimators were used to compute any reliable oob estimates.\n",
      "  warn(\n"
     ]
    },
    {
     "name": "stdout",
     "output_type": "stream",
     "text": [
      "Iteration =  439  f(x) =  0.012142640487488922\n"
     ]
    },
    {
     "name": "stderr",
     "output_type": "stream",
     "text": [
      "C:\\Users\\TI\\anaconda3\\Lib\\site-packages\\sklearn\\ensemble\\_bagging.py:1253: UserWarning: Some inputs do not have OOB scores. This probably means too few estimators were used to compute any reliable oob estimates.\n",
      "  warn(\n"
     ]
    },
    {
     "name": "stdout",
     "output_type": "stream",
     "text": [
      "Iteration =  440  f(x) =  0.012142640487488922\n"
     ]
    },
    {
     "name": "stderr",
     "output_type": "stream",
     "text": [
      "C:\\Users\\TI\\anaconda3\\Lib\\site-packages\\sklearn\\ensemble\\_bagging.py:1253: UserWarning: Some inputs do not have OOB scores. This probably means too few estimators were used to compute any reliable oob estimates.\n",
      "  warn(\n",
      "C:\\Users\\TI\\anaconda3\\Lib\\site-packages\\sklearn\\ensemble\\_bagging.py:1253: UserWarning: Some inputs do not have OOB scores. This probably means too few estimators were used to compute any reliable oob estimates.\n",
      "  warn(\n",
      "C:\\Users\\TI\\anaconda3\\Lib\\site-packages\\sklearn\\ensemble\\_bagging.py:1253: UserWarning: Some inputs do not have OOB scores. This probably means too few estimators were used to compute any reliable oob estimates.\n",
      "  warn(\n"
     ]
    },
    {
     "name": "stdout",
     "output_type": "stream",
     "text": [
      "Iteration =  441  f(x) =  0.012142640487488922\n",
      "Iteration =  442  f(x) =  0.012142640487488922\n"
     ]
    },
    {
     "name": "stderr",
     "output_type": "stream",
     "text": [
      "C:\\Users\\TI\\anaconda3\\Lib\\site-packages\\sklearn\\ensemble\\_bagging.py:1253: UserWarning: Some inputs do not have OOB scores. This probably means too few estimators were used to compute any reliable oob estimates.\n",
      "  warn(\n",
      "C:\\Users\\TI\\anaconda3\\Lib\\site-packages\\sklearn\\ensemble\\_bagging.py:1253: UserWarning: Some inputs do not have OOB scores. This probably means too few estimators were used to compute any reliable oob estimates.\n",
      "  warn(\n"
     ]
    },
    {
     "name": "stdout",
     "output_type": "stream",
     "text": [
      "Iteration =  443  f(x) =  0.012142640487488922\n"
     ]
    },
    {
     "name": "stderr",
     "output_type": "stream",
     "text": [
      "C:\\Users\\TI\\anaconda3\\Lib\\site-packages\\sklearn\\ensemble\\_bagging.py:1253: UserWarning: Some inputs do not have OOB scores. This probably means too few estimators were used to compute any reliable oob estimates.\n",
      "  warn(\n"
     ]
    },
    {
     "name": "stdout",
     "output_type": "stream",
     "text": [
      "Iteration =  444  f(x) =  0.012142640487488922\n"
     ]
    },
    {
     "name": "stderr",
     "output_type": "stream",
     "text": [
      "C:\\Users\\TI\\anaconda3\\Lib\\site-packages\\sklearn\\ensemble\\_bagging.py:1253: UserWarning: Some inputs do not have OOB scores. This probably means too few estimators were used to compute any reliable oob estimates.\n",
      "  warn(\n"
     ]
    },
    {
     "name": "stdout",
     "output_type": "stream",
     "text": [
      "Iteration =  445  f(x) =  0.012142640487488922\n",
      "Iteration =  446  f(x) =  0.012142640487488922\n"
     ]
    },
    {
     "name": "stderr",
     "output_type": "stream",
     "text": [
      "C:\\Users\\TI\\anaconda3\\Lib\\site-packages\\sklearn\\ensemble\\_bagging.py:1253: UserWarning: Some inputs do not have OOB scores. This probably means too few estimators were used to compute any reliable oob estimates.\n",
      "  warn(\n",
      "C:\\Users\\TI\\anaconda3\\Lib\\site-packages\\sklearn\\ensemble\\_bagging.py:1253: UserWarning: Some inputs do not have OOB scores. This probably means too few estimators were used to compute any reliable oob estimates.\n",
      "  warn(\n",
      "C:\\Users\\TI\\anaconda3\\Lib\\site-packages\\sklearn\\ensemble\\_bagging.py:1253: UserWarning: Some inputs do not have OOB scores. This probably means too few estimators were used to compute any reliable oob estimates.\n",
      "  warn(\n"
     ]
    },
    {
     "name": "stdout",
     "output_type": "stream",
     "text": [
      "Iteration =  447  f(x) =  0.012142640487488922\n"
     ]
    },
    {
     "name": "stderr",
     "output_type": "stream",
     "text": [
      "C:\\Users\\TI\\anaconda3\\Lib\\site-packages\\sklearn\\ensemble\\_bagging.py:1253: UserWarning: Some inputs do not have OOB scores. This probably means too few estimators were used to compute any reliable oob estimates.\n",
      "  warn(\n",
      "C:\\Users\\TI\\anaconda3\\Lib\\site-packages\\sklearn\\ensemble\\_bagging.py:1253: UserWarning: Some inputs do not have OOB scores. This probably means too few estimators were used to compute any reliable oob estimates.\n",
      "  warn(\n",
      "C:\\Users\\TI\\anaconda3\\Lib\\site-packages\\sklearn\\ensemble\\_bagging.py:1253: UserWarning: Some inputs do not have OOB scores. This probably means too few estimators were used to compute any reliable oob estimates.\n",
      "  warn(\n"
     ]
    },
    {
     "name": "stdout",
     "output_type": "stream",
     "text": [
      "Iteration =  448  f(x) =  0.012142640487488922\n"
     ]
    },
    {
     "name": "stderr",
     "output_type": "stream",
     "text": [
      "C:\\Users\\TI\\anaconda3\\Lib\\site-packages\\sklearn\\ensemble\\_bagging.py:1253: UserWarning: Some inputs do not have OOB scores. This probably means too few estimators were used to compute any reliable oob estimates.\n",
      "  warn(\n",
      "C:\\Users\\TI\\anaconda3\\Lib\\site-packages\\sklearn\\ensemble\\_bagging.py:1253: UserWarning: Some inputs do not have OOB scores. This probably means too few estimators were used to compute any reliable oob estimates.\n",
      "  warn(\n"
     ]
    },
    {
     "name": "stdout",
     "output_type": "stream",
     "text": [
      "Iteration =  449  f(x) =  0.012142640487488922\n"
     ]
    },
    {
     "name": "stderr",
     "output_type": "stream",
     "text": [
      "C:\\Users\\TI\\anaconda3\\Lib\\site-packages\\sklearn\\ensemble\\_bagging.py:1253: UserWarning: Some inputs do not have OOB scores. This probably means too few estimators were used to compute any reliable oob estimates.\n",
      "  warn(\n"
     ]
    },
    {
     "name": "stdout",
     "output_type": "stream",
     "text": [
      "Iteration =  450  f(x) =  0.012142640487488922\n"
     ]
    },
    {
     "name": "stderr",
     "output_type": "stream",
     "text": [
      "C:\\Users\\TI\\anaconda3\\Lib\\site-packages\\sklearn\\ensemble\\_bagging.py:1253: UserWarning: Some inputs do not have OOB scores. This probably means too few estimators were used to compute any reliable oob estimates.\n",
      "  warn(\n"
     ]
    },
    {
     "name": "stdout",
     "output_type": "stream",
     "text": [
      "Iteration =  451  f(x) =  0.012142640487488922\n"
     ]
    },
    {
     "name": "stderr",
     "output_type": "stream",
     "text": [
      "C:\\Users\\TI\\anaconda3\\Lib\\site-packages\\sklearn\\ensemble\\_bagging.py:1253: UserWarning: Some inputs do not have OOB scores. This probably means too few estimators were used to compute any reliable oob estimates.\n",
      "  warn(\n",
      "C:\\Users\\TI\\anaconda3\\Lib\\site-packages\\sklearn\\ensemble\\_bagging.py:1253: UserWarning: Some inputs do not have OOB scores. This probably means too few estimators were used to compute any reliable oob estimates.\n",
      "  warn(\n"
     ]
    },
    {
     "name": "stdout",
     "output_type": "stream",
     "text": [
      "Iteration =  452  f(x) =  0.012142640487488922\n"
     ]
    },
    {
     "name": "stderr",
     "output_type": "stream",
     "text": [
      "C:\\Users\\TI\\anaconda3\\Lib\\site-packages\\sklearn\\ensemble\\_bagging.py:1253: UserWarning: Some inputs do not have OOB scores. This probably means too few estimators were used to compute any reliable oob estimates.\n",
      "  warn(\n"
     ]
    },
    {
     "name": "stdout",
     "output_type": "stream",
     "text": [
      "Iteration =  453  f(x) =  0.012142640487488922\n"
     ]
    },
    {
     "name": "stderr",
     "output_type": "stream",
     "text": [
      "C:\\Users\\TI\\anaconda3\\Lib\\site-packages\\sklearn\\ensemble\\_bagging.py:1253: UserWarning: Some inputs do not have OOB scores. This probably means too few estimators were used to compute any reliable oob estimates.\n",
      "  warn(\n"
     ]
    },
    {
     "name": "stdout",
     "output_type": "stream",
     "text": [
      "Iteration =  454  f(x) =  0.012142640487488922\n",
      "Iteration =  455  f(x) =  0.012142640487488922\n"
     ]
    },
    {
     "name": "stderr",
     "output_type": "stream",
     "text": [
      "C:\\Users\\TI\\anaconda3\\Lib\\site-packages\\sklearn\\ensemble\\_bagging.py:1253: UserWarning: Some inputs do not have OOB scores. This probably means too few estimators were used to compute any reliable oob estimates.\n",
      "  warn(\n",
      "C:\\Users\\TI\\anaconda3\\Lib\\site-packages\\sklearn\\ensemble\\_bagging.py:1253: UserWarning: Some inputs do not have OOB scores. This probably means too few estimators were used to compute any reliable oob estimates.\n",
      "  warn(\n"
     ]
    },
    {
     "name": "stdout",
     "output_type": "stream",
     "text": [
      "Iteration =  456  f(x) =  0.012142640487488922\n"
     ]
    },
    {
     "name": "stderr",
     "output_type": "stream",
     "text": [
      "C:\\Users\\TI\\anaconda3\\Lib\\site-packages\\sklearn\\ensemble\\_bagging.py:1253: UserWarning: Some inputs do not have OOB scores. This probably means too few estimators were used to compute any reliable oob estimates.\n",
      "  warn(\n"
     ]
    },
    {
     "name": "stdout",
     "output_type": "stream",
     "text": [
      "Iteration =  457  f(x) =  0.012142640487488922\n"
     ]
    },
    {
     "name": "stderr",
     "output_type": "stream",
     "text": [
      "C:\\Users\\TI\\anaconda3\\Lib\\site-packages\\sklearn\\ensemble\\_bagging.py:1253: UserWarning: Some inputs do not have OOB scores. This probably means too few estimators were used to compute any reliable oob estimates.\n",
      "  warn(\n"
     ]
    },
    {
     "name": "stdout",
     "output_type": "stream",
     "text": [
      "Iteration =  458  f(x) =  0.012142640487488922\n",
      "Iteration =  459  f(x) =  0.012142640487488922\n"
     ]
    },
    {
     "name": "stderr",
     "output_type": "stream",
     "text": [
      "C:\\Users\\TI\\anaconda3\\Lib\\site-packages\\sklearn\\ensemble\\_bagging.py:1253: UserWarning: Some inputs do not have OOB scores. This probably means too few estimators were used to compute any reliable oob estimates.\n",
      "  warn(\n",
      "C:\\Users\\TI\\anaconda3\\Lib\\site-packages\\sklearn\\ensemble\\_bagging.py:1253: UserWarning: Some inputs do not have OOB scores. This probably means too few estimators were used to compute any reliable oob estimates.\n",
      "  warn(\n"
     ]
    },
    {
     "name": "stdout",
     "output_type": "stream",
     "text": [
      "Iteration =  460  f(x) =  0.012142640487488922\n"
     ]
    },
    {
     "name": "stderr",
     "output_type": "stream",
     "text": [
      "C:\\Users\\TI\\anaconda3\\Lib\\site-packages\\sklearn\\ensemble\\_bagging.py:1253: UserWarning: Some inputs do not have OOB scores. This probably means too few estimators were used to compute any reliable oob estimates.\n",
      "  warn(\n"
     ]
    },
    {
     "name": "stdout",
     "output_type": "stream",
     "text": [
      "Iteration =  461  f(x) =  0.012142640487488922\n"
     ]
    },
    {
     "name": "stderr",
     "output_type": "stream",
     "text": [
      "C:\\Users\\TI\\anaconda3\\Lib\\site-packages\\sklearn\\ensemble\\_bagging.py:1253: UserWarning: Some inputs do not have OOB scores. This probably means too few estimators were used to compute any reliable oob estimates.\n",
      "  warn(\n"
     ]
    },
    {
     "name": "stdout",
     "output_type": "stream",
     "text": [
      "Iteration =  462  f(x) =  0.012142640487488922\n"
     ]
    },
    {
     "name": "stderr",
     "output_type": "stream",
     "text": [
      "C:\\Users\\TI\\anaconda3\\Lib\\site-packages\\sklearn\\ensemble\\_bagging.py:1253: UserWarning: Some inputs do not have OOB scores. This probably means too few estimators were used to compute any reliable oob estimates.\n",
      "  warn(\n"
     ]
    },
    {
     "name": "stdout",
     "output_type": "stream",
     "text": [
      "Iteration =  463  f(x) =  0.012142640487488922\n",
      "Iteration =  464  f(x) =  0.012142640487488922\n",
      "Iteration =  465  f(x) =  0.012142640487488922\n"
     ]
    },
    {
     "name": "stderr",
     "output_type": "stream",
     "text": [
      "C:\\Users\\TI\\anaconda3\\Lib\\site-packages\\sklearn\\ensemble\\_bagging.py:1253: UserWarning: Some inputs do not have OOB scores. This probably means too few estimators were used to compute any reliable oob estimates.\n",
      "  warn(\n",
      "C:\\Users\\TI\\anaconda3\\Lib\\site-packages\\sklearn\\ensemble\\_bagging.py:1253: UserWarning: Some inputs do not have OOB scores. This probably means too few estimators were used to compute any reliable oob estimates.\n",
      "  warn(\n"
     ]
    },
    {
     "name": "stdout",
     "output_type": "stream",
     "text": [
      "Iteration =  466  f(x) =  0.012142640487488922\n"
     ]
    },
    {
     "name": "stderr",
     "output_type": "stream",
     "text": [
      "C:\\Users\\TI\\anaconda3\\Lib\\site-packages\\sklearn\\ensemble\\_bagging.py:1253: UserWarning: Some inputs do not have OOB scores. This probably means too few estimators were used to compute any reliable oob estimates.\n",
      "  warn(\n"
     ]
    },
    {
     "name": "stdout",
     "output_type": "stream",
     "text": [
      "Iteration =  467  f(x) =  0.012142640487488922\n",
      "Iteration =  468  f(x) =  0.012142640487488922\n"
     ]
    },
    {
     "name": "stderr",
     "output_type": "stream",
     "text": [
      "C:\\Users\\TI\\anaconda3\\Lib\\site-packages\\sklearn\\ensemble\\_bagging.py:1253: UserWarning: Some inputs do not have OOB scores. This probably means too few estimators were used to compute any reliable oob estimates.\n",
      "  warn(\n",
      "C:\\Users\\TI\\anaconda3\\Lib\\site-packages\\sklearn\\ensemble\\_bagging.py:1253: UserWarning: Some inputs do not have OOB scores. This probably means too few estimators were used to compute any reliable oob estimates.\n",
      "  warn(\n"
     ]
    },
    {
     "name": "stdout",
     "output_type": "stream",
     "text": [
      "Iteration =  469  f(x) =  0.012142640487488922\n",
      "Iteration =  470  f(x) =  0.012142640487488922\n",
      "Iteration =  471  f(x) =  0.012142640487488922\n",
      "Iteration =  472  f(x) =  0.012142640487488922\n"
     ]
    },
    {
     "name": "stderr",
     "output_type": "stream",
     "text": [
      "C:\\Users\\TI\\anaconda3\\Lib\\site-packages\\sklearn\\ensemble\\_bagging.py:1253: UserWarning: Some inputs do not have OOB scores. This probably means too few estimators were used to compute any reliable oob estimates.\n",
      "  warn(\n",
      "C:\\Users\\TI\\anaconda3\\Lib\\site-packages\\sklearn\\ensemble\\_bagging.py:1253: UserWarning: Some inputs do not have OOB scores. This probably means too few estimators were used to compute any reliable oob estimates.\n",
      "  warn(\n",
      "C:\\Users\\TI\\anaconda3\\Lib\\site-packages\\sklearn\\ensemble\\_bagging.py:1253: UserWarning: Some inputs do not have OOB scores. This probably means too few estimators were used to compute any reliable oob estimates.\n",
      "  warn(\n"
     ]
    },
    {
     "name": "stdout",
     "output_type": "stream",
     "text": [
      "Iteration =  473  f(x) =  0.012142640487488922\n"
     ]
    },
    {
     "name": "stderr",
     "output_type": "stream",
     "text": [
      "C:\\Users\\TI\\anaconda3\\Lib\\site-packages\\sklearn\\ensemble\\_bagging.py:1253: UserWarning: Some inputs do not have OOB scores. This probably means too few estimators were used to compute any reliable oob estimates.\n",
      "  warn(\n",
      "C:\\Users\\TI\\anaconda3\\Lib\\site-packages\\sklearn\\ensemble\\_bagging.py:1253: UserWarning: Some inputs do not have OOB scores. This probably means too few estimators were used to compute any reliable oob estimates.\n",
      "  warn(\n",
      "C:\\Users\\TI\\anaconda3\\Lib\\site-packages\\sklearn\\ensemble\\_bagging.py:1253: UserWarning: Some inputs do not have OOB scores. This probably means too few estimators were used to compute any reliable oob estimates.\n",
      "  warn(\n"
     ]
    },
    {
     "name": "stdout",
     "output_type": "stream",
     "text": [
      "Iteration =  474  f(x) =  0.012142640487488922\n",
      "Iteration =  475  f(x) =  0.012142640487488922\n"
     ]
    },
    {
     "name": "stderr",
     "output_type": "stream",
     "text": [
      "C:\\Users\\TI\\anaconda3\\Lib\\site-packages\\sklearn\\ensemble\\_bagging.py:1253: UserWarning: Some inputs do not have OOB scores. This probably means too few estimators were used to compute any reliable oob estimates.\n",
      "  warn(\n"
     ]
    },
    {
     "name": "stdout",
     "output_type": "stream",
     "text": [
      "Iteration =  476  f(x) =  0.012142640487488922\n"
     ]
    },
    {
     "name": "stderr",
     "output_type": "stream",
     "text": [
      "C:\\Users\\TI\\anaconda3\\Lib\\site-packages\\sklearn\\ensemble\\_bagging.py:1253: UserWarning: Some inputs do not have OOB scores. This probably means too few estimators were used to compute any reliable oob estimates.\n",
      "  warn(\n",
      "C:\\Users\\TI\\anaconda3\\Lib\\site-packages\\sklearn\\ensemble\\_bagging.py:1253: UserWarning: Some inputs do not have OOB scores. This probably means too few estimators were used to compute any reliable oob estimates.\n",
      "  warn(\n"
     ]
    },
    {
     "name": "stdout",
     "output_type": "stream",
     "text": [
      "Iteration =  477  f(x) =  0.012142640487488922\n"
     ]
    },
    {
     "name": "stderr",
     "output_type": "stream",
     "text": [
      "C:\\Users\\TI\\anaconda3\\Lib\\site-packages\\sklearn\\ensemble\\_bagging.py:1253: UserWarning: Some inputs do not have OOB scores. This probably means too few estimators were used to compute any reliable oob estimates.\n",
      "  warn(\n",
      "C:\\Users\\TI\\anaconda3\\Lib\\site-packages\\sklearn\\ensemble\\_bagging.py:1253: UserWarning: Some inputs do not have OOB scores. This probably means too few estimators were used to compute any reliable oob estimates.\n",
      "  warn(\n",
      "C:\\Users\\TI\\anaconda3\\Lib\\site-packages\\sklearn\\ensemble\\_bagging.py:1253: UserWarning: Some inputs do not have OOB scores. This probably means too few estimators were used to compute any reliable oob estimates.\n",
      "  warn(\n"
     ]
    },
    {
     "name": "stdout",
     "output_type": "stream",
     "text": [
      "Iteration =  478  f(x) =  0.012142640487488922\n"
     ]
    },
    {
     "name": "stderr",
     "output_type": "stream",
     "text": [
      "C:\\Users\\TI\\anaconda3\\Lib\\site-packages\\sklearn\\ensemble\\_bagging.py:1253: UserWarning: Some inputs do not have OOB scores. This probably means too few estimators were used to compute any reliable oob estimates.\n",
      "  warn(\n",
      "C:\\Users\\TI\\anaconda3\\Lib\\site-packages\\sklearn\\ensemble\\_bagging.py:1253: UserWarning: Some inputs do not have OOB scores. This probably means too few estimators were used to compute any reliable oob estimates.\n",
      "  warn(\n",
      "C:\\Users\\TI\\anaconda3\\Lib\\site-packages\\sklearn\\ensemble\\_bagging.py:1253: UserWarning: Some inputs do not have OOB scores. This probably means too few estimators were used to compute any reliable oob estimates.\n",
      "  warn(\n"
     ]
    },
    {
     "name": "stdout",
     "output_type": "stream",
     "text": [
      "Iteration =  479  f(x) =  0.012142640487488922\n"
     ]
    },
    {
     "name": "stderr",
     "output_type": "stream",
     "text": [
      "C:\\Users\\TI\\anaconda3\\Lib\\site-packages\\sklearn\\ensemble\\_bagging.py:1253: UserWarning: Some inputs do not have OOB scores. This probably means too few estimators were used to compute any reliable oob estimates.\n",
      "  warn(\n"
     ]
    },
    {
     "name": "stdout",
     "output_type": "stream",
     "text": [
      "Iteration =  480  f(x) =  0.012142640487488922\n",
      "Iteration =  481  f(x) =  0.012142640487488922\n",
      "Iteration =  482  f(x) =  0.012142640487488922\n",
      "Iteration =  483  f(x) =  0.012142640487488922\n"
     ]
    },
    {
     "name": "stderr",
     "output_type": "stream",
     "text": [
      "C:\\Users\\TI\\anaconda3\\Lib\\site-packages\\sklearn\\ensemble\\_bagging.py:1253: UserWarning: Some inputs do not have OOB scores. This probably means too few estimators were used to compute any reliable oob estimates.\n",
      "  warn(\n",
      "C:\\Users\\TI\\anaconda3\\Lib\\site-packages\\sklearn\\ensemble\\_bagging.py:1253: UserWarning: Some inputs do not have OOB scores. This probably means too few estimators were used to compute any reliable oob estimates.\n",
      "  warn(\n"
     ]
    },
    {
     "name": "stdout",
     "output_type": "stream",
     "text": [
      "Iteration =  484  f(x) =  0.012142640487488922\n"
     ]
    },
    {
     "name": "stderr",
     "output_type": "stream",
     "text": [
      "C:\\Users\\TI\\anaconda3\\Lib\\site-packages\\sklearn\\ensemble\\_bagging.py:1253: UserWarning: Some inputs do not have OOB scores. This probably means too few estimators were used to compute any reliable oob estimates.\n",
      "  warn(\n",
      "C:\\Users\\TI\\anaconda3\\Lib\\site-packages\\sklearn\\ensemble\\_bagging.py:1253: UserWarning: Some inputs do not have OOB scores. This probably means too few estimators were used to compute any reliable oob estimates.\n",
      "  warn(\n",
      "C:\\Users\\TI\\anaconda3\\Lib\\site-packages\\sklearn\\ensemble\\_bagging.py:1253: UserWarning: Some inputs do not have OOB scores. This probably means too few estimators were used to compute any reliable oob estimates.\n",
      "  warn(\n"
     ]
    },
    {
     "name": "stdout",
     "output_type": "stream",
     "text": [
      "Iteration =  485  f(x) =  0.012142640487488922\n",
      "Iteration =  486  f(x) =  0.012142640487488922\n",
      "Iteration =  487  f(x) =  0.012142640487488922\n"
     ]
    },
    {
     "name": "stderr",
     "output_type": "stream",
     "text": [
      "C:\\Users\\TI\\anaconda3\\Lib\\site-packages\\sklearn\\ensemble\\_bagging.py:1253: UserWarning: Some inputs do not have OOB scores. This probably means too few estimators were used to compute any reliable oob estimates.\n",
      "  warn(\n"
     ]
    },
    {
     "name": "stdout",
     "output_type": "stream",
     "text": [
      "Iteration =  488  f(x) =  0.012142640487488922\n",
      "Iteration =  489  f(x) =  0.012142640487488922\n"
     ]
    },
    {
     "name": "stderr",
     "output_type": "stream",
     "text": [
      "C:\\Users\\TI\\anaconda3\\Lib\\site-packages\\sklearn\\ensemble\\_bagging.py:1253: UserWarning: Some inputs do not have OOB scores. This probably means too few estimators were used to compute any reliable oob estimates.\n",
      "  warn(\n"
     ]
    },
    {
     "name": "stdout",
     "output_type": "stream",
     "text": [
      "Iteration =  490  f(x) =  0.012142640487488922\n"
     ]
    },
    {
     "name": "stderr",
     "output_type": "stream",
     "text": [
      "C:\\Users\\TI\\anaconda3\\Lib\\site-packages\\sklearn\\ensemble\\_bagging.py:1253: UserWarning: Some inputs do not have OOB scores. This probably means too few estimators were used to compute any reliable oob estimates.\n",
      "  warn(\n",
      "C:\\Users\\TI\\anaconda3\\Lib\\site-packages\\sklearn\\ensemble\\_bagging.py:1253: UserWarning: Some inputs do not have OOB scores. This probably means too few estimators were used to compute any reliable oob estimates.\n",
      "  warn(\n",
      "C:\\Users\\TI\\anaconda3\\Lib\\site-packages\\sklearn\\ensemble\\_bagging.py:1253: UserWarning: Some inputs do not have OOB scores. This probably means too few estimators were used to compute any reliable oob estimates.\n",
      "  warn(\n",
      "C:\\Users\\TI\\anaconda3\\Lib\\site-packages\\sklearn\\ensemble\\_bagging.py:1253: UserWarning: Some inputs do not have OOB scores. This probably means too few estimators were used to compute any reliable oob estimates.\n",
      "  warn(\n",
      "C:\\Users\\TI\\anaconda3\\Lib\\site-packages\\sklearn\\ensemble\\_bagging.py:1253: UserWarning: Some inputs do not have OOB scores. This probably means too few estimators were used to compute any reliable oob estimates.\n",
      "  warn(\n"
     ]
    },
    {
     "name": "stdout",
     "output_type": "stream",
     "text": [
      "Iteration =  491  f(x) =  0.012142640487488922\n",
      "Iteration =  492  f(x) =  0.012142640487488922\n"
     ]
    },
    {
     "name": "stderr",
     "output_type": "stream",
     "text": [
      "C:\\Users\\TI\\anaconda3\\Lib\\site-packages\\sklearn\\ensemble\\_bagging.py:1253: UserWarning: Some inputs do not have OOB scores. This probably means too few estimators were used to compute any reliable oob estimates.\n",
      "  warn(\n"
     ]
    },
    {
     "name": "stdout",
     "output_type": "stream",
     "text": [
      "Iteration =  493  f(x) =  0.012142640487488922\n"
     ]
    },
    {
     "name": "stderr",
     "output_type": "stream",
     "text": [
      "C:\\Users\\TI\\anaconda3\\Lib\\site-packages\\sklearn\\ensemble\\_bagging.py:1253: UserWarning: Some inputs do not have OOB scores. This probably means too few estimators were used to compute any reliable oob estimates.\n",
      "  warn(\n",
      "C:\\Users\\TI\\anaconda3\\Lib\\site-packages\\sklearn\\ensemble\\_bagging.py:1253: UserWarning: Some inputs do not have OOB scores. This probably means too few estimators were used to compute any reliable oob estimates.\n",
      "  warn(\n"
     ]
    },
    {
     "name": "stdout",
     "output_type": "stream",
     "text": [
      "Iteration =  494  f(x) =  0.012142640487488922\n"
     ]
    },
    {
     "name": "stderr",
     "output_type": "stream",
     "text": [
      "C:\\Users\\TI\\anaconda3\\Lib\\site-packages\\sklearn\\ensemble\\_bagging.py:1253: UserWarning: Some inputs do not have OOB scores. This probably means too few estimators were used to compute any reliable oob estimates.\n",
      "  warn(\n"
     ]
    },
    {
     "name": "stdout",
     "output_type": "stream",
     "text": [
      "Iteration =  495  f(x) =  0.012142640487488922\n"
     ]
    },
    {
     "name": "stderr",
     "output_type": "stream",
     "text": [
      "C:\\Users\\TI\\anaconda3\\Lib\\site-packages\\sklearn\\ensemble\\_bagging.py:1253: UserWarning: Some inputs do not have OOB scores. This probably means too few estimators were used to compute any reliable oob estimates.\n",
      "  warn(\n",
      "C:\\Users\\TI\\anaconda3\\Lib\\site-packages\\sklearn\\ensemble\\_bagging.py:1253: UserWarning: Some inputs do not have OOB scores. This probably means too few estimators were used to compute any reliable oob estimates.\n",
      "  warn(\n",
      "C:\\Users\\TI\\anaconda3\\Lib\\site-packages\\sklearn\\ensemble\\_bagging.py:1253: UserWarning: Some inputs do not have OOB scores. This probably means too few estimators were used to compute any reliable oob estimates.\n",
      "  warn(\n"
     ]
    },
    {
     "name": "stdout",
     "output_type": "stream",
     "text": [
      "Iteration =  496  f(x) =  0.012142640487488922\n"
     ]
    },
    {
     "name": "stderr",
     "output_type": "stream",
     "text": [
      "C:\\Users\\TI\\anaconda3\\Lib\\site-packages\\sklearn\\ensemble\\_bagging.py:1253: UserWarning: Some inputs do not have OOB scores. This probably means too few estimators were used to compute any reliable oob estimates.\n",
      "  warn(\n"
     ]
    },
    {
     "name": "stdout",
     "output_type": "stream",
     "text": [
      "Iteration =  497  f(x) =  0.012142640487488922\n"
     ]
    },
    {
     "name": "stderr",
     "output_type": "stream",
     "text": [
      "C:\\Users\\TI\\anaconda3\\Lib\\site-packages\\sklearn\\ensemble\\_bagging.py:1253: UserWarning: Some inputs do not have OOB scores. This probably means too few estimators were used to compute any reliable oob estimates.\n",
      "  warn(\n",
      "C:\\Users\\TI\\anaconda3\\Lib\\site-packages\\sklearn\\ensemble\\_bagging.py:1253: UserWarning: Some inputs do not have OOB scores. This probably means too few estimators were used to compute any reliable oob estimates.\n",
      "  warn(\n"
     ]
    },
    {
     "name": "stdout",
     "output_type": "stream",
     "text": [
      "Iteration =  498  f(x) =  0.012142640487488922\n",
      "Iteration =  499  f(x) =  0.012142640487488922\n",
      "Iteration =  500  f(x) =  0.012142640487488922\n"
     ]
    },
    {
     "name": "stderr",
     "output_type": "stream",
     "text": [
      "C:\\Users\\TI\\anaconda3\\Lib\\site-packages\\sklearn\\ensemble\\_bagging.py:1253: UserWarning: Some inputs do not have OOB scores. This probably means too few estimators were used to compute any reliable oob estimates.\n",
      "  warn(\n"
     ]
    },
    {
     "name": "stdout",
     "output_type": "stream",
     "text": [
      "Iteration =  501  f(x) =  0.012142640487488922\n"
     ]
    },
    {
     "name": "stderr",
     "output_type": "stream",
     "text": [
      "C:\\Users\\TI\\anaconda3\\Lib\\site-packages\\sklearn\\ensemble\\_bagging.py:1253: UserWarning: Some inputs do not have OOB scores. This probably means too few estimators were used to compute any reliable oob estimates.\n",
      "  warn(\n"
     ]
    },
    {
     "name": "stdout",
     "output_type": "stream",
     "text": [
      "Iteration =  502  f(x) =  0.012142640487488922\n"
     ]
    },
    {
     "name": "stderr",
     "output_type": "stream",
     "text": [
      "C:\\Users\\TI\\anaconda3\\Lib\\site-packages\\sklearn\\ensemble\\_bagging.py:1253: UserWarning: Some inputs do not have OOB scores. This probably means too few estimators were used to compute any reliable oob estimates.\n",
      "  warn(\n"
     ]
    },
    {
     "name": "stdout",
     "output_type": "stream",
     "text": [
      "Iteration =  503  f(x) =  0.012142640487488922\n"
     ]
    },
    {
     "name": "stderr",
     "output_type": "stream",
     "text": [
      "C:\\Users\\TI\\anaconda3\\Lib\\site-packages\\sklearn\\ensemble\\_bagging.py:1253: UserWarning: Some inputs do not have OOB scores. This probably means too few estimators were used to compute any reliable oob estimates.\n",
      "  warn(\n",
      "C:\\Users\\TI\\anaconda3\\Lib\\site-packages\\sklearn\\ensemble\\_bagging.py:1253: UserWarning: Some inputs do not have OOB scores. This probably means too few estimators were used to compute any reliable oob estimates.\n",
      "  warn(\n"
     ]
    },
    {
     "name": "stdout",
     "output_type": "stream",
     "text": [
      "Iteration =  504  f(x) =  0.012142640487488922\n"
     ]
    },
    {
     "name": "stderr",
     "output_type": "stream",
     "text": [
      "C:\\Users\\TI\\anaconda3\\Lib\\site-packages\\sklearn\\ensemble\\_bagging.py:1253: UserWarning: Some inputs do not have OOB scores. This probably means too few estimators were used to compute any reliable oob estimates.\n",
      "  warn(\n",
      "C:\\Users\\TI\\anaconda3\\Lib\\site-packages\\sklearn\\ensemble\\_bagging.py:1253: UserWarning: Some inputs do not have OOB scores. This probably means too few estimators were used to compute any reliable oob estimates.\n",
      "  warn(\n",
      "C:\\Users\\TI\\anaconda3\\Lib\\site-packages\\sklearn\\ensemble\\_bagging.py:1253: UserWarning: Some inputs do not have OOB scores. This probably means too few estimators were used to compute any reliable oob estimates.\n",
      "  warn(\n"
     ]
    },
    {
     "name": "stdout",
     "output_type": "stream",
     "text": [
      "Iteration =  505  f(x) =  0.012142640487488922\n",
      "Iteration =  506  f(x) =  0.012142640487488922\n"
     ]
    },
    {
     "name": "stderr",
     "output_type": "stream",
     "text": [
      "C:\\Users\\TI\\anaconda3\\Lib\\site-packages\\sklearn\\ensemble\\_bagging.py:1253: UserWarning: Some inputs do not have OOB scores. This probably means too few estimators were used to compute any reliable oob estimates.\n",
      "  warn(\n",
      "C:\\Users\\TI\\anaconda3\\Lib\\site-packages\\sklearn\\ensemble\\_bagging.py:1253: UserWarning: Some inputs do not have OOB scores. This probably means too few estimators were used to compute any reliable oob estimates.\n",
      "  warn(\n",
      "C:\\Users\\TI\\anaconda3\\Lib\\site-packages\\sklearn\\ensemble\\_bagging.py:1253: UserWarning: Some inputs do not have OOB scores. This probably means too few estimators were used to compute any reliable oob estimates.\n",
      "  warn(\n"
     ]
    },
    {
     "name": "stdout",
     "output_type": "stream",
     "text": [
      "Iteration =  507  f(x) =  0.012142640487488922\n"
     ]
    },
    {
     "name": "stderr",
     "output_type": "stream",
     "text": [
      "C:\\Users\\TI\\anaconda3\\Lib\\site-packages\\sklearn\\ensemble\\_bagging.py:1253: UserWarning: Some inputs do not have OOB scores. This probably means too few estimators were used to compute any reliable oob estimates.\n",
      "  warn(\n",
      "C:\\Users\\TI\\anaconda3\\Lib\\site-packages\\sklearn\\ensemble\\_bagging.py:1253: UserWarning: Some inputs do not have OOB scores. This probably means too few estimators were used to compute any reliable oob estimates.\n",
      "  warn(\n",
      "C:\\Users\\TI\\anaconda3\\Lib\\site-packages\\sklearn\\ensemble\\_bagging.py:1253: UserWarning: Some inputs do not have OOB scores. This probably means too few estimators were used to compute any reliable oob estimates.\n",
      "  warn(\n",
      "C:\\Users\\TI\\anaconda3\\Lib\\site-packages\\sklearn\\ensemble\\_bagging.py:1253: UserWarning: Some inputs do not have OOB scores. This probably means too few estimators were used to compute any reliable oob estimates.\n",
      "  warn(\n"
     ]
    },
    {
     "name": "stdout",
     "output_type": "stream",
     "text": [
      "Iteration =  508  f(x) =  0.012142640487488922\n"
     ]
    },
    {
     "name": "stderr",
     "output_type": "stream",
     "text": [
      "C:\\Users\\TI\\anaconda3\\Lib\\site-packages\\sklearn\\ensemble\\_bagging.py:1253: UserWarning: Some inputs do not have OOB scores. This probably means too few estimators were used to compute any reliable oob estimates.\n",
      "  warn(\n",
      "C:\\Users\\TI\\anaconda3\\Lib\\site-packages\\sklearn\\ensemble\\_bagging.py:1253: UserWarning: Some inputs do not have OOB scores. This probably means too few estimators were used to compute any reliable oob estimates.\n",
      "  warn(\n"
     ]
    },
    {
     "name": "stdout",
     "output_type": "stream",
     "text": [
      "Iteration =  509  f(x) =  0.012142640487488922\n"
     ]
    },
    {
     "name": "stderr",
     "output_type": "stream",
     "text": [
      "C:\\Users\\TI\\anaconda3\\Lib\\site-packages\\sklearn\\ensemble\\_bagging.py:1253: UserWarning: Some inputs do not have OOB scores. This probably means too few estimators were used to compute any reliable oob estimates.\n",
      "  warn(\n",
      "C:\\Users\\TI\\anaconda3\\Lib\\site-packages\\sklearn\\ensemble\\_bagging.py:1253: UserWarning: Some inputs do not have OOB scores. This probably means too few estimators were used to compute any reliable oob estimates.\n",
      "  warn(\n",
      "C:\\Users\\TI\\anaconda3\\Lib\\site-packages\\sklearn\\ensemble\\_bagging.py:1253: UserWarning: Some inputs do not have OOB scores. This probably means too few estimators were used to compute any reliable oob estimates.\n",
      "  warn(\n"
     ]
    },
    {
     "name": "stdout",
     "output_type": "stream",
     "text": [
      "Iteration =  510  f(x) =  0.012142640487488922\n"
     ]
    },
    {
     "name": "stderr",
     "output_type": "stream",
     "text": [
      "C:\\Users\\TI\\anaconda3\\Lib\\site-packages\\sklearn\\ensemble\\_bagging.py:1253: UserWarning: Some inputs do not have OOB scores. This probably means too few estimators were used to compute any reliable oob estimates.\n",
      "  warn(\n",
      "C:\\Users\\TI\\anaconda3\\Lib\\site-packages\\sklearn\\ensemble\\_bagging.py:1253: UserWarning: Some inputs do not have OOB scores. This probably means too few estimators were used to compute any reliable oob estimates.\n",
      "  warn(\n"
     ]
    },
    {
     "name": "stdout",
     "output_type": "stream",
     "text": [
      "Iteration =  511  f(x) =  0.012142640487488922\n"
     ]
    },
    {
     "name": "stderr",
     "output_type": "stream",
     "text": [
      "C:\\Users\\TI\\anaconda3\\Lib\\site-packages\\sklearn\\ensemble\\_bagging.py:1253: UserWarning: Some inputs do not have OOB scores. This probably means too few estimators were used to compute any reliable oob estimates.\n",
      "  warn(\n",
      "C:\\Users\\TI\\anaconda3\\Lib\\site-packages\\sklearn\\ensemble\\_bagging.py:1253: UserWarning: Some inputs do not have OOB scores. This probably means too few estimators were used to compute any reliable oob estimates.\n",
      "  warn(\n"
     ]
    },
    {
     "name": "stdout",
     "output_type": "stream",
     "text": [
      "Iteration =  512  f(x) =  0.012142640487488922\n"
     ]
    },
    {
     "name": "stderr",
     "output_type": "stream",
     "text": [
      "C:\\Users\\TI\\anaconda3\\Lib\\site-packages\\sklearn\\ensemble\\_bagging.py:1253: UserWarning: Some inputs do not have OOB scores. This probably means too few estimators were used to compute any reliable oob estimates.\n",
      "  warn(\n",
      "C:\\Users\\TI\\anaconda3\\Lib\\site-packages\\sklearn\\ensemble\\_bagging.py:1253: UserWarning: Some inputs do not have OOB scores. This probably means too few estimators were used to compute any reliable oob estimates.\n",
      "  warn(\n",
      "C:\\Users\\TI\\anaconda3\\Lib\\site-packages\\sklearn\\ensemble\\_bagging.py:1253: UserWarning: Some inputs do not have OOB scores. This probably means too few estimators were used to compute any reliable oob estimates.\n",
      "  warn(\n"
     ]
    },
    {
     "name": "stdout",
     "output_type": "stream",
     "text": [
      "Iteration =  513  f(x) =  0.012142640487488922\n",
      "Iteration =  514  f(x) =  0.012142640487488922\n"
     ]
    },
    {
     "name": "stderr",
     "output_type": "stream",
     "text": [
      "C:\\Users\\TI\\anaconda3\\Lib\\site-packages\\sklearn\\ensemble\\_bagging.py:1253: UserWarning: Some inputs do not have OOB scores. This probably means too few estimators were used to compute any reliable oob estimates.\n",
      "  warn(\n"
     ]
    },
    {
     "name": "stdout",
     "output_type": "stream",
     "text": [
      "Iteration =  515  f(x) =  0.012142640487488922\n",
      "Iteration =  516  f(x) =  0.012142640487488922\n"
     ]
    },
    {
     "name": "stderr",
     "output_type": "stream",
     "text": [
      "C:\\Users\\TI\\anaconda3\\Lib\\site-packages\\sklearn\\ensemble\\_bagging.py:1253: UserWarning: Some inputs do not have OOB scores. This probably means too few estimators were used to compute any reliable oob estimates.\n",
      "  warn(\n",
      "C:\\Users\\TI\\anaconda3\\Lib\\site-packages\\sklearn\\ensemble\\_bagging.py:1253: UserWarning: Some inputs do not have OOB scores. This probably means too few estimators were used to compute any reliable oob estimates.\n",
      "  warn(\n",
      "C:\\Users\\TI\\anaconda3\\Lib\\site-packages\\sklearn\\ensemble\\_bagging.py:1253: UserWarning: Some inputs do not have OOB scores. This probably means too few estimators were used to compute any reliable oob estimates.\n",
      "  warn(\n",
      "C:\\Users\\TI\\anaconda3\\Lib\\site-packages\\sklearn\\ensemble\\_bagging.py:1253: UserWarning: Some inputs do not have OOB scores. This probably means too few estimators were used to compute any reliable oob estimates.\n",
      "  warn(\n",
      "C:\\Users\\TI\\anaconda3\\Lib\\site-packages\\sklearn\\ensemble\\_bagging.py:1253: UserWarning: Some inputs do not have OOB scores. This probably means too few estimators were used to compute any reliable oob estimates.\n",
      "  warn(\n"
     ]
    },
    {
     "name": "stdout",
     "output_type": "stream",
     "text": [
      "Iteration =  517  f(x) =  0.012142640487488922\n"
     ]
    },
    {
     "name": "stderr",
     "output_type": "stream",
     "text": [
      "C:\\Users\\TI\\anaconda3\\Lib\\site-packages\\sklearn\\ensemble\\_bagging.py:1253: UserWarning: Some inputs do not have OOB scores. This probably means too few estimators were used to compute any reliable oob estimates.\n",
      "  warn(\n",
      "C:\\Users\\TI\\anaconda3\\Lib\\site-packages\\sklearn\\ensemble\\_bagging.py:1253: UserWarning: Some inputs do not have OOB scores. This probably means too few estimators were used to compute any reliable oob estimates.\n",
      "  warn(\n"
     ]
    },
    {
     "name": "stdout",
     "output_type": "stream",
     "text": [
      "Iteration =  518  f(x) =  0.012142640487488922\n"
     ]
    },
    {
     "name": "stderr",
     "output_type": "stream",
     "text": [
      "C:\\Users\\TI\\anaconda3\\Lib\\site-packages\\sklearn\\ensemble\\_bagging.py:1253: UserWarning: Some inputs do not have OOB scores. This probably means too few estimators were used to compute any reliable oob estimates.\n",
      "  warn(\n"
     ]
    },
    {
     "name": "stdout",
     "output_type": "stream",
     "text": [
      "Iteration =  519  f(x) =  0.012142640487488922\n"
     ]
    },
    {
     "name": "stderr",
     "output_type": "stream",
     "text": [
      "C:\\Users\\TI\\anaconda3\\Lib\\site-packages\\sklearn\\ensemble\\_bagging.py:1253: UserWarning: Some inputs do not have OOB scores. This probably means too few estimators were used to compute any reliable oob estimates.\n",
      "  warn(\n"
     ]
    },
    {
     "name": "stdout",
     "output_type": "stream",
     "text": [
      "Iteration =  520  f(x) =  0.012142640487488922\n"
     ]
    },
    {
     "name": "stderr",
     "output_type": "stream",
     "text": [
      "C:\\Users\\TI\\anaconda3\\Lib\\site-packages\\sklearn\\ensemble\\_bagging.py:1253: UserWarning: Some inputs do not have OOB scores. This probably means too few estimators were used to compute any reliable oob estimates.\n",
      "  warn(\n"
     ]
    },
    {
     "name": "stdout",
     "output_type": "stream",
     "text": [
      "Iteration =  521  f(x) =  0.012142640487488922\n"
     ]
    },
    {
     "name": "stderr",
     "output_type": "stream",
     "text": [
      "C:\\Users\\TI\\anaconda3\\Lib\\site-packages\\sklearn\\ensemble\\_bagging.py:1253: UserWarning: Some inputs do not have OOB scores. This probably means too few estimators were used to compute any reliable oob estimates.\n",
      "  warn(\n"
     ]
    },
    {
     "name": "stdout",
     "output_type": "stream",
     "text": [
      "Iteration =  522  f(x) =  0.012142640487488922\n"
     ]
    },
    {
     "name": "stderr",
     "output_type": "stream",
     "text": [
      "C:\\Users\\TI\\anaconda3\\Lib\\site-packages\\sklearn\\ensemble\\_bagging.py:1253: UserWarning: Some inputs do not have OOB scores. This probably means too few estimators were used to compute any reliable oob estimates.\n",
      "  warn(\n"
     ]
    },
    {
     "name": "stdout",
     "output_type": "stream",
     "text": [
      "Iteration =  523  f(x) =  0.012142640487488922\n",
      "Iteration =  524  f(x) =  0.012142640487488922\n"
     ]
    },
    {
     "name": "stderr",
     "output_type": "stream",
     "text": [
      "C:\\Users\\TI\\anaconda3\\Lib\\site-packages\\sklearn\\ensemble\\_bagging.py:1253: UserWarning: Some inputs do not have OOB scores. This probably means too few estimators were used to compute any reliable oob estimates.\n",
      "  warn(\n"
     ]
    },
    {
     "name": "stdout",
     "output_type": "stream",
     "text": [
      "Iteration =  525  f(x) =  0.012142640487488922\n"
     ]
    },
    {
     "name": "stderr",
     "output_type": "stream",
     "text": [
      "C:\\Users\\TI\\anaconda3\\Lib\\site-packages\\sklearn\\ensemble\\_bagging.py:1253: UserWarning: Some inputs do not have OOB scores. This probably means too few estimators were used to compute any reliable oob estimates.\n",
      "  warn(\n",
      "C:\\Users\\TI\\anaconda3\\Lib\\site-packages\\sklearn\\ensemble\\_bagging.py:1253: UserWarning: Some inputs do not have OOB scores. This probably means too few estimators were used to compute any reliable oob estimates.\n",
      "  warn(\n"
     ]
    },
    {
     "name": "stdout",
     "output_type": "stream",
     "text": [
      "Iteration =  526  f(x) =  0.012142640487488922\n"
     ]
    },
    {
     "name": "stderr",
     "output_type": "stream",
     "text": [
      "C:\\Users\\TI\\anaconda3\\Lib\\site-packages\\sklearn\\ensemble\\_bagging.py:1253: UserWarning: Some inputs do not have OOB scores. This probably means too few estimators were used to compute any reliable oob estimates.\n",
      "  warn(\n"
     ]
    },
    {
     "name": "stdout",
     "output_type": "stream",
     "text": [
      "Iteration =  527  f(x) =  0.012142640487488922\n",
      "Iteration =  528  f(x) =  0.012142640487488922\n"
     ]
    },
    {
     "name": "stderr",
     "output_type": "stream",
     "text": [
      "C:\\Users\\TI\\anaconda3\\Lib\\site-packages\\sklearn\\ensemble\\_bagging.py:1253: UserWarning: Some inputs do not have OOB scores. This probably means too few estimators were used to compute any reliable oob estimates.\n",
      "  warn(\n"
     ]
    },
    {
     "name": "stdout",
     "output_type": "stream",
     "text": [
      "Iteration =  529  f(x) =  0.012142640487488922\n"
     ]
    },
    {
     "name": "stderr",
     "output_type": "stream",
     "text": [
      "C:\\Users\\TI\\anaconda3\\Lib\\site-packages\\sklearn\\ensemble\\_bagging.py:1253: UserWarning: Some inputs do not have OOB scores. This probably means too few estimators were used to compute any reliable oob estimates.\n",
      "  warn(\n",
      "C:\\Users\\TI\\anaconda3\\Lib\\site-packages\\sklearn\\ensemble\\_bagging.py:1253: UserWarning: Some inputs do not have OOB scores. This probably means too few estimators were used to compute any reliable oob estimates.\n",
      "  warn(\n"
     ]
    },
    {
     "name": "stdout",
     "output_type": "stream",
     "text": [
      "Iteration =  530  f(x) =  0.012142640487488922\n"
     ]
    },
    {
     "name": "stderr",
     "output_type": "stream",
     "text": [
      "C:\\Users\\TI\\anaconda3\\Lib\\site-packages\\sklearn\\ensemble\\_bagging.py:1253: UserWarning: Some inputs do not have OOB scores. This probably means too few estimators were used to compute any reliable oob estimates.\n",
      "  warn(\n"
     ]
    },
    {
     "name": "stdout",
     "output_type": "stream",
     "text": [
      "Iteration =  531  f(x) =  0.012142640487488922\n"
     ]
    },
    {
     "name": "stderr",
     "output_type": "stream",
     "text": [
      "C:\\Users\\TI\\anaconda3\\Lib\\site-packages\\sklearn\\ensemble\\_bagging.py:1253: UserWarning: Some inputs do not have OOB scores. This probably means too few estimators were used to compute any reliable oob estimates.\n",
      "  warn(\n"
     ]
    },
    {
     "name": "stdout",
     "output_type": "stream",
     "text": [
      "Iteration =  532  f(x) =  0.012142640487488922\n"
     ]
    },
    {
     "name": "stderr",
     "output_type": "stream",
     "text": [
      "C:\\Users\\TI\\anaconda3\\Lib\\site-packages\\sklearn\\ensemble\\_bagging.py:1253: UserWarning: Some inputs do not have OOB scores. This probably means too few estimators were used to compute any reliable oob estimates.\n",
      "  warn(\n"
     ]
    },
    {
     "name": "stdout",
     "output_type": "stream",
     "text": [
      "Iteration =  533  f(x) =  0.012142640487488922\n"
     ]
    },
    {
     "name": "stderr",
     "output_type": "stream",
     "text": [
      "C:\\Users\\TI\\anaconda3\\Lib\\site-packages\\sklearn\\ensemble\\_bagging.py:1253: UserWarning: Some inputs do not have OOB scores. This probably means too few estimators were used to compute any reliable oob estimates.\n",
      "  warn(\n",
      "C:\\Users\\TI\\anaconda3\\Lib\\site-packages\\sklearn\\ensemble\\_bagging.py:1253: UserWarning: Some inputs do not have OOB scores. This probably means too few estimators were used to compute any reliable oob estimates.\n",
      "  warn(\n",
      "C:\\Users\\TI\\anaconda3\\Lib\\site-packages\\sklearn\\ensemble\\_bagging.py:1253: UserWarning: Some inputs do not have OOB scores. This probably means too few estimators were used to compute any reliable oob estimates.\n",
      "  warn(\n"
     ]
    },
    {
     "name": "stdout",
     "output_type": "stream",
     "text": [
      "Iteration =  534  f(x) =  0.012142640487488922\n"
     ]
    },
    {
     "name": "stderr",
     "output_type": "stream",
     "text": [
      "C:\\Users\\TI\\anaconda3\\Lib\\site-packages\\sklearn\\ensemble\\_bagging.py:1253: UserWarning: Some inputs do not have OOB scores. This probably means too few estimators were used to compute any reliable oob estimates.\n",
      "  warn(\n",
      "C:\\Users\\TI\\anaconda3\\Lib\\site-packages\\sklearn\\ensemble\\_bagging.py:1253: UserWarning: Some inputs do not have OOB scores. This probably means too few estimators were used to compute any reliable oob estimates.\n",
      "  warn(\n"
     ]
    },
    {
     "name": "stdout",
     "output_type": "stream",
     "text": [
      "Iteration =  535  f(x) =  0.012142640487488922\n"
     ]
    },
    {
     "name": "stderr",
     "output_type": "stream",
     "text": [
      "C:\\Users\\TI\\anaconda3\\Lib\\site-packages\\sklearn\\ensemble\\_bagging.py:1253: UserWarning: Some inputs do not have OOB scores. This probably means too few estimators were used to compute any reliable oob estimates.\n",
      "  warn(\n"
     ]
    },
    {
     "name": "stdout",
     "output_type": "stream",
     "text": [
      "Iteration =  536  f(x) =  0.012142640487488922\n",
      "Iteration =  537  f(x) =  0.012142640487488922\n",
      "Iteration =  538  f(x) =  0.012142640487488922\n"
     ]
    },
    {
     "name": "stderr",
     "output_type": "stream",
     "text": [
      "C:\\Users\\TI\\anaconda3\\Lib\\site-packages\\sklearn\\ensemble\\_bagging.py:1253: UserWarning: Some inputs do not have OOB scores. This probably means too few estimators were used to compute any reliable oob estimates.\n",
      "  warn(\n"
     ]
    },
    {
     "name": "stdout",
     "output_type": "stream",
     "text": [
      "Iteration =  539  f(x) =  0.012142640487488922\n"
     ]
    },
    {
     "name": "stderr",
     "output_type": "stream",
     "text": [
      "C:\\Users\\TI\\anaconda3\\Lib\\site-packages\\sklearn\\ensemble\\_bagging.py:1253: UserWarning: Some inputs do not have OOB scores. This probably means too few estimators were used to compute any reliable oob estimates.\n",
      "  warn(\n"
     ]
    },
    {
     "name": "stdout",
     "output_type": "stream",
     "text": [
      "Iteration =  540  f(x) =  0.012142640487488922\n",
      "Iteration =  541  f(x) =  0.012142640487488922\n"
     ]
    },
    {
     "name": "stderr",
     "output_type": "stream",
     "text": [
      "C:\\Users\\TI\\anaconda3\\Lib\\site-packages\\sklearn\\ensemble\\_bagging.py:1253: UserWarning: Some inputs do not have OOB scores. This probably means too few estimators were used to compute any reliable oob estimates.\n",
      "  warn(\n",
      "C:\\Users\\TI\\anaconda3\\Lib\\site-packages\\sklearn\\ensemble\\_bagging.py:1253: UserWarning: Some inputs do not have OOB scores. This probably means too few estimators were used to compute any reliable oob estimates.\n",
      "  warn(\n"
     ]
    },
    {
     "name": "stdout",
     "output_type": "stream",
     "text": [
      "Iteration =  542  f(x) =  0.012142640487488922\n"
     ]
    },
    {
     "name": "stderr",
     "output_type": "stream",
     "text": [
      "C:\\Users\\TI\\anaconda3\\Lib\\site-packages\\sklearn\\ensemble\\_bagging.py:1253: UserWarning: Some inputs do not have OOB scores. This probably means too few estimators were used to compute any reliable oob estimates.\n",
      "  warn(\n",
      "C:\\Users\\TI\\anaconda3\\Lib\\site-packages\\sklearn\\ensemble\\_bagging.py:1253: UserWarning: Some inputs do not have OOB scores. This probably means too few estimators were used to compute any reliable oob estimates.\n",
      "  warn(\n",
      "C:\\Users\\TI\\anaconda3\\Lib\\site-packages\\sklearn\\ensemble\\_bagging.py:1253: UserWarning: Some inputs do not have OOB scores. This probably means too few estimators were used to compute any reliable oob estimates.\n",
      "  warn(\n"
     ]
    },
    {
     "name": "stdout",
     "output_type": "stream",
     "text": [
      "Iteration =  543  f(x) =  0.012142640487488922\n",
      "Iteration =  544  f(x) =  0.012142640487488922\n",
      "Iteration =  545  f(x) =  0.012142640487488922\n"
     ]
    },
    {
     "name": "stderr",
     "output_type": "stream",
     "text": [
      "C:\\Users\\TI\\anaconda3\\Lib\\site-packages\\sklearn\\ensemble\\_bagging.py:1253: UserWarning: Some inputs do not have OOB scores. This probably means too few estimators were used to compute any reliable oob estimates.\n",
      "  warn(\n",
      "C:\\Users\\TI\\anaconda3\\Lib\\site-packages\\sklearn\\ensemble\\_bagging.py:1253: UserWarning: Some inputs do not have OOB scores. This probably means too few estimators were used to compute any reliable oob estimates.\n",
      "  warn(\n",
      "C:\\Users\\TI\\anaconda3\\Lib\\site-packages\\sklearn\\ensemble\\_bagging.py:1253: UserWarning: Some inputs do not have OOB scores. This probably means too few estimators were used to compute any reliable oob estimates.\n",
      "  warn(\n"
     ]
    },
    {
     "name": "stdout",
     "output_type": "stream",
     "text": [
      "Iteration =  546  f(x) =  0.012142640487488922\n"
     ]
    },
    {
     "name": "stderr",
     "output_type": "stream",
     "text": [
      "C:\\Users\\TI\\anaconda3\\Lib\\site-packages\\sklearn\\ensemble\\_bagging.py:1253: UserWarning: Some inputs do not have OOB scores. This probably means too few estimators were used to compute any reliable oob estimates.\n",
      "  warn(\n"
     ]
    },
    {
     "name": "stdout",
     "output_type": "stream",
     "text": [
      "Iteration =  547  f(x) =  0.012142640487488922\n"
     ]
    },
    {
     "name": "stderr",
     "output_type": "stream",
     "text": [
      "C:\\Users\\TI\\anaconda3\\Lib\\site-packages\\sklearn\\ensemble\\_bagging.py:1253: UserWarning: Some inputs do not have OOB scores. This probably means too few estimators were used to compute any reliable oob estimates.\n",
      "  warn(\n"
     ]
    },
    {
     "name": "stdout",
     "output_type": "stream",
     "text": [
      "Iteration =  548  f(x) =  0.012142640487488922\n"
     ]
    },
    {
     "name": "stderr",
     "output_type": "stream",
     "text": [
      "C:\\Users\\TI\\anaconda3\\Lib\\site-packages\\sklearn\\ensemble\\_bagging.py:1253: UserWarning: Some inputs do not have OOB scores. This probably means too few estimators were used to compute any reliable oob estimates.\n",
      "  warn(\n"
     ]
    },
    {
     "name": "stdout",
     "output_type": "stream",
     "text": [
      "Iteration =  549  f(x) =  0.012142640487488922\n"
     ]
    },
    {
     "name": "stderr",
     "output_type": "stream",
     "text": [
      "C:\\Users\\TI\\anaconda3\\Lib\\site-packages\\sklearn\\ensemble\\_bagging.py:1253: UserWarning: Some inputs do not have OOB scores. This probably means too few estimators were used to compute any reliable oob estimates.\n",
      "  warn(\n"
     ]
    },
    {
     "name": "stdout",
     "output_type": "stream",
     "text": [
      "Iteration =  550  f(x) =  0.012142640487488922\n",
      "Iteration =  551  f(x) =  0.012142640487488922\n",
      "Iteration =  552  f(x) =  0.012142640487488922\n",
      "Iteration =  553  f(x) =  0.012142640487488922\n"
     ]
    },
    {
     "name": "stderr",
     "output_type": "stream",
     "text": [
      "C:\\Users\\TI\\anaconda3\\Lib\\site-packages\\sklearn\\ensemble\\_bagging.py:1253: UserWarning: Some inputs do not have OOB scores. This probably means too few estimators were used to compute any reliable oob estimates.\n",
      "  warn(\n"
     ]
    },
    {
     "name": "stdout",
     "output_type": "stream",
     "text": [
      "Iteration =  554  f(x) =  0.012142640487488922\n"
     ]
    },
    {
     "name": "stderr",
     "output_type": "stream",
     "text": [
      "C:\\Users\\TI\\anaconda3\\Lib\\site-packages\\sklearn\\ensemble\\_bagging.py:1253: UserWarning: Some inputs do not have OOB scores. This probably means too few estimators were used to compute any reliable oob estimates.\n",
      "  warn(\n"
     ]
    },
    {
     "name": "stdout",
     "output_type": "stream",
     "text": [
      "Iteration =  555  f(x) =  0.012142640487488922\n"
     ]
    },
    {
     "name": "stderr",
     "output_type": "stream",
     "text": [
      "C:\\Users\\TI\\anaconda3\\Lib\\site-packages\\sklearn\\ensemble\\_bagging.py:1253: UserWarning: Some inputs do not have OOB scores. This probably means too few estimators were used to compute any reliable oob estimates.\n",
      "  warn(\n"
     ]
    },
    {
     "name": "stdout",
     "output_type": "stream",
     "text": [
      "Iteration =  556  f(x) =  0.012142640487488922\n"
     ]
    },
    {
     "name": "stderr",
     "output_type": "stream",
     "text": [
      "C:\\Users\\TI\\anaconda3\\Lib\\site-packages\\sklearn\\ensemble\\_bagging.py:1253: UserWarning: Some inputs do not have OOB scores. This probably means too few estimators were used to compute any reliable oob estimates.\n",
      "  warn(\n"
     ]
    },
    {
     "name": "stdout",
     "output_type": "stream",
     "text": [
      "Iteration =  557  f(x) =  0.012142640487488922\n",
      "Iteration =  558  f(x) =  0.012142640487488922\n"
     ]
    },
    {
     "name": "stderr",
     "output_type": "stream",
     "text": [
      "C:\\Users\\TI\\anaconda3\\Lib\\site-packages\\sklearn\\ensemble\\_bagging.py:1253: UserWarning: Some inputs do not have OOB scores. This probably means too few estimators were used to compute any reliable oob estimates.\n",
      "  warn(\n"
     ]
    },
    {
     "name": "stdout",
     "output_type": "stream",
     "text": [
      "Iteration =  559  f(x) =  0.012142640487488922\n"
     ]
    },
    {
     "name": "stderr",
     "output_type": "stream",
     "text": [
      "C:\\Users\\TI\\anaconda3\\Lib\\site-packages\\sklearn\\ensemble\\_bagging.py:1253: UserWarning: Some inputs do not have OOB scores. This probably means too few estimators were used to compute any reliable oob estimates.\n",
      "  warn(\n"
     ]
    },
    {
     "name": "stdout",
     "output_type": "stream",
     "text": [
      "Iteration =  560  f(x) =  0.012142640487488922\n"
     ]
    },
    {
     "name": "stderr",
     "output_type": "stream",
     "text": [
      "C:\\Users\\TI\\anaconda3\\Lib\\site-packages\\sklearn\\ensemble\\_bagging.py:1253: UserWarning: Some inputs do not have OOB scores. This probably means too few estimators were used to compute any reliable oob estimates.\n",
      "  warn(\n"
     ]
    },
    {
     "name": "stdout",
     "output_type": "stream",
     "text": [
      "Iteration =  561  f(x) =  0.012142640487488922\n",
      "Iteration =  562  f(x) =  0.012142640487488922\n",
      "Iteration =  563  f(x) =  0.012142640487488922\n"
     ]
    },
    {
     "name": "stderr",
     "output_type": "stream",
     "text": [
      "C:\\Users\\TI\\anaconda3\\Lib\\site-packages\\sklearn\\ensemble\\_bagging.py:1253: UserWarning: Some inputs do not have OOB scores. This probably means too few estimators were used to compute any reliable oob estimates.\n",
      "  warn(\n"
     ]
    },
    {
     "name": "stdout",
     "output_type": "stream",
     "text": [
      "Iteration =  564  f(x) =  0.012142640487488922\n"
     ]
    },
    {
     "name": "stderr",
     "output_type": "stream",
     "text": [
      "C:\\Users\\TI\\anaconda3\\Lib\\site-packages\\sklearn\\ensemble\\_bagging.py:1253: UserWarning: Some inputs do not have OOB scores. This probably means too few estimators were used to compute any reliable oob estimates.\n",
      "  warn(\n"
     ]
    },
    {
     "name": "stdout",
     "output_type": "stream",
     "text": [
      "Iteration =  565  f(x) =  0.012142640487488922\n",
      "Iteration =  566  f(x) =  0.012142640487488922\n",
      "Iteration =  567  f(x) =  0.012142640487488922\n",
      "Iteration =  568  f(x) =  0.012142640487488922\n",
      "Iteration =  569  f(x) =  0.012142640487488922\n"
     ]
    },
    {
     "name": "stderr",
     "output_type": "stream",
     "text": [
      "C:\\Users\\TI\\anaconda3\\Lib\\site-packages\\sklearn\\ensemble\\_bagging.py:1253: UserWarning: Some inputs do not have OOB scores. This probably means too few estimators were used to compute any reliable oob estimates.\n",
      "  warn(\n",
      "C:\\Users\\TI\\anaconda3\\Lib\\site-packages\\sklearn\\ensemble\\_bagging.py:1253: UserWarning: Some inputs do not have OOB scores. This probably means too few estimators were used to compute any reliable oob estimates.\n",
      "  warn(\n",
      "C:\\Users\\TI\\anaconda3\\Lib\\site-packages\\sklearn\\ensemble\\_bagging.py:1253: UserWarning: Some inputs do not have OOB scores. This probably means too few estimators were used to compute any reliable oob estimates.\n",
      "  warn(\n"
     ]
    },
    {
     "name": "stdout",
     "output_type": "stream",
     "text": [
      "Iteration =  570  f(x) =  0.012142640487488922\n"
     ]
    },
    {
     "name": "stderr",
     "output_type": "stream",
     "text": [
      "C:\\Users\\TI\\anaconda3\\Lib\\site-packages\\sklearn\\ensemble\\_bagging.py:1253: UserWarning: Some inputs do not have OOB scores. This probably means too few estimators were used to compute any reliable oob estimates.\n",
      "  warn(\n"
     ]
    },
    {
     "name": "stdout",
     "output_type": "stream",
     "text": [
      "Iteration =  571  f(x) =  0.012142640487488922\n"
     ]
    },
    {
     "name": "stderr",
     "output_type": "stream",
     "text": [
      "C:\\Users\\TI\\anaconda3\\Lib\\site-packages\\sklearn\\ensemble\\_bagging.py:1253: UserWarning: Some inputs do not have OOB scores. This probably means too few estimators were used to compute any reliable oob estimates.\n",
      "  warn(\n"
     ]
    },
    {
     "name": "stdout",
     "output_type": "stream",
     "text": [
      "Iteration =  572  f(x) =  0.012142640487488922\n"
     ]
    },
    {
     "name": "stderr",
     "output_type": "stream",
     "text": [
      "C:\\Users\\TI\\anaconda3\\Lib\\site-packages\\sklearn\\ensemble\\_bagging.py:1253: UserWarning: Some inputs do not have OOB scores. This probably means too few estimators were used to compute any reliable oob estimates.\n",
      "  warn(\n"
     ]
    },
    {
     "name": "stdout",
     "output_type": "stream",
     "text": [
      "Iteration =  573  f(x) =  0.012142640487488922\n"
     ]
    },
    {
     "name": "stderr",
     "output_type": "stream",
     "text": [
      "C:\\Users\\TI\\anaconda3\\Lib\\site-packages\\sklearn\\ensemble\\_bagging.py:1253: UserWarning: Some inputs do not have OOB scores. This probably means too few estimators were used to compute any reliable oob estimates.\n",
      "  warn(\n"
     ]
    },
    {
     "name": "stdout",
     "output_type": "stream",
     "text": [
      "Iteration =  574  f(x) =  0.012142640487488922\n",
      "Iteration =  575  f(x) =  0.012142640487488922\n"
     ]
    },
    {
     "name": "stderr",
     "output_type": "stream",
     "text": [
      "C:\\Users\\TI\\anaconda3\\Lib\\site-packages\\sklearn\\ensemble\\_bagging.py:1253: UserWarning: Some inputs do not have OOB scores. This probably means too few estimators were used to compute any reliable oob estimates.\n",
      "  warn(\n",
      "C:\\Users\\TI\\anaconda3\\Lib\\site-packages\\sklearn\\ensemble\\_bagging.py:1253: UserWarning: Some inputs do not have OOB scores. This probably means too few estimators were used to compute any reliable oob estimates.\n",
      "  warn(\n"
     ]
    },
    {
     "name": "stdout",
     "output_type": "stream",
     "text": [
      "Iteration =  576  f(x) =  0.012142640487488922\n",
      "Iteration =  577  f(x) =  0.012142640487488922\n",
      "Iteration =  578  f(x) =  0.012142640487488922\n"
     ]
    },
    {
     "name": "stderr",
     "output_type": "stream",
     "text": [
      "C:\\Users\\TI\\anaconda3\\Lib\\site-packages\\sklearn\\ensemble\\_bagging.py:1253: UserWarning: Some inputs do not have OOB scores. This probably means too few estimators were used to compute any reliable oob estimates.\n",
      "  warn(\n"
     ]
    },
    {
     "name": "stdout",
     "output_type": "stream",
     "text": [
      "Iteration =  579  f(x) =  0.012142640487488922\n"
     ]
    },
    {
     "name": "stderr",
     "output_type": "stream",
     "text": [
      "C:\\Users\\TI\\anaconda3\\Lib\\site-packages\\sklearn\\ensemble\\_bagging.py:1253: UserWarning: Some inputs do not have OOB scores. This probably means too few estimators were used to compute any reliable oob estimates.\n",
      "  warn(\n"
     ]
    },
    {
     "name": "stdout",
     "output_type": "stream",
     "text": [
      "Iteration =  580  f(x) =  0.012142640487488922\n"
     ]
    },
    {
     "name": "stderr",
     "output_type": "stream",
     "text": [
      "C:\\Users\\TI\\anaconda3\\Lib\\site-packages\\sklearn\\ensemble\\_bagging.py:1253: UserWarning: Some inputs do not have OOB scores. This probably means too few estimators were used to compute any reliable oob estimates.\n",
      "  warn(\n"
     ]
    },
    {
     "name": "stdout",
     "output_type": "stream",
     "text": [
      "Iteration =  581  f(x) =  0.012142640487488922\n",
      "Iteration =  582  f(x) =  0.012142640487488922\n"
     ]
    },
    {
     "name": "stderr",
     "output_type": "stream",
     "text": [
      "C:\\Users\\TI\\anaconda3\\Lib\\site-packages\\sklearn\\ensemble\\_bagging.py:1253: UserWarning: Some inputs do not have OOB scores. This probably means too few estimators were used to compute any reliable oob estimates.\n",
      "  warn(\n"
     ]
    },
    {
     "name": "stdout",
     "output_type": "stream",
     "text": [
      "Iteration =  583  f(x) =  0.012142640487488922\n"
     ]
    },
    {
     "name": "stderr",
     "output_type": "stream",
     "text": [
      "C:\\Users\\TI\\anaconda3\\Lib\\site-packages\\sklearn\\ensemble\\_bagging.py:1253: UserWarning: Some inputs do not have OOB scores. This probably means too few estimators were used to compute any reliable oob estimates.\n",
      "  warn(\n"
     ]
    },
    {
     "name": "stdout",
     "output_type": "stream",
     "text": [
      "Iteration =  584  f(x) =  0.012142640487488922\n"
     ]
    },
    {
     "name": "stderr",
     "output_type": "stream",
     "text": [
      "C:\\Users\\TI\\anaconda3\\Lib\\site-packages\\sklearn\\ensemble\\_bagging.py:1253: UserWarning: Some inputs do not have OOB scores. This probably means too few estimators were used to compute any reliable oob estimates.\n",
      "  warn(\n"
     ]
    },
    {
     "name": "stdout",
     "output_type": "stream",
     "text": [
      "Iteration =  585  f(x) =  0.012142640487488922\n",
      "Iteration =  586  f(x) =  0.012142640487488922\n"
     ]
    },
    {
     "name": "stderr",
     "output_type": "stream",
     "text": [
      "C:\\Users\\TI\\anaconda3\\Lib\\site-packages\\sklearn\\ensemble\\_bagging.py:1253: UserWarning: Some inputs do not have OOB scores. This probably means too few estimators were used to compute any reliable oob estimates.\n",
      "  warn(\n",
      "C:\\Users\\TI\\anaconda3\\Lib\\site-packages\\sklearn\\ensemble\\_bagging.py:1253: UserWarning: Some inputs do not have OOB scores. This probably means too few estimators were used to compute any reliable oob estimates.\n",
      "  warn(\n"
     ]
    },
    {
     "name": "stdout",
     "output_type": "stream",
     "text": [
      "Iteration =  587  f(x) =  0.012142640487488922\n",
      "Iteration =  588  f(x) =  0.012142640487488922\n",
      "Iteration =  589  f(x) =  0.012142640487488922\n"
     ]
    },
    {
     "name": "stderr",
     "output_type": "stream",
     "text": [
      "C:\\Users\\TI\\anaconda3\\Lib\\site-packages\\sklearn\\ensemble\\_bagging.py:1253: UserWarning: Some inputs do not have OOB scores. This probably means too few estimators were used to compute any reliable oob estimates.\n",
      "  warn(\n",
      "C:\\Users\\TI\\anaconda3\\Lib\\site-packages\\sklearn\\ensemble\\_bagging.py:1253: UserWarning: Some inputs do not have OOB scores. This probably means too few estimators were used to compute any reliable oob estimates.\n",
      "  warn(\n"
     ]
    },
    {
     "name": "stdout",
     "output_type": "stream",
     "text": [
      "Iteration =  590  f(x) =  0.012142640487488922\n"
     ]
    },
    {
     "name": "stderr",
     "output_type": "stream",
     "text": [
      "C:\\Users\\TI\\anaconda3\\Lib\\site-packages\\sklearn\\ensemble\\_bagging.py:1253: UserWarning: Some inputs do not have OOB scores. This probably means too few estimators were used to compute any reliable oob estimates.\n",
      "  warn(\n",
      "C:\\Users\\TI\\anaconda3\\Lib\\site-packages\\sklearn\\ensemble\\_bagging.py:1253: UserWarning: Some inputs do not have OOB scores. This probably means too few estimators were used to compute any reliable oob estimates.\n",
      "  warn(\n",
      "C:\\Users\\TI\\anaconda3\\Lib\\site-packages\\sklearn\\ensemble\\_bagging.py:1253: UserWarning: Some inputs do not have OOB scores. This probably means too few estimators were used to compute any reliable oob estimates.\n",
      "  warn(\n"
     ]
    },
    {
     "name": "stdout",
     "output_type": "stream",
     "text": [
      "Iteration =  591  f(x) =  0.012142640487488922\n",
      "Iteration =  592  f(x) =  0.012142640487488922\n"
     ]
    },
    {
     "name": "stderr",
     "output_type": "stream",
     "text": [
      "C:\\Users\\TI\\anaconda3\\Lib\\site-packages\\sklearn\\ensemble\\_bagging.py:1253: UserWarning: Some inputs do not have OOB scores. This probably means too few estimators were used to compute any reliable oob estimates.\n",
      "  warn(\n"
     ]
    },
    {
     "name": "stdout",
     "output_type": "stream",
     "text": [
      "Iteration =  593  f(x) =  0.012142640487488922\n"
     ]
    },
    {
     "name": "stderr",
     "output_type": "stream",
     "text": [
      "C:\\Users\\TI\\anaconda3\\Lib\\site-packages\\sklearn\\ensemble\\_bagging.py:1253: UserWarning: Some inputs do not have OOB scores. This probably means too few estimators were used to compute any reliable oob estimates.\n",
      "  warn(\n"
     ]
    },
    {
     "name": "stdout",
     "output_type": "stream",
     "text": [
      "Iteration =  594  f(x) =  0.012142640487488922\n"
     ]
    },
    {
     "name": "stderr",
     "output_type": "stream",
     "text": [
      "C:\\Users\\TI\\anaconda3\\Lib\\site-packages\\sklearn\\ensemble\\_bagging.py:1253: UserWarning: Some inputs do not have OOB scores. This probably means too few estimators were used to compute any reliable oob estimates.\n",
      "  warn(\n",
      "C:\\Users\\TI\\anaconda3\\Lib\\site-packages\\sklearn\\ensemble\\_bagging.py:1253: UserWarning: Some inputs do not have OOB scores. This probably means too few estimators were used to compute any reliable oob estimates.\n",
      "  warn(\n"
     ]
    },
    {
     "name": "stdout",
     "output_type": "stream",
     "text": [
      "Iteration =  595  f(x) =  0.012142640487488922\n",
      "Iteration =  596  f(x) =  0.012142640487488922\n"
     ]
    },
    {
     "name": "stderr",
     "output_type": "stream",
     "text": [
      "C:\\Users\\TI\\anaconda3\\Lib\\site-packages\\sklearn\\ensemble\\_bagging.py:1253: UserWarning: Some inputs do not have OOB scores. This probably means too few estimators were used to compute any reliable oob estimates.\n",
      "  warn(\n"
     ]
    },
    {
     "name": "stdout",
     "output_type": "stream",
     "text": [
      "Iteration =  597  f(x) =  0.012142640487488922\n",
      "Iteration =  598  f(x) =  0.012142640487488922\n"
     ]
    },
    {
     "name": "stderr",
     "output_type": "stream",
     "text": [
      "C:\\Users\\TI\\anaconda3\\Lib\\site-packages\\sklearn\\ensemble\\_bagging.py:1253: UserWarning: Some inputs do not have OOB scores. This probably means too few estimators were used to compute any reliable oob estimates.\n",
      "  warn(\n"
     ]
    },
    {
     "name": "stdout",
     "output_type": "stream",
     "text": [
      "Iteration =  599  f(x) =  0.012142640487488922\n",
      "Iteration =  600  f(x) =  0.012142640487488922\n",
      "Iteration =  601  f(x) =  0.012142640487488922\n"
     ]
    },
    {
     "name": "stderr",
     "output_type": "stream",
     "text": [
      "C:\\Users\\TI\\anaconda3\\Lib\\site-packages\\sklearn\\ensemble\\_bagging.py:1253: UserWarning: Some inputs do not have OOB scores. This probably means too few estimators were used to compute any reliable oob estimates.\n",
      "  warn(\n"
     ]
    },
    {
     "name": "stdout",
     "output_type": "stream",
     "text": [
      "Iteration =  602  f(x) =  0.012142640487488922\n"
     ]
    },
    {
     "name": "stderr",
     "output_type": "stream",
     "text": [
      "C:\\Users\\TI\\anaconda3\\Lib\\site-packages\\sklearn\\ensemble\\_bagging.py:1253: UserWarning: Some inputs do not have OOB scores. This probably means too few estimators were used to compute any reliable oob estimates.\n",
      "  warn(\n",
      "C:\\Users\\TI\\anaconda3\\Lib\\site-packages\\sklearn\\ensemble\\_bagging.py:1253: UserWarning: Some inputs do not have OOB scores. This probably means too few estimators were used to compute any reliable oob estimates.\n",
      "  warn(\n"
     ]
    },
    {
     "name": "stdout",
     "output_type": "stream",
     "text": [
      "Iteration =  603  f(x) =  0.012142640487488922\n"
     ]
    },
    {
     "name": "stderr",
     "output_type": "stream",
     "text": [
      "C:\\Users\\TI\\anaconda3\\Lib\\site-packages\\sklearn\\ensemble\\_bagging.py:1253: UserWarning: Some inputs do not have OOB scores. This probably means too few estimators were used to compute any reliable oob estimates.\n",
      "  warn(\n",
      "C:\\Users\\TI\\anaconda3\\Lib\\site-packages\\sklearn\\ensemble\\_bagging.py:1253: UserWarning: Some inputs do not have OOB scores. This probably means too few estimators were used to compute any reliable oob estimates.\n",
      "  warn(\n"
     ]
    },
    {
     "name": "stdout",
     "output_type": "stream",
     "text": [
      "Iteration =  604  f(x) =  0.012142640487488922\n"
     ]
    },
    {
     "name": "stderr",
     "output_type": "stream",
     "text": [
      "C:\\Users\\TI\\anaconda3\\Lib\\site-packages\\sklearn\\ensemble\\_bagging.py:1253: UserWarning: Some inputs do not have OOB scores. This probably means too few estimators were used to compute any reliable oob estimates.\n",
      "  warn(\n"
     ]
    },
    {
     "name": "stdout",
     "output_type": "stream",
     "text": [
      "Iteration =  605  f(x) =  0.012142640487488922\n"
     ]
    },
    {
     "name": "stderr",
     "output_type": "stream",
     "text": [
      "C:\\Users\\TI\\anaconda3\\Lib\\site-packages\\sklearn\\ensemble\\_bagging.py:1253: UserWarning: Some inputs do not have OOB scores. This probably means too few estimators were used to compute any reliable oob estimates.\n",
      "  warn(\n"
     ]
    },
    {
     "name": "stdout",
     "output_type": "stream",
     "text": [
      "Iteration =  606  f(x) =  0.012142640487488922\n",
      "Iteration =  607  f(x) =  0.012142640487488922\n"
     ]
    },
    {
     "name": "stderr",
     "output_type": "stream",
     "text": [
      "C:\\Users\\TI\\anaconda3\\Lib\\site-packages\\sklearn\\ensemble\\_bagging.py:1253: UserWarning: Some inputs do not have OOB scores. This probably means too few estimators were used to compute any reliable oob estimates.\n",
      "  warn(\n",
      "C:\\Users\\TI\\anaconda3\\Lib\\site-packages\\sklearn\\ensemble\\_bagging.py:1253: UserWarning: Some inputs do not have OOB scores. This probably means too few estimators were used to compute any reliable oob estimates.\n",
      "  warn(\n",
      "C:\\Users\\TI\\anaconda3\\Lib\\site-packages\\sklearn\\ensemble\\_bagging.py:1253: UserWarning: Some inputs do not have OOB scores. This probably means too few estimators were used to compute any reliable oob estimates.\n",
      "  warn(\n"
     ]
    },
    {
     "name": "stdout",
     "output_type": "stream",
     "text": [
      "Iteration =  608  f(x) =  0.012142640487488922\n",
      "Iteration =  609  f(x) =  0.012142640487488922\n",
      "Iteration =  610  f(x) =  0.012142640487488922\n",
      "Iteration =  611  f(x) =  0.012142640487488922\n"
     ]
    },
    {
     "name": "stderr",
     "output_type": "stream",
     "text": [
      "C:\\Users\\TI\\anaconda3\\Lib\\site-packages\\sklearn\\ensemble\\_bagging.py:1253: UserWarning: Some inputs do not have OOB scores. This probably means too few estimators were used to compute any reliable oob estimates.\n",
      "  warn(\n",
      "C:\\Users\\TI\\anaconda3\\Lib\\site-packages\\sklearn\\ensemble\\_bagging.py:1253: UserWarning: Some inputs do not have OOB scores. This probably means too few estimators were used to compute any reliable oob estimates.\n",
      "  warn(\n",
      "C:\\Users\\TI\\anaconda3\\Lib\\site-packages\\sklearn\\ensemble\\_bagging.py:1253: UserWarning: Some inputs do not have OOB scores. This probably means too few estimators were used to compute any reliable oob estimates.\n",
      "  warn(\n",
      "C:\\Users\\TI\\anaconda3\\Lib\\site-packages\\sklearn\\ensemble\\_bagging.py:1253: UserWarning: Some inputs do not have OOB scores. This probably means too few estimators were used to compute any reliable oob estimates.\n",
      "  warn(\n"
     ]
    },
    {
     "name": "stdout",
     "output_type": "stream",
     "text": [
      "Iteration =  612  f(x) =  0.012142640487488922\n"
     ]
    },
    {
     "name": "stderr",
     "output_type": "stream",
     "text": [
      "C:\\Users\\TI\\anaconda3\\Lib\\site-packages\\sklearn\\ensemble\\_bagging.py:1253: UserWarning: Some inputs do not have OOB scores. This probably means too few estimators were used to compute any reliable oob estimates.\n",
      "  warn(\n"
     ]
    },
    {
     "name": "stdout",
     "output_type": "stream",
     "text": [
      "Iteration =  613  f(x) =  0.012142640487488922\n"
     ]
    },
    {
     "name": "stderr",
     "output_type": "stream",
     "text": [
      "C:\\Users\\TI\\anaconda3\\Lib\\site-packages\\sklearn\\ensemble\\_bagging.py:1253: UserWarning: Some inputs do not have OOB scores. This probably means too few estimators were used to compute any reliable oob estimates.\n",
      "  warn(\n",
      "C:\\Users\\TI\\anaconda3\\Lib\\site-packages\\sklearn\\ensemble\\_bagging.py:1253: UserWarning: Some inputs do not have OOB scores. This probably means too few estimators were used to compute any reliable oob estimates.\n",
      "  warn(\n"
     ]
    },
    {
     "name": "stdout",
     "output_type": "stream",
     "text": [
      "Iteration =  614  f(x) =  0.012142640487488922\n",
      "Iteration =  615  f(x) =  0.012142640487488922\n"
     ]
    },
    {
     "name": "stderr",
     "output_type": "stream",
     "text": [
      "C:\\Users\\TI\\anaconda3\\Lib\\site-packages\\sklearn\\ensemble\\_bagging.py:1253: UserWarning: Some inputs do not have OOB scores. This probably means too few estimators were used to compute any reliable oob estimates.\n",
      "  warn(\n"
     ]
    },
    {
     "name": "stdout",
     "output_type": "stream",
     "text": [
      "Iteration =  616  f(x) =  0.012142640487488922\n",
      "Iteration =  617  f(x) =  0.012142640487488922\n",
      "Iteration =  618  f(x) =  0.012142640487488922\n"
     ]
    },
    {
     "name": "stderr",
     "output_type": "stream",
     "text": [
      "C:\\Users\\TI\\anaconda3\\Lib\\site-packages\\sklearn\\ensemble\\_bagging.py:1253: UserWarning: Some inputs do not have OOB scores. This probably means too few estimators were used to compute any reliable oob estimates.\n",
      "  warn(\n"
     ]
    },
    {
     "name": "stdout",
     "output_type": "stream",
     "text": [
      "Iteration =  619  f(x) =  0.012142640487488922\n",
      "Iteration =  620  f(x) =  0.012142640487488922\n"
     ]
    },
    {
     "name": "stderr",
     "output_type": "stream",
     "text": [
      "C:\\Users\\TI\\anaconda3\\Lib\\site-packages\\sklearn\\ensemble\\_bagging.py:1253: UserWarning: Some inputs do not have OOB scores. This probably means too few estimators were used to compute any reliable oob estimates.\n",
      "  warn(\n"
     ]
    },
    {
     "name": "stdout",
     "output_type": "stream",
     "text": [
      "Iteration =  621  f(x) =  0.012142640487488922\n"
     ]
    },
    {
     "name": "stderr",
     "output_type": "stream",
     "text": [
      "C:\\Users\\TI\\anaconda3\\Lib\\site-packages\\sklearn\\ensemble\\_bagging.py:1253: UserWarning: Some inputs do not have OOB scores. This probably means too few estimators were used to compute any reliable oob estimates.\n",
      "  warn(\n",
      "C:\\Users\\TI\\anaconda3\\Lib\\site-packages\\sklearn\\ensemble\\_bagging.py:1253: UserWarning: Some inputs do not have OOB scores. This probably means too few estimators were used to compute any reliable oob estimates.\n",
      "  warn(\n",
      "C:\\Users\\TI\\anaconda3\\Lib\\site-packages\\sklearn\\ensemble\\_bagging.py:1253: UserWarning: Some inputs do not have OOB scores. This probably means too few estimators were used to compute any reliable oob estimates.\n",
      "  warn(\n"
     ]
    },
    {
     "name": "stdout",
     "output_type": "stream",
     "text": [
      "Iteration =  622  f(x) =  0.012142640487488922\n"
     ]
    },
    {
     "name": "stderr",
     "output_type": "stream",
     "text": [
      "C:\\Users\\TI\\anaconda3\\Lib\\site-packages\\sklearn\\ensemble\\_bagging.py:1253: UserWarning: Some inputs do not have OOB scores. This probably means too few estimators were used to compute any reliable oob estimates.\n",
      "  warn(\n"
     ]
    },
    {
     "name": "stdout",
     "output_type": "stream",
     "text": [
      "Iteration =  623  f(x) =  0.012142640487488922\n",
      "Iteration =  624  f(x) =  0.012142640487488922\n",
      "Iteration =  625  f(x) =  0.012142640487488922\n"
     ]
    },
    {
     "name": "stderr",
     "output_type": "stream",
     "text": [
      "C:\\Users\\TI\\anaconda3\\Lib\\site-packages\\sklearn\\ensemble\\_bagging.py:1253: UserWarning: Some inputs do not have OOB scores. This probably means too few estimators were used to compute any reliable oob estimates.\n",
      "  warn(\n"
     ]
    },
    {
     "name": "stdout",
     "output_type": "stream",
     "text": [
      "Iteration =  626  f(x) =  0.012142640487488922\n"
     ]
    },
    {
     "name": "stderr",
     "output_type": "stream",
     "text": [
      "C:\\Users\\TI\\anaconda3\\Lib\\site-packages\\sklearn\\ensemble\\_bagging.py:1253: UserWarning: Some inputs do not have OOB scores. This probably means too few estimators were used to compute any reliable oob estimates.\n",
      "  warn(\n",
      "C:\\Users\\TI\\anaconda3\\Lib\\site-packages\\sklearn\\ensemble\\_bagging.py:1253: UserWarning: Some inputs do not have OOB scores. This probably means too few estimators were used to compute any reliable oob estimates.\n",
      "  warn(\n",
      "C:\\Users\\TI\\anaconda3\\Lib\\site-packages\\sklearn\\ensemble\\_bagging.py:1253: UserWarning: Some inputs do not have OOB scores. This probably means too few estimators were used to compute any reliable oob estimates.\n",
      "  warn(\n"
     ]
    },
    {
     "name": "stdout",
     "output_type": "stream",
     "text": [
      "Iteration =  627  f(x) =  0.012142640487488922\n",
      "Iteration =  628  f(x) =  0.012142640487488922\n"
     ]
    },
    {
     "name": "stderr",
     "output_type": "stream",
     "text": [
      "C:\\Users\\TI\\anaconda3\\Lib\\site-packages\\sklearn\\ensemble\\_bagging.py:1253: UserWarning: Some inputs do not have OOB scores. This probably means too few estimators were used to compute any reliable oob estimates.\n",
      "  warn(\n"
     ]
    },
    {
     "name": "stdout",
     "output_type": "stream",
     "text": [
      "Iteration =  629  f(x) =  0.012142640487488922\n"
     ]
    },
    {
     "name": "stderr",
     "output_type": "stream",
     "text": [
      "C:\\Users\\TI\\anaconda3\\Lib\\site-packages\\sklearn\\ensemble\\_bagging.py:1253: UserWarning: Some inputs do not have OOB scores. This probably means too few estimators were used to compute any reliable oob estimates.\n",
      "  warn(\n",
      "C:\\Users\\TI\\anaconda3\\Lib\\site-packages\\sklearn\\ensemble\\_bagging.py:1253: UserWarning: Some inputs do not have OOB scores. This probably means too few estimators were used to compute any reliable oob estimates.\n",
      "  warn(\n"
     ]
    },
    {
     "name": "stdout",
     "output_type": "stream",
     "text": [
      "Iteration =  630  f(x) =  0.012142640487488922\n"
     ]
    },
    {
     "name": "stderr",
     "output_type": "stream",
     "text": [
      "C:\\Users\\TI\\anaconda3\\Lib\\site-packages\\sklearn\\ensemble\\_bagging.py:1253: UserWarning: Some inputs do not have OOB scores. This probably means too few estimators were used to compute any reliable oob estimates.\n",
      "  warn(\n",
      "C:\\Users\\TI\\anaconda3\\Lib\\site-packages\\sklearn\\ensemble\\_bagging.py:1253: UserWarning: Some inputs do not have OOB scores. This probably means too few estimators were used to compute any reliable oob estimates.\n",
      "  warn(\n"
     ]
    },
    {
     "name": "stdout",
     "output_type": "stream",
     "text": [
      "Iteration =  631  f(x) =  0.012142640487488922\n"
     ]
    },
    {
     "name": "stderr",
     "output_type": "stream",
     "text": [
      "C:\\Users\\TI\\anaconda3\\Lib\\site-packages\\sklearn\\ensemble\\_bagging.py:1253: UserWarning: Some inputs do not have OOB scores. This probably means too few estimators were used to compute any reliable oob estimates.\n",
      "  warn(\n"
     ]
    },
    {
     "name": "stdout",
     "output_type": "stream",
     "text": [
      "Iteration =  632  f(x) =  0.012142640487488922\n"
     ]
    },
    {
     "name": "stderr",
     "output_type": "stream",
     "text": [
      "C:\\Users\\TI\\anaconda3\\Lib\\site-packages\\sklearn\\ensemble\\_bagging.py:1253: UserWarning: Some inputs do not have OOB scores. This probably means too few estimators were used to compute any reliable oob estimates.\n",
      "  warn(\n"
     ]
    },
    {
     "name": "stdout",
     "output_type": "stream",
     "text": [
      "Iteration =  633  f(x) =  0.012142640487488922\n"
     ]
    },
    {
     "name": "stderr",
     "output_type": "stream",
     "text": [
      "C:\\Users\\TI\\anaconda3\\Lib\\site-packages\\sklearn\\ensemble\\_bagging.py:1253: UserWarning: Some inputs do not have OOB scores. This probably means too few estimators were used to compute any reliable oob estimates.\n",
      "  warn(\n",
      "C:\\Users\\TI\\anaconda3\\Lib\\site-packages\\sklearn\\ensemble\\_bagging.py:1253: UserWarning: Some inputs do not have OOB scores. This probably means too few estimators were used to compute any reliable oob estimates.\n",
      "  warn(\n"
     ]
    },
    {
     "name": "stdout",
     "output_type": "stream",
     "text": [
      "Iteration =  634  f(x) =  0.012142640487488922\n"
     ]
    },
    {
     "name": "stderr",
     "output_type": "stream",
     "text": [
      "C:\\Users\\TI\\anaconda3\\Lib\\site-packages\\sklearn\\ensemble\\_bagging.py:1253: UserWarning: Some inputs do not have OOB scores. This probably means too few estimators were used to compute any reliable oob estimates.\n",
      "  warn(\n",
      "C:\\Users\\TI\\anaconda3\\Lib\\site-packages\\sklearn\\ensemble\\_bagging.py:1253: UserWarning: Some inputs do not have OOB scores. This probably means too few estimators were used to compute any reliable oob estimates.\n",
      "  warn(\n"
     ]
    },
    {
     "name": "stdout",
     "output_type": "stream",
     "text": [
      "Iteration =  635  f(x) =  0.012142640487488922\n"
     ]
    },
    {
     "name": "stderr",
     "output_type": "stream",
     "text": [
      "C:\\Users\\TI\\anaconda3\\Lib\\site-packages\\sklearn\\ensemble\\_bagging.py:1253: UserWarning: Some inputs do not have OOB scores. This probably means too few estimators were used to compute any reliable oob estimates.\n",
      "  warn(\n",
      "C:\\Users\\TI\\anaconda3\\Lib\\site-packages\\sklearn\\ensemble\\_bagging.py:1253: UserWarning: Some inputs do not have OOB scores. This probably means too few estimators were used to compute any reliable oob estimates.\n",
      "  warn(\n"
     ]
    },
    {
     "name": "stdout",
     "output_type": "stream",
     "text": [
      "Iteration =  636  f(x) =  0.012142640487488922\n",
      "Iteration =  637  f(x) =  0.012142640487488922\n"
     ]
    },
    {
     "name": "stderr",
     "output_type": "stream",
     "text": [
      "C:\\Users\\TI\\anaconda3\\Lib\\site-packages\\sklearn\\ensemble\\_bagging.py:1253: UserWarning: Some inputs do not have OOB scores. This probably means too few estimators were used to compute any reliable oob estimates.\n",
      "  warn(\n",
      "C:\\Users\\TI\\anaconda3\\Lib\\site-packages\\sklearn\\ensemble\\_bagging.py:1253: UserWarning: Some inputs do not have OOB scores. This probably means too few estimators were used to compute any reliable oob estimates.\n",
      "  warn(\n"
     ]
    },
    {
     "name": "stdout",
     "output_type": "stream",
     "text": [
      "Iteration =  638  f(x) =  0.012142640487488922\n"
     ]
    },
    {
     "name": "stderr",
     "output_type": "stream",
     "text": [
      "C:\\Users\\TI\\anaconda3\\Lib\\site-packages\\sklearn\\ensemble\\_bagging.py:1253: UserWarning: Some inputs do not have OOB scores. This probably means too few estimators were used to compute any reliable oob estimates.\n",
      "  warn(\n",
      "C:\\Users\\TI\\anaconda3\\Lib\\site-packages\\sklearn\\ensemble\\_bagging.py:1253: UserWarning: Some inputs do not have OOB scores. This probably means too few estimators were used to compute any reliable oob estimates.\n",
      "  warn(\n"
     ]
    },
    {
     "name": "stdout",
     "output_type": "stream",
     "text": [
      "Iteration =  639  f(x) =  0.012142640487488922\n",
      "Iteration =  640  f(x) =  0.012142640487488922\n"
     ]
    },
    {
     "name": "stderr",
     "output_type": "stream",
     "text": [
      "C:\\Users\\TI\\anaconda3\\Lib\\site-packages\\sklearn\\ensemble\\_bagging.py:1253: UserWarning: Some inputs do not have OOB scores. This probably means too few estimators were used to compute any reliable oob estimates.\n",
      "  warn(\n",
      "C:\\Users\\TI\\anaconda3\\Lib\\site-packages\\sklearn\\ensemble\\_bagging.py:1253: UserWarning: Some inputs do not have OOB scores. This probably means too few estimators were used to compute any reliable oob estimates.\n",
      "  warn(\n"
     ]
    },
    {
     "name": "stdout",
     "output_type": "stream",
     "text": [
      "Iteration =  641  f(x) =  0.012142640487488922\n",
      "Iteration =  642  f(x) =  0.012142640487488922\n"
     ]
    },
    {
     "name": "stderr",
     "output_type": "stream",
     "text": [
      "C:\\Users\\TI\\anaconda3\\Lib\\site-packages\\sklearn\\ensemble\\_bagging.py:1253: UserWarning: Some inputs do not have OOB scores. This probably means too few estimators were used to compute any reliable oob estimates.\n",
      "  warn(\n"
     ]
    },
    {
     "name": "stdout",
     "output_type": "stream",
     "text": [
      "Iteration =  643  f(x) =  0.012142640487488922\n"
     ]
    },
    {
     "name": "stderr",
     "output_type": "stream",
     "text": [
      "C:\\Users\\TI\\anaconda3\\Lib\\site-packages\\sklearn\\ensemble\\_bagging.py:1253: UserWarning: Some inputs do not have OOB scores. This probably means too few estimators were used to compute any reliable oob estimates.\n",
      "  warn(\n"
     ]
    },
    {
     "name": "stdout",
     "output_type": "stream",
     "text": [
      "Iteration =  644  f(x) =  0.012142640487488922\n"
     ]
    },
    {
     "name": "stderr",
     "output_type": "stream",
     "text": [
      "C:\\Users\\TI\\anaconda3\\Lib\\site-packages\\sklearn\\ensemble\\_bagging.py:1253: UserWarning: Some inputs do not have OOB scores. This probably means too few estimators were used to compute any reliable oob estimates.\n",
      "  warn(\n"
     ]
    },
    {
     "name": "stdout",
     "output_type": "stream",
     "text": [
      "Iteration =  645  f(x) =  0.012142640487488922\n"
     ]
    },
    {
     "name": "stderr",
     "output_type": "stream",
     "text": [
      "C:\\Users\\TI\\anaconda3\\Lib\\site-packages\\sklearn\\ensemble\\_bagging.py:1253: UserWarning: Some inputs do not have OOB scores. This probably means too few estimators were used to compute any reliable oob estimates.\n",
      "  warn(\n"
     ]
    },
    {
     "name": "stdout",
     "output_type": "stream",
     "text": [
      "Iteration =  646  f(x) =  0.012142640487488922\n"
     ]
    },
    {
     "name": "stderr",
     "output_type": "stream",
     "text": [
      "C:\\Users\\TI\\anaconda3\\Lib\\site-packages\\sklearn\\ensemble\\_bagging.py:1253: UserWarning: Some inputs do not have OOB scores. This probably means too few estimators were used to compute any reliable oob estimates.\n",
      "  warn(\n",
      "C:\\Users\\TI\\anaconda3\\Lib\\site-packages\\sklearn\\ensemble\\_bagging.py:1253: UserWarning: Some inputs do not have OOB scores. This probably means too few estimators were used to compute any reliable oob estimates.\n",
      "  warn(\n",
      "C:\\Users\\TI\\anaconda3\\Lib\\site-packages\\sklearn\\ensemble\\_bagging.py:1253: UserWarning: Some inputs do not have OOB scores. This probably means too few estimators were used to compute any reliable oob estimates.\n",
      "  warn(\n",
      "C:\\Users\\TI\\anaconda3\\Lib\\site-packages\\sklearn\\ensemble\\_bagging.py:1253: UserWarning: Some inputs do not have OOB scores. This probably means too few estimators were used to compute any reliable oob estimates.\n",
      "  warn(\n"
     ]
    },
    {
     "name": "stdout",
     "output_type": "stream",
     "text": [
      "Iteration =  647  f(x) =  0.012142640487488922\n",
      "Iteration =  648  f(x) =  0.012142640487488922\n"
     ]
    },
    {
     "name": "stderr",
     "output_type": "stream",
     "text": [
      "C:\\Users\\TI\\anaconda3\\Lib\\site-packages\\sklearn\\ensemble\\_bagging.py:1253: UserWarning: Some inputs do not have OOB scores. This probably means too few estimators were used to compute any reliable oob estimates.\n",
      "  warn(\n"
     ]
    },
    {
     "name": "stdout",
     "output_type": "stream",
     "text": [
      "Iteration =  649  f(x) =  0.012142640487488922\n"
     ]
    },
    {
     "name": "stderr",
     "output_type": "stream",
     "text": [
      "C:\\Users\\TI\\anaconda3\\Lib\\site-packages\\sklearn\\ensemble\\_bagging.py:1253: UserWarning: Some inputs do not have OOB scores. This probably means too few estimators were used to compute any reliable oob estimates.\n",
      "  warn(\n",
      "C:\\Users\\TI\\anaconda3\\Lib\\site-packages\\sklearn\\ensemble\\_bagging.py:1253: UserWarning: Some inputs do not have OOB scores. This probably means too few estimators were used to compute any reliable oob estimates.\n",
      "  warn(\n"
     ]
    },
    {
     "name": "stdout",
     "output_type": "stream",
     "text": [
      "Iteration =  650  f(x) =  0.012142640487488922\n"
     ]
    },
    {
     "name": "stderr",
     "output_type": "stream",
     "text": [
      "C:\\Users\\TI\\anaconda3\\Lib\\site-packages\\sklearn\\ensemble\\_bagging.py:1253: UserWarning: Some inputs do not have OOB scores. This probably means too few estimators were used to compute any reliable oob estimates.\n",
      "  warn(\n"
     ]
    },
    {
     "name": "stdout",
     "output_type": "stream",
     "text": [
      "Iteration =  651  f(x) =  0.012142640487488922\n"
     ]
    },
    {
     "name": "stderr",
     "output_type": "stream",
     "text": [
      "C:\\Users\\TI\\anaconda3\\Lib\\site-packages\\sklearn\\ensemble\\_bagging.py:1253: UserWarning: Some inputs do not have OOB scores. This probably means too few estimators were used to compute any reliable oob estimates.\n",
      "  warn(\n"
     ]
    },
    {
     "name": "stdout",
     "output_type": "stream",
     "text": [
      "Iteration =  652  f(x) =  0.012142640487488922\n"
     ]
    },
    {
     "name": "stderr",
     "output_type": "stream",
     "text": [
      "C:\\Users\\TI\\anaconda3\\Lib\\site-packages\\sklearn\\ensemble\\_bagging.py:1253: UserWarning: Some inputs do not have OOB scores. This probably means too few estimators were used to compute any reliable oob estimates.\n",
      "  warn(\n"
     ]
    },
    {
     "name": "stdout",
     "output_type": "stream",
     "text": [
      "Iteration =  653  f(x) =  0.012142640487488922\n",
      "Iteration =  654  f(x) =  0.012142640487488922\n"
     ]
    },
    {
     "name": "stderr",
     "output_type": "stream",
     "text": [
      "C:\\Users\\TI\\anaconda3\\Lib\\site-packages\\sklearn\\ensemble\\_bagging.py:1253: UserWarning: Some inputs do not have OOB scores. This probably means too few estimators were used to compute any reliable oob estimates.\n",
      "  warn(\n",
      "C:\\Users\\TI\\anaconda3\\Lib\\site-packages\\sklearn\\ensemble\\_bagging.py:1253: UserWarning: Some inputs do not have OOB scores. This probably means too few estimators were used to compute any reliable oob estimates.\n",
      "  warn(\n"
     ]
    },
    {
     "name": "stdout",
     "output_type": "stream",
     "text": [
      "Iteration =  655  f(x) =  0.012142640487488922\n",
      "Iteration =  656  f(x) =  0.012142640487488922\n",
      "Iteration =  657  f(x) =  0.012142640487488922\n",
      "Iteration =  658  f(x) =  0.012142640487488922\n"
     ]
    },
    {
     "name": "stderr",
     "output_type": "stream",
     "text": [
      "C:\\Users\\TI\\anaconda3\\Lib\\site-packages\\sklearn\\ensemble\\_bagging.py:1253: UserWarning: Some inputs do not have OOB scores. This probably means too few estimators were used to compute any reliable oob estimates.\n",
      "  warn(\n",
      "C:\\Users\\TI\\anaconda3\\Lib\\site-packages\\sklearn\\ensemble\\_bagging.py:1253: UserWarning: Some inputs do not have OOB scores. This probably means too few estimators were used to compute any reliable oob estimates.\n",
      "  warn(\n"
     ]
    },
    {
     "name": "stdout",
     "output_type": "stream",
     "text": [
      "Iteration =  659  f(x) =  0.012142640487488922\n"
     ]
    },
    {
     "name": "stderr",
     "output_type": "stream",
     "text": [
      "C:\\Users\\TI\\anaconda3\\Lib\\site-packages\\sklearn\\ensemble\\_bagging.py:1253: UserWarning: Some inputs do not have OOB scores. This probably means too few estimators were used to compute any reliable oob estimates.\n",
      "  warn(\n",
      "C:\\Users\\TI\\anaconda3\\Lib\\site-packages\\sklearn\\ensemble\\_bagging.py:1253: UserWarning: Some inputs do not have OOB scores. This probably means too few estimators were used to compute any reliable oob estimates.\n",
      "  warn(\n"
     ]
    },
    {
     "name": "stdout",
     "output_type": "stream",
     "text": [
      "Iteration =  660  f(x) =  0.012142640487488922\n"
     ]
    },
    {
     "name": "stderr",
     "output_type": "stream",
     "text": [
      "C:\\Users\\TI\\anaconda3\\Lib\\site-packages\\sklearn\\ensemble\\_bagging.py:1253: UserWarning: Some inputs do not have OOB scores. This probably means too few estimators were used to compute any reliable oob estimates.\n",
      "  warn(\n"
     ]
    },
    {
     "name": "stdout",
     "output_type": "stream",
     "text": [
      "Iteration =  661  f(x) =  0.012142640487488922\n",
      "Iteration =  662  f(x) =  0.012142640487488922\n",
      "Iteration =  663  f(x) =  0.012142640487488922\n",
      "Iteration =  664  f(x) =  0.012142640487488922\n",
      "Iteration =  665  f(x) =  0.012142640487488922\n"
     ]
    },
    {
     "name": "stderr",
     "output_type": "stream",
     "text": [
      "C:\\Users\\TI\\anaconda3\\Lib\\site-packages\\sklearn\\ensemble\\_bagging.py:1253: UserWarning: Some inputs do not have OOB scores. This probably means too few estimators were used to compute any reliable oob estimates.\n",
      "  warn(\n",
      "C:\\Users\\TI\\anaconda3\\Lib\\site-packages\\sklearn\\ensemble\\_bagging.py:1253: UserWarning: Some inputs do not have OOB scores. This probably means too few estimators were used to compute any reliable oob estimates.\n",
      "  warn(\n"
     ]
    },
    {
     "name": "stdout",
     "output_type": "stream",
     "text": [
      "Iteration =  666  f(x) =  0.012142640487488922\n"
     ]
    },
    {
     "name": "stderr",
     "output_type": "stream",
     "text": [
      "C:\\Users\\TI\\anaconda3\\Lib\\site-packages\\sklearn\\ensemble\\_bagging.py:1253: UserWarning: Some inputs do not have OOB scores. This probably means too few estimators were used to compute any reliable oob estimates.\n",
      "  warn(\n",
      "C:\\Users\\TI\\anaconda3\\Lib\\site-packages\\sklearn\\ensemble\\_bagging.py:1253: UserWarning: Some inputs do not have OOB scores. This probably means too few estimators were used to compute any reliable oob estimates.\n",
      "  warn(\n",
      "C:\\Users\\TI\\anaconda3\\Lib\\site-packages\\sklearn\\ensemble\\_bagging.py:1253: UserWarning: Some inputs do not have OOB scores. This probably means too few estimators were used to compute any reliable oob estimates.\n",
      "  warn(\n"
     ]
    },
    {
     "name": "stdout",
     "output_type": "stream",
     "text": [
      "Iteration =  667  f(x) =  0.012142640487488922\n",
      "Iteration =  668  f(x) =  0.012142640487488922\n"
     ]
    },
    {
     "name": "stderr",
     "output_type": "stream",
     "text": [
      "C:\\Users\\TI\\anaconda3\\Lib\\site-packages\\sklearn\\ensemble\\_bagging.py:1253: UserWarning: Some inputs do not have OOB scores. This probably means too few estimators were used to compute any reliable oob estimates.\n",
      "  warn(\n",
      "C:\\Users\\TI\\anaconda3\\Lib\\site-packages\\sklearn\\ensemble\\_bagging.py:1253: UserWarning: Some inputs do not have OOB scores. This probably means too few estimators were used to compute any reliable oob estimates.\n",
      "  warn(\n"
     ]
    },
    {
     "name": "stdout",
     "output_type": "stream",
     "text": [
      "Iteration =  669  f(x) =  0.012142640487488922\n"
     ]
    },
    {
     "name": "stderr",
     "output_type": "stream",
     "text": [
      "C:\\Users\\TI\\anaconda3\\Lib\\site-packages\\sklearn\\ensemble\\_bagging.py:1253: UserWarning: Some inputs do not have OOB scores. This probably means too few estimators were used to compute any reliable oob estimates.\n",
      "  warn(\n"
     ]
    },
    {
     "name": "stdout",
     "output_type": "stream",
     "text": [
      "Iteration =  670  f(x) =  0.012142640487488922\n"
     ]
    },
    {
     "name": "stderr",
     "output_type": "stream",
     "text": [
      "C:\\Users\\TI\\anaconda3\\Lib\\site-packages\\sklearn\\ensemble\\_bagging.py:1253: UserWarning: Some inputs do not have OOB scores. This probably means too few estimators were used to compute any reliable oob estimates.\n",
      "  warn(\n"
     ]
    },
    {
     "name": "stdout",
     "output_type": "stream",
     "text": [
      "Iteration =  671  f(x) =  0.012142640487488922\n"
     ]
    },
    {
     "name": "stderr",
     "output_type": "stream",
     "text": [
      "C:\\Users\\TI\\anaconda3\\Lib\\site-packages\\sklearn\\ensemble\\_bagging.py:1253: UserWarning: Some inputs do not have OOB scores. This probably means too few estimators were used to compute any reliable oob estimates.\n",
      "  warn(\n",
      "C:\\Users\\TI\\anaconda3\\Lib\\site-packages\\sklearn\\ensemble\\_bagging.py:1253: UserWarning: Some inputs do not have OOB scores. This probably means too few estimators were used to compute any reliable oob estimates.\n",
      "  warn(\n"
     ]
    },
    {
     "name": "stdout",
     "output_type": "stream",
     "text": [
      "Iteration =  672  f(x) =  0.012142640487488922\n"
     ]
    },
    {
     "name": "stderr",
     "output_type": "stream",
     "text": [
      "C:\\Users\\TI\\anaconda3\\Lib\\site-packages\\sklearn\\ensemble\\_bagging.py:1253: UserWarning: Some inputs do not have OOB scores. This probably means too few estimators were used to compute any reliable oob estimates.\n",
      "  warn(\n"
     ]
    },
    {
     "name": "stdout",
     "output_type": "stream",
     "text": [
      "Iteration =  673  f(x) =  0.012142640487488922\n"
     ]
    },
    {
     "name": "stderr",
     "output_type": "stream",
     "text": [
      "C:\\Users\\TI\\anaconda3\\Lib\\site-packages\\sklearn\\ensemble\\_bagging.py:1253: UserWarning: Some inputs do not have OOB scores. This probably means too few estimators were used to compute any reliable oob estimates.\n",
      "  warn(\n",
      "C:\\Users\\TI\\anaconda3\\Lib\\site-packages\\sklearn\\ensemble\\_bagging.py:1253: UserWarning: Some inputs do not have OOB scores. This probably means too few estimators were used to compute any reliable oob estimates.\n",
      "  warn(\n"
     ]
    },
    {
     "name": "stdout",
     "output_type": "stream",
     "text": [
      "Iteration =  674  f(x) =  0.012142640487488922\n"
     ]
    },
    {
     "name": "stderr",
     "output_type": "stream",
     "text": [
      "C:\\Users\\TI\\anaconda3\\Lib\\site-packages\\sklearn\\ensemble\\_bagging.py:1253: UserWarning: Some inputs do not have OOB scores. This probably means too few estimators were used to compute any reliable oob estimates.\n",
      "  warn(\n",
      "C:\\Users\\TI\\anaconda3\\Lib\\site-packages\\sklearn\\ensemble\\_bagging.py:1253: UserWarning: Some inputs do not have OOB scores. This probably means too few estimators were used to compute any reliable oob estimates.\n",
      "  warn(\n"
     ]
    },
    {
     "name": "stdout",
     "output_type": "stream",
     "text": [
      "Iteration =  675  f(x) =  0.012142640487488922\n",
      "Iteration =  676  f(x) =  0.012142640487488922\n",
      "Iteration =  677  f(x) =  0.012142640487488922\n"
     ]
    },
    {
     "name": "stderr",
     "output_type": "stream",
     "text": [
      "C:\\Users\\TI\\anaconda3\\Lib\\site-packages\\sklearn\\ensemble\\_bagging.py:1253: UserWarning: Some inputs do not have OOB scores. This probably means too few estimators were used to compute any reliable oob estimates.\n",
      "  warn(\n"
     ]
    },
    {
     "name": "stdout",
     "output_type": "stream",
     "text": [
      "Iteration =  678  f(x) =  0.012142640487488922\n",
      "Iteration =  679  f(x) =  0.012142640487488922\n"
     ]
    },
    {
     "name": "stderr",
     "output_type": "stream",
     "text": [
      "C:\\Users\\TI\\anaconda3\\Lib\\site-packages\\sklearn\\ensemble\\_bagging.py:1253: UserWarning: Some inputs do not have OOB scores. This probably means too few estimators were used to compute any reliable oob estimates.\n",
      "  warn(\n"
     ]
    },
    {
     "name": "stdout",
     "output_type": "stream",
     "text": [
      "Iteration =  680  f(x) =  0.012142640487488922\n",
      "Iteration =  681  f(x) =  0.012142640487488922\n",
      "Iteration =  682  f(x) =  0.012142640487488922\n"
     ]
    },
    {
     "name": "stderr",
     "output_type": "stream",
     "text": [
      "C:\\Users\\TI\\anaconda3\\Lib\\site-packages\\sklearn\\ensemble\\_bagging.py:1253: UserWarning: Some inputs do not have OOB scores. This probably means too few estimators were used to compute any reliable oob estimates.\n",
      "  warn(\n",
      "C:\\Users\\TI\\anaconda3\\Lib\\site-packages\\sklearn\\ensemble\\_bagging.py:1253: UserWarning: Some inputs do not have OOB scores. This probably means too few estimators were used to compute any reliable oob estimates.\n",
      "  warn(\n",
      "C:\\Users\\TI\\anaconda3\\Lib\\site-packages\\sklearn\\ensemble\\_bagging.py:1253: UserWarning: Some inputs do not have OOB scores. This probably means too few estimators were used to compute any reliable oob estimates.\n",
      "  warn(\n",
      "C:\\Users\\TI\\anaconda3\\Lib\\site-packages\\sklearn\\ensemble\\_bagging.py:1253: UserWarning: Some inputs do not have OOB scores. This probably means too few estimators were used to compute any reliable oob estimates.\n",
      "  warn(\n"
     ]
    },
    {
     "name": "stdout",
     "output_type": "stream",
     "text": [
      "Iteration =  683  f(x) =  0.012142640487488922\n",
      "Iteration =  684  f(x) =  0.012142640487488922\n"
     ]
    },
    {
     "name": "stderr",
     "output_type": "stream",
     "text": [
      "C:\\Users\\TI\\anaconda3\\Lib\\site-packages\\sklearn\\ensemble\\_bagging.py:1253: UserWarning: Some inputs do not have OOB scores. This probably means too few estimators were used to compute any reliable oob estimates.\n",
      "  warn(\n",
      "C:\\Users\\TI\\anaconda3\\Lib\\site-packages\\sklearn\\ensemble\\_bagging.py:1253: UserWarning: Some inputs do not have OOB scores. This probably means too few estimators were used to compute any reliable oob estimates.\n",
      "  warn(\n"
     ]
    },
    {
     "name": "stdout",
     "output_type": "stream",
     "text": [
      "Iteration =  685  f(x) =  0.012142640487488922\n"
     ]
    },
    {
     "name": "stderr",
     "output_type": "stream",
     "text": [
      "C:\\Users\\TI\\anaconda3\\Lib\\site-packages\\sklearn\\ensemble\\_bagging.py:1253: UserWarning: Some inputs do not have OOB scores. This probably means too few estimators were used to compute any reliable oob estimates.\n",
      "  warn(\n",
      "C:\\Users\\TI\\anaconda3\\Lib\\site-packages\\sklearn\\ensemble\\_bagging.py:1253: UserWarning: Some inputs do not have OOB scores. This probably means too few estimators were used to compute any reliable oob estimates.\n",
      "  warn(\n"
     ]
    },
    {
     "name": "stdout",
     "output_type": "stream",
     "text": [
      "Iteration =  686  f(x) =  0.012142640487488922\n"
     ]
    },
    {
     "name": "stderr",
     "output_type": "stream",
     "text": [
      "C:\\Users\\TI\\anaconda3\\Lib\\site-packages\\sklearn\\ensemble\\_bagging.py:1253: UserWarning: Some inputs do not have OOB scores. This probably means too few estimators were used to compute any reliable oob estimates.\n",
      "  warn(\n"
     ]
    },
    {
     "name": "stdout",
     "output_type": "stream",
     "text": [
      "Iteration =  687  f(x) =  0.012142640487488922\n"
     ]
    },
    {
     "name": "stderr",
     "output_type": "stream",
     "text": [
      "C:\\Users\\TI\\anaconda3\\Lib\\site-packages\\sklearn\\ensemble\\_bagging.py:1253: UserWarning: Some inputs do not have OOB scores. This probably means too few estimators were used to compute any reliable oob estimates.\n",
      "  warn(\n",
      "C:\\Users\\TI\\anaconda3\\Lib\\site-packages\\sklearn\\ensemble\\_bagging.py:1253: UserWarning: Some inputs do not have OOB scores. This probably means too few estimators were used to compute any reliable oob estimates.\n",
      "  warn(\n",
      "C:\\Users\\TI\\anaconda3\\Lib\\site-packages\\sklearn\\ensemble\\_bagging.py:1253: UserWarning: Some inputs do not have OOB scores. This probably means too few estimators were used to compute any reliable oob estimates.\n",
      "  warn(\n"
     ]
    },
    {
     "name": "stdout",
     "output_type": "stream",
     "text": [
      "Iteration =  688  f(x) =  0.012142640487488922\n"
     ]
    },
    {
     "name": "stderr",
     "output_type": "stream",
     "text": [
      "C:\\Users\\TI\\anaconda3\\Lib\\site-packages\\sklearn\\ensemble\\_bagging.py:1253: UserWarning: Some inputs do not have OOB scores. This probably means too few estimators were used to compute any reliable oob estimates.\n",
      "  warn(\n"
     ]
    },
    {
     "name": "stdout",
     "output_type": "stream",
     "text": [
      "Iteration =  689  f(x) =  0.012142640487488922\n"
     ]
    },
    {
     "name": "stderr",
     "output_type": "stream",
     "text": [
      "C:\\Users\\TI\\anaconda3\\Lib\\site-packages\\sklearn\\ensemble\\_bagging.py:1253: UserWarning: Some inputs do not have OOB scores. This probably means too few estimators were used to compute any reliable oob estimates.\n",
      "  warn(\n"
     ]
    },
    {
     "name": "stdout",
     "output_type": "stream",
     "text": [
      "Iteration =  690  f(x) =  0.012142640487488922\n"
     ]
    },
    {
     "name": "stderr",
     "output_type": "stream",
     "text": [
      "C:\\Users\\TI\\anaconda3\\Lib\\site-packages\\sklearn\\ensemble\\_bagging.py:1253: UserWarning: Some inputs do not have OOB scores. This probably means too few estimators were used to compute any reliable oob estimates.\n",
      "  warn(\n"
     ]
    },
    {
     "name": "stdout",
     "output_type": "stream",
     "text": [
      "Iteration =  691  f(x) =  0.012142640487488922\n"
     ]
    },
    {
     "name": "stderr",
     "output_type": "stream",
     "text": [
      "C:\\Users\\TI\\anaconda3\\Lib\\site-packages\\sklearn\\ensemble\\_bagging.py:1253: UserWarning: Some inputs do not have OOB scores. This probably means too few estimators were used to compute any reliable oob estimates.\n",
      "  warn(\n",
      "C:\\Users\\TI\\anaconda3\\Lib\\site-packages\\sklearn\\ensemble\\_bagging.py:1253: UserWarning: Some inputs do not have OOB scores. This probably means too few estimators were used to compute any reliable oob estimates.\n",
      "  warn(\n"
     ]
    },
    {
     "name": "stdout",
     "output_type": "stream",
     "text": [
      "Iteration =  692  f(x) =  0.012142640487488922\n"
     ]
    },
    {
     "name": "stderr",
     "output_type": "stream",
     "text": [
      "C:\\Users\\TI\\anaconda3\\Lib\\site-packages\\sklearn\\ensemble\\_bagging.py:1253: UserWarning: Some inputs do not have OOB scores. This probably means too few estimators were used to compute any reliable oob estimates.\n",
      "  warn(\n",
      "C:\\Users\\TI\\anaconda3\\Lib\\site-packages\\sklearn\\ensemble\\_bagging.py:1253: UserWarning: Some inputs do not have OOB scores. This probably means too few estimators were used to compute any reliable oob estimates.\n",
      "  warn(\n"
     ]
    },
    {
     "name": "stdout",
     "output_type": "stream",
     "text": [
      "Iteration =  693  f(x) =  0.012142640487488922\n"
     ]
    },
    {
     "name": "stderr",
     "output_type": "stream",
     "text": [
      "C:\\Users\\TI\\anaconda3\\Lib\\site-packages\\sklearn\\ensemble\\_bagging.py:1253: UserWarning: Some inputs do not have OOB scores. This probably means too few estimators were used to compute any reliable oob estimates.\n",
      "  warn(\n"
     ]
    },
    {
     "name": "stdout",
     "output_type": "stream",
     "text": [
      "Iteration =  694  f(x) =  0.012142640487488922\n",
      "Iteration =  695  f(x) =  0.012142640487488922\n"
     ]
    },
    {
     "name": "stderr",
     "output_type": "stream",
     "text": [
      "C:\\Users\\TI\\anaconda3\\Lib\\site-packages\\sklearn\\ensemble\\_bagging.py:1253: UserWarning: Some inputs do not have OOB scores. This probably means too few estimators were used to compute any reliable oob estimates.\n",
      "  warn(\n"
     ]
    },
    {
     "name": "stdout",
     "output_type": "stream",
     "text": [
      "Iteration =  696  f(x) =  0.012142640487488922\n"
     ]
    },
    {
     "name": "stderr",
     "output_type": "stream",
     "text": [
      "C:\\Users\\TI\\anaconda3\\Lib\\site-packages\\sklearn\\ensemble\\_bagging.py:1253: UserWarning: Some inputs do not have OOB scores. This probably means too few estimators were used to compute any reliable oob estimates.\n",
      "  warn(\n"
     ]
    },
    {
     "name": "stdout",
     "output_type": "stream",
     "text": [
      "Iteration =  697  f(x) =  0.012142640487488922\n"
     ]
    },
    {
     "name": "stderr",
     "output_type": "stream",
     "text": [
      "C:\\Users\\TI\\anaconda3\\Lib\\site-packages\\sklearn\\ensemble\\_bagging.py:1253: UserWarning: Some inputs do not have OOB scores. This probably means too few estimators were used to compute any reliable oob estimates.\n",
      "  warn(\n"
     ]
    },
    {
     "name": "stdout",
     "output_type": "stream",
     "text": [
      "Iteration =  698  f(x) =  0.012142640487488922\n"
     ]
    },
    {
     "name": "stderr",
     "output_type": "stream",
     "text": [
      "C:\\Users\\TI\\anaconda3\\Lib\\site-packages\\sklearn\\ensemble\\_bagging.py:1253: UserWarning: Some inputs do not have OOB scores. This probably means too few estimators were used to compute any reliable oob estimates.\n",
      "  warn(\n"
     ]
    },
    {
     "name": "stdout",
     "output_type": "stream",
     "text": [
      "Iteration =  699  f(x) =  0.012142640487488922\n"
     ]
    },
    {
     "name": "stderr",
     "output_type": "stream",
     "text": [
      "C:\\Users\\TI\\anaconda3\\Lib\\site-packages\\sklearn\\ensemble\\_bagging.py:1253: UserWarning: Some inputs do not have OOB scores. This probably means too few estimators were used to compute any reliable oob estimates.\n",
      "  warn(\n",
      "C:\\Users\\TI\\anaconda3\\Lib\\site-packages\\sklearn\\ensemble\\_bagging.py:1253: UserWarning: Some inputs do not have OOB scores. This probably means too few estimators were used to compute any reliable oob estimates.\n",
      "  warn(\n",
      "C:\\Users\\TI\\anaconda3\\Lib\\site-packages\\sklearn\\ensemble\\_bagging.py:1253: UserWarning: Some inputs do not have OOB scores. This probably means too few estimators were used to compute any reliable oob estimates.\n",
      "  warn(\n"
     ]
    },
    {
     "name": "stdout",
     "output_type": "stream",
     "text": [
      "Iteration =  700  f(x) =  0.012142640487488922\n"
     ]
    },
    {
     "name": "stderr",
     "output_type": "stream",
     "text": [
      "C:\\Users\\TI\\anaconda3\\Lib\\site-packages\\sklearn\\ensemble\\_bagging.py:1253: UserWarning: Some inputs do not have OOB scores. This probably means too few estimators were used to compute any reliable oob estimates.\n",
      "  warn(\n"
     ]
    },
    {
     "name": "stdout",
     "output_type": "stream",
     "text": [
      "Iteration =  701  f(x) =  0.012142640487488922\n"
     ]
    },
    {
     "name": "stderr",
     "output_type": "stream",
     "text": [
      "C:\\Users\\TI\\anaconda3\\Lib\\site-packages\\sklearn\\ensemble\\_bagging.py:1253: UserWarning: Some inputs do not have OOB scores. This probably means too few estimators were used to compute any reliable oob estimates.\n",
      "  warn(\n",
      "C:\\Users\\TI\\anaconda3\\Lib\\site-packages\\sklearn\\ensemble\\_bagging.py:1253: UserWarning: Some inputs do not have OOB scores. This probably means too few estimators were used to compute any reliable oob estimates.\n",
      "  warn(\n"
     ]
    },
    {
     "name": "stdout",
     "output_type": "stream",
     "text": [
      "Iteration =  702  f(x) =  0.012142640487488922\n"
     ]
    },
    {
     "name": "stderr",
     "output_type": "stream",
     "text": [
      "C:\\Users\\TI\\anaconda3\\Lib\\site-packages\\sklearn\\ensemble\\_bagging.py:1253: UserWarning: Some inputs do not have OOB scores. This probably means too few estimators were used to compute any reliable oob estimates.\n",
      "  warn(\n",
      "C:\\Users\\TI\\anaconda3\\Lib\\site-packages\\sklearn\\ensemble\\_bagging.py:1253: UserWarning: Some inputs do not have OOB scores. This probably means too few estimators were used to compute any reliable oob estimates.\n",
      "  warn(\n"
     ]
    },
    {
     "name": "stdout",
     "output_type": "stream",
     "text": [
      "Iteration =  703  f(x) =  0.012142640487488922\n"
     ]
    },
    {
     "name": "stderr",
     "output_type": "stream",
     "text": [
      "C:\\Users\\TI\\anaconda3\\Lib\\site-packages\\sklearn\\ensemble\\_bagging.py:1253: UserWarning: Some inputs do not have OOB scores. This probably means too few estimators were used to compute any reliable oob estimates.\n",
      "  warn(\n"
     ]
    },
    {
     "name": "stdout",
     "output_type": "stream",
     "text": [
      "Iteration =  704  f(x) =  0.012142640487488922\n"
     ]
    },
    {
     "name": "stderr",
     "output_type": "stream",
     "text": [
      "C:\\Users\\TI\\anaconda3\\Lib\\site-packages\\sklearn\\ensemble\\_bagging.py:1253: UserWarning: Some inputs do not have OOB scores. This probably means too few estimators were used to compute any reliable oob estimates.\n",
      "  warn(\n"
     ]
    },
    {
     "name": "stdout",
     "output_type": "stream",
     "text": [
      "Iteration =  705  f(x) =  0.012142640487488922\n"
     ]
    },
    {
     "name": "stderr",
     "output_type": "stream",
     "text": [
      "C:\\Users\\TI\\anaconda3\\Lib\\site-packages\\sklearn\\ensemble\\_bagging.py:1253: UserWarning: Some inputs do not have OOB scores. This probably means too few estimators were used to compute any reliable oob estimates.\n",
      "  warn(\n"
     ]
    },
    {
     "name": "stdout",
     "output_type": "stream",
     "text": [
      "Iteration =  706  f(x) =  0.012142640487488922\n"
     ]
    },
    {
     "name": "stderr",
     "output_type": "stream",
     "text": [
      "C:\\Users\\TI\\anaconda3\\Lib\\site-packages\\sklearn\\ensemble\\_bagging.py:1253: UserWarning: Some inputs do not have OOB scores. This probably means too few estimators were used to compute any reliable oob estimates.\n",
      "  warn(\n",
      "C:\\Users\\TI\\anaconda3\\Lib\\site-packages\\sklearn\\ensemble\\_bagging.py:1253: UserWarning: Some inputs do not have OOB scores. This probably means too few estimators were used to compute any reliable oob estimates.\n",
      "  warn(\n"
     ]
    },
    {
     "name": "stdout",
     "output_type": "stream",
     "text": [
      "Iteration =  707  f(x) =  0.012142640487488922\n"
     ]
    },
    {
     "name": "stderr",
     "output_type": "stream",
     "text": [
      "C:\\Users\\TI\\anaconda3\\Lib\\site-packages\\sklearn\\ensemble\\_bagging.py:1253: UserWarning: Some inputs do not have OOB scores. This probably means too few estimators were used to compute any reliable oob estimates.\n",
      "  warn(\n",
      "C:\\Users\\TI\\anaconda3\\Lib\\site-packages\\sklearn\\ensemble\\_bagging.py:1253: UserWarning: Some inputs do not have OOB scores. This probably means too few estimators were used to compute any reliable oob estimates.\n",
      "  warn(\n",
      "C:\\Users\\TI\\anaconda3\\Lib\\site-packages\\sklearn\\ensemble\\_bagging.py:1253: UserWarning: Some inputs do not have OOB scores. This probably means too few estimators were used to compute any reliable oob estimates.\n",
      "  warn(\n"
     ]
    },
    {
     "name": "stdout",
     "output_type": "stream",
     "text": [
      "Iteration =  708  f(x) =  0.012142640487488922\n",
      "Iteration =  709  f(x) =  0.012142640487488922\n",
      "Iteration =  710  f(x) =  0.012142640487488922\n"
     ]
    },
    {
     "name": "stderr",
     "output_type": "stream",
     "text": [
      "C:\\Users\\TI\\anaconda3\\Lib\\site-packages\\sklearn\\ensemble\\_bagging.py:1253: UserWarning: Some inputs do not have OOB scores. This probably means too few estimators were used to compute any reliable oob estimates.\n",
      "  warn(\n",
      "C:\\Users\\TI\\anaconda3\\Lib\\site-packages\\sklearn\\ensemble\\_bagging.py:1253: UserWarning: Some inputs do not have OOB scores. This probably means too few estimators were used to compute any reliable oob estimates.\n",
      "  warn(\n"
     ]
    },
    {
     "name": "stdout",
     "output_type": "stream",
     "text": [
      "Iteration =  711  f(x) =  0.012142640487488922\n"
     ]
    },
    {
     "name": "stderr",
     "output_type": "stream",
     "text": [
      "C:\\Users\\TI\\anaconda3\\Lib\\site-packages\\sklearn\\ensemble\\_bagging.py:1253: UserWarning: Some inputs do not have OOB scores. This probably means too few estimators were used to compute any reliable oob estimates.\n",
      "  warn(\n",
      "C:\\Users\\TI\\anaconda3\\Lib\\site-packages\\sklearn\\ensemble\\_bagging.py:1253: UserWarning: Some inputs do not have OOB scores. This probably means too few estimators were used to compute any reliable oob estimates.\n",
      "  warn(\n"
     ]
    },
    {
     "name": "stdout",
     "output_type": "stream",
     "text": [
      "Iteration =  712  f(x) =  0.012142640487488922\n"
     ]
    },
    {
     "name": "stderr",
     "output_type": "stream",
     "text": [
      "C:\\Users\\TI\\anaconda3\\Lib\\site-packages\\sklearn\\ensemble\\_bagging.py:1253: UserWarning: Some inputs do not have OOB scores. This probably means too few estimators were used to compute any reliable oob estimates.\n",
      "  warn(\n"
     ]
    },
    {
     "name": "stdout",
     "output_type": "stream",
     "text": [
      "Iteration =  713  f(x) =  0.012142640487488922\n"
     ]
    },
    {
     "name": "stderr",
     "output_type": "stream",
     "text": [
      "C:\\Users\\TI\\anaconda3\\Lib\\site-packages\\sklearn\\ensemble\\_bagging.py:1253: UserWarning: Some inputs do not have OOB scores. This probably means too few estimators were used to compute any reliable oob estimates.\n",
      "  warn(\n"
     ]
    },
    {
     "name": "stdout",
     "output_type": "stream",
     "text": [
      "Iteration =  714  f(x) =  0.012142640487488922\n"
     ]
    },
    {
     "name": "stderr",
     "output_type": "stream",
     "text": [
      "C:\\Users\\TI\\anaconda3\\Lib\\site-packages\\sklearn\\ensemble\\_bagging.py:1253: UserWarning: Some inputs do not have OOB scores. This probably means too few estimators were used to compute any reliable oob estimates.\n",
      "  warn(\n"
     ]
    },
    {
     "name": "stdout",
     "output_type": "stream",
     "text": [
      "Iteration =  715  f(x) =  0.012142640487488922\n",
      "Iteration =  716  f(x) =  0.012142640487488922\n",
      "Iteration =  717  f(x) =  0.012142640487488922\n",
      "Iteration =  718  f(x) =  0.012142640487488922\n"
     ]
    },
    {
     "name": "stderr",
     "output_type": "stream",
     "text": [
      "C:\\Users\\TI\\anaconda3\\Lib\\site-packages\\sklearn\\ensemble\\_bagging.py:1253: UserWarning: Some inputs do not have OOB scores. This probably means too few estimators were used to compute any reliable oob estimates.\n",
      "  warn(\n",
      "C:\\Users\\TI\\anaconda3\\Lib\\site-packages\\sklearn\\ensemble\\_bagging.py:1253: UserWarning: Some inputs do not have OOB scores. This probably means too few estimators were used to compute any reliable oob estimates.\n",
      "  warn(\n"
     ]
    },
    {
     "name": "stdout",
     "output_type": "stream",
     "text": [
      "Iteration =  719  f(x) =  0.012142640487488922\n"
     ]
    },
    {
     "name": "stderr",
     "output_type": "stream",
     "text": [
      "C:\\Users\\TI\\anaconda3\\Lib\\site-packages\\sklearn\\ensemble\\_bagging.py:1253: UserWarning: Some inputs do not have OOB scores. This probably means too few estimators were used to compute any reliable oob estimates.\n",
      "  warn(\n",
      "C:\\Users\\TI\\anaconda3\\Lib\\site-packages\\sklearn\\ensemble\\_bagging.py:1253: UserWarning: Some inputs do not have OOB scores. This probably means too few estimators were used to compute any reliable oob estimates.\n",
      "  warn(\n",
      "C:\\Users\\TI\\anaconda3\\Lib\\site-packages\\sklearn\\ensemble\\_bagging.py:1253: UserWarning: Some inputs do not have OOB scores. This probably means too few estimators were used to compute any reliable oob estimates.\n",
      "  warn(\n"
     ]
    },
    {
     "name": "stdout",
     "output_type": "stream",
     "text": [
      "Iteration =  720  f(x) =  0.012142640487488922\n"
     ]
    },
    {
     "name": "stderr",
     "output_type": "stream",
     "text": [
      "C:\\Users\\TI\\anaconda3\\Lib\\site-packages\\sklearn\\ensemble\\_bagging.py:1253: UserWarning: Some inputs do not have OOB scores. This probably means too few estimators were used to compute any reliable oob estimates.\n",
      "  warn(\n",
      "C:\\Users\\TI\\anaconda3\\Lib\\site-packages\\sklearn\\ensemble\\_bagging.py:1253: UserWarning: Some inputs do not have OOB scores. This probably means too few estimators were used to compute any reliable oob estimates.\n",
      "  warn(\n"
     ]
    },
    {
     "name": "stdout",
     "output_type": "stream",
     "text": [
      "Iteration =  721  f(x) =  0.012142640487488922\n"
     ]
    },
    {
     "name": "stderr",
     "output_type": "stream",
     "text": [
      "C:\\Users\\TI\\anaconda3\\Lib\\site-packages\\sklearn\\ensemble\\_bagging.py:1253: UserWarning: Some inputs do not have OOB scores. This probably means too few estimators were used to compute any reliable oob estimates.\n",
      "  warn(\n"
     ]
    },
    {
     "name": "stdout",
     "output_type": "stream",
     "text": [
      "Iteration =  722  f(x) =  0.012142640487488922\n"
     ]
    },
    {
     "name": "stderr",
     "output_type": "stream",
     "text": [
      "C:\\Users\\TI\\anaconda3\\Lib\\site-packages\\sklearn\\ensemble\\_bagging.py:1253: UserWarning: Some inputs do not have OOB scores. This probably means too few estimators were used to compute any reliable oob estimates.\n",
      "  warn(\n",
      "C:\\Users\\TI\\anaconda3\\Lib\\site-packages\\sklearn\\ensemble\\_bagging.py:1253: UserWarning: Some inputs do not have OOB scores. This probably means too few estimators were used to compute any reliable oob estimates.\n",
      "  warn(\n"
     ]
    },
    {
     "name": "stdout",
     "output_type": "stream",
     "text": [
      "Iteration =  723  f(x) =  0.012142640487488922\n"
     ]
    },
    {
     "name": "stderr",
     "output_type": "stream",
     "text": [
      "C:\\Users\\TI\\anaconda3\\Lib\\site-packages\\sklearn\\ensemble\\_bagging.py:1253: UserWarning: Some inputs do not have OOB scores. This probably means too few estimators were used to compute any reliable oob estimates.\n",
      "  warn(\n",
      "C:\\Users\\TI\\anaconda3\\Lib\\site-packages\\sklearn\\ensemble\\_bagging.py:1253: UserWarning: Some inputs do not have OOB scores. This probably means too few estimators were used to compute any reliable oob estimates.\n",
      "  warn(\n",
      "C:\\Users\\TI\\anaconda3\\Lib\\site-packages\\sklearn\\ensemble\\_bagging.py:1253: UserWarning: Some inputs do not have OOB scores. This probably means too few estimators were used to compute any reliable oob estimates.\n",
      "  warn(\n"
     ]
    },
    {
     "name": "stdout",
     "output_type": "stream",
     "text": [
      "Iteration =  724  f(x) =  0.012142640487488922\n",
      "Iteration =  725  f(x) =  0.012142640487488922\n",
      "Iteration =  726  f(x) =  0.012142640487488922\n"
     ]
    },
    {
     "name": "stderr",
     "output_type": "stream",
     "text": [
      "C:\\Users\\TI\\anaconda3\\Lib\\site-packages\\sklearn\\ensemble\\_bagging.py:1253: UserWarning: Some inputs do not have OOB scores. This probably means too few estimators were used to compute any reliable oob estimates.\n",
      "  warn(\n"
     ]
    },
    {
     "name": "stdout",
     "output_type": "stream",
     "text": [
      "Iteration =  727  f(x) =  0.012142640487488922\n",
      "Iteration =  728  f(x) =  0.012142640487488922\n",
      "Iteration =  729  f(x) =  0.012142640487488922\n",
      "Iteration =  730  f(x) =  0.012142640487488922\n",
      "Iteration =  731  f(x) =  0.012142640487488922\n",
      "Iteration =  732  f(x) =  0.012142640487488922\n",
      "Iteration =  733  f(x) =  0.012142640487488922\n"
     ]
    },
    {
     "name": "stderr",
     "output_type": "stream",
     "text": [
      "C:\\Users\\TI\\anaconda3\\Lib\\site-packages\\sklearn\\ensemble\\_bagging.py:1253: UserWarning: Some inputs do not have OOB scores. This probably means too few estimators were used to compute any reliable oob estimates.\n",
      "  warn(\n",
      "C:\\Users\\TI\\anaconda3\\Lib\\site-packages\\sklearn\\ensemble\\_bagging.py:1253: UserWarning: Some inputs do not have OOB scores. This probably means too few estimators were used to compute any reliable oob estimates.\n",
      "  warn(\n"
     ]
    },
    {
     "name": "stdout",
     "output_type": "stream",
     "text": [
      "Iteration =  734  f(x) =  0.012142640487488922\n"
     ]
    },
    {
     "name": "stderr",
     "output_type": "stream",
     "text": [
      "C:\\Users\\TI\\anaconda3\\Lib\\site-packages\\sklearn\\ensemble\\_bagging.py:1253: UserWarning: Some inputs do not have OOB scores. This probably means too few estimators were used to compute any reliable oob estimates.\n",
      "  warn(\n",
      "C:\\Users\\TI\\anaconda3\\Lib\\site-packages\\sklearn\\ensemble\\_bagging.py:1253: UserWarning: Some inputs do not have OOB scores. This probably means too few estimators were used to compute any reliable oob estimates.\n",
      "  warn(\n"
     ]
    },
    {
     "name": "stdout",
     "output_type": "stream",
     "text": [
      "Iteration =  735  f(x) =  0.012142640487488922\n"
     ]
    },
    {
     "name": "stderr",
     "output_type": "stream",
     "text": [
      "C:\\Users\\TI\\anaconda3\\Lib\\site-packages\\sklearn\\ensemble\\_bagging.py:1253: UserWarning: Some inputs do not have OOB scores. This probably means too few estimators were used to compute any reliable oob estimates.\n",
      "  warn(\n",
      "C:\\Users\\TI\\anaconda3\\Lib\\site-packages\\sklearn\\ensemble\\_bagging.py:1253: UserWarning: Some inputs do not have OOB scores. This probably means too few estimators were used to compute any reliable oob estimates.\n",
      "  warn(\n"
     ]
    },
    {
     "name": "stdout",
     "output_type": "stream",
     "text": [
      "Iteration =  736  f(x) =  0.012142640487488922\n"
     ]
    },
    {
     "name": "stderr",
     "output_type": "stream",
     "text": [
      "C:\\Users\\TI\\anaconda3\\Lib\\site-packages\\sklearn\\ensemble\\_bagging.py:1253: UserWarning: Some inputs do not have OOB scores. This probably means too few estimators were used to compute any reliable oob estimates.\n",
      "  warn(\n"
     ]
    },
    {
     "name": "stdout",
     "output_type": "stream",
     "text": [
      "Iteration =  737  f(x) =  0.012142640487488922\n",
      "Iteration =  738  f(x) =  0.012142640487488922\n"
     ]
    },
    {
     "name": "stderr",
     "output_type": "stream",
     "text": [
      "C:\\Users\\TI\\anaconda3\\Lib\\site-packages\\sklearn\\ensemble\\_bagging.py:1253: UserWarning: Some inputs do not have OOB scores. This probably means too few estimators were used to compute any reliable oob estimates.\n",
      "  warn(\n",
      "C:\\Users\\TI\\anaconda3\\Lib\\site-packages\\sklearn\\ensemble\\_bagging.py:1253: UserWarning: Some inputs do not have OOB scores. This probably means too few estimators were used to compute any reliable oob estimates.\n",
      "  warn(\n"
     ]
    },
    {
     "name": "stdout",
     "output_type": "stream",
     "text": [
      "Iteration =  739  f(x) =  0.012142640487488922\n"
     ]
    },
    {
     "name": "stderr",
     "output_type": "stream",
     "text": [
      "C:\\Users\\TI\\anaconda3\\Lib\\site-packages\\sklearn\\ensemble\\_bagging.py:1253: UserWarning: Some inputs do not have OOB scores. This probably means too few estimators were used to compute any reliable oob estimates.\n",
      "  warn(\n"
     ]
    },
    {
     "name": "stdout",
     "output_type": "stream",
     "text": [
      "Iteration =  740  f(x) =  0.012142640487488922\n",
      "Iteration =  741  f(x) =  0.012142640487488922\n"
     ]
    },
    {
     "name": "stderr",
     "output_type": "stream",
     "text": [
      "C:\\Users\\TI\\anaconda3\\Lib\\site-packages\\sklearn\\ensemble\\_bagging.py:1253: UserWarning: Some inputs do not have OOB scores. This probably means too few estimators were used to compute any reliable oob estimates.\n",
      "  warn(\n"
     ]
    },
    {
     "name": "stdout",
     "output_type": "stream",
     "text": [
      "Iteration =  742  f(x) =  0.012142640487488922\n"
     ]
    },
    {
     "name": "stderr",
     "output_type": "stream",
     "text": [
      "C:\\Users\\TI\\anaconda3\\Lib\\site-packages\\sklearn\\ensemble\\_bagging.py:1253: UserWarning: Some inputs do not have OOB scores. This probably means too few estimators were used to compute any reliable oob estimates.\n",
      "  warn(\n"
     ]
    },
    {
     "name": "stdout",
     "output_type": "stream",
     "text": [
      "Iteration =  743  f(x) =  0.012142640487488922\n"
     ]
    },
    {
     "name": "stderr",
     "output_type": "stream",
     "text": [
      "C:\\Users\\TI\\anaconda3\\Lib\\site-packages\\sklearn\\ensemble\\_bagging.py:1253: UserWarning: Some inputs do not have OOB scores. This probably means too few estimators were used to compute any reliable oob estimates.\n",
      "  warn(\n"
     ]
    },
    {
     "name": "stdout",
     "output_type": "stream",
     "text": [
      "Iteration =  744  f(x) =  0.012142640487488922\n"
     ]
    },
    {
     "name": "stderr",
     "output_type": "stream",
     "text": [
      "C:\\Users\\TI\\anaconda3\\Lib\\site-packages\\sklearn\\ensemble\\_bagging.py:1253: UserWarning: Some inputs do not have OOB scores. This probably means too few estimators were used to compute any reliable oob estimates.\n",
      "  warn(\n",
      "C:\\Users\\TI\\anaconda3\\Lib\\site-packages\\sklearn\\ensemble\\_bagging.py:1253: UserWarning: Some inputs do not have OOB scores. This probably means too few estimators were used to compute any reliable oob estimates.\n",
      "  warn(\n",
      "C:\\Users\\TI\\anaconda3\\Lib\\site-packages\\sklearn\\ensemble\\_bagging.py:1253: UserWarning: Some inputs do not have OOB scores. This probably means too few estimators were used to compute any reliable oob estimates.\n",
      "  warn(\n"
     ]
    },
    {
     "name": "stdout",
     "output_type": "stream",
     "text": [
      "Iteration =  745  f(x) =  0.012142640487488922\n"
     ]
    },
    {
     "name": "stderr",
     "output_type": "stream",
     "text": [
      "C:\\Users\\TI\\anaconda3\\Lib\\site-packages\\sklearn\\ensemble\\_bagging.py:1253: UserWarning: Some inputs do not have OOB scores. This probably means too few estimators were used to compute any reliable oob estimates.\n",
      "  warn(\n"
     ]
    },
    {
     "name": "stdout",
     "output_type": "stream",
     "text": [
      "Iteration =  746  f(x) =  0.012142640487488922\n"
     ]
    },
    {
     "name": "stderr",
     "output_type": "stream",
     "text": [
      "C:\\Users\\TI\\anaconda3\\Lib\\site-packages\\sklearn\\ensemble\\_bagging.py:1253: UserWarning: Some inputs do not have OOB scores. This probably means too few estimators were used to compute any reliable oob estimates.\n",
      "  warn(\n",
      "C:\\Users\\TI\\anaconda3\\Lib\\site-packages\\sklearn\\ensemble\\_bagging.py:1253: UserWarning: Some inputs do not have OOB scores. This probably means too few estimators were used to compute any reliable oob estimates.\n",
      "  warn(\n"
     ]
    },
    {
     "name": "stdout",
     "output_type": "stream",
     "text": [
      "Iteration =  747  f(x) =  0.012142640487488922\n"
     ]
    },
    {
     "name": "stderr",
     "output_type": "stream",
     "text": [
      "C:\\Users\\TI\\anaconda3\\Lib\\site-packages\\sklearn\\ensemble\\_bagging.py:1253: UserWarning: Some inputs do not have OOB scores. This probably means too few estimators were used to compute any reliable oob estimates.\n",
      "  warn(\n"
     ]
    },
    {
     "name": "stdout",
     "output_type": "stream",
     "text": [
      "Iteration =  748  f(x) =  0.012142640487488922\n"
     ]
    },
    {
     "name": "stderr",
     "output_type": "stream",
     "text": [
      "C:\\Users\\TI\\anaconda3\\Lib\\site-packages\\sklearn\\ensemble\\_bagging.py:1253: UserWarning: Some inputs do not have OOB scores. This probably means too few estimators were used to compute any reliable oob estimates.\n",
      "  warn(\n",
      "C:\\Users\\TI\\anaconda3\\Lib\\site-packages\\sklearn\\ensemble\\_bagging.py:1253: UserWarning: Some inputs do not have OOB scores. This probably means too few estimators were used to compute any reliable oob estimates.\n",
      "  warn(\n"
     ]
    },
    {
     "name": "stdout",
     "output_type": "stream",
     "text": [
      "Iteration =  749  f(x) =  0.012142640487488922\n"
     ]
    },
    {
     "name": "stderr",
     "output_type": "stream",
     "text": [
      "C:\\Users\\TI\\anaconda3\\Lib\\site-packages\\sklearn\\ensemble\\_bagging.py:1253: UserWarning: Some inputs do not have OOB scores. This probably means too few estimators were used to compute any reliable oob estimates.\n",
      "  warn(\n",
      "C:\\Users\\TI\\anaconda3\\Lib\\site-packages\\sklearn\\ensemble\\_bagging.py:1253: UserWarning: Some inputs do not have OOB scores. This probably means too few estimators were used to compute any reliable oob estimates.\n",
      "  warn(\n",
      "C:\\Users\\TI\\anaconda3\\Lib\\site-packages\\sklearn\\ensemble\\_bagging.py:1253: UserWarning: Some inputs do not have OOB scores. This probably means too few estimators were used to compute any reliable oob estimates.\n",
      "  warn(\n",
      "C:\\Users\\TI\\anaconda3\\Lib\\site-packages\\sklearn\\ensemble\\_bagging.py:1253: UserWarning: Some inputs do not have OOB scores. This probably means too few estimators were used to compute any reliable oob estimates.\n",
      "  warn(\n"
     ]
    },
    {
     "name": "stdout",
     "output_type": "stream",
     "text": [
      "Iteration =  750  f(x) =  0.012142640487488922\n"
     ]
    },
    {
     "name": "stderr",
     "output_type": "stream",
     "text": [
      "C:\\Users\\TI\\anaconda3\\Lib\\site-packages\\sklearn\\ensemble\\_bagging.py:1253: UserWarning: Some inputs do not have OOB scores. This probably means too few estimators were used to compute any reliable oob estimates.\n",
      "  warn(\n"
     ]
    },
    {
     "name": "stdout",
     "output_type": "stream",
     "text": [
      "Iteration =  751  f(x) =  0.012142640487488922\n"
     ]
    },
    {
     "name": "stderr",
     "output_type": "stream",
     "text": [
      "C:\\Users\\TI\\anaconda3\\Lib\\site-packages\\sklearn\\ensemble\\_bagging.py:1253: UserWarning: Some inputs do not have OOB scores. This probably means too few estimators were used to compute any reliable oob estimates.\n",
      "  warn(\n"
     ]
    },
    {
     "name": "stdout",
     "output_type": "stream",
     "text": [
      "Iteration =  752  f(x) =  0.012142640487488922\n"
     ]
    },
    {
     "name": "stderr",
     "output_type": "stream",
     "text": [
      "C:\\Users\\TI\\anaconda3\\Lib\\site-packages\\sklearn\\ensemble\\_bagging.py:1253: UserWarning: Some inputs do not have OOB scores. This probably means too few estimators were used to compute any reliable oob estimates.\n",
      "  warn(\n"
     ]
    },
    {
     "name": "stdout",
     "output_type": "stream",
     "text": [
      "Iteration =  753  f(x) =  0.012142640487488922\n"
     ]
    },
    {
     "name": "stderr",
     "output_type": "stream",
     "text": [
      "C:\\Users\\TI\\anaconda3\\Lib\\site-packages\\sklearn\\ensemble\\_bagging.py:1253: UserWarning: Some inputs do not have OOB scores. This probably means too few estimators were used to compute any reliable oob estimates.\n",
      "  warn(\n"
     ]
    },
    {
     "name": "stdout",
     "output_type": "stream",
     "text": [
      "Iteration =  754  f(x) =  0.012142640487488922\n"
     ]
    },
    {
     "name": "stderr",
     "output_type": "stream",
     "text": [
      "C:\\Users\\TI\\anaconda3\\Lib\\site-packages\\sklearn\\ensemble\\_bagging.py:1253: UserWarning: Some inputs do not have OOB scores. This probably means too few estimators were used to compute any reliable oob estimates.\n",
      "  warn(\n"
     ]
    },
    {
     "name": "stdout",
     "output_type": "stream",
     "text": [
      "Iteration =  755  f(x) =  0.012142640487488922\n"
     ]
    },
    {
     "name": "stderr",
     "output_type": "stream",
     "text": [
      "C:\\Users\\TI\\anaconda3\\Lib\\site-packages\\sklearn\\ensemble\\_bagging.py:1253: UserWarning: Some inputs do not have OOB scores. This probably means too few estimators were used to compute any reliable oob estimates.\n",
      "  warn(\n"
     ]
    },
    {
     "name": "stdout",
     "output_type": "stream",
     "text": [
      "Iteration =  756  f(x) =  0.012142640487488922\n",
      "Iteration =  757  f(x) =  0.012142640487488922\n"
     ]
    },
    {
     "name": "stderr",
     "output_type": "stream",
     "text": [
      "C:\\Users\\TI\\anaconda3\\Lib\\site-packages\\sklearn\\ensemble\\_bagging.py:1253: UserWarning: Some inputs do not have OOB scores. This probably means too few estimators were used to compute any reliable oob estimates.\n",
      "  warn(\n",
      "C:\\Users\\TI\\anaconda3\\Lib\\site-packages\\sklearn\\ensemble\\_bagging.py:1253: UserWarning: Some inputs do not have OOB scores. This probably means too few estimators were used to compute any reliable oob estimates.\n",
      "  warn(\n",
      "C:\\Users\\TI\\anaconda3\\Lib\\site-packages\\sklearn\\ensemble\\_bagging.py:1253: UserWarning: Some inputs do not have OOB scores. This probably means too few estimators were used to compute any reliable oob estimates.\n",
      "  warn(\n"
     ]
    },
    {
     "name": "stdout",
     "output_type": "stream",
     "text": [
      "Iteration =  758  f(x) =  0.012142640487488922\n"
     ]
    },
    {
     "name": "stderr",
     "output_type": "stream",
     "text": [
      "C:\\Users\\TI\\anaconda3\\Lib\\site-packages\\sklearn\\ensemble\\_bagging.py:1253: UserWarning: Some inputs do not have OOB scores. This probably means too few estimators were used to compute any reliable oob estimates.\n",
      "  warn(\n",
      "C:\\Users\\TI\\anaconda3\\Lib\\site-packages\\sklearn\\ensemble\\_bagging.py:1253: UserWarning: Some inputs do not have OOB scores. This probably means too few estimators were used to compute any reliable oob estimates.\n",
      "  warn(\n",
      "C:\\Users\\TI\\anaconda3\\Lib\\site-packages\\sklearn\\ensemble\\_bagging.py:1253: UserWarning: Some inputs do not have OOB scores. This probably means too few estimators were used to compute any reliable oob estimates.\n",
      "  warn(\n",
      "C:\\Users\\TI\\anaconda3\\Lib\\site-packages\\sklearn\\ensemble\\_bagging.py:1253: UserWarning: Some inputs do not have OOB scores. This probably means too few estimators were used to compute any reliable oob estimates.\n",
      "  warn(\n"
     ]
    },
    {
     "name": "stdout",
     "output_type": "stream",
     "text": [
      "Iteration =  759  f(x) =  0.012142640487488922\n",
      "Iteration =  760  f(x) =  0.012142640487488922\n"
     ]
    },
    {
     "name": "stderr",
     "output_type": "stream",
     "text": [
      "C:\\Users\\TI\\anaconda3\\Lib\\site-packages\\sklearn\\ensemble\\_bagging.py:1253: UserWarning: Some inputs do not have OOB scores. This probably means too few estimators were used to compute any reliable oob estimates.\n",
      "  warn(\n",
      "C:\\Users\\TI\\anaconda3\\Lib\\site-packages\\sklearn\\ensemble\\_bagging.py:1253: UserWarning: Some inputs do not have OOB scores. This probably means too few estimators were used to compute any reliable oob estimates.\n",
      "  warn(\n"
     ]
    },
    {
     "name": "stdout",
     "output_type": "stream",
     "text": [
      "Iteration =  761  f(x) =  0.012142640487488922\n"
     ]
    },
    {
     "name": "stderr",
     "output_type": "stream",
     "text": [
      "C:\\Users\\TI\\anaconda3\\Lib\\site-packages\\sklearn\\ensemble\\_bagging.py:1253: UserWarning: Some inputs do not have OOB scores. This probably means too few estimators were used to compute any reliable oob estimates.\n",
      "  warn(\n"
     ]
    },
    {
     "name": "stdout",
     "output_type": "stream",
     "text": [
      "Iteration =  762  f(x) =  0.012142640487488922\n"
     ]
    },
    {
     "name": "stderr",
     "output_type": "stream",
     "text": [
      "C:\\Users\\TI\\anaconda3\\Lib\\site-packages\\sklearn\\ensemble\\_bagging.py:1253: UserWarning: Some inputs do not have OOB scores. This probably means too few estimators were used to compute any reliable oob estimates.\n",
      "  warn(\n",
      "C:\\Users\\TI\\anaconda3\\Lib\\site-packages\\sklearn\\ensemble\\_bagging.py:1253: UserWarning: Some inputs do not have OOB scores. This probably means too few estimators were used to compute any reliable oob estimates.\n",
      "  warn(\n",
      "C:\\Users\\TI\\anaconda3\\Lib\\site-packages\\sklearn\\ensemble\\_bagging.py:1253: UserWarning: Some inputs do not have OOB scores. This probably means too few estimators were used to compute any reliable oob estimates.\n",
      "  warn(\n",
      "C:\\Users\\TI\\anaconda3\\Lib\\site-packages\\sklearn\\ensemble\\_bagging.py:1253: UserWarning: Some inputs do not have OOB scores. This probably means too few estimators were used to compute any reliable oob estimates.\n",
      "  warn(\n",
      "C:\\Users\\TI\\anaconda3\\Lib\\site-packages\\sklearn\\ensemble\\_bagging.py:1253: UserWarning: Some inputs do not have OOB scores. This probably means too few estimators were used to compute any reliable oob estimates.\n",
      "  warn(\n"
     ]
    },
    {
     "name": "stdout",
     "output_type": "stream",
     "text": [
      "Iteration =  763  f(x) =  0.012142640487488922\n",
      "Iteration =  764  f(x) =  0.012142640487488922\n"
     ]
    },
    {
     "name": "stderr",
     "output_type": "stream",
     "text": [
      "C:\\Users\\TI\\anaconda3\\Lib\\site-packages\\sklearn\\ensemble\\_bagging.py:1253: UserWarning: Some inputs do not have OOB scores. This probably means too few estimators were used to compute any reliable oob estimates.\n",
      "  warn(\n",
      "C:\\Users\\TI\\anaconda3\\Lib\\site-packages\\sklearn\\ensemble\\_bagging.py:1253: UserWarning: Some inputs do not have OOB scores. This probably means too few estimators were used to compute any reliable oob estimates.\n",
      "  warn(\n",
      "C:\\Users\\TI\\anaconda3\\Lib\\site-packages\\sklearn\\ensemble\\_bagging.py:1253: UserWarning: Some inputs do not have OOB scores. This probably means too few estimators were used to compute any reliable oob estimates.\n",
      "  warn(\n"
     ]
    },
    {
     "name": "stdout",
     "output_type": "stream",
     "text": [
      "Iteration =  765  f(x) =  0.012142640487488922\n",
      "Iteration =  766  f(x) =  0.012142640487488922\n",
      "Iteration =  767  f(x) =  0.012142640487488922\n"
     ]
    },
    {
     "name": "stderr",
     "output_type": "stream",
     "text": [
      "C:\\Users\\TI\\anaconda3\\Lib\\site-packages\\sklearn\\ensemble\\_bagging.py:1253: UserWarning: Some inputs do not have OOB scores. This probably means too few estimators were used to compute any reliable oob estimates.\n",
      "  warn(\n"
     ]
    },
    {
     "name": "stdout",
     "output_type": "stream",
     "text": [
      "Iteration =  768  f(x) =  0.012142640487488922\n",
      "Iteration =  769  f(x) =  0.012142640487488922\n",
      "Iteration =  770  f(x) =  0.012142640487488922\n"
     ]
    },
    {
     "name": "stderr",
     "output_type": "stream",
     "text": [
      "C:\\Users\\TI\\anaconda3\\Lib\\site-packages\\sklearn\\ensemble\\_bagging.py:1253: UserWarning: Some inputs do not have OOB scores. This probably means too few estimators were used to compute any reliable oob estimates.\n",
      "  warn(\n"
     ]
    },
    {
     "name": "stdout",
     "output_type": "stream",
     "text": [
      "Iteration =  771  f(x) =  0.012142640487488922\n",
      "Iteration =  772  f(x) =  0.012142640487488922\n"
     ]
    },
    {
     "name": "stderr",
     "output_type": "stream",
     "text": [
      "C:\\Users\\TI\\anaconda3\\Lib\\site-packages\\sklearn\\ensemble\\_bagging.py:1253: UserWarning: Some inputs do not have OOB scores. This probably means too few estimators were used to compute any reliable oob estimates.\n",
      "  warn(\n"
     ]
    },
    {
     "name": "stdout",
     "output_type": "stream",
     "text": [
      "Iteration =  773  f(x) =  0.012142640487488922\n"
     ]
    },
    {
     "name": "stderr",
     "output_type": "stream",
     "text": [
      "C:\\Users\\TI\\anaconda3\\Lib\\site-packages\\sklearn\\ensemble\\_bagging.py:1253: UserWarning: Some inputs do not have OOB scores. This probably means too few estimators were used to compute any reliable oob estimates.\n",
      "  warn(\n",
      "C:\\Users\\TI\\anaconda3\\Lib\\site-packages\\sklearn\\ensemble\\_bagging.py:1253: UserWarning: Some inputs do not have OOB scores. This probably means too few estimators were used to compute any reliable oob estimates.\n",
      "  warn(\n"
     ]
    },
    {
     "name": "stdout",
     "output_type": "stream",
     "text": [
      "Iteration =  774  f(x) =  0.012142640487488922\n"
     ]
    },
    {
     "name": "stderr",
     "output_type": "stream",
     "text": [
      "C:\\Users\\TI\\anaconda3\\Lib\\site-packages\\sklearn\\ensemble\\_bagging.py:1253: UserWarning: Some inputs do not have OOB scores. This probably means too few estimators were used to compute any reliable oob estimates.\n",
      "  warn(\n"
     ]
    },
    {
     "name": "stdout",
     "output_type": "stream",
     "text": [
      "Iteration =  775  f(x) =  0.012142640487488922\n"
     ]
    },
    {
     "name": "stderr",
     "output_type": "stream",
     "text": [
      "C:\\Users\\TI\\anaconda3\\Lib\\site-packages\\sklearn\\ensemble\\_bagging.py:1253: UserWarning: Some inputs do not have OOB scores. This probably means too few estimators were used to compute any reliable oob estimates.\n",
      "  warn(\n",
      "C:\\Users\\TI\\anaconda3\\Lib\\site-packages\\sklearn\\ensemble\\_bagging.py:1253: UserWarning: Some inputs do not have OOB scores. This probably means too few estimators were used to compute any reliable oob estimates.\n",
      "  warn(\n"
     ]
    },
    {
     "name": "stdout",
     "output_type": "stream",
     "text": [
      "Iteration =  776  f(x) =  0.012142640487488922\n",
      "Iteration =  777  f(x) =  0.012142640487488922\n"
     ]
    },
    {
     "name": "stderr",
     "output_type": "stream",
     "text": [
      "C:\\Users\\TI\\anaconda3\\Lib\\site-packages\\sklearn\\ensemble\\_bagging.py:1253: UserWarning: Some inputs do not have OOB scores. This probably means too few estimators were used to compute any reliable oob estimates.\n",
      "  warn(\n",
      "C:\\Users\\TI\\anaconda3\\Lib\\site-packages\\sklearn\\ensemble\\_bagging.py:1253: UserWarning: Some inputs do not have OOB scores. This probably means too few estimators were used to compute any reliable oob estimates.\n",
      "  warn(\n"
     ]
    },
    {
     "name": "stdout",
     "output_type": "stream",
     "text": [
      "Iteration =  778  f(x) =  0.012142640487488922\n",
      "Iteration =  779  f(x) =  0.012142640487488922\n"
     ]
    },
    {
     "name": "stderr",
     "output_type": "stream",
     "text": [
      "C:\\Users\\TI\\anaconda3\\Lib\\site-packages\\sklearn\\ensemble\\_bagging.py:1253: UserWarning: Some inputs do not have OOB scores. This probably means too few estimators were used to compute any reliable oob estimates.\n",
      "  warn(\n"
     ]
    },
    {
     "name": "stdout",
     "output_type": "stream",
     "text": [
      "Iteration =  780  f(x) =  0.012142640487488922\n"
     ]
    },
    {
     "name": "stderr",
     "output_type": "stream",
     "text": [
      "C:\\Users\\TI\\anaconda3\\Lib\\site-packages\\sklearn\\ensemble\\_bagging.py:1253: UserWarning: Some inputs do not have OOB scores. This probably means too few estimators were used to compute any reliable oob estimates.\n",
      "  warn(\n"
     ]
    },
    {
     "name": "stdout",
     "output_type": "stream",
     "text": [
      "Iteration =  781  f(x) =  0.012142640487488922\n"
     ]
    },
    {
     "name": "stderr",
     "output_type": "stream",
     "text": [
      "C:\\Users\\TI\\anaconda3\\Lib\\site-packages\\sklearn\\ensemble\\_bagging.py:1253: UserWarning: Some inputs do not have OOB scores. This probably means too few estimators were used to compute any reliable oob estimates.\n",
      "  warn(\n"
     ]
    },
    {
     "name": "stdout",
     "output_type": "stream",
     "text": [
      "Iteration =  782  f(x) =  0.012142640487488922\n",
      "Iteration =  783  f(x) =  0.012142640487488922\n"
     ]
    },
    {
     "name": "stderr",
     "output_type": "stream",
     "text": [
      "C:\\Users\\TI\\anaconda3\\Lib\\site-packages\\sklearn\\ensemble\\_bagging.py:1253: UserWarning: Some inputs do not have OOB scores. This probably means too few estimators were used to compute any reliable oob estimates.\n",
      "  warn(\n",
      "C:\\Users\\TI\\anaconda3\\Lib\\site-packages\\sklearn\\ensemble\\_bagging.py:1253: UserWarning: Some inputs do not have OOB scores. This probably means too few estimators were used to compute any reliable oob estimates.\n",
      "  warn(\n"
     ]
    },
    {
     "name": "stdout",
     "output_type": "stream",
     "text": [
      "Iteration =  784  f(x) =  0.012142640487488922\n",
      "Iteration =  785  f(x) =  0.012142640487488922\n"
     ]
    },
    {
     "name": "stderr",
     "output_type": "stream",
     "text": [
      "C:\\Users\\TI\\anaconda3\\Lib\\site-packages\\sklearn\\ensemble\\_bagging.py:1253: UserWarning: Some inputs do not have OOB scores. This probably means too few estimators were used to compute any reliable oob estimates.\n",
      "  warn(\n"
     ]
    },
    {
     "name": "stdout",
     "output_type": "stream",
     "text": [
      "Iteration =  786  f(x) =  0.012142640487488922\n"
     ]
    },
    {
     "name": "stderr",
     "output_type": "stream",
     "text": [
      "C:\\Users\\TI\\anaconda3\\Lib\\site-packages\\sklearn\\ensemble\\_bagging.py:1253: UserWarning: Some inputs do not have OOB scores. This probably means too few estimators were used to compute any reliable oob estimates.\n",
      "  warn(\n"
     ]
    },
    {
     "name": "stdout",
     "output_type": "stream",
     "text": [
      "Iteration =  787  f(x) =  0.012142640487488922\n",
      "Iteration =  788  f(x) =  0.012142640487488922\n",
      "Iteration =  789  f(x) =  0.012142640487488922\n"
     ]
    },
    {
     "name": "stderr",
     "output_type": "stream",
     "text": [
      "C:\\Users\\TI\\anaconda3\\Lib\\site-packages\\sklearn\\ensemble\\_bagging.py:1253: UserWarning: Some inputs do not have OOB scores. This probably means too few estimators were used to compute any reliable oob estimates.\n",
      "  warn(\n",
      "C:\\Users\\TI\\anaconda3\\Lib\\site-packages\\sklearn\\ensemble\\_bagging.py:1253: UserWarning: Some inputs do not have OOB scores. This probably means too few estimators were used to compute any reliable oob estimates.\n",
      "  warn(\n"
     ]
    },
    {
     "name": "stdout",
     "output_type": "stream",
     "text": [
      "Iteration =  790  f(x) =  0.012142640487488922\n"
     ]
    },
    {
     "name": "stderr",
     "output_type": "stream",
     "text": [
      "C:\\Users\\TI\\anaconda3\\Lib\\site-packages\\sklearn\\ensemble\\_bagging.py:1253: UserWarning: Some inputs do not have OOB scores. This probably means too few estimators were used to compute any reliable oob estimates.\n",
      "  warn(\n",
      "C:\\Users\\TI\\anaconda3\\Lib\\site-packages\\sklearn\\ensemble\\_bagging.py:1253: UserWarning: Some inputs do not have OOB scores. This probably means too few estimators were used to compute any reliable oob estimates.\n",
      "  warn(\n"
     ]
    },
    {
     "name": "stdout",
     "output_type": "stream",
     "text": [
      "Iteration =  791  f(x) =  0.012142640487488922\n",
      "Iteration =  792  f(x) =  0.012142640487488922\n"
     ]
    },
    {
     "name": "stderr",
     "output_type": "stream",
     "text": [
      "C:\\Users\\TI\\anaconda3\\Lib\\site-packages\\sklearn\\ensemble\\_bagging.py:1253: UserWarning: Some inputs do not have OOB scores. This probably means too few estimators were used to compute any reliable oob estimates.\n",
      "  warn(\n"
     ]
    },
    {
     "name": "stdout",
     "output_type": "stream",
     "text": [
      "Iteration =  793  f(x) =  0.012142640487488922\n"
     ]
    },
    {
     "name": "stderr",
     "output_type": "stream",
     "text": [
      "C:\\Users\\TI\\anaconda3\\Lib\\site-packages\\sklearn\\ensemble\\_bagging.py:1253: UserWarning: Some inputs do not have OOB scores. This probably means too few estimators were used to compute any reliable oob estimates.\n",
      "  warn(\n"
     ]
    },
    {
     "name": "stdout",
     "output_type": "stream",
     "text": [
      "Iteration =  794  f(x) =  0.012142640487488922\n",
      "Iteration =  795  f(x) =  0.012142640487488922\n"
     ]
    },
    {
     "name": "stderr",
     "output_type": "stream",
     "text": [
      "C:\\Users\\TI\\anaconda3\\Lib\\site-packages\\sklearn\\ensemble\\_bagging.py:1253: UserWarning: Some inputs do not have OOB scores. This probably means too few estimators were used to compute any reliable oob estimates.\n",
      "  warn(\n"
     ]
    },
    {
     "name": "stdout",
     "output_type": "stream",
     "text": [
      "Iteration =  796  f(x) =  0.012142640487488922\n"
     ]
    },
    {
     "name": "stderr",
     "output_type": "stream",
     "text": [
      "C:\\Users\\TI\\anaconda3\\Lib\\site-packages\\sklearn\\ensemble\\_bagging.py:1253: UserWarning: Some inputs do not have OOB scores. This probably means too few estimators were used to compute any reliable oob estimates.\n",
      "  warn(\n"
     ]
    },
    {
     "name": "stdout",
     "output_type": "stream",
     "text": [
      "Iteration =  797  f(x) =  0.012142640487488922\n",
      "Iteration =  798  f(x) =  0.012142640487488922\n"
     ]
    },
    {
     "name": "stderr",
     "output_type": "stream",
     "text": [
      "C:\\Users\\TI\\anaconda3\\Lib\\site-packages\\sklearn\\ensemble\\_bagging.py:1253: UserWarning: Some inputs do not have OOB scores. This probably means too few estimators were used to compute any reliable oob estimates.\n",
      "  warn(\n",
      "C:\\Users\\TI\\anaconda3\\Lib\\site-packages\\sklearn\\ensemble\\_bagging.py:1253: UserWarning: Some inputs do not have OOB scores. This probably means too few estimators were used to compute any reliable oob estimates.\n",
      "  warn(\n"
     ]
    },
    {
     "name": "stdout",
     "output_type": "stream",
     "text": [
      "Iteration =  799  f(x) =  0.012142640487488922\n"
     ]
    },
    {
     "name": "stderr",
     "output_type": "stream",
     "text": [
      "C:\\Users\\TI\\anaconda3\\Lib\\site-packages\\sklearn\\ensemble\\_bagging.py:1253: UserWarning: Some inputs do not have OOB scores. This probably means too few estimators were used to compute any reliable oob estimates.\n",
      "  warn(\n",
      "C:\\Users\\TI\\anaconda3\\Lib\\site-packages\\sklearn\\ensemble\\_bagging.py:1253: UserWarning: Some inputs do not have OOB scores. This probably means too few estimators were used to compute any reliable oob estimates.\n",
      "  warn(\n",
      "C:\\Users\\TI\\anaconda3\\Lib\\site-packages\\sklearn\\ensemble\\_bagging.py:1253: UserWarning: Some inputs do not have OOB scores. This probably means too few estimators were used to compute any reliable oob estimates.\n",
      "  warn(\n"
     ]
    },
    {
     "name": "stdout",
     "output_type": "stream",
     "text": [
      "Iteration =  800  f(x) =  0.012142640487488922\n"
     ]
    },
    {
     "name": "stderr",
     "output_type": "stream",
     "text": [
      "C:\\Users\\TI\\anaconda3\\Lib\\site-packages\\sklearn\\ensemble\\_bagging.py:1253: UserWarning: Some inputs do not have OOB scores. This probably means too few estimators were used to compute any reliable oob estimates.\n",
      "  warn(\n",
      "C:\\Users\\TI\\anaconda3\\Lib\\site-packages\\sklearn\\ensemble\\_bagging.py:1253: UserWarning: Some inputs do not have OOB scores. This probably means too few estimators were used to compute any reliable oob estimates.\n",
      "  warn(\n"
     ]
    },
    {
     "name": "stdout",
     "output_type": "stream",
     "text": [
      "Iteration =  801  f(x) =  0.012142640487488922\n",
      "Iteration =  802  f(x) =  0.012142640487488922\n",
      "Iteration =  803  f(x) =  0.012142640487488922\n"
     ]
    },
    {
     "name": "stderr",
     "output_type": "stream",
     "text": [
      "C:\\Users\\TI\\anaconda3\\Lib\\site-packages\\sklearn\\ensemble\\_bagging.py:1253: UserWarning: Some inputs do not have OOB scores. This probably means too few estimators were used to compute any reliable oob estimates.\n",
      "  warn(\n",
      "C:\\Users\\TI\\anaconda3\\Lib\\site-packages\\sklearn\\ensemble\\_bagging.py:1253: UserWarning: Some inputs do not have OOB scores. This probably means too few estimators were used to compute any reliable oob estimates.\n",
      "  warn(\n"
     ]
    },
    {
     "name": "stdout",
     "output_type": "stream",
     "text": [
      "Iteration =  804  f(x) =  0.012142640487488922\n",
      "Iteration =  805  f(x) =  0.012142640487488922\n"
     ]
    },
    {
     "name": "stderr",
     "output_type": "stream",
     "text": [
      "C:\\Users\\TI\\anaconda3\\Lib\\site-packages\\sklearn\\ensemble\\_bagging.py:1253: UserWarning: Some inputs do not have OOB scores. This probably means too few estimators were used to compute any reliable oob estimates.\n",
      "  warn(\n"
     ]
    },
    {
     "name": "stdout",
     "output_type": "stream",
     "text": [
      "Iteration =  806  f(x) =  0.012142640487488922\n"
     ]
    },
    {
     "name": "stderr",
     "output_type": "stream",
     "text": [
      "C:\\Users\\TI\\anaconda3\\Lib\\site-packages\\sklearn\\ensemble\\_bagging.py:1253: UserWarning: Some inputs do not have OOB scores. This probably means too few estimators were used to compute any reliable oob estimates.\n",
      "  warn(\n",
      "C:\\Users\\TI\\anaconda3\\Lib\\site-packages\\sklearn\\ensemble\\_bagging.py:1253: UserWarning: Some inputs do not have OOB scores. This probably means too few estimators were used to compute any reliable oob estimates.\n",
      "  warn(\n"
     ]
    },
    {
     "name": "stdout",
     "output_type": "stream",
     "text": [
      "Iteration =  807  f(x) =  0.012142640487488922\n"
     ]
    },
    {
     "name": "stderr",
     "output_type": "stream",
     "text": [
      "C:\\Users\\TI\\anaconda3\\Lib\\site-packages\\sklearn\\ensemble\\_bagging.py:1253: UserWarning: Some inputs do not have OOB scores. This probably means too few estimators were used to compute any reliable oob estimates.\n",
      "  warn(\n"
     ]
    },
    {
     "name": "stdout",
     "output_type": "stream",
     "text": [
      "Iteration =  808  f(x) =  0.012142640487488922\n"
     ]
    },
    {
     "name": "stderr",
     "output_type": "stream",
     "text": [
      "C:\\Users\\TI\\anaconda3\\Lib\\site-packages\\sklearn\\ensemble\\_bagging.py:1253: UserWarning: Some inputs do not have OOB scores. This probably means too few estimators were used to compute any reliable oob estimates.\n",
      "  warn(\n",
      "C:\\Users\\TI\\anaconda3\\Lib\\site-packages\\sklearn\\ensemble\\_bagging.py:1253: UserWarning: Some inputs do not have OOB scores. This probably means too few estimators were used to compute any reliable oob estimates.\n",
      "  warn(\n",
      "C:\\Users\\TI\\anaconda3\\Lib\\site-packages\\sklearn\\ensemble\\_bagging.py:1253: UserWarning: Some inputs do not have OOB scores. This probably means too few estimators were used to compute any reliable oob estimates.\n",
      "  warn(\n"
     ]
    },
    {
     "name": "stdout",
     "output_type": "stream",
     "text": [
      "Iteration =  809  f(x) =  0.012142640487488922\n"
     ]
    },
    {
     "name": "stderr",
     "output_type": "stream",
     "text": [
      "C:\\Users\\TI\\anaconda3\\Lib\\site-packages\\sklearn\\ensemble\\_bagging.py:1253: UserWarning: Some inputs do not have OOB scores. This probably means too few estimators were used to compute any reliable oob estimates.\n",
      "  warn(\n",
      "C:\\Users\\TI\\anaconda3\\Lib\\site-packages\\sklearn\\ensemble\\_bagging.py:1253: UserWarning: Some inputs do not have OOB scores. This probably means too few estimators were used to compute any reliable oob estimates.\n",
      "  warn(\n",
      "C:\\Users\\TI\\anaconda3\\Lib\\site-packages\\sklearn\\ensemble\\_bagging.py:1253: UserWarning: Some inputs do not have OOB scores. This probably means too few estimators were used to compute any reliable oob estimates.\n",
      "  warn(\n"
     ]
    },
    {
     "name": "stdout",
     "output_type": "stream",
     "text": [
      "Iteration =  810  f(x) =  0.012142640487488922\n"
     ]
    },
    {
     "name": "stderr",
     "output_type": "stream",
     "text": [
      "C:\\Users\\TI\\anaconda3\\Lib\\site-packages\\sklearn\\ensemble\\_bagging.py:1253: UserWarning: Some inputs do not have OOB scores. This probably means too few estimators were used to compute any reliable oob estimates.\n",
      "  warn(\n"
     ]
    },
    {
     "name": "stdout",
     "output_type": "stream",
     "text": [
      "Iteration =  811  f(x) =  0.012142640487488922\n"
     ]
    },
    {
     "name": "stderr",
     "output_type": "stream",
     "text": [
      "C:\\Users\\TI\\anaconda3\\Lib\\site-packages\\sklearn\\ensemble\\_bagging.py:1253: UserWarning: Some inputs do not have OOB scores. This probably means too few estimators were used to compute any reliable oob estimates.\n",
      "  warn(\n"
     ]
    },
    {
     "name": "stdout",
     "output_type": "stream",
     "text": [
      "Iteration =  812  f(x) =  0.012142640487488922\n"
     ]
    },
    {
     "name": "stderr",
     "output_type": "stream",
     "text": [
      "C:\\Users\\TI\\anaconda3\\Lib\\site-packages\\sklearn\\ensemble\\_bagging.py:1253: UserWarning: Some inputs do not have OOB scores. This probably means too few estimators were used to compute any reliable oob estimates.\n",
      "  warn(\n",
      "C:\\Users\\TI\\anaconda3\\Lib\\site-packages\\sklearn\\ensemble\\_bagging.py:1253: UserWarning: Some inputs do not have OOB scores. This probably means too few estimators were used to compute any reliable oob estimates.\n",
      "  warn(\n"
     ]
    },
    {
     "name": "stdout",
     "output_type": "stream",
     "text": [
      "Iteration =  813  f(x) =  0.012142640487488922\n",
      "Iteration =  814  f(x) =  0.012142640487488922\n"
     ]
    },
    {
     "name": "stderr",
     "output_type": "stream",
     "text": [
      "C:\\Users\\TI\\anaconda3\\Lib\\site-packages\\sklearn\\ensemble\\_bagging.py:1253: UserWarning: Some inputs do not have OOB scores. This probably means too few estimators were used to compute any reliable oob estimates.\n",
      "  warn(\n"
     ]
    },
    {
     "name": "stdout",
     "output_type": "stream",
     "text": [
      "Iteration =  815  f(x) =  0.012142640487488922\n",
      "Iteration =  816  f(x) =  0.012142640487488922\n",
      "Iteration =  817  f(x) =  0.012142640487488922\n"
     ]
    },
    {
     "name": "stderr",
     "output_type": "stream",
     "text": [
      "C:\\Users\\TI\\anaconda3\\Lib\\site-packages\\sklearn\\ensemble\\_bagging.py:1253: UserWarning: Some inputs do not have OOB scores. This probably means too few estimators were used to compute any reliable oob estimates.\n",
      "  warn(\n",
      "C:\\Users\\TI\\anaconda3\\Lib\\site-packages\\sklearn\\ensemble\\_bagging.py:1253: UserWarning: Some inputs do not have OOB scores. This probably means too few estimators were used to compute any reliable oob estimates.\n",
      "  warn(\n"
     ]
    },
    {
     "name": "stdout",
     "output_type": "stream",
     "text": [
      "Iteration =  818  f(x) =  0.012142640487488922\n"
     ]
    },
    {
     "name": "stderr",
     "output_type": "stream",
     "text": [
      "C:\\Users\\TI\\anaconda3\\Lib\\site-packages\\sklearn\\ensemble\\_bagging.py:1253: UserWarning: Some inputs do not have OOB scores. This probably means too few estimators were used to compute any reliable oob estimates.\n",
      "  warn(\n"
     ]
    },
    {
     "name": "stdout",
     "output_type": "stream",
     "text": [
      "Iteration =  819  f(x) =  0.012142640487488922\n"
     ]
    },
    {
     "name": "stderr",
     "output_type": "stream",
     "text": [
      "C:\\Users\\TI\\anaconda3\\Lib\\site-packages\\sklearn\\ensemble\\_bagging.py:1253: UserWarning: Some inputs do not have OOB scores. This probably means too few estimators were used to compute any reliable oob estimates.\n",
      "  warn(\n",
      "C:\\Users\\TI\\anaconda3\\Lib\\site-packages\\sklearn\\ensemble\\_bagging.py:1253: UserWarning: Some inputs do not have OOB scores. This probably means too few estimators were used to compute any reliable oob estimates.\n",
      "  warn(\n"
     ]
    },
    {
     "name": "stdout",
     "output_type": "stream",
     "text": [
      "Iteration =  820  f(x) =  0.012142640487488922\n",
      "Iteration =  821  f(x) =  0.012142640487488922\n"
     ]
    },
    {
     "name": "stderr",
     "output_type": "stream",
     "text": [
      "C:\\Users\\TI\\anaconda3\\Lib\\site-packages\\sklearn\\ensemble\\_bagging.py:1253: UserWarning: Some inputs do not have OOB scores. This probably means too few estimators were used to compute any reliable oob estimates.\n",
      "  warn(\n",
      "C:\\Users\\TI\\anaconda3\\Lib\\site-packages\\sklearn\\ensemble\\_bagging.py:1253: UserWarning: Some inputs do not have OOB scores. This probably means too few estimators were used to compute any reliable oob estimates.\n",
      "  warn(\n"
     ]
    },
    {
     "name": "stdout",
     "output_type": "stream",
     "text": [
      "Iteration =  822  f(x) =  0.012142640487488922\n"
     ]
    },
    {
     "name": "stderr",
     "output_type": "stream",
     "text": [
      "C:\\Users\\TI\\anaconda3\\Lib\\site-packages\\sklearn\\ensemble\\_bagging.py:1253: UserWarning: Some inputs do not have OOB scores. This probably means too few estimators were used to compute any reliable oob estimates.\n",
      "  warn(\n",
      "C:\\Users\\TI\\anaconda3\\Lib\\site-packages\\sklearn\\ensemble\\_bagging.py:1253: UserWarning: Some inputs do not have OOB scores. This probably means too few estimators were used to compute any reliable oob estimates.\n",
      "  warn(\n",
      "C:\\Users\\TI\\anaconda3\\Lib\\site-packages\\sklearn\\ensemble\\_bagging.py:1253: UserWarning: Some inputs do not have OOB scores. This probably means too few estimators were used to compute any reliable oob estimates.\n",
      "  warn(\n"
     ]
    },
    {
     "name": "stdout",
     "output_type": "stream",
     "text": [
      "Iteration =  823  f(x) =  0.012142640487488922\n",
      "Iteration =  824  f(x) =  0.012142640487488922\n",
      "Iteration =  825  f(x) =  0.012142640487488922\n",
      "Iteration =  826  f(x) =  0.012142640487488922\n"
     ]
    },
    {
     "name": "stderr",
     "output_type": "stream",
     "text": [
      "C:\\Users\\TI\\anaconda3\\Lib\\site-packages\\sklearn\\ensemble\\_bagging.py:1253: UserWarning: Some inputs do not have OOB scores. This probably means too few estimators were used to compute any reliable oob estimates.\n",
      "  warn(\n"
     ]
    },
    {
     "name": "stdout",
     "output_type": "stream",
     "text": [
      "Iteration =  827  f(x) =  0.012142640487488922\n"
     ]
    },
    {
     "name": "stderr",
     "output_type": "stream",
     "text": [
      "C:\\Users\\TI\\anaconda3\\Lib\\site-packages\\sklearn\\ensemble\\_bagging.py:1253: UserWarning: Some inputs do not have OOB scores. This probably means too few estimators were used to compute any reliable oob estimates.\n",
      "  warn(\n",
      "C:\\Users\\TI\\anaconda3\\Lib\\site-packages\\sklearn\\ensemble\\_bagging.py:1253: UserWarning: Some inputs do not have OOB scores. This probably means too few estimators were used to compute any reliable oob estimates.\n",
      "  warn(\n",
      "C:\\Users\\TI\\anaconda3\\Lib\\site-packages\\sklearn\\ensemble\\_bagging.py:1253: UserWarning: Some inputs do not have OOB scores. This probably means too few estimators were used to compute any reliable oob estimates.\n",
      "  warn(\n"
     ]
    },
    {
     "name": "stdout",
     "output_type": "stream",
     "text": [
      "Iteration =  828  f(x) =  0.012142640487488922\n",
      "Iteration =  829  f(x) =  0.012142640487488922\n",
      "Iteration =  830  f(x) =  0.012142640487488922\n"
     ]
    },
    {
     "name": "stderr",
     "output_type": "stream",
     "text": [
      "C:\\Users\\TI\\anaconda3\\Lib\\site-packages\\sklearn\\ensemble\\_bagging.py:1253: UserWarning: Some inputs do not have OOB scores. This probably means too few estimators were used to compute any reliable oob estimates.\n",
      "  warn(\n"
     ]
    },
    {
     "name": "stdout",
     "output_type": "stream",
     "text": [
      "Iteration =  831  f(x) =  0.012142640487488922\n"
     ]
    },
    {
     "name": "stderr",
     "output_type": "stream",
     "text": [
      "C:\\Users\\TI\\anaconda3\\Lib\\site-packages\\sklearn\\ensemble\\_bagging.py:1253: UserWarning: Some inputs do not have OOB scores. This probably means too few estimators were used to compute any reliable oob estimates.\n",
      "  warn(\n",
      "C:\\Users\\TI\\anaconda3\\Lib\\site-packages\\sklearn\\ensemble\\_bagging.py:1253: UserWarning: Some inputs do not have OOB scores. This probably means too few estimators were used to compute any reliable oob estimates.\n",
      "  warn(\n"
     ]
    },
    {
     "name": "stdout",
     "output_type": "stream",
     "text": [
      "Iteration =  832  f(x) =  0.012142640487488922\n",
      "Iteration =  833  f(x) =  0.012142640487488922\n",
      "Iteration =  834  f(x) =  0.012142640487488922\n"
     ]
    },
    {
     "name": "stderr",
     "output_type": "stream",
     "text": [
      "C:\\Users\\TI\\anaconda3\\Lib\\site-packages\\sklearn\\ensemble\\_bagging.py:1253: UserWarning: Some inputs do not have OOB scores. This probably means too few estimators were used to compute any reliable oob estimates.\n",
      "  warn(\n"
     ]
    },
    {
     "name": "stdout",
     "output_type": "stream",
     "text": [
      "Iteration =  835  f(x) =  0.012142640487488922\n"
     ]
    },
    {
     "name": "stderr",
     "output_type": "stream",
     "text": [
      "C:\\Users\\TI\\anaconda3\\Lib\\site-packages\\sklearn\\ensemble\\_bagging.py:1253: UserWarning: Some inputs do not have OOB scores. This probably means too few estimators were used to compute any reliable oob estimates.\n",
      "  warn(\n"
     ]
    },
    {
     "name": "stdout",
     "output_type": "stream",
     "text": [
      "Iteration =  836  f(x) =  0.012142640487488922\n"
     ]
    },
    {
     "name": "stderr",
     "output_type": "stream",
     "text": [
      "C:\\Users\\TI\\anaconda3\\Lib\\site-packages\\sklearn\\ensemble\\_bagging.py:1253: UserWarning: Some inputs do not have OOB scores. This probably means too few estimators were used to compute any reliable oob estimates.\n",
      "  warn(\n"
     ]
    },
    {
     "name": "stdout",
     "output_type": "stream",
     "text": [
      "Iteration =  837  f(x) =  0.012142640487488922\n"
     ]
    },
    {
     "name": "stderr",
     "output_type": "stream",
     "text": [
      "C:\\Users\\TI\\anaconda3\\Lib\\site-packages\\sklearn\\ensemble\\_bagging.py:1253: UserWarning: Some inputs do not have OOB scores. This probably means too few estimators were used to compute any reliable oob estimates.\n",
      "  warn(\n"
     ]
    },
    {
     "name": "stdout",
     "output_type": "stream",
     "text": [
      "Iteration =  838  f(x) =  0.012142640487488922\n",
      "Iteration =  839  f(x) =  0.012142640487488922\n",
      "Iteration =  840  f(x) =  0.012142640487488922\n",
      "Iteration =  841  f(x) =  0.012142640487488922\n",
      "Iteration =  842  f(x) =  0.012142640487488922\n",
      "Iteration =  843  f(x) =  0.012142640487488922\n",
      "Iteration =  844  f(x) =  0.012142640487488922\n",
      "Iteration =  845  f(x) =  0.012142640487488922\n"
     ]
    },
    {
     "name": "stderr",
     "output_type": "stream",
     "text": [
      "C:\\Users\\TI\\anaconda3\\Lib\\site-packages\\sklearn\\ensemble\\_bagging.py:1253: UserWarning: Some inputs do not have OOB scores. This probably means too few estimators were used to compute any reliable oob estimates.\n",
      "  warn(\n"
     ]
    },
    {
     "name": "stdout",
     "output_type": "stream",
     "text": [
      "Iteration =  846  f(x) =  0.012142640487488922\n"
     ]
    },
    {
     "name": "stderr",
     "output_type": "stream",
     "text": [
      "C:\\Users\\TI\\anaconda3\\Lib\\site-packages\\sklearn\\ensemble\\_bagging.py:1253: UserWarning: Some inputs do not have OOB scores. This probably means too few estimators were used to compute any reliable oob estimates.\n",
      "  warn(\n"
     ]
    },
    {
     "name": "stdout",
     "output_type": "stream",
     "text": [
      "Iteration =  847  f(x) =  0.012142640487488922\n"
     ]
    },
    {
     "name": "stderr",
     "output_type": "stream",
     "text": [
      "C:\\Users\\TI\\anaconda3\\Lib\\site-packages\\sklearn\\ensemble\\_bagging.py:1253: UserWarning: Some inputs do not have OOB scores. This probably means too few estimators were used to compute any reliable oob estimates.\n",
      "  warn(\n"
     ]
    },
    {
     "name": "stdout",
     "output_type": "stream",
     "text": [
      "Iteration =  848  f(x) =  0.012142640487488922\n",
      "Iteration =  849  f(x) =  0.012142640487488922\n"
     ]
    },
    {
     "name": "stderr",
     "output_type": "stream",
     "text": [
      "C:\\Users\\TI\\anaconda3\\Lib\\site-packages\\sklearn\\ensemble\\_bagging.py:1253: UserWarning: Some inputs do not have OOB scores. This probably means too few estimators were used to compute any reliable oob estimates.\n",
      "  warn(\n"
     ]
    },
    {
     "name": "stdout",
     "output_type": "stream",
     "text": [
      "Iteration =  850  f(x) =  0.012142640487488922\n",
      "Iteration =  851  f(x) =  0.012142640487488922\n"
     ]
    },
    {
     "name": "stderr",
     "output_type": "stream",
     "text": [
      "C:\\Users\\TI\\anaconda3\\Lib\\site-packages\\sklearn\\ensemble\\_bagging.py:1253: UserWarning: Some inputs do not have OOB scores. This probably means too few estimators were used to compute any reliable oob estimates.\n",
      "  warn(\n",
      "C:\\Users\\TI\\anaconda3\\Lib\\site-packages\\sklearn\\ensemble\\_bagging.py:1253: UserWarning: Some inputs do not have OOB scores. This probably means too few estimators were used to compute any reliable oob estimates.\n",
      "  warn(\n"
     ]
    },
    {
     "name": "stdout",
     "output_type": "stream",
     "text": [
      "Iteration =  852  f(x) =  0.012142640487488922\n"
     ]
    },
    {
     "name": "stderr",
     "output_type": "stream",
     "text": [
      "C:\\Users\\TI\\anaconda3\\Lib\\site-packages\\sklearn\\ensemble\\_bagging.py:1253: UserWarning: Some inputs do not have OOB scores. This probably means too few estimators were used to compute any reliable oob estimates.\n",
      "  warn(\n"
     ]
    },
    {
     "name": "stdout",
     "output_type": "stream",
     "text": [
      "Iteration =  853  f(x) =  0.012142640487488922\n"
     ]
    },
    {
     "name": "stderr",
     "output_type": "stream",
     "text": [
      "C:\\Users\\TI\\anaconda3\\Lib\\site-packages\\sklearn\\ensemble\\_bagging.py:1253: UserWarning: Some inputs do not have OOB scores. This probably means too few estimators were used to compute any reliable oob estimates.\n",
      "  warn(\n"
     ]
    },
    {
     "name": "stdout",
     "output_type": "stream",
     "text": [
      "Iteration =  854  f(x) =  0.012142640487488922\n"
     ]
    },
    {
     "name": "stderr",
     "output_type": "stream",
     "text": [
      "C:\\Users\\TI\\anaconda3\\Lib\\site-packages\\sklearn\\ensemble\\_bagging.py:1253: UserWarning: Some inputs do not have OOB scores. This probably means too few estimators were used to compute any reliable oob estimates.\n",
      "  warn(\n"
     ]
    },
    {
     "name": "stdout",
     "output_type": "stream",
     "text": [
      "Iteration =  855  f(x) =  0.012142640487488922\n"
     ]
    },
    {
     "name": "stderr",
     "output_type": "stream",
     "text": [
      "C:\\Users\\TI\\anaconda3\\Lib\\site-packages\\sklearn\\ensemble\\_bagging.py:1253: UserWarning: Some inputs do not have OOB scores. This probably means too few estimators were used to compute any reliable oob estimates.\n",
      "  warn(\n",
      "C:\\Users\\TI\\anaconda3\\Lib\\site-packages\\sklearn\\ensemble\\_bagging.py:1253: UserWarning: Some inputs do not have OOB scores. This probably means too few estimators were used to compute any reliable oob estimates.\n",
      "  warn(\n",
      "C:\\Users\\TI\\anaconda3\\Lib\\site-packages\\sklearn\\ensemble\\_bagging.py:1253: UserWarning: Some inputs do not have OOB scores. This probably means too few estimators were used to compute any reliable oob estimates.\n",
      "  warn(\n"
     ]
    },
    {
     "name": "stdout",
     "output_type": "stream",
     "text": [
      "Iteration =  856  f(x) =  0.012142640487488922\n",
      "Iteration =  857  f(x) =  0.012142640487488922\n",
      "Iteration =  858  f(x) =  0.012142640487488922\n"
     ]
    },
    {
     "name": "stderr",
     "output_type": "stream",
     "text": [
      "C:\\Users\\TI\\anaconda3\\Lib\\site-packages\\sklearn\\ensemble\\_bagging.py:1253: UserWarning: Some inputs do not have OOB scores. This probably means too few estimators were used to compute any reliable oob estimates.\n",
      "  warn(\n"
     ]
    },
    {
     "name": "stdout",
     "output_type": "stream",
     "text": [
      "Iteration =  859  f(x) =  0.012142640487488922\n"
     ]
    },
    {
     "name": "stderr",
     "output_type": "stream",
     "text": [
      "C:\\Users\\TI\\anaconda3\\Lib\\site-packages\\sklearn\\ensemble\\_bagging.py:1253: UserWarning: Some inputs do not have OOB scores. This probably means too few estimators were used to compute any reliable oob estimates.\n",
      "  warn(\n"
     ]
    },
    {
     "name": "stdout",
     "output_type": "stream",
     "text": [
      "Iteration =  860  f(x) =  0.012142640487488922\n"
     ]
    },
    {
     "name": "stderr",
     "output_type": "stream",
     "text": [
      "C:\\Users\\TI\\anaconda3\\Lib\\site-packages\\sklearn\\ensemble\\_bagging.py:1253: UserWarning: Some inputs do not have OOB scores. This probably means too few estimators were used to compute any reliable oob estimates.\n",
      "  warn(\n"
     ]
    },
    {
     "name": "stdout",
     "output_type": "stream",
     "text": [
      "Iteration =  861  f(x) =  0.012142640487488922\n",
      "Iteration =  862  f(x) =  0.012142640487488922\n"
     ]
    },
    {
     "name": "stderr",
     "output_type": "stream",
     "text": [
      "C:\\Users\\TI\\anaconda3\\Lib\\site-packages\\sklearn\\ensemble\\_bagging.py:1253: UserWarning: Some inputs do not have OOB scores. This probably means too few estimators were used to compute any reliable oob estimates.\n",
      "  warn(\n"
     ]
    },
    {
     "name": "stdout",
     "output_type": "stream",
     "text": [
      "Iteration =  863  f(x) =  0.012142640487488922\n",
      "Iteration =  864  f(x) =  0.012142640487488922\n",
      "Iteration =  865  f(x) =  0.012142640487488922\n"
     ]
    },
    {
     "name": "stderr",
     "output_type": "stream",
     "text": [
      "C:\\Users\\TI\\anaconda3\\Lib\\site-packages\\sklearn\\ensemble\\_bagging.py:1253: UserWarning: Some inputs do not have OOB scores. This probably means too few estimators were used to compute any reliable oob estimates.\n",
      "  warn(\n"
     ]
    },
    {
     "name": "stdout",
     "output_type": "stream",
     "text": [
      "Iteration =  866  f(x) =  0.012142640487488922\n",
      "Iteration =  867  f(x) =  0.012142640487488922\n",
      "Iteration =  868  f(x) =  0.012142640487488922\n"
     ]
    },
    {
     "name": "stderr",
     "output_type": "stream",
     "text": [
      "C:\\Users\\TI\\anaconda3\\Lib\\site-packages\\sklearn\\ensemble\\_bagging.py:1253: UserWarning: Some inputs do not have OOB scores. This probably means too few estimators were used to compute any reliable oob estimates.\n",
      "  warn(\n"
     ]
    },
    {
     "name": "stdout",
     "output_type": "stream",
     "text": [
      "Iteration =  869  f(x) =  0.012142640487488922\n"
     ]
    },
    {
     "name": "stderr",
     "output_type": "stream",
     "text": [
      "C:\\Users\\TI\\anaconda3\\Lib\\site-packages\\sklearn\\ensemble\\_bagging.py:1253: UserWarning: Some inputs do not have OOB scores. This probably means too few estimators were used to compute any reliable oob estimates.\n",
      "  warn(\n"
     ]
    },
    {
     "name": "stdout",
     "output_type": "stream",
     "text": [
      "Iteration =  870  f(x) =  0.012142640487488922\n",
      "Iteration =  871  f(x) =  0.012142640487488922\n"
     ]
    },
    {
     "name": "stderr",
     "output_type": "stream",
     "text": [
      "C:\\Users\\TI\\anaconda3\\Lib\\site-packages\\sklearn\\ensemble\\_bagging.py:1253: UserWarning: Some inputs do not have OOB scores. This probably means too few estimators were used to compute any reliable oob estimates.\n",
      "  warn(\n"
     ]
    },
    {
     "name": "stdout",
     "output_type": "stream",
     "text": [
      "Iteration =  872  f(x) =  0.012142640487488922\n",
      "Iteration =  873  f(x) =  0.012142640487488922\n"
     ]
    },
    {
     "name": "stderr",
     "output_type": "stream",
     "text": [
      "C:\\Users\\TI\\anaconda3\\Lib\\site-packages\\sklearn\\ensemble\\_bagging.py:1253: UserWarning: Some inputs do not have OOB scores. This probably means too few estimators were used to compute any reliable oob estimates.\n",
      "  warn(\n",
      "C:\\Users\\TI\\anaconda3\\Lib\\site-packages\\sklearn\\ensemble\\_bagging.py:1253: UserWarning: Some inputs do not have OOB scores. This probably means too few estimators were used to compute any reliable oob estimates.\n",
      "  warn(\n",
      "C:\\Users\\TI\\anaconda3\\Lib\\site-packages\\sklearn\\ensemble\\_bagging.py:1253: UserWarning: Some inputs do not have OOB scores. This probably means too few estimators were used to compute any reliable oob estimates.\n",
      "  warn(\n"
     ]
    },
    {
     "name": "stdout",
     "output_type": "stream",
     "text": [
      "Iteration =  874  f(x) =  0.012142640487488922\n",
      "Iteration =  875  f(x) =  0.012142640487488922\n",
      "Iteration =  876  f(x) =  0.012142640487488922\n"
     ]
    },
    {
     "name": "stderr",
     "output_type": "stream",
     "text": [
      "C:\\Users\\TI\\anaconda3\\Lib\\site-packages\\sklearn\\ensemble\\_bagging.py:1253: UserWarning: Some inputs do not have OOB scores. This probably means too few estimators were used to compute any reliable oob estimates.\n",
      "  warn(\n",
      "C:\\Users\\TI\\anaconda3\\Lib\\site-packages\\sklearn\\ensemble\\_bagging.py:1253: UserWarning: Some inputs do not have OOB scores. This probably means too few estimators were used to compute any reliable oob estimates.\n",
      "  warn(\n",
      "C:\\Users\\TI\\anaconda3\\Lib\\site-packages\\sklearn\\ensemble\\_bagging.py:1253: UserWarning: Some inputs do not have OOB scores. This probably means too few estimators were used to compute any reliable oob estimates.\n",
      "  warn(\n"
     ]
    },
    {
     "name": "stdout",
     "output_type": "stream",
     "text": [
      "Iteration =  877  f(x) =  0.012142640487488922\n"
     ]
    },
    {
     "name": "stderr",
     "output_type": "stream",
     "text": [
      "C:\\Users\\TI\\anaconda3\\Lib\\site-packages\\sklearn\\ensemble\\_bagging.py:1253: UserWarning: Some inputs do not have OOB scores. This probably means too few estimators were used to compute any reliable oob estimates.\n",
      "  warn(\n"
     ]
    },
    {
     "name": "stdout",
     "output_type": "stream",
     "text": [
      "Iteration =  878  f(x) =  0.012142640487488922\n"
     ]
    },
    {
     "name": "stderr",
     "output_type": "stream",
     "text": [
      "C:\\Users\\TI\\anaconda3\\Lib\\site-packages\\sklearn\\ensemble\\_bagging.py:1253: UserWarning: Some inputs do not have OOB scores. This probably means too few estimators were used to compute any reliable oob estimates.\n",
      "  warn(\n"
     ]
    },
    {
     "name": "stdout",
     "output_type": "stream",
     "text": [
      "Iteration =  879  f(x) =  0.012142640487488922\n"
     ]
    },
    {
     "name": "stderr",
     "output_type": "stream",
     "text": [
      "C:\\Users\\TI\\anaconda3\\Lib\\site-packages\\sklearn\\ensemble\\_bagging.py:1253: UserWarning: Some inputs do not have OOB scores. This probably means too few estimators were used to compute any reliable oob estimates.\n",
      "  warn(\n"
     ]
    },
    {
     "name": "stdout",
     "output_type": "stream",
     "text": [
      "Iteration =  880  f(x) =  0.012142640487488922\n"
     ]
    },
    {
     "name": "stderr",
     "output_type": "stream",
     "text": [
      "C:\\Users\\TI\\anaconda3\\Lib\\site-packages\\sklearn\\ensemble\\_bagging.py:1253: UserWarning: Some inputs do not have OOB scores. This probably means too few estimators were used to compute any reliable oob estimates.\n",
      "  warn(\n"
     ]
    },
    {
     "name": "stdout",
     "output_type": "stream",
     "text": [
      "Iteration =  881  f(x) =  0.012142640487488922\n",
      "Iteration =  882  f(x) =  0.012142640487488922\n"
     ]
    },
    {
     "name": "stderr",
     "output_type": "stream",
     "text": [
      "C:\\Users\\TI\\anaconda3\\Lib\\site-packages\\sklearn\\ensemble\\_bagging.py:1253: UserWarning: Some inputs do not have OOB scores. This probably means too few estimators were used to compute any reliable oob estimates.\n",
      "  warn(\n"
     ]
    },
    {
     "name": "stdout",
     "output_type": "stream",
     "text": [
      "Iteration =  883  f(x) =  0.012142640487488922\n",
      "Iteration =  884  f(x) =  0.012142640487488922\n"
     ]
    },
    {
     "name": "stderr",
     "output_type": "stream",
     "text": [
      "C:\\Users\\TI\\anaconda3\\Lib\\site-packages\\sklearn\\ensemble\\_bagging.py:1253: UserWarning: Some inputs do not have OOB scores. This probably means too few estimators were used to compute any reliable oob estimates.\n",
      "  warn(\n",
      "C:\\Users\\TI\\anaconda3\\Lib\\site-packages\\sklearn\\ensemble\\_bagging.py:1253: UserWarning: Some inputs do not have OOB scores. This probably means too few estimators were used to compute any reliable oob estimates.\n",
      "  warn(\n"
     ]
    },
    {
     "name": "stdout",
     "output_type": "stream",
     "text": [
      "Iteration =  885  f(x) =  0.012142640487488922\n",
      "Iteration =  886  f(x) =  0.012142640487488922\n"
     ]
    },
    {
     "name": "stderr",
     "output_type": "stream",
     "text": [
      "C:\\Users\\TI\\anaconda3\\Lib\\site-packages\\sklearn\\ensemble\\_bagging.py:1253: UserWarning: Some inputs do not have OOB scores. This probably means too few estimators were used to compute any reliable oob estimates.\n",
      "  warn(\n",
      "C:\\Users\\TI\\anaconda3\\Lib\\site-packages\\sklearn\\ensemble\\_bagging.py:1253: UserWarning: Some inputs do not have OOB scores. This probably means too few estimators were used to compute any reliable oob estimates.\n",
      "  warn(\n"
     ]
    },
    {
     "name": "stdout",
     "output_type": "stream",
     "text": [
      "Iteration =  887  f(x) =  0.012142640487488922\n"
     ]
    },
    {
     "name": "stderr",
     "output_type": "stream",
     "text": [
      "C:\\Users\\TI\\anaconda3\\Lib\\site-packages\\sklearn\\ensemble\\_bagging.py:1253: UserWarning: Some inputs do not have OOB scores. This probably means too few estimators were used to compute any reliable oob estimates.\n",
      "  warn(\n"
     ]
    },
    {
     "name": "stdout",
     "output_type": "stream",
     "text": [
      "Iteration =  888  f(x) =  0.012142640487488922\n",
      "Iteration =  889  f(x) =  0.012142640487488922\n"
     ]
    },
    {
     "name": "stderr",
     "output_type": "stream",
     "text": [
      "C:\\Users\\TI\\anaconda3\\Lib\\site-packages\\sklearn\\ensemble\\_bagging.py:1253: UserWarning: Some inputs do not have OOB scores. This probably means too few estimators were used to compute any reliable oob estimates.\n",
      "  warn(\n",
      "C:\\Users\\TI\\anaconda3\\Lib\\site-packages\\sklearn\\ensemble\\_bagging.py:1253: UserWarning: Some inputs do not have OOB scores. This probably means too few estimators were used to compute any reliable oob estimates.\n",
      "  warn(\n",
      "C:\\Users\\TI\\anaconda3\\Lib\\site-packages\\sklearn\\ensemble\\_bagging.py:1253: UserWarning: Some inputs do not have OOB scores. This probably means too few estimators were used to compute any reliable oob estimates.\n",
      "  warn(\n"
     ]
    },
    {
     "name": "stdout",
     "output_type": "stream",
     "text": [
      "Iteration =  890  f(x) =  0.012142640487488922\n"
     ]
    },
    {
     "name": "stderr",
     "output_type": "stream",
     "text": [
      "C:\\Users\\TI\\anaconda3\\Lib\\site-packages\\sklearn\\ensemble\\_bagging.py:1253: UserWarning: Some inputs do not have OOB scores. This probably means too few estimators were used to compute any reliable oob estimates.\n",
      "  warn(\n"
     ]
    },
    {
     "name": "stdout",
     "output_type": "stream",
     "text": [
      "Iteration =  891  f(x) =  0.012142640487488922\n"
     ]
    },
    {
     "name": "stderr",
     "output_type": "stream",
     "text": [
      "C:\\Users\\TI\\anaconda3\\Lib\\site-packages\\sklearn\\ensemble\\_bagging.py:1253: UserWarning: Some inputs do not have OOB scores. This probably means too few estimators were used to compute any reliable oob estimates.\n",
      "  warn(\n",
      "C:\\Users\\TI\\anaconda3\\Lib\\site-packages\\sklearn\\ensemble\\_bagging.py:1253: UserWarning: Some inputs do not have OOB scores. This probably means too few estimators were used to compute any reliable oob estimates.\n",
      "  warn(\n"
     ]
    },
    {
     "name": "stdout",
     "output_type": "stream",
     "text": [
      "Iteration =  892  f(x) =  0.012142640487488922\n"
     ]
    },
    {
     "name": "stderr",
     "output_type": "stream",
     "text": [
      "C:\\Users\\TI\\anaconda3\\Lib\\site-packages\\sklearn\\ensemble\\_bagging.py:1253: UserWarning: Some inputs do not have OOB scores. This probably means too few estimators were used to compute any reliable oob estimates.\n",
      "  warn(\n"
     ]
    },
    {
     "name": "stdout",
     "output_type": "stream",
     "text": [
      "Iteration =  893  f(x) =  0.012142640487488922\n",
      "Iteration =  894  f(x) =  0.012142640487488922\n"
     ]
    },
    {
     "name": "stderr",
     "output_type": "stream",
     "text": [
      "C:\\Users\\TI\\anaconda3\\Lib\\site-packages\\sklearn\\ensemble\\_bagging.py:1253: UserWarning: Some inputs do not have OOB scores. This probably means too few estimators were used to compute any reliable oob estimates.\n",
      "  warn(\n"
     ]
    },
    {
     "name": "stdout",
     "output_type": "stream",
     "text": [
      "Iteration =  895  f(x) =  0.012142640487488922\n"
     ]
    },
    {
     "name": "stderr",
     "output_type": "stream",
     "text": [
      "C:\\Users\\TI\\anaconda3\\Lib\\site-packages\\sklearn\\ensemble\\_bagging.py:1253: UserWarning: Some inputs do not have OOB scores. This probably means too few estimators were used to compute any reliable oob estimates.\n",
      "  warn(\n",
      "C:\\Users\\TI\\anaconda3\\Lib\\site-packages\\sklearn\\ensemble\\_bagging.py:1253: UserWarning: Some inputs do not have OOB scores. This probably means too few estimators were used to compute any reliable oob estimates.\n",
      "  warn(\n",
      "C:\\Users\\TI\\anaconda3\\Lib\\site-packages\\sklearn\\ensemble\\_bagging.py:1253: UserWarning: Some inputs do not have OOB scores. This probably means too few estimators were used to compute any reliable oob estimates.\n",
      "  warn(\n"
     ]
    },
    {
     "name": "stdout",
     "output_type": "stream",
     "text": [
      "Iteration =  896  f(x) =  0.012142640487488922\n",
      "Iteration =  897  f(x) =  0.012142640487488922\n",
      "Iteration =  898  f(x) =  0.012142640487488922\n"
     ]
    },
    {
     "name": "stderr",
     "output_type": "stream",
     "text": [
      "C:\\Users\\TI\\anaconda3\\Lib\\site-packages\\sklearn\\ensemble\\_bagging.py:1253: UserWarning: Some inputs do not have OOB scores. This probably means too few estimators were used to compute any reliable oob estimates.\n",
      "  warn(\n"
     ]
    },
    {
     "name": "stdout",
     "output_type": "stream",
     "text": [
      "Iteration =  899  f(x) =  0.012142640487488922\n",
      "Iteration =  900  f(x) =  0.012142640487488922\n",
      "Iteration =  901  f(x) =  0.012142640487488922\n"
     ]
    },
    {
     "name": "stderr",
     "output_type": "stream",
     "text": [
      "C:\\Users\\TI\\anaconda3\\Lib\\site-packages\\sklearn\\ensemble\\_bagging.py:1253: UserWarning: Some inputs do not have OOB scores. This probably means too few estimators were used to compute any reliable oob estimates.\n",
      "  warn(\n"
     ]
    },
    {
     "name": "stdout",
     "output_type": "stream",
     "text": [
      "Iteration =  902  f(x) =  0.012142640487488922\n",
      "Iteration =  903  f(x) =  0.012142640487488922\n",
      "Iteration =  904  f(x) =  0.012142640487488922\n"
     ]
    },
    {
     "name": "stderr",
     "output_type": "stream",
     "text": [
      "C:\\Users\\TI\\anaconda3\\Lib\\site-packages\\sklearn\\ensemble\\_bagging.py:1253: UserWarning: Some inputs do not have OOB scores. This probably means too few estimators were used to compute any reliable oob estimates.\n",
      "  warn(\n"
     ]
    },
    {
     "name": "stdout",
     "output_type": "stream",
     "text": [
      "Iteration =  905  f(x) =  0.012142640487488922\n"
     ]
    },
    {
     "name": "stderr",
     "output_type": "stream",
     "text": [
      "C:\\Users\\TI\\anaconda3\\Lib\\site-packages\\sklearn\\ensemble\\_bagging.py:1253: UserWarning: Some inputs do not have OOB scores. This probably means too few estimators were used to compute any reliable oob estimates.\n",
      "  warn(\n"
     ]
    },
    {
     "name": "stdout",
     "output_type": "stream",
     "text": [
      "Iteration =  906  f(x) =  0.012142640487488922\n"
     ]
    },
    {
     "name": "stderr",
     "output_type": "stream",
     "text": [
      "C:\\Users\\TI\\anaconda3\\Lib\\site-packages\\sklearn\\ensemble\\_bagging.py:1253: UserWarning: Some inputs do not have OOB scores. This probably means too few estimators were used to compute any reliable oob estimates.\n",
      "  warn(\n"
     ]
    },
    {
     "name": "stdout",
     "output_type": "stream",
     "text": [
      "Iteration =  907  f(x) =  0.012142640487488922\n",
      "Iteration =  908  f(x) =  0.012142640487488922\n",
      "Iteration =  909  f(x) =  0.012142640487488922\n",
      "Iteration =  910  f(x) =  0.012142640487488922\n"
     ]
    },
    {
     "name": "stderr",
     "output_type": "stream",
     "text": [
      "C:\\Users\\TI\\anaconda3\\Lib\\site-packages\\sklearn\\ensemble\\_bagging.py:1253: UserWarning: Some inputs do not have OOB scores. This probably means too few estimators were used to compute any reliable oob estimates.\n",
      "  warn(\n"
     ]
    },
    {
     "name": "stdout",
     "output_type": "stream",
     "text": [
      "Iteration =  911  f(x) =  0.012142640487488922\n"
     ]
    },
    {
     "name": "stderr",
     "output_type": "stream",
     "text": [
      "C:\\Users\\TI\\anaconda3\\Lib\\site-packages\\sklearn\\ensemble\\_bagging.py:1253: UserWarning: Some inputs do not have OOB scores. This probably means too few estimators were used to compute any reliable oob estimates.\n",
      "  warn(\n",
      "C:\\Users\\TI\\anaconda3\\Lib\\site-packages\\sklearn\\ensemble\\_bagging.py:1253: UserWarning: Some inputs do not have OOB scores. This probably means too few estimators were used to compute any reliable oob estimates.\n",
      "  warn(\n"
     ]
    },
    {
     "name": "stdout",
     "output_type": "stream",
     "text": [
      "Iteration =  912  f(x) =  0.012142640487488922\n",
      "Iteration =  913  f(x) =  0.012142640487488922\n",
      "Iteration =  914  f(x) =  0.012142640487488922\n",
      "Iteration =  915  f(x) =  0.012142640487488922\n"
     ]
    },
    {
     "name": "stderr",
     "output_type": "stream",
     "text": [
      "C:\\Users\\TI\\anaconda3\\Lib\\site-packages\\sklearn\\ensemble\\_bagging.py:1253: UserWarning: Some inputs do not have OOB scores. This probably means too few estimators were used to compute any reliable oob estimates.\n",
      "  warn(\n"
     ]
    },
    {
     "name": "stdout",
     "output_type": "stream",
     "text": [
      "Iteration =  916  f(x) =  0.012142640487488922\n",
      "Iteration =  917  f(x) =  0.012142640487488922\n",
      "Iteration =  918  f(x) =  0.012142640487488922\n"
     ]
    },
    {
     "name": "stderr",
     "output_type": "stream",
     "text": [
      "C:\\Users\\TI\\anaconda3\\Lib\\site-packages\\sklearn\\ensemble\\_bagging.py:1253: UserWarning: Some inputs do not have OOB scores. This probably means too few estimators were used to compute any reliable oob estimates.\n",
      "  warn(\n"
     ]
    },
    {
     "name": "stdout",
     "output_type": "stream",
     "text": [
      "Iteration =  919  f(x) =  0.012142640487488922\n"
     ]
    },
    {
     "name": "stderr",
     "output_type": "stream",
     "text": [
      "C:\\Users\\TI\\anaconda3\\Lib\\site-packages\\sklearn\\ensemble\\_bagging.py:1253: UserWarning: Some inputs do not have OOB scores. This probably means too few estimators were used to compute any reliable oob estimates.\n",
      "  warn(\n"
     ]
    },
    {
     "name": "stdout",
     "output_type": "stream",
     "text": [
      "Iteration =  920  f(x) =  0.012142640487488922\n"
     ]
    },
    {
     "name": "stderr",
     "output_type": "stream",
     "text": [
      "C:\\Users\\TI\\anaconda3\\Lib\\site-packages\\sklearn\\ensemble\\_bagging.py:1253: UserWarning: Some inputs do not have OOB scores. This probably means too few estimators were used to compute any reliable oob estimates.\n",
      "  warn(\n"
     ]
    },
    {
     "name": "stdout",
     "output_type": "stream",
     "text": [
      "Iteration =  921  f(x) =  0.012142640487488922\n",
      "Iteration =  922  f(x) =  0.012142640487488922\n",
      "Iteration =  923  f(x) =  0.012142640487488922\n"
     ]
    },
    {
     "name": "stderr",
     "output_type": "stream",
     "text": [
      "C:\\Users\\TI\\anaconda3\\Lib\\site-packages\\sklearn\\ensemble\\_bagging.py:1253: UserWarning: Some inputs do not have OOB scores. This probably means too few estimators were used to compute any reliable oob estimates.\n",
      "  warn(\n"
     ]
    },
    {
     "name": "stdout",
     "output_type": "stream",
     "text": [
      "Iteration =  924  f(x) =  0.012142640487488922\n"
     ]
    },
    {
     "name": "stderr",
     "output_type": "stream",
     "text": [
      "C:\\Users\\TI\\anaconda3\\Lib\\site-packages\\sklearn\\ensemble\\_bagging.py:1253: UserWarning: Some inputs do not have OOB scores. This probably means too few estimators were used to compute any reliable oob estimates.\n",
      "  warn(\n"
     ]
    },
    {
     "name": "stdout",
     "output_type": "stream",
     "text": [
      "Iteration =  925  f(x) =  0.012142640487488922\n"
     ]
    },
    {
     "name": "stderr",
     "output_type": "stream",
     "text": [
      "C:\\Users\\TI\\anaconda3\\Lib\\site-packages\\sklearn\\ensemble\\_bagging.py:1253: UserWarning: Some inputs do not have OOB scores. This probably means too few estimators were used to compute any reliable oob estimates.\n",
      "  warn(\n"
     ]
    },
    {
     "name": "stdout",
     "output_type": "stream",
     "text": [
      "Iteration =  926  f(x) =  0.012142640487488922\n",
      "Iteration =  927  f(x) =  0.012142640487488922\n"
     ]
    },
    {
     "name": "stderr",
     "output_type": "stream",
     "text": [
      "C:\\Users\\TI\\anaconda3\\Lib\\site-packages\\sklearn\\ensemble\\_bagging.py:1253: UserWarning: Some inputs do not have OOB scores. This probably means too few estimators were used to compute any reliable oob estimates.\n",
      "  warn(\n"
     ]
    },
    {
     "name": "stdout",
     "output_type": "stream",
     "text": [
      "Iteration =  928  f(x) =  0.012142640487488922\n",
      "Iteration =  929  f(x) =  0.012142640487488922\n",
      "Iteration =  930  f(x) =  0.012142640487488922\n",
      "Iteration =  931  f(x) =  0.012142640487488922\n",
      "Iteration =  932  f(x) =  0.012142640487488922\n",
      "Iteration =  933  f(x) =  0.012142640487488922\n"
     ]
    },
    {
     "name": "stderr",
     "output_type": "stream",
     "text": [
      "C:\\Users\\TI\\anaconda3\\Lib\\site-packages\\sklearn\\ensemble\\_bagging.py:1253: UserWarning: Some inputs do not have OOB scores. This probably means too few estimators were used to compute any reliable oob estimates.\n",
      "  warn(\n"
     ]
    },
    {
     "name": "stdout",
     "output_type": "stream",
     "text": [
      "Iteration =  934  f(x) =  0.012142640487488922\n",
      "Iteration =  935  f(x) =  0.012142640487488922\n"
     ]
    },
    {
     "name": "stderr",
     "output_type": "stream",
     "text": [
      "C:\\Users\\TI\\anaconda3\\Lib\\site-packages\\sklearn\\ensemble\\_bagging.py:1253: UserWarning: Some inputs do not have OOB scores. This probably means too few estimators were used to compute any reliable oob estimates.\n",
      "  warn(\n"
     ]
    },
    {
     "name": "stdout",
     "output_type": "stream",
     "text": [
      "Iteration =  936  f(x) =  0.012142640487488922\n"
     ]
    },
    {
     "name": "stderr",
     "output_type": "stream",
     "text": [
      "C:\\Users\\TI\\anaconda3\\Lib\\site-packages\\sklearn\\ensemble\\_bagging.py:1253: UserWarning: Some inputs do not have OOB scores. This probably means too few estimators were used to compute any reliable oob estimates.\n",
      "  warn(\n"
     ]
    },
    {
     "name": "stdout",
     "output_type": "stream",
     "text": [
      "Iteration =  937  f(x) =  0.012142640487488922\n"
     ]
    },
    {
     "name": "stderr",
     "output_type": "stream",
     "text": [
      "C:\\Users\\TI\\anaconda3\\Lib\\site-packages\\sklearn\\ensemble\\_bagging.py:1253: UserWarning: Some inputs do not have OOB scores. This probably means too few estimators were used to compute any reliable oob estimates.\n",
      "  warn(\n"
     ]
    },
    {
     "name": "stdout",
     "output_type": "stream",
     "text": [
      "Iteration =  938  f(x) =  0.012142640487488922\n"
     ]
    },
    {
     "name": "stderr",
     "output_type": "stream",
     "text": [
      "C:\\Users\\TI\\anaconda3\\Lib\\site-packages\\sklearn\\ensemble\\_bagging.py:1253: UserWarning: Some inputs do not have OOB scores. This probably means too few estimators were used to compute any reliable oob estimates.\n",
      "  warn(\n",
      "C:\\Users\\TI\\anaconda3\\Lib\\site-packages\\sklearn\\ensemble\\_bagging.py:1253: UserWarning: Some inputs do not have OOB scores. This probably means too few estimators were used to compute any reliable oob estimates.\n",
      "  warn(\n"
     ]
    },
    {
     "name": "stdout",
     "output_type": "stream",
     "text": [
      "Iteration =  939  f(x) =  0.012142640487488922\n"
     ]
    },
    {
     "name": "stderr",
     "output_type": "stream",
     "text": [
      "C:\\Users\\TI\\anaconda3\\Lib\\site-packages\\sklearn\\ensemble\\_bagging.py:1253: UserWarning: Some inputs do not have OOB scores. This probably means too few estimators were used to compute any reliable oob estimates.\n",
      "  warn(\n",
      "C:\\Users\\TI\\anaconda3\\Lib\\site-packages\\sklearn\\ensemble\\_bagging.py:1253: UserWarning: Some inputs do not have OOB scores. This probably means too few estimators were used to compute any reliable oob estimates.\n",
      "  warn(\n"
     ]
    },
    {
     "name": "stdout",
     "output_type": "stream",
     "text": [
      "Iteration =  940  f(x) =  0.012142640487488922\n"
     ]
    },
    {
     "name": "stderr",
     "output_type": "stream",
     "text": [
      "C:\\Users\\TI\\anaconda3\\Lib\\site-packages\\sklearn\\ensemble\\_bagging.py:1253: UserWarning: Some inputs do not have OOB scores. This probably means too few estimators were used to compute any reliable oob estimates.\n",
      "  warn(\n"
     ]
    },
    {
     "name": "stdout",
     "output_type": "stream",
     "text": [
      "Iteration =  941  f(x) =  0.012142640487488922\n"
     ]
    },
    {
     "name": "stderr",
     "output_type": "stream",
     "text": [
      "C:\\Users\\TI\\anaconda3\\Lib\\site-packages\\sklearn\\ensemble\\_bagging.py:1253: UserWarning: Some inputs do not have OOB scores. This probably means too few estimators were used to compute any reliable oob estimates.\n",
      "  warn(\n"
     ]
    },
    {
     "name": "stdout",
     "output_type": "stream",
     "text": [
      "Iteration =  942  f(x) =  0.012142640487488922\n"
     ]
    },
    {
     "name": "stderr",
     "output_type": "stream",
     "text": [
      "C:\\Users\\TI\\anaconda3\\Lib\\site-packages\\sklearn\\ensemble\\_bagging.py:1253: UserWarning: Some inputs do not have OOB scores. This probably means too few estimators were used to compute any reliable oob estimates.\n",
      "  warn(\n"
     ]
    },
    {
     "name": "stdout",
     "output_type": "stream",
     "text": [
      "Iteration =  943  f(x) =  0.012142640487488922\n"
     ]
    },
    {
     "name": "stderr",
     "output_type": "stream",
     "text": [
      "C:\\Users\\TI\\anaconda3\\Lib\\site-packages\\sklearn\\ensemble\\_bagging.py:1253: UserWarning: Some inputs do not have OOB scores. This probably means too few estimators were used to compute any reliable oob estimates.\n",
      "  warn(\n",
      "C:\\Users\\TI\\anaconda3\\Lib\\site-packages\\sklearn\\ensemble\\_bagging.py:1253: UserWarning: Some inputs do not have OOB scores. This probably means too few estimators were used to compute any reliable oob estimates.\n",
      "  warn(\n",
      "C:\\Users\\TI\\anaconda3\\Lib\\site-packages\\sklearn\\ensemble\\_bagging.py:1253: UserWarning: Some inputs do not have OOB scores. This probably means too few estimators were used to compute any reliable oob estimates.\n",
      "  warn(\n",
      "C:\\Users\\TI\\anaconda3\\Lib\\site-packages\\sklearn\\ensemble\\_bagging.py:1253: UserWarning: Some inputs do not have OOB scores. This probably means too few estimators were used to compute any reliable oob estimates.\n",
      "  warn(\n",
      "C:\\Users\\TI\\anaconda3\\Lib\\site-packages\\sklearn\\ensemble\\_bagging.py:1253: UserWarning: Some inputs do not have OOB scores. This probably means too few estimators were used to compute any reliable oob estimates.\n",
      "  warn(\n"
     ]
    },
    {
     "name": "stdout",
     "output_type": "stream",
     "text": [
      "Iteration =  944  f(x) =  0.012142640487488922\n"
     ]
    },
    {
     "name": "stderr",
     "output_type": "stream",
     "text": [
      "C:\\Users\\TI\\anaconda3\\Lib\\site-packages\\sklearn\\ensemble\\_bagging.py:1253: UserWarning: Some inputs do not have OOB scores. This probably means too few estimators were used to compute any reliable oob estimates.\n",
      "  warn(\n"
     ]
    },
    {
     "name": "stdout",
     "output_type": "stream",
     "text": [
      "Iteration =  945  f(x) =  0.012142640487488922\n"
     ]
    },
    {
     "name": "stderr",
     "output_type": "stream",
     "text": [
      "C:\\Users\\TI\\anaconda3\\Lib\\site-packages\\sklearn\\ensemble\\_bagging.py:1253: UserWarning: Some inputs do not have OOB scores. This probably means too few estimators were used to compute any reliable oob estimates.\n",
      "  warn(\n",
      "C:\\Users\\TI\\anaconda3\\Lib\\site-packages\\sklearn\\ensemble\\_bagging.py:1253: UserWarning: Some inputs do not have OOB scores. This probably means too few estimators were used to compute any reliable oob estimates.\n",
      "  warn(\n"
     ]
    },
    {
     "name": "stdout",
     "output_type": "stream",
     "text": [
      "Iteration =  946  f(x) =  0.012142640487488922\n"
     ]
    },
    {
     "name": "stderr",
     "output_type": "stream",
     "text": [
      "C:\\Users\\TI\\anaconda3\\Lib\\site-packages\\sklearn\\ensemble\\_bagging.py:1253: UserWarning: Some inputs do not have OOB scores. This probably means too few estimators were used to compute any reliable oob estimates.\n",
      "  warn(\n",
      "C:\\Users\\TI\\anaconda3\\Lib\\site-packages\\sklearn\\ensemble\\_bagging.py:1253: UserWarning: Some inputs do not have OOB scores. This probably means too few estimators were used to compute any reliable oob estimates.\n",
      "  warn(\n"
     ]
    },
    {
     "name": "stdout",
     "output_type": "stream",
     "text": [
      "Iteration =  947  f(x) =  0.012142640487488922\n"
     ]
    },
    {
     "name": "stderr",
     "output_type": "stream",
     "text": [
      "C:\\Users\\TI\\anaconda3\\Lib\\site-packages\\sklearn\\ensemble\\_bagging.py:1253: UserWarning: Some inputs do not have OOB scores. This probably means too few estimators were used to compute any reliable oob estimates.\n",
      "  warn(\n"
     ]
    },
    {
     "name": "stdout",
     "output_type": "stream",
     "text": [
      "Iteration =  948  f(x) =  0.012142640487488922\n",
      "Iteration =  949  f(x) =  0.012142640487488922\n"
     ]
    },
    {
     "name": "stderr",
     "output_type": "stream",
     "text": [
      "C:\\Users\\TI\\anaconda3\\Lib\\site-packages\\sklearn\\ensemble\\_bagging.py:1253: UserWarning: Some inputs do not have OOB scores. This probably means too few estimators were used to compute any reliable oob estimates.\n",
      "  warn(\n",
      "C:\\Users\\TI\\anaconda3\\Lib\\site-packages\\sklearn\\ensemble\\_bagging.py:1253: UserWarning: Some inputs do not have OOB scores. This probably means too few estimators were used to compute any reliable oob estimates.\n",
      "  warn(\n"
     ]
    },
    {
     "name": "stdout",
     "output_type": "stream",
     "text": [
      "Iteration =  950  f(x) =  0.012142640487488922\n"
     ]
    },
    {
     "name": "stderr",
     "output_type": "stream",
     "text": [
      "C:\\Users\\TI\\anaconda3\\Lib\\site-packages\\sklearn\\ensemble\\_bagging.py:1253: UserWarning: Some inputs do not have OOB scores. This probably means too few estimators were used to compute any reliable oob estimates.\n",
      "  warn(\n",
      "C:\\Users\\TI\\anaconda3\\Lib\\site-packages\\sklearn\\ensemble\\_bagging.py:1253: UserWarning: Some inputs do not have OOB scores. This probably means too few estimators were used to compute any reliable oob estimates.\n",
      "  warn(\n"
     ]
    },
    {
     "name": "stdout",
     "output_type": "stream",
     "text": [
      "Iteration =  951  f(x) =  0.012142640487488922\n"
     ]
    },
    {
     "name": "stderr",
     "output_type": "stream",
     "text": [
      "C:\\Users\\TI\\anaconda3\\Lib\\site-packages\\sklearn\\ensemble\\_bagging.py:1253: UserWarning: Some inputs do not have OOB scores. This probably means too few estimators were used to compute any reliable oob estimates.\n",
      "  warn(\n"
     ]
    },
    {
     "name": "stdout",
     "output_type": "stream",
     "text": [
      "Iteration =  952  f(x) =  0.012142640487488922\n"
     ]
    },
    {
     "name": "stderr",
     "output_type": "stream",
     "text": [
      "C:\\Users\\TI\\anaconda3\\Lib\\site-packages\\sklearn\\ensemble\\_bagging.py:1253: UserWarning: Some inputs do not have OOB scores. This probably means too few estimators were used to compute any reliable oob estimates.\n",
      "  warn(\n",
      "C:\\Users\\TI\\anaconda3\\Lib\\site-packages\\sklearn\\ensemble\\_bagging.py:1253: UserWarning: Some inputs do not have OOB scores. This probably means too few estimators were used to compute any reliable oob estimates.\n",
      "  warn(\n"
     ]
    },
    {
     "name": "stdout",
     "output_type": "stream",
     "text": [
      "Iteration =  953  f(x) =  0.012142640487488922\n"
     ]
    },
    {
     "name": "stderr",
     "output_type": "stream",
     "text": [
      "C:\\Users\\TI\\anaconda3\\Lib\\site-packages\\sklearn\\ensemble\\_bagging.py:1253: UserWarning: Some inputs do not have OOB scores. This probably means too few estimators were used to compute any reliable oob estimates.\n",
      "  warn(\n"
     ]
    },
    {
     "name": "stdout",
     "output_type": "stream",
     "text": [
      "Iteration =  954  f(x) =  0.012142640487488922\n"
     ]
    },
    {
     "name": "stderr",
     "output_type": "stream",
     "text": [
      "C:\\Users\\TI\\anaconda3\\Lib\\site-packages\\sklearn\\ensemble\\_bagging.py:1253: UserWarning: Some inputs do not have OOB scores. This probably means too few estimators were used to compute any reliable oob estimates.\n",
      "  warn(\n",
      "C:\\Users\\TI\\anaconda3\\Lib\\site-packages\\sklearn\\ensemble\\_bagging.py:1253: UserWarning: Some inputs do not have OOB scores. This probably means too few estimators were used to compute any reliable oob estimates.\n",
      "  warn(\n"
     ]
    },
    {
     "name": "stdout",
     "output_type": "stream",
     "text": [
      "Iteration =  955  f(x) =  0.012142640487488922\n"
     ]
    },
    {
     "name": "stderr",
     "output_type": "stream",
     "text": [
      "C:\\Users\\TI\\anaconda3\\Lib\\site-packages\\sklearn\\ensemble\\_bagging.py:1253: UserWarning: Some inputs do not have OOB scores. This probably means too few estimators were used to compute any reliable oob estimates.\n",
      "  warn(\n"
     ]
    },
    {
     "name": "stdout",
     "output_type": "stream",
     "text": [
      "Iteration =  956  f(x) =  0.012142640487488922\n"
     ]
    },
    {
     "name": "stderr",
     "output_type": "stream",
     "text": [
      "C:\\Users\\TI\\anaconda3\\Lib\\site-packages\\sklearn\\ensemble\\_bagging.py:1253: UserWarning: Some inputs do not have OOB scores. This probably means too few estimators were used to compute any reliable oob estimates.\n",
      "  warn(\n"
     ]
    },
    {
     "name": "stdout",
     "output_type": "stream",
     "text": [
      "Iteration =  957  f(x) =  0.012142640487488922\n",
      "Iteration =  958  f(x) =  0.012142640487488922\n"
     ]
    },
    {
     "name": "stderr",
     "output_type": "stream",
     "text": [
      "C:\\Users\\TI\\anaconda3\\Lib\\site-packages\\sklearn\\ensemble\\_bagging.py:1253: UserWarning: Some inputs do not have OOB scores. This probably means too few estimators were used to compute any reliable oob estimates.\n",
      "  warn(\n"
     ]
    },
    {
     "name": "stdout",
     "output_type": "stream",
     "text": [
      "Iteration =  959  f(x) =  0.012142640487488922\n",
      "Iteration =  960  f(x) =  0.012142640487488922\n",
      "Iteration =  961  f(x) =  0.012142640487488922\n"
     ]
    },
    {
     "name": "stderr",
     "output_type": "stream",
     "text": [
      "C:\\Users\\TI\\anaconda3\\Lib\\site-packages\\sklearn\\ensemble\\_bagging.py:1253: UserWarning: Some inputs do not have OOB scores. This probably means too few estimators were used to compute any reliable oob estimates.\n",
      "  warn(\n",
      "C:\\Users\\TI\\anaconda3\\Lib\\site-packages\\sklearn\\ensemble\\_bagging.py:1253: UserWarning: Some inputs do not have OOB scores. This probably means too few estimators were used to compute any reliable oob estimates.\n",
      "  warn(\n"
     ]
    },
    {
     "name": "stdout",
     "output_type": "stream",
     "text": [
      "Iteration =  962  f(x) =  0.012142640487488922\n"
     ]
    },
    {
     "name": "stderr",
     "output_type": "stream",
     "text": [
      "C:\\Users\\TI\\anaconda3\\Lib\\site-packages\\sklearn\\ensemble\\_bagging.py:1253: UserWarning: Some inputs do not have OOB scores. This probably means too few estimators were used to compute any reliable oob estimates.\n",
      "  warn(\n"
     ]
    },
    {
     "name": "stdout",
     "output_type": "stream",
     "text": [
      "Iteration =  963  f(x) =  0.012142640487488922\n",
      "Iteration =  964  f(x) =  0.012142640487488922\n"
     ]
    },
    {
     "name": "stderr",
     "output_type": "stream",
     "text": [
      "C:\\Users\\TI\\anaconda3\\Lib\\site-packages\\sklearn\\ensemble\\_bagging.py:1253: UserWarning: Some inputs do not have OOB scores. This probably means too few estimators were used to compute any reliable oob estimates.\n",
      "  warn(\n"
     ]
    },
    {
     "name": "stdout",
     "output_type": "stream",
     "text": [
      "Iteration =  965  f(x) =  0.012142640487488922\n",
      "Iteration =  966  f(x) =  0.012142640487488922\n",
      "Iteration =  967  f(x) =  0.012142640487488922\n",
      "Iteration =  968  f(x) =  0.012142640487488922\n",
      "Iteration =  969  f(x) =  0.012142640487488922\n"
     ]
    },
    {
     "name": "stderr",
     "output_type": "stream",
     "text": [
      "C:\\Users\\TI\\anaconda3\\Lib\\site-packages\\sklearn\\ensemble\\_bagging.py:1253: UserWarning: Some inputs do not have OOB scores. This probably means too few estimators were used to compute any reliable oob estimates.\n",
      "  warn(\n",
      "C:\\Users\\TI\\anaconda3\\Lib\\site-packages\\sklearn\\ensemble\\_bagging.py:1253: UserWarning: Some inputs do not have OOB scores. This probably means too few estimators were used to compute any reliable oob estimates.\n",
      "  warn(\n"
     ]
    },
    {
     "name": "stdout",
     "output_type": "stream",
     "text": [
      "Iteration =  970  f(x) =  0.012142640487488922\n",
      "Iteration =  971  f(x) =  0.012142640487488922\n",
      "Iteration =  972  f(x) =  0.012142640487488922\n",
      "Iteration =  973  f(x) =  0.012142640487488922\n",
      "Iteration =  974  f(x) =  0.012142640487488922\n"
     ]
    },
    {
     "name": "stderr",
     "output_type": "stream",
     "text": [
      "C:\\Users\\TI\\anaconda3\\Lib\\site-packages\\sklearn\\ensemble\\_bagging.py:1253: UserWarning: Some inputs do not have OOB scores. This probably means too few estimators were used to compute any reliable oob estimates.\n",
      "  warn(\n",
      "C:\\Users\\TI\\anaconda3\\Lib\\site-packages\\sklearn\\ensemble\\_bagging.py:1253: UserWarning: Some inputs do not have OOB scores. This probably means too few estimators were used to compute any reliable oob estimates.\n",
      "  warn(\n"
     ]
    },
    {
     "name": "stdout",
     "output_type": "stream",
     "text": [
      "Iteration =  975  f(x) =  0.012142640487488922\n"
     ]
    },
    {
     "name": "stderr",
     "output_type": "stream",
     "text": [
      "C:\\Users\\TI\\anaconda3\\Lib\\site-packages\\sklearn\\ensemble\\_bagging.py:1253: UserWarning: Some inputs do not have OOB scores. This probably means too few estimators were used to compute any reliable oob estimates.\n",
      "  warn(\n"
     ]
    },
    {
     "name": "stdout",
     "output_type": "stream",
     "text": [
      "Iteration =  976  f(x) =  0.012142640487488922\n",
      "Iteration =  977  f(x) =  0.012142640487488922\n",
      "Iteration =  978  f(x) =  0.012142640487488922\n"
     ]
    },
    {
     "name": "stderr",
     "output_type": "stream",
     "text": [
      "C:\\Users\\TI\\anaconda3\\Lib\\site-packages\\sklearn\\ensemble\\_bagging.py:1253: UserWarning: Some inputs do not have OOB scores. This probably means too few estimators were used to compute any reliable oob estimates.\n",
      "  warn(\n",
      "C:\\Users\\TI\\anaconda3\\Lib\\site-packages\\sklearn\\ensemble\\_bagging.py:1253: UserWarning: Some inputs do not have OOB scores. This probably means too few estimators were used to compute any reliable oob estimates.\n",
      "  warn(\n"
     ]
    },
    {
     "name": "stdout",
     "output_type": "stream",
     "text": [
      "Iteration =  979  f(x) =  0.012142640487488922\n"
     ]
    },
    {
     "name": "stderr",
     "output_type": "stream",
     "text": [
      "C:\\Users\\TI\\anaconda3\\Lib\\site-packages\\sklearn\\ensemble\\_bagging.py:1253: UserWarning: Some inputs do not have OOB scores. This probably means too few estimators were used to compute any reliable oob estimates.\n",
      "  warn(\n",
      "C:\\Users\\TI\\anaconda3\\Lib\\site-packages\\sklearn\\ensemble\\_bagging.py:1253: UserWarning: Some inputs do not have OOB scores. This probably means too few estimators were used to compute any reliable oob estimates.\n",
      "  warn(\n"
     ]
    },
    {
     "name": "stdout",
     "output_type": "stream",
     "text": [
      "Iteration =  980  f(x) =  0.012142640487488922\n"
     ]
    },
    {
     "name": "stderr",
     "output_type": "stream",
     "text": [
      "C:\\Users\\TI\\anaconda3\\Lib\\site-packages\\sklearn\\ensemble\\_bagging.py:1253: UserWarning: Some inputs do not have OOB scores. This probably means too few estimators were used to compute any reliable oob estimates.\n",
      "  warn(\n",
      "C:\\Users\\TI\\anaconda3\\Lib\\site-packages\\sklearn\\ensemble\\_bagging.py:1253: UserWarning: Some inputs do not have OOB scores. This probably means too few estimators were used to compute any reliable oob estimates.\n",
      "  warn(\n"
     ]
    },
    {
     "name": "stdout",
     "output_type": "stream",
     "text": [
      "Iteration =  981  f(x) =  0.012142640487488922\n",
      "Iteration =  982  f(x) =  0.012142640487488922\n"
     ]
    },
    {
     "name": "stderr",
     "output_type": "stream",
     "text": [
      "C:\\Users\\TI\\anaconda3\\Lib\\site-packages\\sklearn\\ensemble\\_bagging.py:1253: UserWarning: Some inputs do not have OOB scores. This probably means too few estimators were used to compute any reliable oob estimates.\n",
      "  warn(\n",
      "C:\\Users\\TI\\anaconda3\\Lib\\site-packages\\sklearn\\ensemble\\_bagging.py:1253: UserWarning: Some inputs do not have OOB scores. This probably means too few estimators were used to compute any reliable oob estimates.\n",
      "  warn(\n"
     ]
    },
    {
     "name": "stdout",
     "output_type": "stream",
     "text": [
      "Iteration =  983  f(x) =  0.012142640487488922\n"
     ]
    },
    {
     "name": "stderr",
     "output_type": "stream",
     "text": [
      "C:\\Users\\TI\\anaconda3\\Lib\\site-packages\\sklearn\\ensemble\\_bagging.py:1253: UserWarning: Some inputs do not have OOB scores. This probably means too few estimators were used to compute any reliable oob estimates.\n",
      "  warn(\n"
     ]
    },
    {
     "name": "stdout",
     "output_type": "stream",
     "text": [
      "Iteration =  984  f(x) =  0.012142640487488922\n",
      "Iteration =  985  f(x) =  0.012142640487488922\n"
     ]
    },
    {
     "name": "stderr",
     "output_type": "stream",
     "text": [
      "C:\\Users\\TI\\anaconda3\\Lib\\site-packages\\sklearn\\ensemble\\_bagging.py:1253: UserWarning: Some inputs do not have OOB scores. This probably means too few estimators were used to compute any reliable oob estimates.\n",
      "  warn(\n"
     ]
    },
    {
     "name": "stdout",
     "output_type": "stream",
     "text": [
      "Iteration =  986  f(x) =  0.012142640487488922\n"
     ]
    },
    {
     "name": "stderr",
     "output_type": "stream",
     "text": [
      "C:\\Users\\TI\\anaconda3\\Lib\\site-packages\\sklearn\\ensemble\\_bagging.py:1253: UserWarning: Some inputs do not have OOB scores. This probably means too few estimators were used to compute any reliable oob estimates.\n",
      "  warn(\n",
      "C:\\Users\\TI\\anaconda3\\Lib\\site-packages\\sklearn\\ensemble\\_bagging.py:1253: UserWarning: Some inputs do not have OOB scores. This probably means too few estimators were used to compute any reliable oob estimates.\n",
      "  warn(\n",
      "C:\\Users\\TI\\anaconda3\\Lib\\site-packages\\sklearn\\ensemble\\_bagging.py:1253: UserWarning: Some inputs do not have OOB scores. This probably means too few estimators were used to compute any reliable oob estimates.\n",
      "  warn(\n"
     ]
    },
    {
     "name": "stdout",
     "output_type": "stream",
     "text": [
      "Iteration =  987  f(x) =  0.012142640487488922\n"
     ]
    },
    {
     "name": "stderr",
     "output_type": "stream",
     "text": [
      "C:\\Users\\TI\\anaconda3\\Lib\\site-packages\\sklearn\\ensemble\\_bagging.py:1253: UserWarning: Some inputs do not have OOB scores. This probably means too few estimators were used to compute any reliable oob estimates.\n",
      "  warn(\n",
      "C:\\Users\\TI\\anaconda3\\Lib\\site-packages\\sklearn\\ensemble\\_bagging.py:1253: UserWarning: Some inputs do not have OOB scores. This probably means too few estimators were used to compute any reliable oob estimates.\n",
      "  warn(\n",
      "C:\\Users\\TI\\anaconda3\\Lib\\site-packages\\sklearn\\ensemble\\_bagging.py:1253: UserWarning: Some inputs do not have OOB scores. This probably means too few estimators were used to compute any reliable oob estimates.\n",
      "  warn(\n",
      "C:\\Users\\TI\\anaconda3\\Lib\\site-packages\\sklearn\\ensemble\\_bagging.py:1253: UserWarning: Some inputs do not have OOB scores. This probably means too few estimators were used to compute any reliable oob estimates.\n",
      "  warn(\n"
     ]
    },
    {
     "name": "stdout",
     "output_type": "stream",
     "text": [
      "Iteration =  988  f(x) =  0.012142640487488922\n",
      "Iteration =  989  f(x) =  0.012142640487488922\n"
     ]
    },
    {
     "name": "stderr",
     "output_type": "stream",
     "text": [
      "C:\\Users\\TI\\anaconda3\\Lib\\site-packages\\sklearn\\ensemble\\_bagging.py:1253: UserWarning: Some inputs do not have OOB scores. This probably means too few estimators were used to compute any reliable oob estimates.\n",
      "  warn(\n",
      "C:\\Users\\TI\\anaconda3\\Lib\\site-packages\\sklearn\\ensemble\\_bagging.py:1253: UserWarning: Some inputs do not have OOB scores. This probably means too few estimators were used to compute any reliable oob estimates.\n",
      "  warn(\n"
     ]
    },
    {
     "name": "stdout",
     "output_type": "stream",
     "text": [
      "Iteration =  990  f(x) =  0.012142640487488922\n"
     ]
    },
    {
     "name": "stderr",
     "output_type": "stream",
     "text": [
      "C:\\Users\\TI\\anaconda3\\Lib\\site-packages\\sklearn\\ensemble\\_bagging.py:1253: UserWarning: Some inputs do not have OOB scores. This probably means too few estimators were used to compute any reliable oob estimates.\n",
      "  warn(\n",
      "C:\\Users\\TI\\anaconda3\\Lib\\site-packages\\sklearn\\ensemble\\_bagging.py:1253: UserWarning: Some inputs do not have OOB scores. This probably means too few estimators were used to compute any reliable oob estimates.\n",
      "  warn(\n"
     ]
    },
    {
     "name": "stdout",
     "output_type": "stream",
     "text": [
      "Iteration =  991  f(x) =  0.012142640487488922\n"
     ]
    },
    {
     "name": "stderr",
     "output_type": "stream",
     "text": [
      "C:\\Users\\TI\\anaconda3\\Lib\\site-packages\\sklearn\\ensemble\\_bagging.py:1253: UserWarning: Some inputs do not have OOB scores. This probably means too few estimators were used to compute any reliable oob estimates.\n",
      "  warn(\n"
     ]
    },
    {
     "name": "stdout",
     "output_type": "stream",
     "text": [
      "Iteration =  992  f(x) =  0.012142640487488922\n"
     ]
    },
    {
     "name": "stderr",
     "output_type": "stream",
     "text": [
      "C:\\Users\\TI\\anaconda3\\Lib\\site-packages\\sklearn\\ensemble\\_bagging.py:1253: UserWarning: Some inputs do not have OOB scores. This probably means too few estimators were used to compute any reliable oob estimates.\n",
      "  warn(\n"
     ]
    },
    {
     "name": "stdout",
     "output_type": "stream",
     "text": [
      "Iteration =  993  f(x) =  0.012142640487488922\n",
      "Iteration =  994  f(x) =  0.012142640487488922\n"
     ]
    },
    {
     "name": "stderr",
     "output_type": "stream",
     "text": [
      "C:\\Users\\TI\\anaconda3\\Lib\\site-packages\\sklearn\\ensemble\\_bagging.py:1253: UserWarning: Some inputs do not have OOB scores. This probably means too few estimators were used to compute any reliable oob estimates.\n",
      "  warn(\n"
     ]
    },
    {
     "name": "stdout",
     "output_type": "stream",
     "text": [
      "Iteration =  995  f(x) =  0.012142640487488922\n"
     ]
    },
    {
     "name": "stderr",
     "output_type": "stream",
     "text": [
      "C:\\Users\\TI\\anaconda3\\Lib\\site-packages\\sklearn\\ensemble\\_bagging.py:1253: UserWarning: Some inputs do not have OOB scores. This probably means too few estimators were used to compute any reliable oob estimates.\n",
      "  warn(\n",
      "C:\\Users\\TI\\anaconda3\\Lib\\site-packages\\sklearn\\ensemble\\_bagging.py:1253: UserWarning: Some inputs do not have OOB scores. This probably means too few estimators were used to compute any reliable oob estimates.\n",
      "  warn(\n",
      "C:\\Users\\TI\\anaconda3\\Lib\\site-packages\\sklearn\\ensemble\\_bagging.py:1253: UserWarning: Some inputs do not have OOB scores. This probably means too few estimators were used to compute any reliable oob estimates.\n",
      "  warn(\n",
      "C:\\Users\\TI\\anaconda3\\Lib\\site-packages\\sklearn\\ensemble\\_bagging.py:1253: UserWarning: Some inputs do not have OOB scores. This probably means too few estimators were used to compute any reliable oob estimates.\n",
      "  warn(\n"
     ]
    },
    {
     "name": "stdout",
     "output_type": "stream",
     "text": [
      "Iteration =  996  f(x) =  0.012142640487488922\n"
     ]
    },
    {
     "name": "stderr",
     "output_type": "stream",
     "text": [
      "C:\\Users\\TI\\anaconda3\\Lib\\site-packages\\sklearn\\ensemble\\_bagging.py:1253: UserWarning: Some inputs do not have OOB scores. This probably means too few estimators were used to compute any reliable oob estimates.\n",
      "  warn(\n",
      "C:\\Users\\TI\\anaconda3\\Lib\\site-packages\\sklearn\\ensemble\\_bagging.py:1253: UserWarning: Some inputs do not have OOB scores. This probably means too few estimators were used to compute any reliable oob estimates.\n",
      "  warn(\n",
      "C:\\Users\\TI\\anaconda3\\Lib\\site-packages\\sklearn\\ensemble\\_bagging.py:1253: UserWarning: Some inputs do not have OOB scores. This probably means too few estimators were used to compute any reliable oob estimates.\n",
      "  warn(\n"
     ]
    },
    {
     "name": "stdout",
     "output_type": "stream",
     "text": [
      "Iteration =  997  f(x) =  0.012142640487488922\n"
     ]
    },
    {
     "name": "stderr",
     "output_type": "stream",
     "text": [
      "C:\\Users\\TI\\anaconda3\\Lib\\site-packages\\sklearn\\ensemble\\_bagging.py:1253: UserWarning: Some inputs do not have OOB scores. This probably means too few estimators were used to compute any reliable oob estimates.\n",
      "  warn(\n"
     ]
    },
    {
     "name": "stdout",
     "output_type": "stream",
     "text": [
      "Iteration =  998  f(x) =  0.012142640487488922\n"
     ]
    },
    {
     "name": "stderr",
     "output_type": "stream",
     "text": [
      "C:\\Users\\TI\\anaconda3\\Lib\\site-packages\\sklearn\\ensemble\\_bagging.py:1253: UserWarning: Some inputs do not have OOB scores. This probably means too few estimators were used to compute any reliable oob estimates.\n",
      "  warn(\n"
     ]
    },
    {
     "name": "stdout",
     "output_type": "stream",
     "text": [
      "Iteration =  999  f(x) =  0.012142640487488922\n",
      "Iteration =  1000  f(x) =  0.012142640487488922\n"
     ]
    },
    {
     "name": "stderr",
     "output_type": "stream",
     "text": [
      "C:\\Users\\TI\\anaconda3\\Lib\\site-packages\\sklearn\\ensemble\\_bagging.py:1253: UserWarning: Some inputs do not have OOB scores. This probably means too few estimators were used to compute any reliable oob estimates.\n",
      "  warn(\n"
     ]
    },
    {
     "name": "stdout",
     "output_type": "stream",
     "text": [
      "Variables:  [428.398    1.       1.       1.2015   2.       1.8216]  Minimum Value Found:  0.0121\n",
      "Lama eksekusi:  146397.12548339998 detik\n"
     ]
    }
   ],
   "source": [
    "import timeit\n",
    "start = timeit.default_timer() # catat waktu mulai\n",
    "\n",
    "# Import PSO\n",
    "from pyMetaheuristic.algorithm import particle_swarm_optimization\n",
    "\n",
    "# Define parameters to be tuned and their ranges\n",
    "X = X_train\n",
    "y = y_train\n",
    "\n",
    "def create_fitness_function(X, y):\n",
    "    def fitness_function(variables):\n",
    "        n_estimators = int(round(variables[0]))\n",
    "        max_samples = variables[1]\n",
    "        max_features = variables[2]\n",
    "        bootstrap_map = {0: 'True', 1: 'False'}\n",
    "        bootstrap_index = int(np.clip(variables[3], 0, 1))\n",
    "        bootstrap = bootstrap_map[bootstrap_index] == 'True'  # Convert to boolean\n",
    "        bootstrap_features_map = {0: 'True', 1: 'False'}\n",
    "        bootstrap_features_index = int(np.clip(variables[4], 0, 1))\n",
    "        bootstrap_features = bootstrap_features_map[bootstrap_features_index] == 'True'  # Convert to boolean\n",
    "        oob_score = bootstrap  # Set oob_score to True only when bootstrap is True\n",
    "        \n",
    "        br_tune = BaggingRegressor(estimator=LinearRegression(), n_estimators=n_estimators, max_samples=max_samples, max_features=max_features, \n",
    "                                   bootstrap=bootstrap, bootstrap_features=bootstrap_features, oob_score=oob_score)\n",
    "        br_tune.fit(X, y)\n",
    "        y_pred = br_tune.predict(X)\n",
    "        scores = np.sqrt(mean_squared_error(y, y_pred))\n",
    "        return scores\n",
    "    return fitness_function\n",
    "\n",
    "\n",
    "fitness_function = create_fitness_function(X, y)\n",
    "\n",
    "# Run PSO\n",
    "parameters = {\n",
    "    'swarm_size': 50,\n",
    "    'min_values': [10, 0.5, 0.5, 0, 0, 0],  # min values for n_estimators, max_samples, and max_features, bootstrap, bootstrap_features, oob_score\n",
    "    'max_values': [1000, 1, 1, 2, 2, 2],   # max values for  n_estimators, max_samples, and max_features, bootstrap, bootstrap_features, oob_score\n",
    "    'iterations': 1000,\n",
    "    'decay': 0, \n",
    "    'w': 0.9, \n",
    "    'c1': 2, \n",
    "    'c2': 2, \n",
    "    'verbose': True, \n",
    "    'start_init': None,\n",
    "    'target_value': None\n",
    "}\n",
    "pso = particle_swarm_optimization(target_function = fitness_function, **parameters)\n",
    "\n",
    "# Print Solution\n",
    "variables = pso[:-1]\n",
    "minimum   = pso[ -1]\n",
    "print('Variables: ', np.around(variables, 4) , ' Minimum Value Found: ', round(minimum, 4) )\n",
    "\n",
    "stop = timeit.default_timer() # catat waktu selesai\n",
    "lama_eksekusi = stop - start # lama eksekusi dalam satuan detik\n",
    "print(\"Lama eksekusi: \",lama_eksekusi,\"detik\")"
   ]
  },
  {
   "cell_type": "code",
   "execution_count": 6,
   "id": "5795f382-805a-4cc0-bdb7-164c5eee8d66",
   "metadata": {},
   "outputs": [
    {
     "name": "stdout",
     "output_type": "stream",
     "text": [
      "Mean Absolute Error: 0.009119958704386604\n",
      "Mean Squared Error: 0.0001474437180084052\n",
      "Root Mean Squared Error: 0.012142640487488922\n"
     ]
    }
   ],
   "source": [
    "br = BaggingRegressor(estimator=LinearRegression(), \n",
    "                      n_estimators=428,\n",
    "                      max_samples=1.0, \n",
    "                      max_features=1.0, \n",
    "                      bootstrap=False, \n",
    "                      bootstrap_features=False, \n",
    "                      oob_score=False)\n",
    "br.fit(X_train, y_train.values.ravel())\n",
    "y_pred = br.predict(X_train)\n",
    "\n",
    "print('Mean Absolute Error:', metrics.mean_absolute_error(y_train, y_pred))  \n",
    "print('Mean Squared Error:', metrics.mean_squared_error(y_train, y_pred))  \n",
    "print('Root Mean Squared Error:', np.sqrt(metrics.mean_squared_error(y_train, y_pred)))"
   ]
  },
  {
   "cell_type": "code",
   "execution_count": null,
   "id": "39286871-0e67-4824-aa6f-6cf47af9de85",
   "metadata": {},
   "outputs": [],
   "source": []
  }
 ],
 "metadata": {
  "kernelspec": {
   "display_name": "Python 3 (ipykernel)",
   "language": "python",
   "name": "python3"
  },
  "language_info": {
   "codemirror_mode": {
    "name": "ipython",
    "version": 3
   },
   "file_extension": ".py",
   "mimetype": "text/x-python",
   "name": "python",
   "nbconvert_exporter": "python",
   "pygments_lexer": "ipython3",
   "version": "3.11.7"
  }
 },
 "nbformat": 4,
 "nbformat_minor": 5
}
